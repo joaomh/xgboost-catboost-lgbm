{
 "cells": [
  {
   "cell_type": "markdown",
   "id": "75bbb0a1",
   "metadata": {},
   "source": [
    "An overview of boosting tree algorithms, their main differences, performance comparisons, and hyperparameter optimization. In this notebook, we will delve deeper into boosted trees, specifically comparing XGBoost, CatBoost, and LightGBM. We will explore their main differences, parameters in each algorithm, compare their performance on different datasets, assess their CPU and GPU usage, conduct Optuna optimization, and examine SHAP values.\n",
    "\n",
    "- [This Notebook repository](https://github.com/joaomh/xgboost-catboost-lgbm)\n",
    "- [Undergraduate GitHub repository](https://github.com/joaomh/study_boosting_optuna_USP_undergraduate_thesis)\n",
    "- [Link to my Undergraduate thesis in PT-BR](https://bdta.abcd.usp.br/item/003122385)"
   ]
  },
  {
   "cell_type": "markdown",
   "id": "c1ad6996",
   "metadata": {},
   "source": [
    "\n",
    "# Tables of Content:\n",
    "\n",
    "**1. [Introduction](#Introduction)**\n",
    "\n",
    "**2. [Ensemble Learning](#Ensemble)**\n",
    "\n",
    "**3. [AdaBoost](#Ada)** \n",
    "\n",
    "**4. [GBMs](#GBM)** \n",
    "\n",
    "**5. [XGBoost vs. CatBoost vs. LightGBM](#XGBoost)** \n",
    "- 5.1 [Tree Symmetry](#Tree)\n",
    "- 5.2 [Splitting Method](Splitting)\n",
    "\n",
    "**6. [Models Performance CPU vs GPU](#Models)** \n",
    "\n",
    "**7. [Optuna in XGBoost vs. CatBoost vs. LightGBM](#Optuna)** \n",
    "\n",
    "**8. [Shap in XGBoost vs. CatBoost vs. LightGBM](#Shap)** \n",
    "\n",
    "**9. [Conclusions](#Conclusion)**\n",
    "\n",
    "**10. [Bibliography](#Bibliography)**\n"
   ]
  },
  {
   "cell_type": "markdown",
   "id": "2b4fcfb1",
   "metadata": {},
   "source": [
    "# Introduction\n",
    "\n",
    "The purpose of this post is to introduce the fundamentals of boosting algorithms and the main difference between XGBoost, CatBoost and LightGBM. We will give the reader some necessary keys to well understand and use related methods and be able to design adapted solutions when needed.\n",
    "\n",
    "If we look at the [2022 Kaggle Data Science & ML Survey](https://www.kaggle.com/kaggle-survey-2022), we can see that Gradient Boosting Machines (GBMs) have been widely used in recent years. They are supervised machine learning algorithms that have consistently produced excellent results across a wide range of problems and have won numerous machine learning competitions.\n",
    "\n",
    "\n",
    "![png1](./img/kaggle_state.png)"
   ]
  },
  {
   "cell_type": "markdown",
   "id": "c3cb566a",
   "metadata": {},
   "source": [
    "They achieve this because boosting algorithms are very effective on tabular datasets and offer the same performance as other state-of-the-art deep learning techniques, but they are easier to implement and cost less in terms of computer resources."
   ]
  },
  {
   "cell_type": "markdown",
   "id": "9363ca9c",
   "metadata": {},
   "source": [
    "# Ensemble \n",
    "Many machine learning models primarily aim for high prediction accuracy using a single model, where boosting algorithms strive to enhance predictions by sequentially training a series of weak models, with each model compensating for the weaknesses of its predecessors.\n",
    "\n",
    "First of all we need to understand Ensemble Learning, it's based on the idea of combining several simpler prediction models (weak learner), training them for the same task, and producing from them a more complex grouped model (strong learner) that is the sum of its parts."
   ]
  },
  {
   "cell_type": "markdown",
   "id": "41ce4007",
   "metadata": {},
   "source": [
    "For example, when creating an ensemble model based on several decision trees, which are simple yet high-variance models (often considered 'weak learners'), we need to aggregate them to enhance their resistance to data variations. Therefore, it makes sense to train the trees separately, allowing each one to adapt to different parts of the dataset. This way, each tree gains knowledge about various data variations, collectively improving the ensemble's predictive performance."
   ]
  },
  {
   "cell_type": "markdown",
   "id": "f5b78d3f",
   "metadata": {},
   "source": [
    "There are various ensemble learning methods, but in this text, we will primarily focus on Boosting, which is used in GBMs, but we can mention three algorithms that aims at combining weak learners:\n",
    "\n",
    "**Bagging**: It is generally done with homogeneous predictors, each one operating independently in relation to the others, in a parallel manner. The final algorithm is then constructed by aggregating the results obtained from the base models in some form of average. Random Forest is one of the most famous algorithm.\n",
    "\n",
    "**Boosting**: Generally implemented with homogeneous predictors, applied sequentially where the posterior model depends on the predecessor, and then these models are combined in the final ensemble. GBMs work like this\n",
    "\n",
    "**Stacking**: It is typically done with heterogeneous predictors, training them in parallel, and then combining their outputs by training a meta-model that generates predictions based on the predictions of the various weak models. Here we can for combine RandomForest with DecisionTree for example."
   ]
  },
  {
   "cell_type": "markdown",
   "id": "7bb4fcac",
   "metadata": {},
   "source": [
    "![png1](./img/boosting_bagging.png) [Image from Ensemble Learning: Bagging & Boosting](https://towardsdatascience.com/ensemble-learning-bagging-boosting-3098079e5422)"
   ]
  },
  {
   "cell_type": "markdown",
   "id": "d152829d",
   "metadata": {},
   "source": [
    "# AdaBoost\n",
    "AdaBoost is a specific Boosting algorithm developed for classification problems hte original AdaBoost algorithm is designed for classification problems, where the output is either −1 or 1, and the final prediction for a given instance is a weighted sum of each generated weak classifier\n",
    "\n",
    "$$\n",
    "G(x) = sign\\bigr[\\sum^M_{m=1}\\alpha_m\\cdot G_m(x)\\bigr]\n",
    "$$\n",
    "Here, the weights $\\alpha_m$\n",
    "are computed by the boosting algorithm, and the idea is to increase the influence of weak learners that are more accurate while simultaneously penalizing those that are not.\n",
    "The weakness is identified by the weak estimator error rate\n",
    "$$err_m = \\frac{\\sum_{i=1}^Nw_i\\mathbf{I}(y_i\\neq G_m(x_i))}{\\sum_{i=1}^Nw_i}$$"
   ]
  },
  {
   "cell_type": "markdown",
   "id": "34b99d6e",
   "metadata": {},
   "source": [
    "\n",
    "1. Initialize the observation weights $w_i = 1/N, i = 1, 2, . . . , N .$\n",
    "2. For $m=1$ to $M$:\n",
    "\n",
    "    2.1. Fit a classifier $G_m(x)$ to the training data using weights $w_i$\n",
    "\n",
    "    2.2. Compute $err_m = \\frac{\\sum_{i=1}^Nw_i\\mathbf{1}(y_i\\neq G_m(x_i))}{\\sum_{i=1}^Nw_i}$\n",
    "\n",
    "    2.3. Compute $\\alpha_m = log((1-err_m)/err_m)$\n",
    "\n",
    "    2.4. Set $w_i \\rightarrow w_i\\cdot exp[\\alpha_m \\cdot \\mathbf{1}(y_i\\neq G_m(x_i))],i=1,2,...,N$\n",
    "\n",
    "3. Output $G(x) = sign\\bigr[\\sum^M_{m=1}\\alpha_m\\cdot G_m(x)\\bigr]$\n",
    "\n",
    "From [1][2]"
   ]
  },
  {
   "cell_type": "markdown",
   "id": "7c72016e",
   "metadata": {},
   "source": [
    "![png](img/ada.png) [Marsh, Brendan (2016). Multivariate Analysis of the Vector Boson Fusion Higgs Boson](https://www.researchgate.net/publication/306054843_Multivariate_Analysis_of_the_Vector_Boson_Fusion_Higgs_Boson)"
   ]
  },
  {
   "cell_type": "markdown",
   "id": "aff28eac",
   "metadata": {},
   "source": [
    "Scikit-Learn have a implementation of AdaBoost"
   ]
  },
  {
   "cell_type": "code",
   "execution_count": 1,
   "id": "7a061fb6",
   "metadata": {},
   "outputs": [
    {
     "data": {
      "text/plain": [
       "0.983"
      ]
     },
     "execution_count": 1,
     "metadata": {},
     "output_type": "execute_result"
    }
   ],
   "source": [
    "from sklearn.ensemble import AdaBoostClassifier\n",
    "from sklearn.datasets import make_classification\n",
    "X, y = make_classification(n_samples=1000, n_features=4,\n",
    "                           n_informative=2, n_redundant=0,\n",
    "                           random_state=0, shuffle=False)\n",
    "clf = AdaBoostClassifier(n_estimators=100, random_state=0)\n",
    "clf.fit(X, y)\n",
    "clf.predict([[0, 0, 0, 0]])\n",
    "clf.score(X, y)"
   ]
  },
  {
   "cell_type": "code",
   "execution_count": 2,
   "id": "13ab9139",
   "metadata": {},
   "outputs": [
    {
     "data": {
      "text/plain": [
       "0.96"
      ]
     },
     "execution_count": 2,
     "metadata": {},
     "output_type": "execute_result"
    }
   ],
   "source": [
    "from sklearn.ensemble import AdaBoostClassifier\n",
    "from sklearn.tree import DecisionTreeClassifier\n",
    "from sklearn.datasets import load_iris\n",
    "from sklearn.model_selection import train_test_split\n",
    "from sklearn.metrics import accuracy_score\n",
    "iris = load_iris()\n",
    "X, y = iris.data, iris.target\n",
    "\n",
    "# Split the data into training and testing sets\n",
    "X_train, X_test, y_train, y_test = train_test_split(X, y, test_size=0.2, random_state=42)\n",
    "\n",
    "# Create an AdaBoostClassifier with a base DecisionTreeClassifier\n",
    "clf = AdaBoostClassifier(n_estimators=100, random_state=0)\n",
    "\n",
    "# Fit the classifier to the training data\n",
    "clf.fit(X_train, y_train)\n",
    "\n",
    "# Make predictions on the test data\n",
    "y_pred = clf.predict(X_test)\n",
    "\n",
    "# Evaluate the model\n",
    "clf.score(X, y)"
   ]
  },
  {
   "cell_type": "markdown",
   "id": "30b10f8a",
   "metadata": {},
   "source": [
    "# GBMs\n",
    "The Gradient Boosting Machines algorithm works by optimizing any given differentiable loss function, using gradient descent [3].\n",
    "\n",
    "We can write de GBM model as \n",
    "\n",
    "$$F_M(x) = F_0(x) + \\sum_{m=1}^MF_m(x)$$\n",
    "$ \\beta_mh(x; a_m)$ are the base functions learners, where $\\beta_m$ is the weight, and $a_m$ the parameters of the learner $h$. And we have a loss function $L(y_i,F_m(x_i))$, so we would like to find all optimal values of this parameters that would minimize this loss funciton.\n",
    "$$    \\{\\beta_m,\\alpha_m\\}_1^M = {\\arg\\min}_{\\{\\beta'_m,\\alpha'_m\\}_1^M}\\sum_{i=1}^n L\\Biggl(y^{(i)},\\sum_{m=1}^M\\beta'_mh(\\mathbf{x}^{(i)};\\alpha'_m)\\Biggl)$$\n",
    "\n",
    "In this situations where is infeasible we can try a 'greedy-stagewise' approach for $m=1,2,3,...,M$\n",
    "\n",
    "$$(\\beta_m,\\alpha_m) = {\\arg\\min}_{\\beta,\\alpha}\\sum_{i=1}^n L\\Biggl(y^{(i)},F_{m-1}\\mathbf{x}^{(i)} + \\beta h(\\mathbf{x}^{(i)};\\alpha)\\Biggl)$$\n",
    "And then we can use a vectorized notation and make similar to the gradient descent formula. The learning rate, $\\eta$ shrinks the influence of the new learner.\n",
    "$$F_m(\\mathbf{X}) = F_{m-1}(\\mathbf{X}) + \\eta \\Delta_m(X)$$\n",
    "\n",
    "\n",
    "The gradient of the loss function $L$ with relation to the last estimate $F_{m−1}(x)$ is,\n",
    "$$-g_m(\\mathbf{x}^{(i)}) = -\\Bigg[\\frac{\\partial L(y^{(i)},c^{(i)})}{\\partial F(\\mathbf{x}^{(i)})}\\Bigg]$$\n",
    "\n",
    "\n",
    "Gradient of the loss function $L$ with respect to the last prediction is sometimes called pseudo-residual, and written as $r_{m−1}$ can be written as\n",
    "$$\\mathbf{r}_{m_1} = \\nabla F_{m-1}(\\mathbf{X})L(y,F_{m-1}(\\mathbf{X})) = \\nabla \\hat{y}_{m-1}L(y,\\hat{y}_{\\mathbf{m-1}})$$"
   ]
  },
  {
   "cell_type": "markdown",
   "id": "c8a79938",
   "metadata": {},
   "source": [
    "\n",
    "1. $F_0(\\mathbf{X} = \\arg\\min_v\\sum_{i=1}^n L(y^{(i)},v)$\n",
    "2. For $m=1$ to $M$:\n",
    "\n",
    "    2.1. $\\mathbf{r}_{m_1} = \\nabla \\hat{y}_{m-1}L(y,\\hat{y}_{\\mathbf{m-1}})$ # Train a base learner minimizing squared error\n",
    "\n",
    "    2.2. $\\alpha = {\\arg\\min}_{\\alpha,\\beta}\\sum_{i=1}^n(\\mathbf{r}_{m-1}^{(i)}-\\beta h(\\mathbf{x}^{(i)};\\alpha))^2$\n",
    "\n",
    "    2.3. $\\beta = {\\arg\\min}_{\\beta}\\sum_{i=1}^nL(y^{(i)},F_{m-1}(\\mathbf{x}^{(i))}+\\beta h(\\mathbf{x}^{(i))};\\alpha_m)$\n",
    "\n",
    "    2.4. $\\Delta_m(X) = \\beta_mh(\\mathbf{X};\\alpha_m)$\n",
    "    \n",
    "    2.5 $F_m(\\mathbf{X}) = F_{m-1}(\\mathbf{X}) + \\eta \\Delta_m(X)$                                                              \n",
    "\n",
    "3. Output $F_m$\n",
    "\n",
    "From [3]\n"
   ]
  },
  {
   "cell_type": "markdown",
   "id": "21bfefc6",
   "metadata": {},
   "source": [
    "As you can see, it is an iterative algorithm that usually works with decision trees. We train a sequence of decision trees to gradually reduce the training error (each new tree tries to predict the residual error, this is the error at that current iteration and then we multiplied by the learning rate\n",
    "\n",
    "![boost](img/boosting_tree.png)\n",
    "\n",
    "As you can see the final prediction is:\n",
    "\n",
    "initial_prediction + learning_rate*residual_0 + learning_rate*residual_1 _+ ... learning_rate*residual_N\n",
    "\n",
    "Or\n",
    "\n",
    "$F_m(\\mathbf{X}) = F_{m-1}(\\mathbf{X}) + \\eta \\Delta_m(X)$ \n",
    "\n"
   ]
  },
  {
   "cell_type": "markdown",
   "id": "fa07ae0c",
   "metadata": {},
   "source": [
    "We also can find Gradient Boosting function in scikit-learn"
   ]
  },
  {
   "cell_type": "code",
   "execution_count": 3,
   "id": "f57e67d5",
   "metadata": {},
   "outputs": [
    {
     "name": "stdout",
     "output_type": "stream",
     "text": [
      "              precision    recall  f1-score   support\n",
      "\n",
      "           0       0.98      0.93      0.96        46\n",
      "           1       0.96      0.99      0.97        67\n",
      "\n",
      "    accuracy                           0.96       113\n",
      "   macro avg       0.97      0.96      0.96       113\n",
      "weighted avg       0.96      0.96      0.96       113\n",
      "\n"
     ]
    }
   ],
   "source": [
    "import pandas as pd\n",
    "import numpy as np \n",
    "from sklearn.metrics import classification_report\n",
    "from sklearn.model_selection import KFold\n",
    "from sklearn.datasets import load_breast_cancer\n",
    "from sklearn.ensemble import GradientBoostingClassifier\n",
    "X = pd.DataFrame(load_breast_cancer()['data'],columns=load_breast_cancer()['feature_names'])\n",
    "y = pd.DataFrame(load_breast_cancer()['target'],columns=['target'])\n",
    "kf = KFold(n_splits=5,random_state=42,shuffle=True)\n",
    "for train_index, index in kf.split(X):\n",
    "    X_train,X_val = X.iloc[train_index],X.iloc[index],\n",
    "    y_train,y_val = y.iloc[train_index],y.iloc[index],\n",
    "gradient_booster = GradientBoostingClassifier()\n",
    "gradient_booster.fit(X_train,y_train.values.ravel())\n",
    "print(classification_report(y_val,gradient_booster.predict(X_val)))"
   ]
  },
  {
   "cell_type": "markdown",
   "id": "743955d7",
   "metadata": {},
   "source": [
    "# XGBoost vs. CatBoost vs. LightGBM"
   ]
  },
  {
   "cell_type": "markdown",
   "id": "09851636",
   "metadata": {},
   "source": [
    "XGBoost, Catboost, and LightGBM are all variations of gradient boosting algorithms, each employing decision trees as weak learners. I strongly recommend reading the papers [4], [5], [6]. Now, I'm going to highlight the main differences in each algorithm."
   ]
  },
  {
   "cell_type": "markdown",
   "id": "12569534",
   "metadata": {},
   "source": [
    "|   | XGBoost  | CatBoost  | LightGBM  |\n",
    "|---|---|---|---|\n",
    "|Developer |DMLC| Yandex| Microsoft|\n",
    "|Release Year |2014 |2017 |2016|\n",
    "|Tree Symmetry |Asymmetric: Level-wise tree growth |Symmetric |Asymmetric: Leaf-wise tree growth|\n",
    "|Splitting Method |Pre-sorted and histogram-based algorithms |Greedy| GOSS|\n",
    "|Categorical Columns |Support but must use numerical columns, cannot interpret ordinal category| Support |Support|\n",
    "|Text Columns | Not Support| Support: Bag-of-Words, Naive-Bayes or BM25 to calculate numerical features from text| Not Support| \n",
    "|Missing Values | Handle | Handle |Handle|\n",
    "|Training on|CPU and GPU|CPU and GPU|CPU and GPU|\n",
    "|Others things| Works with Spark | Easy generate the Learning Curve |Have a RandomForest \"boosting method\"|"
   ]
  },
  {
   "cell_type": "markdown",
   "id": "dc66507a",
   "metadata": {},
   "source": [
    "All of the models have different loss functions in their objectives, some of which are as follows:\n",
    "\n",
    "For Regression:\n",
    "\n",
    "* L2: mean squared error (default, recovers the mean value)\n",
    "* L1: mean absolute error (good for outliers)\n",
    "* MAPE: mean absolute percentage error (good for time series)\n",
    "* Quantile: predict quantiles\n",
    "* Poisson\n",
    "\n",
    "For Classification:\n",
    "* Logloss for binary classification\n",
    "* Multiclass and cross-entropy for multi-class problems\n",
    "\n",
    "For other loss functions, you can refer to the documentation of all three algorithms.\n"
   ]
  },
  {
   "cell_type": "markdown",
   "id": "cdd2b9f8",
   "metadata": {},
   "source": [
    "# Tree Symmetry\n",
    "||||\n",
    "|---|---|---|\n",
    "![](https://github.com/joaomh/study_boosting_optuna_USP_undergraduate_thesis/blob/main/LaTeX-overleaf/images/CatBoost.png?raw=true)|![](https://github.com/joaomh/study_boosting_optuna_USP_undergraduate_thesis/blob/main/LaTeX-overleaf/images/XGboost.png?raw=true)|![](https://github.com/joaomh/study_boosting_optuna_USP_undergraduate_thesis/blob/main/LaTeX-overleaf/images/LGBM.png?raw=true)"
   ]
  },
  {
   "cell_type": "markdown",
   "id": "c58de303",
   "metadata": {},
   "source": [
    "CatBoost produces symmetric trees (or balanced trees). This refers to the splitting condition across all the nodes at the same depth. On the other hand, XGBoost and LightGBM produce asymmetric trees, meaning that the splitting condition at each node can be different.\n",
    "\n",
    "Another important thing to note is that LightGBM grows leaf-wise (horizontally), while XGBoost grows level-wise (vertically). The picture below can show in more detail the differences in these growth types. This approach can lead to deeper trees with fewer nodes, potentially making it faster to train but may require more memory.\n",
    "\n",
    "![](https://www.researchgate.net/publication/353155099/figure/fig2/AS:1044071766310913@1625937515739/Level-wise-vs-leaf-wise-tree-growth.png)"
   ]
  },
  {
   "cell_type": "markdown",
   "id": "3ebc32d1",
   "metadata": {},
   "source": [
    "# Splitting Method\n",
    "This determines how the splitting is determined in each algorithm.\n",
    "\n",
    "In XGBoost, the pre-sorted algorithm considers all features and sorts them by value. The histogram algorithm groups feature values into discrete bins and finds the split point based on these bins. However, it is slower than GOSS.\n",
    "\n",
    "CatBoost uses a greedy method where a list of possible candidates for feature splits is assigned to the leaf, and the split that results in the smallest penalty is selected.\n",
    "\n",
    "In LightGBM, Gradient-based One-Side Sampling (GOSS) retains all the data with large gradients and performs random sampling for data instances with small gradients (small traning error). This results in fewer data instances used to train the model."
   ]
  },
  {
   "cell_type": "markdown",
   "id": "9d45b98b",
   "metadata": {},
   "source": [
    "# Prevent Overfitting\n",
    "\n",
    "All of the tree models come equipped with excellent parameters designed to mitigate overfitting. We will utilize many of these parameters in our Optuna hyperparameter optimization, some of them are:\n",
    "\n",
    "**early_stopping_rounds:** This parameter employs an integer to halt the learning process. It identifies a point at which the validation score no longer improves, and in some cases, it may even start to deteriorate, while the training score continues to improve. This is not a hyperparameter that we intend to tune, but it's a crucial parameter to use, and it's not active by default.\n",
    "\n",
    "**reg_alpha or lambda_l1:** These parameters represent the coefficient at the L1 regularization term of the cost function.\n",
    "\n",
    "**reg_lambda or l2_leaf_reg:** These parameters represent the coefficient at the L2 regularization term of the cost function.\n",
    "\n",
    "**learning_rate:** This setting is used to control the gradient step size and, in turn, affects the overall training time. Smaller values require more iterations for training.\n",
    "\n",
    "**depth or max_depth:** This parameter limits the maximum depth of the tree model. It is employed to combat overfitting when dealing with small datasets.\n",
    "\n",
    "**num_leaves or max_leaves:** The maximum number of leafs in the resulting tree\n",
    "\n",
    "**random_strength:** This parameter determines the amount of randomness applied when scoring splits during the selection of the tree structure. You can adjust this parameter to mitigate the risk of overfitting in your model.\n",
    "\n",
    "# Hyperparameter Tuning\n",
    "As you can see all three libraries offer a variety of hyperparameters to tune, and their effectiveness can vary depending on the dataset. We will use Optuna in ours tests"
   ]
  },
  {
   "cell_type": "markdown",
   "id": "ca2f3a7f",
   "metadata": {},
   "source": [
    "# Models Performance CPU vs GPU\n",
    "\n",
    "In this section, we are going to use three different datasets: epsilon, higgs, and breast cancer. However, we will not delve deeply into the typical steps of a data science project, such as EDA (Exploratory Data Analysis), pre-processing, handling missing values, plotting some variables, and analyzing correlations. Our primary focus will be the performance of out-of-the-box models, as they are designed to handle certain aspects by default, such as missing values."
   ]
  },
  {
   "cell_type": "markdown",
   "id": "262a9198",
   "metadata": {},
   "source": [
    "## Epsilon\n",
    "[Epsilon dataset](https://www.csie.ntu.edu.tw/~cjlin/libsvmtools/datasets/binary.html#epsilon).\n",
    "This dataset is best suited for binary classification.\n",
    "\n",
    "The training dataset contains 400000 objects. Each object is described by 2001 columns. The first column contains the label value, all other columns contain numerical features.\n",
    "\n",
    "The validation dataset contains 100000 objects. The structure is identical to the training dataset.\n"
   ]
  },
  {
   "cell_type": "code",
   "execution_count": 4,
   "id": "9721387a",
   "metadata": {},
   "outputs": [],
   "source": [
    "from catboost.datasets import epsilon\n",
    "epsilon_train, epsilon_test = epsilon()"
   ]
  },
  {
   "cell_type": "code",
   "execution_count": 5,
   "id": "cd462811",
   "metadata": {},
   "outputs": [
    {
     "data": {
      "text/plain": [
       "((400000, 2001), (100000, 2001))"
      ]
     },
     "execution_count": 5,
     "metadata": {},
     "output_type": "execute_result"
    }
   ],
   "source": [
    "epsilon_train.shape, epsilon_test.shape"
   ]
  },
  {
   "cell_type": "code",
   "execution_count": 6,
   "id": "9b62d2d5",
   "metadata": {},
   "outputs": [],
   "source": [
    "# convert target -1 to 0\n",
    "epsilon_train[epsilon_train[0] <= 0] = 0\n",
    "epsilon_test[epsilon_test[0] <= 0] = 0"
   ]
  },
  {
   "cell_type": "code",
   "execution_count": 7,
   "id": "49a013f4",
   "metadata": {},
   "outputs": [
    {
     "data": {
      "text/plain": [
       "((400000, 2000), (100000, 2000), (400000,), (100000,))"
      ]
     },
     "execution_count": 7,
     "metadata": {},
     "output_type": "execute_result"
    }
   ],
   "source": [
    "X_train = epsilon_train.loc[:,1:]\n",
    "X_test = epsilon_test.loc[:,1:]\n",
    "y_train = epsilon_train.loc[:,0]\n",
    "y_test = epsilon_test.loc[:,0]\n",
    "X_train.shape, X_test.shape, y_train.shape, y_test.shape"
   ]
  },
  {
   "cell_type": "code",
   "execution_count": 8,
   "id": "486ee38c",
   "metadata": {},
   "outputs": [],
   "source": [
    "import timeit\n",
    "from catboost import CatBoostClassifier\n",
    "from xgboost import XGBClassifier\n",
    "from lightgbm import LGBMClassifier"
   ]
  },
  {
   "cell_type": "code",
   "execution_count": 9,
   "id": "68d356ab",
   "metadata": {},
   "outputs": [],
   "source": [
    "from sklearn.metrics import roc_auc_score\n",
    "from sklearn import metrics\n",
    "time_cpu = ['CPU']\n",
    "results_auc_cpu = []\n",
    "models = [XGBClassifier(),\n",
    "          CatBoostClassifier(verbose=False),\n",
    "          LGBMClassifier(verbose=-1)]\n",
    "for i in range(len(models)):\n",
    "    start = timeit.default_timer()\n",
    "    model_ = models[i].fit(X_train, y_train)\n",
    "    stop = timeit.default_timer()\n",
    "    time_cpu.append(stop-start)\n",
    "    y_prob = model_.predict_proba(X_test)[:,1]\n",
    "    fpr, tpr, thresholds = metrics.roc_curve(y_test, y_prob)\n",
    "    results_auc_cpu.append(metrics.auc(fpr, tpr))"
   ]
  },
  {
   "cell_type": "code",
   "execution_count": 10,
   "id": "38038334",
   "metadata": {},
   "outputs": [
    {
     "data": {
      "text/plain": [
       "['CPU', 100.57174560100248, 173.5943495399988, 29.465143476001685]"
      ]
     },
     "execution_count": 10,
     "metadata": {},
     "output_type": "execute_result"
    }
   ],
   "source": [
    "time_cpu"
   ]
  },
  {
   "cell_type": "code",
   "execution_count": 11,
   "id": "41cd4dbd",
   "metadata": {},
   "outputs": [
    {
     "data": {
      "text/plain": [
       "[1.0, 1.0, 1.0]"
      ]
     },
     "execution_count": 11,
     "metadata": {},
     "output_type": "execute_result"
    }
   ],
   "source": [
    "results_auc_cpu"
   ]
  },
  {
   "cell_type": "code",
   "execution_count": 12,
   "id": "38fc0f18",
   "metadata": {},
   "outputs": [],
   "source": [
    "models = [XGBClassifier(tree_method='gpu_hist'),\n",
    "          CatBoostClassifier(verbose=False,task_type=\"GPU\"),\n",
    "          LGBMClassifier(verbose=-1,device='gpu')]\n",
    "\n",
    "time_gpu = ['GPU']\n",
    "results_auc_gpu = []\n",
    "for i in range(len(models)):\n",
    "    start = timeit.default_timer()\n",
    "    model_ = models[i].fit(X_train, y_train)\n",
    "    stop = timeit.default_timer()\n",
    "    time_gpu.append(stop-start)\n",
    "    y_prob = model_.predict_proba(X_test)[:,1]\n",
    "    fpr, tpr, thresholds = metrics.roc_curve(y_test, y_prob)\n",
    "    results_auc_gpu.append(metrics.auc(fpr, tpr))"
   ]
  },
  {
   "cell_type": "code",
   "execution_count": 13,
   "id": "fb031d89",
   "metadata": {},
   "outputs": [
    {
     "data": {
      "text/plain": [
       "['GPU', 8.82751414100494, 18.60794683700078, 13.281327325996244]"
      ]
     },
     "execution_count": 13,
     "metadata": {},
     "output_type": "execute_result"
    }
   ],
   "source": [
    "time_gpu"
   ]
  },
  {
   "cell_type": "code",
   "execution_count": 14,
   "id": "e7b1e994",
   "metadata": {},
   "outputs": [
    {
     "data": {
      "text/plain": [
       "[1.0, 1.0, 1.0]"
      ]
     },
     "execution_count": 14,
     "metadata": {},
     "output_type": "execute_result"
    }
   ],
   "source": [
    "results_auc_gpu"
   ]
  },
  {
   "cell_type": "markdown",
   "id": "53d781ad",
   "metadata": {},
   "source": [
    "## Higgs\n",
    "\n",
    "[Higgs](https://archive.ics.uci.edu/dataset/280/higgs)\n",
    "This is a classification problem to distinguish between a signal process which produces Higgs bosons and a background process which does not. \n",
    "\n",
    "The training dataset contains 10500000 objects. Each object is described by 29 columns. The first column contains the label value, all other columns contain numerical features.\n",
    "\n",
    "The validation dataset contains 5000000 objects. The structure is identical to the training dataset.\n",
    "Method call format"
   ]
  },
  {
   "cell_type": "code",
   "execution_count": 15,
   "id": "ba6dcc6e",
   "metadata": {},
   "outputs": [],
   "source": [
    "from catboost.datasets import higgs\n",
    "higgs_train, higgs_test = higgs()"
   ]
  },
  {
   "cell_type": "code",
   "execution_count": 16,
   "id": "c0b0886c",
   "metadata": {},
   "outputs": [
    {
     "data": {
      "text/plain": [
       "((10500000, 29), (500000, 29))"
      ]
     },
     "execution_count": 16,
     "metadata": {},
     "output_type": "execute_result"
    }
   ],
   "source": [
    "higgs_train.shape, higgs_test.shape"
   ]
  },
  {
   "cell_type": "code",
   "execution_count": 17,
   "id": "d13b32bf",
   "metadata": {},
   "outputs": [
    {
     "data": {
      "text/plain": [
       "((10500000, 28), (500000, 28), (10500000,), (500000,))"
      ]
     },
     "execution_count": 17,
     "metadata": {},
     "output_type": "execute_result"
    }
   ],
   "source": [
    "X_train = higgs_train.loc[:,1:]\n",
    "X_test = higgs_test.loc[:,1:]\n",
    "y_train = higgs_train.loc[:,0]\n",
    "y_test = higgs_test.loc[:,0]\n",
    "X_train.shape, X_test.shape, y_train.shape, y_test.shape"
   ]
  },
  {
   "cell_type": "code",
   "execution_count": 18,
   "id": "0d23c37b",
   "metadata": {},
   "outputs": [],
   "source": [
    "from sklearn.metrics import roc_auc_score\n",
    "from sklearn import metrics\n",
    "time_cpu = ['CPU']\n",
    "results_auc_cpu = []\n",
    "models = [XGBClassifier(),\n",
    "          CatBoostClassifier(verbose=False),\n",
    "          LGBMClassifier(verbose=-1)]\n",
    "for i in range(len(models)):\n",
    "    start = timeit.default_timer()\n",
    "    model_ = models[i].fit(X_train, y_train)\n",
    "    stop = timeit.default_timer()\n",
    "    time_cpu.append(stop-start)\n",
    "    y_prob = model_.predict_proba(X_test)[:,1]\n",
    "    fpr, tpr, thresholds = metrics.roc_curve(y_test, y_prob)\n",
    "    results_auc_cpu.append(metrics.auc(fpr, tpr))"
   ]
  },
  {
   "cell_type": "code",
   "execution_count": 19,
   "id": "761f6618",
   "metadata": {},
   "outputs": [
    {
     "data": {
      "text/plain": [
       "['CPU', 208.93801863700355, 304.1608348700029, 30.22637001700059]"
      ]
     },
     "execution_count": 19,
     "metadata": {},
     "output_type": "execute_result"
    }
   ],
   "source": [
    "time_cpu"
   ]
  },
  {
   "cell_type": "code",
   "execution_count": 20,
   "id": "fb47cd57",
   "metadata": {},
   "outputs": [
    {
     "data": {
      "text/plain": [
       "[0.823429407021503, 0.8412804649425808, 0.8118326628507959]"
      ]
     },
     "execution_count": 20,
     "metadata": {},
     "output_type": "execute_result"
    }
   ],
   "source": [
    "results_auc_cpu"
   ]
  },
  {
   "cell_type": "code",
   "execution_count": 21,
   "id": "54c84b54",
   "metadata": {},
   "outputs": [],
   "source": [
    "models = [XGBClassifier(tree_method='gpu_hist'),\n",
    "          CatBoostClassifier(verbose=False,task_type=\"GPU\"),\n",
    "          LGBMClassifier(verbose=-1,device='gpu')]\n",
    "\n",
    "time_gpu = ['GPU']\n",
    "results_auc_gpu = []\n",
    "for i in range(len(models)):\n",
    "    start = timeit.default_timer()\n",
    "    model_ = models[i].fit(X_train, y_train)\n",
    "    stop = timeit.default_timer()\n",
    "    time_gpu.append(stop-start)\n",
    "    y_prob = model_.predict_proba(X_test)[:,1]\n",
    "    fpr, tpr, thresholds = metrics.roc_curve(y_test, y_prob)\n",
    "    results_auc_gpu.append(metrics.auc(fpr, tpr))"
   ]
  },
  {
   "cell_type": "code",
   "execution_count": 22,
   "id": "f862e220",
   "metadata": {},
   "outputs": [
    {
     "data": {
      "text/plain": [
       "['GPU', 5.500959073993727, 43.70296749100089, 14.413947692002694]"
      ]
     },
     "execution_count": 22,
     "metadata": {},
     "output_type": "execute_result"
    }
   ],
   "source": [
    "time_gpu"
   ]
  },
  {
   "cell_type": "code",
   "execution_count": 23,
   "id": "0ad5a18f",
   "metadata": {},
   "outputs": [
    {
     "data": {
      "text/plain": [
       "[0.8237744245413271, 0.8105542884220551, 0.8118326588372813]"
      ]
     },
     "execution_count": 23,
     "metadata": {},
     "output_type": "execute_result"
    }
   ],
   "source": [
    "results_auc_gpu"
   ]
  },
  {
   "cell_type": "markdown",
   "id": "ff0dad5c",
   "metadata": {},
   "source": [
    "## Breast Cancer\n",
    "\n",
    "[Breast Cancer](https://archive.ics.uci.edu/dataset/17/breast+cancer+wisconsin+diagnostic) \n",
    "\n",
    "The breast cancer dataset is a classic and very easy binary classification dataset.\n",
    "\n",
    "Features are computed from a digitized image of a fine needle aspirate (FNA) of a breast mass.  They describe characteristics of the cell nuclei present in the image"
   ]
  },
  {
   "cell_type": "code",
   "execution_count": 24,
   "id": "02322534",
   "metadata": {},
   "outputs": [],
   "source": [
    "from sklearn.datasets import load_breast_cancer\n",
    "breast_cancer =  load_breast_cancer(as_frame=True).frame"
   ]
  },
  {
   "cell_type": "code",
   "execution_count": 25,
   "id": "6a5a1b7b",
   "metadata": {},
   "outputs": [
    {
     "data": {
      "text/plain": [
       "((398, 30), (171, 30), (398,), (171,))"
      ]
     },
     "execution_count": 25,
     "metadata": {},
     "output_type": "execute_result"
    }
   ],
   "source": [
    "from sklearn.model_selection import train_test_split\n",
    "X = breast_cancer.drop(columns=['target'])\n",
    "y = breast_cancer.loc[:,'target']\n",
    "\n",
    "X_train, X_test, y_train, y_test = train_test_split(X, y, test_size=0.3, random_state=42)\n",
    "X_train.shape, X_test.shape, y_train.shape, y_test.shape"
   ]
  },
  {
   "cell_type": "code",
   "execution_count": 26,
   "id": "e00631a0",
   "metadata": {},
   "outputs": [],
   "source": [
    "from sklearn.metrics import roc_auc_score\n",
    "from sklearn import metrics\n",
    "time_cpu = ['CPU']\n",
    "results_auc_cpu = []\n",
    "models = [XGBClassifier(),\n",
    "          CatBoostClassifier(verbose=False),\n",
    "          LGBMClassifier(verbose=-1)]\n",
    "for i in range(len(models)):\n",
    "    start = timeit.default_timer()\n",
    "    model_ = models[i].fit(X_train, y_train)\n",
    "    stop = timeit.default_timer()\n",
    "    time_cpu.append(stop-start)\n",
    "    y_prob = model_.predict_proba(X_test)[:,1]\n",
    "    fpr, tpr, thresholds = metrics.roc_curve(y_test, y_prob)\n",
    "    results_auc_cpu.append(metrics.auc(fpr, tpr))"
   ]
  },
  {
   "cell_type": "code",
   "execution_count": 27,
   "id": "5c19e47e",
   "metadata": {},
   "outputs": [
    {
     "data": {
      "text/plain": [
       "['CPU', 0.016339898997102864, 0.9324936460034223, 0.02608547400450334]"
      ]
     },
     "execution_count": 27,
     "metadata": {},
     "output_type": "execute_result"
    }
   ],
   "source": [
    "time_cpu"
   ]
  },
  {
   "cell_type": "code",
   "execution_count": 28,
   "id": "1cccb8a5",
   "metadata": {},
   "outputs": [
    {
     "data": {
      "text/plain": [
       "[0.9947089947089948, 0.9972075249853027, 0.9944150499706055]"
      ]
     },
     "execution_count": 28,
     "metadata": {},
     "output_type": "execute_result"
    }
   ],
   "source": [
    "results_auc_cpu"
   ]
  },
  {
   "cell_type": "code",
   "execution_count": 29,
   "id": "f767b21b",
   "metadata": {},
   "outputs": [],
   "source": [
    "models = [XGBClassifier(tree_method='gpu_hist'),\n",
    "          CatBoostClassifier(verbose=False,task_type=\"GPU\"),\n",
    "          LGBMClassifier(verbose=-1,device='gpu')]\n",
    "\n",
    "time_gpu = ['GPU']\n",
    "results_auc_gpu = []\n",
    "for i in range(len(models)):\n",
    "    start = timeit.default_timer()\n",
    "    model_ = models[i].fit(X_train, y_train)\n",
    "    stop = timeit.default_timer()\n",
    "    time_gpu.append(stop-start)\n",
    "    y_prob = model_.predict_proba(X_test)[:,1]\n",
    "    fpr, tpr, thresholds = metrics.roc_curve(y_test, y_prob)\n",
    "    results_auc_gpu.append(metrics.auc(fpr, tpr))"
   ]
  },
  {
   "cell_type": "code",
   "execution_count": 30,
   "id": "29f66467",
   "metadata": {},
   "outputs": [
    {
     "data": {
      "text/plain": [
       "['GPU', 0.0601679419996799, 17.182826510994346, 0.45593334099976346]"
      ]
     },
     "execution_count": 30,
     "metadata": {},
     "output_type": "execute_result"
    }
   ],
   "source": [
    "time_gpu"
   ]
  },
  {
   "cell_type": "code",
   "execution_count": 31,
   "id": "58381255",
   "metadata": {},
   "outputs": [
    {
     "data": {
      "text/plain": [
       "[0.9938271604938271, 0.9977954144620811, 0.9952968841857731]"
      ]
     },
     "execution_count": 31,
     "metadata": {},
     "output_type": "execute_result"
    }
   ],
   "source": [
    "results_auc_gpu"
   ]
  },
  {
   "cell_type": "markdown",
   "id": "f9e174e5",
   "metadata": {},
   "source": [
    "# Optuna\n",
    "\n",
    "Now, let's attempt to utilize Optuna with the three algorithms, applying it to our largest dataset. We will employ early_stopping to determine the optimal number of iterations that minimizes the validation loss, and we'll also consider class weights using the 'balanced' option.\n",
    "\n",
    "Another valuable aspect to explore is the use of sample weights, which can be passed as an array of shape n_samples. This feature proves exceptionally useful in applications such as churn modeling, where we aim to prevent the churn of high-value customers with greater profitability."
   ]
  },
  {
   "cell_type": "markdown",
   "id": "bfeae74e",
   "metadata": {},
   "source": [
    "Here, we have a function that calculates numerous classification metrics. While our primary optimization focus will be on AUC, feel free to make adjustments as needed."
   ]
  },
  {
   "cell_type": "code",
   "execution_count": 32,
   "id": "1c662a14",
   "metadata": {},
   "outputs": [],
   "source": [
    "import sys\n",
    "import timeit\n",
    "import gc\n",
    "from sklearn import metrics\n",
    "import optuna\n",
    "from optuna.visualization import plot_optimization_history\n",
    "from optuna.visualization import plot_param_importances\n",
    "from catboost import CatBoostClassifier\n",
    "from xgboost import XGBClassifier\n",
    "import lightgbm as lightgbm\n",
    "from lightgbm import LGBMClassifier\n",
    "\n",
    "def metrics_validation(y_test, y_prob):\n",
    "    '''\n",
    "    Input:\n",
    "        y_prob: model predict prob\n",
    "        y_test: target\n",
    "    Output: Metrics of validation\n",
    "        auc, ks, log_loss, accuracy\n",
    "    '''\n",
    "    fpr, tpr, thresholds = metrics.roc_curve(y_test, y_prob)\n",
    "    auc = metrics.auc(fpr, tpr)\n",
    "    log_loss = metrics.log_loss(y_test, y_prob)\n",
    "    ks = max(tpr - fpr) # Kolmogorov-Smirnov\n",
    "    accu = metrics.accuracy_score(y_test, y_prob.round())\n",
    "    precision = metrics.precision_score(y_test, y_prob.round()) # tp / (tp + fp)\n",
    "    recall = metrics.recall_score(y_test, y_prob.round()) # tp / (tp + fn)\n",
    "    f1_score = metrics.f1_score(y_test, y_prob.round()) # 2 * (precision * recall) / (precision + recall)\n",
    "    return auc, log_loss, ks, "
   ]
  },
  {
   "cell_type": "markdown",
   "id": "5752f1f4",
   "metadata": {},
   "source": [
    "Creating our objective function and the set of hyperparameter space.\""
   ]
  },
  {
   "cell_type": "code",
   "execution_count": 33,
   "id": "b3737126",
   "metadata": {},
   "outputs": [],
   "source": [
    "def objective(trial, X_train, y_train, X_test, y_test, balanced, method):\n",
    "    '''\n",
    "    Input:\n",
    "        trial: trial of the test\n",
    "        X_train:\n",
    "        y_train:\n",
    "        X_test:\n",
    "        y_test:\n",
    "        balanced:balanced or None\n",
    "        method: XGBoost, CatBoost or LGBM\n",
    "    Output: Metrics of validation\n",
    "        auc, ks, log_loss\n",
    "        metrics_validation(y_test, y_pred)[0]\n",
    "    '''\n",
    "    gc.collect()\n",
    "    if method=='LGBM':\n",
    "        param_grid = {'learning_rate': trial.suggest_float('learning_rate', 0.0001, 0.1, log=True),\n",
    "                      'num_leaves': trial.suggest_int('num_leaves', 2, 256),\n",
    "                      'lambda_l1': trial.suggest_float(\"lambda_l1\", 1e-8, 10.0, log=True),\n",
    "                      'lambda_l2': trial.suggest_float(\"lambda_l2\", 1e-8, 10.0, log=True),\n",
    "                      'min_data_in_leaf': trial.suggest_int('min_data_in_leaf', 5, 100),\n",
    "                      'max_depth': trial.suggest_int('max_depth', 5, 64),\n",
    "                      'feature_fraction': trial.suggest_float(\"feature_fraction\", 0.4, 1.0),\n",
    "                      'bagging_fraction': trial.suggest_float(\"bagging_fraction\", 0.4, 1.0),\n",
    "                      'device':'gpu',\n",
    "                      'bagging_freq': trial.suggest_int(\"bagging_freq\", 1, 7),\n",
    "  \n",
    "                     }\n",
    "        model = LGBMClassifier(**param_grid)\n",
    "\n",
    "        print('LGBM - Optimization using optuna')\n",
    "        model.fit(X_train, y_train)\n",
    "        \n",
    "        y_pred = model.predict_proba(X_test)[:,1]\n",
    "\n",
    "    if method=='CATBoost':\n",
    "        param_grid = {'learning_rate': trial.suggest_float('learning_rate', 0.0001, 0.1, log=True),\n",
    "                      'depth': trial.suggest_int(\"depth\", 4, 10),\n",
    "                      'max_bin': trial.suggest_int('max_bin', 200, 400),\n",
    "                      'min_data_in_leaf': trial.suggest_int('min_data_in_leaf', 1, 300),\n",
    "                      'l2_leaf_reg': trial.suggest_float('l2_leaf_reg', 1e-8, 10, log = True),\n",
    "                      'random_seed': 42,\n",
    "                      'random_strength': trial.suggest_float(\"random_strength\", 1e-8, 10.0, log=True),\n",
    "                      'bagging_temperature': trial.suggest_float(\"bagging_temperature\", 0.0, 10.0),\n",
    "                      'od_type': trial.suggest_categorical(\"od_type\", [\"IncToDec\", \"Iter\"]),\n",
    "                      'task_type':'GPU',\n",
    "                      'od_wait': trial.suggest_int(\"od_wait\", 10, 50),\n",
    "                     }\n",
    "        if len(X_train._get_numeric_data().columns) != len(X_train.columns):\n",
    "            categorical_features_indices = list(X_train.select_dtypes(exclude='number').columns)\n",
    "            model = CatBoostClassifier(**param_grid)\n",
    "            print('CATBoost - Optimization using optuna')\n",
    "            model.fit(X_train, y_train,cat_features=categorical_features_indices,verbose=False)\n",
    "            y_pred = model.predict_proba(X_test)[:,1]\n",
    "        else:\n",
    "            model = CatBoostClassifier(**param_grid)\n",
    "            print('CATBoost - Optimization using optuna')\n",
    "            model.fit(X_train, y_train,verbose=False)\n",
    "            y_pred = model.predict_proba(X_test)[:,1]\n",
    "        \n",
    "    if method=='XGBoost':\n",
    "        param_grid = {'learning_rate': trial.suggest_float('learning_rate', 0.0001, 0.1, log=True),\n",
    "                      'max_depth': trial.suggest_int('max_depth', 3, 16),\n",
    "                      'min_child_weight': trial.suggest_int('min_child_weight', 1, 300),\n",
    "                      'gamma': trial.suggest_float('gamma', 1e-8, 1.0, log = True),\n",
    "                      'alpha': trial.suggest_float('alpha', 1e-8, 1.0, log = True),\n",
    "                      'lambda': trial.suggest_float('lambda', 0.0001, 10.0, log = True),\n",
    "                      'colsample_bytree': trial.suggest_float('colsample_bytree', 0.1, 0.8),\n",
    "                      'booster': 'gbtree',\n",
    "                      'tree_method':'gpu_hist',\n",
    "                      'random_state': 42,\n",
    "                     }\n",
    "        model = XGBClassifier(**param_grid)\n",
    "        print('XGBoost - Optimization using optuna')\n",
    "        model.fit(X_train, y_train,verbose=False)\n",
    "        y_pred = model.predict_proba(X_test)[:,1]\n",
    "    \n",
    "    auc_res, log_loss_res, ks_res = metrics_validation(y_test, y_pred)\n",
    "    print('auc:'+str(auc_res),', log_loss:'+str(log_loss_res),', ks:'+str(ks_res))\n",
    "    return metrics_validation(y_test, y_pred)[0]"
   ]
  },
  {
   "cell_type": "markdown",
   "id": "efd74e05",
   "metadata": {},
   "source": [
    "Tuning the model: Here, the study will be created, and an important aspect to note is the **time_max_tuning,** which represents the maximum time in seconds to stop."
   ]
  },
  {
   "cell_type": "code",
   "execution_count": 34,
   "id": "550793bc",
   "metadata": {},
   "outputs": [],
   "source": [
    "def tuning(X_train, y_train, X_test, y_test, balanced, method):\n",
    "    '''\n",
    "    Input:\n",
    "        trial: \n",
    "        x_train:\n",
    "        y_train:\n",
    "        X_test:\n",
    "        y_test:\n",
    "        balanced:balanced or not balanced\n",
    "        method: XGBoost, CatBoost or LGBM\n",
    "    Output: Metrics of validation\n",
    "        auc, ks, log_loss\n",
    "        metrics_validation(y_test, y_pred)[0]\n",
    "    '''\n",
    "    study = optuna.create_study(direction='maximize', study_name=method+' Classifier')\n",
    "    func = lambda trial: objective(trial, X_train, y_train, X_test, y_test, balanced, method)\n",
    "    print('Starting the optimization')\n",
    "    time_max_tuning = 15*60 # max time in seconds to stop\n",
    "    study.optimize(func, timeout=time_max_tuning)\n",
    "    return study"
   ]
  },
  {
   "cell_type": "markdown",
   "id": "d96ae4a0",
   "metadata": {},
   "source": [
    "Train the model while implementing **early_stopping**, and then return the best model."
   ]
  },
  {
   "cell_type": "code",
   "execution_count": 35,
   "id": "6c28d0f2",
   "metadata": {},
   "outputs": [],
   "source": [
    "def train(X_train, y_train, X_test, y_test, balanced, method):\n",
    "    '''\n",
    "    Input:\n",
    "        X_train:\n",
    "        y_train:\n",
    "        X_test:\n",
    "        y_test:\n",
    "        balanced:balanced or None\n",
    "        method: XGBoost, CatBoost or LGBM\n",
    "    Output: predict model\n",
    "    '''\n",
    "    print('Tuning')\n",
    "    study = tuning(X_train, y_train, X_test, y_test, balanced, method)\n",
    "    if method=='LGBM':\n",
    "        model = LGBMClassifier(**study.best_params)\n",
    "        print('Last Fit')\n",
    "        model.fit(X_train, y_train, eval_set=[(X_test,y_test)],\n",
    "                 callbacks = [lightgbm.early_stopping(stopping_rounds=100), lightgbm.log_evaluation(period=5000)])\n",
    "    if method=='CATBoost':\n",
    "        model = CatBoostClassifier(**study.best_params)\n",
    "        if len(X_train._get_numeric_data().columns) != len(X_train.columns):\n",
    "            categorical_features_indices = list(X_train.select_dtypes(exclude='number').columns)\n",
    "            print('Last Fit')\n",
    "            model.fit(X_train, y_train,cat_features=categorical_features_indices, eval_set=[(X_test,y_test)],\n",
    "                 early_stopping_rounds=100,verbose = False)\n",
    "        else:\n",
    "            print('Last Fit')\n",
    "            model.fit(X_train, y_train, eval_set=[(X_test,y_test)],\n",
    "                 early_stopping_rounds=100,verbose = False)\n",
    "    if method=='XGBoost':\n",
    "        model = XGBClassifier(**study.best_params)\n",
    "        print('Last Fit')\n",
    "        model.fit(X_train, y_train, eval_set=[(X_test,y_test)],\n",
    "                 early_stopping_rounds=100,verbose = False)\n",
    "    return model, study"
   ]
  },
  {
   "cell_type": "code",
   "execution_count": 39,
   "id": "e82f8ede",
   "metadata": {},
   "outputs": [
    {
     "data": {
      "text/plain": [
       "((10500000, 28), (500000, 28), (10500000,), (500000,))"
      ]
     },
     "execution_count": 39,
     "metadata": {},
     "output_type": "execute_result"
    }
   ],
   "source": [
    "X_train = higgs_train.loc[:,1:]\n",
    "X_test = higgs_test.loc[:,1:]\n",
    "y_train = higgs_train.loc[:,0]\n",
    "y_test = higgs_test.loc[:,0]\n",
    "X_train.shape, X_test.shape, y_train.shape, y_test.shape"
   ]
  },
  {
   "cell_type": "code",
   "execution_count": 40,
   "id": "a59fe4af",
   "metadata": {},
   "outputs": [
    {
     "name": "stderr",
     "output_type": "stream",
     "text": [
      "[I 2023-10-03 20:05:05,770] A new study created in memory with name: XGBoost Classifier\n"
     ]
    },
    {
     "name": "stdout",
     "output_type": "stream",
     "text": [
      "Tuning\n",
      "Starting the optimization\n",
      "XGBoost - Optimization using optuna\n",
      "auc:0.8160714188768703 , log_loss:0.5625867343804195 , ks:0.4707839553090411\n"
     ]
    },
    {
     "name": "stderr",
     "output_type": "stream",
     "text": [
      "[I 2023-10-03 20:05:20,998] Trial 0 finished with value: 0.8160714188768703 and parameters: {'learning_rate': 0.014461545107824847, 'max_depth': 13, 'min_child_weight': 274, 'gamma': 2.685092337834412e-08, 'alpha': 1.1303389978159601e-07, 'lambda': 0.0037974543642193773, 'colsample_bytree': 0.6187173763615156}. Best is trial 0 with value: 0.8160714188768703.\n"
     ]
    },
    {
     "name": "stdout",
     "output_type": "stream",
     "text": [
      "XGBoost - Optimization using optuna\n",
      "auc:0.8153558675013712 , log_loss:0.5980449019664544 , ks:0.46919683522486755\n"
     ]
    },
    {
     "name": "stderr",
     "output_type": "stream",
     "text": [
      "[I 2023-10-03 20:05:42,969] Trial 1 finished with value: 0.8153558675013712 and parameters: {'learning_rate': 0.007681017817452525, 'max_depth': 16, 'min_child_weight': 295, 'gamma': 8.394136809835826e-06, 'alpha': 0.003830783555808915, 'lambda': 0.15494646707295295, 'colsample_bytree': 0.6265576194235859}. Best is trial 0 with value: 0.8160714188768703.\n"
     ]
    },
    {
     "name": "stdout",
     "output_type": "stream",
     "text": [
      "XGBoost - Optimization using optuna\n",
      "auc:0.7938849907336838 , log_loss:0.6113386502777107 , ks:0.4334986301351884\n"
     ]
    },
    {
     "name": "stderr",
     "output_type": "stream",
     "text": [
      "[I 2023-10-03 20:05:51,481] Trial 2 finished with value: 0.7938849907336838 and parameters: {'learning_rate': 0.008642243937655893, 'max_depth': 8, 'min_child_weight': 134, 'gamma': 4.1214485228999705e-06, 'alpha': 0.0005882209195223604, 'lambda': 0.01697940444276006, 'colsample_bytree': 0.6066976345148787}. Best is trial 0 with value: 0.8160714188768703.\n"
     ]
    },
    {
     "name": "stdout",
     "output_type": "stream",
     "text": [
      "XGBoost - Optimization using optuna\n",
      "auc:0.7467487261159675 , log_loss:0.6877180454090693 , ks:0.3483088410334263\n"
     ]
    },
    {
     "name": "stderr",
     "output_type": "stream",
     "text": [
      "[I 2023-10-03 20:06:00,285] Trial 3 finished with value: 0.7467487261159675 and parameters: {'learning_rate': 0.0012140580389851234, 'max_depth': 9, 'min_child_weight': 220, 'gamma': 0.007691216354457009, 'alpha': 0.017236316640416617, 'lambda': 0.18429008447079587, 'colsample_bytree': 0.1621613744128354}. Best is trial 0 with value: 0.8160714188768703.\n"
     ]
    },
    {
     "name": "stdout",
     "output_type": "stream",
     "text": [
      "XGBoost - Optimization using optuna\n",
      "auc:0.7804428359503353 , log_loss:0.5774324575490736 , ks:0.4120434360389573\n"
     ]
    },
    {
     "name": "stderr",
     "output_type": "stream",
     "text": [
      "[I 2023-10-03 20:06:07,785] Trial 4 finished with value: 0.7804428359503353 and parameters: {'learning_rate': 0.07902268379119089, 'max_depth': 6, 'min_child_weight': 151, 'gamma': 3.291161666220187e-05, 'alpha': 0.0007906911106314722, 'lambda': 0.08547673061198874, 'colsample_bytree': 0.14393036959687783}. Best is trial 0 with value: 0.8160714188768703.\n"
     ]
    },
    {
     "name": "stdout",
     "output_type": "stream",
     "text": [
      "XGBoost - Optimization using optuna\n",
      "auc:0.8300751185214701 , log_loss:0.5104441660925311 , ks:0.4943815105642797\n"
     ]
    },
    {
     "name": "stderr",
     "output_type": "stream",
     "text": [
      "[I 2023-10-03 20:06:25,492] Trial 5 finished with value: 0.8300751185214701 and parameters: {'learning_rate': 0.04207326516562167, 'max_depth': 14, 'min_child_weight': 206, 'gamma': 0.23915275217081786, 'alpha': 3.42501035517271e-05, 'lambda': 0.0008752778409159388, 'colsample_bytree': 0.6353446241287046}. Best is trial 5 with value: 0.8300751185214701.\n"
     ]
    },
    {
     "name": "stdout",
     "output_type": "stream",
     "text": [
      "XGBoost - Optimization using optuna\n",
      "auc:0.7555655064809303 , log_loss:0.6293524463911325 , ks:0.37167288190764924\n"
     ]
    },
    {
     "name": "stderr",
     "output_type": "stream",
     "text": [
      "[I 2023-10-03 20:06:32,455] Trial 6 finished with value: 0.7555655064809303 and parameters: {'learning_rate': 0.021127747930971028, 'max_depth': 4, 'min_child_weight': 173, 'gamma': 1.0982563314753644e-07, 'alpha': 0.00047626984396553714, 'lambda': 5.967401560632587, 'colsample_bytree': 0.1918286245277176}. Best is trial 5 with value: 0.8300751185214701.\n"
     ]
    },
    {
     "name": "stdout",
     "output_type": "stream",
     "text": [
      "XGBoost - Optimization using optuna\n",
      "auc:0.8128424852380012 , log_loss:0.5289524105335889 , ks:0.46462075583510687\n"
     ]
    },
    {
     "name": "stderr",
     "output_type": "stream",
     "text": [
      "[I 2023-10-03 20:06:40,428] Trial 7 finished with value: 0.8128424852380012 and parameters: {'learning_rate': 0.0882004116100355, 'max_depth': 7, 'min_child_weight': 227, 'gamma': 0.00043391407363144294, 'alpha': 0.0012841735071229276, 'lambda': 0.0006427765301135334, 'colsample_bytree': 0.4022483495730823}. Best is trial 5 with value: 0.8300751185214701.\n"
     ]
    },
    {
     "name": "stdout",
     "output_type": "stream",
     "text": [
      "XGBoost - Optimization using optuna\n",
      "auc:0.8115527451622996 , log_loss:0.6899830979435947 , ks:0.46312382036897887\n"
     ]
    },
    {
     "name": "stderr",
     "output_type": "stream",
     "text": [
      "[I 2023-10-03 20:07:02,013] Trial 8 finished with value: 0.8115527451622996 and parameters: {'learning_rate': 0.00015725114878258745, 'max_depth': 15, 'min_child_weight': 223, 'gamma': 0.022357240819363494, 'alpha': 3.5454406429174326e-06, 'lambda': 0.6808598495750001, 'colsample_bytree': 0.6903488439580941}. Best is trial 5 with value: 0.8300751185214701.\n"
     ]
    },
    {
     "name": "stdout",
     "output_type": "stream",
     "text": [
      "XGBoost - Optimization using optuna\n",
      "auc:0.7507034211259309 , log_loss:0.684510335928647 , ks:0.3557299952980999\n"
     ]
    },
    {
     "name": "stderr",
     "output_type": "stream",
     "text": [
      "[I 2023-10-03 20:07:15,793] Trial 9 finished with value: 0.7507034211259309 and parameters: {'learning_rate': 0.0019099902517487357, 'max_depth': 13, 'min_child_weight': 200, 'gamma': 1.8574016312275589e-06, 'alpha': 7.180654535705901e-07, 'lambda': 2.660799376418031, 'colsample_bytree': 0.1580239286703511}. Best is trial 5 with value: 0.8300751185214701.\n"
     ]
    },
    {
     "name": "stdout",
     "output_type": "stream",
     "text": [
      "XGBoost - Optimization using optuna\n",
      "auc:0.8269488861834312 , log_loss:0.5147160846070759 , ks:0.48878500760248683\n"
     ]
    },
    {
     "name": "stderr",
     "output_type": "stream",
     "text": [
      "[I 2023-10-03 20:07:29,976] Trial 10 finished with value: 0.8269488861834312 and parameters: {'learning_rate': 0.03426850381023882, 'max_depth': 12, 'min_child_weight': 44, 'gamma': 0.35920347885614134, 'alpha': 0.18124311183875305, 'lambda': 0.00013391943007198513, 'colsample_bytree': 0.7889404702437497}. Best is trial 5 with value: 0.8300751185214701.\n"
     ]
    },
    {
     "name": "stdout",
     "output_type": "stream",
     "text": [
      "XGBoost - Optimization using optuna\n",
      "auc:0.8267554179036014 , log_loss:0.5155184243151416 , ks:0.48830970392074247\n"
     ]
    },
    {
     "name": "stderr",
     "output_type": "stream",
     "text": [
      "[I 2023-10-03 20:07:44,520] Trial 11 finished with value: 0.8267554179036014 and parameters: {'learning_rate': 0.033941278047400665, 'max_depth': 12, 'min_child_weight': 34, 'gamma': 0.862598239200619, 'alpha': 0.282464158753137, 'lambda': 0.00010671711749449273, 'colsample_bytree': 0.7824657726970117}. Best is trial 5 with value: 0.8300751185214701.\n"
     ]
    },
    {
     "name": "stdout",
     "output_type": "stream",
     "text": [
      "XGBoost - Optimization using optuna\n",
      "auc:0.8247159992496187 , log_loss:0.51643433244236 , ks:0.48511200506515945\n"
     ]
    },
    {
     "name": "stderr",
     "output_type": "stream",
     "text": [
      "[I 2023-10-03 20:07:56,175] Trial 12 finished with value: 0.8247159992496187 and parameters: {'learning_rate': 0.038435694813742594, 'max_depth': 11, 'min_child_weight': 82, 'gamma': 0.9919992886356024, 'alpha': 4.978921563516134e-05, 'lambda': 0.00015377384010625052, 'colsample_bytree': 0.7747395823027643}. Best is trial 5 with value: 0.8300751185214701.\n"
     ]
    },
    {
     "name": "stdout",
     "output_type": "stream",
     "text": [
      "XGBoost - Optimization using optuna\n",
      "auc:0.807395368777724 , log_loss:0.6383809404352234 , ks:0.4560813426905799\n"
     ]
    },
    {
     "name": "stderr",
     "output_type": "stream",
     "text": [
      "[I 2023-10-03 20:08:22,556] Trial 13 finished with value: 0.807395368777724 and parameters: {'learning_rate': 0.004455091270875308, 'max_depth': 14, 'min_child_weight': 1, 'gamma': 0.07753560545576478, 'alpha': 0.2927093523502968, 'lambda': 0.0013814805092376061, 'colsample_bytree': 0.4985722490253711}. Best is trial 5 with value: 0.8300751185214701.\n"
     ]
    },
    {
     "name": "stdout",
     "output_type": "stream",
     "text": [
      "XGBoost - Optimization using optuna\n",
      "auc:0.8348732943572185 , log_loss:0.4983926444139988 , ks:0.5024701807772184\n"
     ]
    },
    {
     "name": "stderr",
     "output_type": "stream",
     "text": [
      "[I 2023-10-03 20:08:33,384] Trial 14 finished with value: 0.8348732943572185 and parameters: {'learning_rate': 0.09899748497778434, 'max_depth': 11, 'min_child_weight': 98, 'gamma': 0.0011833043961143774, 'alpha': 5.75006710814136e-06, 'lambda': 0.0005062069960528658, 'colsample_bytree': 0.7742353497909675}. Best is trial 14 with value: 0.8348732943572185.\n"
     ]
    },
    {
     "name": "stdout",
     "output_type": "stream",
     "text": [
      "XGBoost - Optimization using optuna\n",
      "auc:0.8296678022582782 , log_loss:0.5055922040486227 , ks:0.4931835784608611\n"
     ]
    },
    {
     "name": "stderr",
     "output_type": "stream",
     "text": [
      "[I 2023-10-03 20:08:43,157] Trial 15 finished with value: 0.8296678022582782 and parameters: {'learning_rate': 0.08645887965570928, 'max_depth': 10, 'min_child_weight': 110, 'gamma': 0.0009581163320040558, 'alpha': 1.9931505032909023e-05, 'lambda': 0.007845832772446992, 'colsample_bytree': 0.7006621738399037}. Best is trial 14 with value: 0.8348732943572185.\n"
     ]
    },
    {
     "name": "stdout",
     "output_type": "stream",
     "text": [
      "XGBoost - Optimization using optuna\n",
      "auc:0.841081579959363 , log_loss:0.4908186691084899 , ks:0.513601429292245\n"
     ]
    },
    {
     "name": "stderr",
     "output_type": "stream",
     "text": [
      "[I 2023-10-03 20:09:11,686] Trial 16 finished with value: 0.841081579959363 and parameters: {'learning_rate': 0.08921349613796856, 'max_depth': 16, 'min_child_weight': 78, 'gamma': 0.0036337908223430058, 'alpha': 4.655321463659426e-08, 'lambda': 0.0009864554893157808, 'colsample_bytree': 0.546510040348285}. Best is trial 16 with value: 0.841081579959363.\n"
     ]
    },
    {
     "name": "stdout",
     "output_type": "stream",
     "text": [
      "XGBoost - Optimization using optuna\n",
      "auc:0.8212203037251145 , log_loss:0.5531837096706446 , ks:0.47923540685698895\n"
     ]
    },
    {
     "name": "stderr",
     "output_type": "stream",
     "text": [
      "[I 2023-10-03 20:09:44,660] Trial 17 finished with value: 0.8212203037251145 and parameters: {'learning_rate': 0.01814183382870006, 'max_depth': 16, 'min_child_weight': 88, 'gamma': 0.003048073242836511, 'alpha': 1.1582894013237326e-08, 'lambda': 0.0032849468820511105, 'colsample_bytree': 0.5295635802161318}. Best is trial 16 with value: 0.841081579959363.\n"
     ]
    },
    {
     "name": "stdout",
     "output_type": "stream",
     "text": [
      "XGBoost - Optimization using optuna\n",
      "auc:0.7946943430242 , log_loss:0.5503888560112872 , ks:0.43504198342166556\n"
     ]
    },
    {
     "name": "stderr",
     "output_type": "stream",
     "text": [
      "[I 2023-10-03 20:09:51,744] Trial 18 finished with value: 0.7946943430242 and parameters: {'learning_rate': 0.09067577257245396, 'max_depth': 4, 'min_child_weight': 55, 'gamma': 0.0002697962751130612, 'alpha': 5.616558471222911e-07, 'lambda': 0.021132779438296983, 'colsample_bytree': 0.39589707893306925}. Best is trial 16 with value: 0.841081579959363.\n"
     ]
    },
    {
     "name": "stdout",
     "output_type": "stream",
     "text": [
      "XGBoost - Optimization using optuna\n",
      "auc:0.8192893302650791 , log_loss:0.5260668098090886 , ks:0.4753993618912427\n"
     ]
    },
    {
     "name": "stderr",
     "output_type": "stream",
     "text": [
      "[I 2023-10-03 20:10:01,729] Trial 19 finished with value: 0.8192893302650791 and parameters: {'learning_rate': 0.0449551626143986, 'max_depth': 10, 'min_child_weight': 108, 'gamma': 0.002407356996708773, 'alpha': 2.5143753058983084e-08, 'lambda': 0.00039543781542807766, 'colsample_bytree': 0.5180995226405741}. Best is trial 16 with value: 0.841081579959363.\n"
     ]
    },
    {
     "name": "stdout",
     "output_type": "stream",
     "text": [
      "XGBoost - Optimization using optuna\n",
      "auc:0.7868023924472163 , log_loss:0.5854798951388688 , ks:0.42285373325511316\n"
     ]
    },
    {
     "name": "stderr",
     "output_type": "stream",
     "text": [
      "[I 2023-10-03 20:10:09,578] Trial 20 finished with value: 0.7868023924472163 and parameters: {'learning_rate': 0.01535480423898924, 'max_depth': 6, 'min_child_weight': 75, 'gamma': 0.017641022343366855, 'alpha': 5.431667589393069e-06, 'lambda': 0.002372181785429472, 'colsample_bytree': 0.7240071636359782}. Best is trial 16 with value: 0.841081579959363.\n"
     ]
    },
    {
     "name": "stdout",
     "output_type": "stream",
     "text": [
      "XGBoost - Optimization using optuna\n",
      "auc:0.8345951757346247 , log_loss:0.5011366900391527 , ks:0.5025440698842241\n"
     ]
    },
    {
     "name": "stderr",
     "output_type": "stream",
     "text": [
      "[I 2023-10-03 20:10:27,380] Trial 21 finished with value: 0.8345951757346247 and parameters: {'learning_rate': 0.05508878231823042, 'max_depth': 14, 'min_child_weight': 164, 'gamma': 0.07004725594085451, 'alpha': 7.813171246719482e-05, 'lambda': 0.0007242110957958136, 'colsample_bytree': 0.6712958192670682}. Best is trial 16 with value: 0.841081579959363.\n"
     ]
    },
    {
     "name": "stdout",
     "output_type": "stream",
     "text": [
      "XGBoost - Optimization using optuna\n",
      "auc:0.8355624399940259 , log_loss:0.4994882992205644 , ks:0.5032259471987823\n"
     ]
    },
    {
     "name": "stderr",
     "output_type": "stream",
     "text": [
      "[I 2023-10-03 20:10:45,981] Trial 22 finished with value: 0.8355624399940259 and parameters: {'learning_rate': 0.05588926464091546, 'max_depth': 14, 'min_child_weight': 138, 'gamma': 0.05413089794144421, 'alpha': 9.607976874346931e-05, 'lambda': 0.0003716326824091521, 'colsample_bytree': 0.704800549786828}. Best is trial 16 with value: 0.841081579959363.\n"
     ]
    },
    {
     "name": "stdout",
     "output_type": "stream",
     "text": [
      "XGBoost - Optimization using optuna\n",
      "auc:0.8437951609576797 , log_loss:0.4862388045339353 , ks:0.5185781456623907\n"
     ]
    },
    {
     "name": "stderr",
     "output_type": "stream",
     "text": [
      "[I 2023-10-03 20:11:08,770] Trial 23 finished with value: 0.8437951609576797 and parameters: {'learning_rate': 0.09497201157768914, 'max_depth': 16, 'min_child_weight': 123, 'gamma': 0.0044338139693267655, 'alpha': 1.8619255252326368e-07, 'lambda': 0.0003144628784949497, 'colsample_bytree': 0.7377209265117873}. Best is trial 23 with value: 0.8437951609576797.\n"
     ]
    },
    {
     "name": "stdout",
     "output_type": "stream",
     "text": [
      "XGBoost - Optimization using optuna\n",
      "auc:0.8277555874914296 , log_loss:0.524245424967302 , ks:0.4904860232814635\n"
     ]
    },
    {
     "name": "stderr",
     "output_type": "stream",
     "text": [
      "[I 2023-10-03 20:11:36,696] Trial 24 finished with value: 0.8277555874914296 and parameters: {'learning_rate': 0.028035295703563574, 'max_depth': 16, 'min_child_weight': 130, 'gamma': 0.008822745609528046, 'alpha': 7.394823931994126e-08, 'lambda': 0.0003241199893105179, 'colsample_bytree': 0.5738514819897372}. Best is trial 23 with value: 0.8437951609576797.\n"
     ]
    },
    {
     "name": "stdout",
     "output_type": "stream",
     "text": [
      "XGBoost - Optimization using optuna\n",
      "auc:0.8362507260323515 , log_loss:0.49896721050401893 , ks:0.5048391765754392\n"
     ]
    },
    {
     "name": "stderr",
     "output_type": "stream",
     "text": [
      "[I 2023-10-03 20:11:59,552] Trial 25 finished with value: 0.8362507260323515 and parameters: {'learning_rate': 0.052029419878423605, 'max_depth': 15, 'min_child_weight': 131, 'gamma': 0.046903075920458795, 'alpha': 4.086368411353952e-07, 'lambda': 0.00026173688700517644, 'colsample_bytree': 0.6929999918032677}. Best is trial 23 with value: 0.8437951609576797.\n"
     ]
    },
    {
     "name": "stdout",
     "output_type": "stream",
     "text": [
      "XGBoost - Optimization using optuna\n",
      "auc:0.8354045666110691 , log_loss:0.5002619939891819 , ks:0.5037062547859211\n"
     ]
    },
    {
     "name": "stderr",
     "output_type": "stream",
     "text": [
      "[I 2023-10-03 20:12:20,587] Trial 26 finished with value: 0.8354045666110691 and parameters: {'learning_rate': 0.04881963322245883, 'max_depth': 15, 'min_child_weight': 180, 'gamma': 0.00013451529215974953, 'alpha': 2.221634726890195e-07, 'lambda': 0.0018535604446634545, 'colsample_bytree': 0.7377712072961995}. Best is trial 23 with value: 0.8437951609576797.\n"
     ]
    },
    {
     "name": "stdout",
     "output_type": "stream",
     "text": [
      "XGBoost - Optimization using optuna\n",
      "auc:0.8296750402303308 , log_loss:0.5243480647264323 , ks:0.4937725280646985\n"
     ]
    },
    {
     "name": "stderr",
     "output_type": "stream",
     "text": [
      "[I 2023-10-03 20:12:55,586] Trial 27 finished with value: 0.8296750402303308 and parameters: {'learning_rate': 0.023450014691101233, 'max_depth': 15, 'min_child_weight': 15, 'gamma': 0.0041807831270313876, 'alpha': 2.778760840297035e-08, 'lambda': 0.006396794472405355, 'colsample_bytree': 0.6658626157362915}. Best is trial 23 with value: 0.8437951609576797.\n"
     ]
    },
    {
     "name": "stdout",
     "output_type": "stream",
     "text": [
      "XGBoost - Optimization using optuna\n",
      "auc:0.8380913936260681 , log_loss:0.49676205706739834 , ks:0.5088441805642505\n"
     ]
    },
    {
     "name": "stderr",
     "output_type": "stream",
     "text": [
      "[I 2023-10-03 20:13:28,255] Trial 28 finished with value: 0.8380913936260681 and parameters: {'learning_rate': 0.06401353645227335, 'max_depth': 16, 'min_child_weight': 65, 'gamma': 0.0008017540440025777, 'alpha': 1.0145262808292539e-08, 'lambda': 0.0002418229982296365, 'colsample_bytree': 0.5688996763714436}. Best is trial 23 with value: 0.8437951609576797.\n"
     ]
    },
    {
     "name": "stdout",
     "output_type": "stream",
     "text": [
      "XGBoost - Optimization using optuna\n",
      "auc:0.8155392458137708 , log_loss:0.5748900907080784 , ks:0.46950343782409704\n"
     ]
    },
    {
     "name": "stderr",
     "output_type": "stream",
     "text": [
      "[I 2023-10-03 20:13:45,911] Trial 29 finished with value: 0.8155392458137708 and parameters: {'learning_rate': 0.012331314407154391, 'max_depth': 13, 'min_child_weight': 61, 'gamma': 0.0006944946015017054, 'alpha': 5.880509936145105e-08, 'lambda': 0.0012486381059796455, 'colsample_bytree': 0.5722211185726259}. Best is trial 23 with value: 0.8437951609576797.\n"
     ]
    },
    {
     "name": "stdout",
     "output_type": "stream",
     "text": [
      "XGBoost - Optimization using optuna\n",
      "auc:0.8203483975922488 , log_loss:0.5453873995692241 , ks:0.47791499908351937\n"
     ]
    },
    {
     "name": "stderr",
     "output_type": "stream",
     "text": [
      "[I 2023-10-03 20:14:20,497] Trial 30 finished with value: 0.8203483975922488 and parameters: {'learning_rate': 0.0248491316440079, 'max_depth': 16, 'min_child_weight': 68, 'gamma': 6.130786323121797e-05, 'alpha': 1.1459303908890328e-07, 'lambda': 0.00010386994594953587, 'colsample_bytree': 0.44618878729785105}. Best is trial 23 with value: 0.8437951609576797.\n"
     ]
    },
    {
     "name": "stdout",
     "output_type": "stream",
     "text": [
      "XGBoost - Optimization using optuna\n",
      "auc:0.8368309556417983 , log_loss:0.49797000845522194 , ks:0.5060570103005693\n"
     ]
    },
    {
     "name": "stderr",
     "output_type": "stream",
     "text": [
      "[I 2023-10-03 20:14:43,477] Trial 31 finished with value: 0.8368309556417983 and parameters: {'learning_rate': 0.05617584586564126, 'max_depth': 15, 'min_child_weight': 118, 'gamma': 0.013636631704884746, 'alpha': 1.3855950306812755e-08, 'lambda': 0.00028671108195212194, 'colsample_bytree': 0.6596974188736147}. Best is trial 23 with value: 0.8437951609576797.\n"
     ]
    },
    {
     "name": "stdout",
     "output_type": "stream",
     "text": [
      "XGBoost - Optimization using optuna\n",
      "auc:0.8394532407601746 , log_loss:0.4933799589323397 , ks:0.5111635880743685\n"
     ]
    },
    {
     "name": "stderr",
     "output_type": "stream",
     "text": [
      "[I 2023-10-03 20:15:09,016] Trial 32 finished with value: 0.8394532407601746 and parameters: {'learning_rate': 0.07051349466936445, 'max_depth': 16, 'min_child_weight': 118, 'gamma': 0.0015107301084465211, 'alpha': 1.543808764248837e-08, 'lambda': 0.00020161901738371163, 'colsample_bytree': 0.6193713901534377}. Best is trial 23 with value: 0.8437951609576797.\n"
     ]
    },
    {
     "name": "stdout",
     "output_type": "stream",
     "text": [
      "XGBoost - Optimization using optuna\n",
      "auc:0.8389392011489186 , log_loss:0.4948564939216765 , ks:0.5097257326654914\n"
     ]
    },
    {
     "name": "stderr",
     "output_type": "stream",
     "text": [
      "[I 2023-10-03 20:15:38,440] Trial 33 finished with value: 0.8389392011489186 and parameters: {'learning_rate': 0.061813228495635184, 'max_depth': 16, 'min_child_weight': 87, 'gamma': 0.0018365841719359972, 'alpha': 1.0644036467305274e-08, 'lambda': 0.00020588934179092679, 'colsample_bytree': 0.6085167278196283}. Best is trial 23 with value: 0.8437951609576797.\n"
     ]
    },
    {
     "name": "stdout",
     "output_type": "stream",
     "text": [
      "XGBoost - Optimization using optuna\n",
      "auc:0.8398163707973506 , log_loss:0.4930770751438815 , ks:0.5113548028059409\n"
     ]
    },
    {
     "name": "stderr",
     "output_type": "stream",
     "text": [
      "[I 2023-10-03 20:16:07,559] Trial 34 finished with value: 0.8398163707973506 and parameters: {'learning_rate': 0.06807193753019014, 'max_depth': 16, 'min_child_weight': 85, 'gamma': 0.0031516850210672655, 'alpha': 4.3957076738170174e-08, 'lambda': 0.000953346584060577, 'colsample_bytree': 0.6204733167625288}. Best is trial 23 with value: 0.8437951609576797.\n"
     ]
    },
    {
     "name": "stdout",
     "output_type": "stream",
     "text": [
      "XGBoost - Optimization using optuna\n",
      "auc:0.8393267864691167 , log_loss:0.492594512976342 , ks:0.5105790690212978\n"
     ]
    },
    {
     "name": "stderr",
     "output_type": "stream",
     "text": [
      "[I 2023-10-03 20:16:25,359] Trial 35 finished with value: 0.8393267864691167 and parameters: {'learning_rate': 0.09609601809800641, 'max_depth': 14, 'min_child_weight': 153, 'gamma': 0.006624890515326736, 'alpha': 4.23417903549067e-08, 'lambda': 0.000854916747206879, 'colsample_bytree': 0.6328389375815254}. Best is trial 23 with value: 0.8437951609576797.\n"
     ]
    },
    {
     "name": "stdout",
     "output_type": "stream",
     "text": [
      "XGBoost - Optimization using optuna\n",
      "auc:0.8145412131334413 , log_loss:0.5754486253822075 , ks:0.46824043851119646\n"
     ]
    },
    {
     "name": "stderr",
     "output_type": "stream",
     "text": [
      "[I 2023-10-03 20:16:40,645] Trial 36 finished with value: 0.8145412131334413 and parameters: {'learning_rate': 0.011668150946076771, 'max_depth': 13, 'min_child_weight': 261, 'gamma': 0.0002308175289958974, 'alpha': 1.4677716336655917e-07, 'lambda': 0.003829271806610327, 'colsample_bytree': 0.6206088684449657}. Best is trial 23 with value: 0.8437951609576797.\n"
     ]
    },
    {
     "name": "stdout",
     "output_type": "stream",
     "text": [
      "XGBoost - Optimization using optuna\n",
      "auc:0.8361272221400203 , log_loss:0.5043469352175065 , ks:0.5045910847084016\n"
     ]
    },
    {
     "name": "stderr",
     "output_type": "stream",
     "text": [
      "[I 2023-10-03 20:17:22,797] Trial 37 finished with value: 0.8361272221400203 and parameters: {'learning_rate': 0.03338287506511206, 'max_depth': 16, 'min_child_weight': 32, 'gamma': 0.003503821044097761, 'alpha': 5.033779465475108e-08, 'lambda': 0.0013231474547645778, 'colsample_bytree': 0.7386381122591315}. Best is trial 23 with value: 0.8437951609576797.\n"
     ]
    },
    {
     "name": "stdout",
     "output_type": "stream",
     "text": [
      "XGBoost - Optimization using optuna\n",
      "auc:0.8395861823435595 , log_loss:0.4929807342420942 , ks:0.5112349654918908\n"
     ]
    },
    {
     "name": "stderr",
     "output_type": "stream",
     "text": [
      "[I 2023-10-03 20:17:45,675] Trial 38 finished with value: 0.8395861823435595 and parameters: {'learning_rate': 0.07075989159228173, 'max_depth': 15, 'min_child_weight': 96, 'gamma': 0.00029187990326473215, 'alpha': 2.0977273362359827e-07, 'lambda': 0.0004410728548415116, 'colsample_bytree': 0.6468150117449458}. Best is trial 23 with value: 0.8437951609576797.\n"
     ]
    },
    {
     "name": "stdout",
     "output_type": "stream",
     "text": [
      "XGBoost - Optimization using optuna\n",
      "auc:0.7546632405671292 , log_loss:0.6078950462737623 , ks:0.37070014827952286\n"
     ]
    },
    {
     "name": "stderr",
     "output_type": "stream",
     "text": [
      "[I 2023-10-03 20:17:52,438] Trial 39 finished with value: 0.7546632405671292 and parameters: {'learning_rate': 0.019916459566994088, 'max_depth': 3, 'min_child_weight': 94, 'gamma': 3.807547334634517e-05, 'alpha': 8.25403229741425e-07, 'lambda': 0.0005932196982494759, 'colsample_bytree': 0.656138330187656}. Best is trial 23 with value: 0.8437951609576797.\n"
     ]
    },
    {
     "name": "stdout",
     "output_type": "stream",
     "text": [
      "XGBoost - Optimization using optuna\n",
      "auc:0.822734190823606 , log_loss:0.5736543714993934 , ks:0.4824884238384642\n"
     ]
    },
    {
     "name": "stderr",
     "output_type": "stream",
     "text": [
      "[I 2023-10-03 20:18:24,224] Trial 40 finished with value: 0.822734190823606 and parameters: {'learning_rate': 0.009605958959864106, 'max_depth': 15, 'min_child_weight': 46, 'gamma': 0.00036429715525641495, 'alpha': 2.688419853433531e-07, 'lambda': 0.0009639813664457431, 'colsample_bytree': 0.7414441463631781}. Best is trial 23 with value: 0.8437951609576797.\n"
     ]
    },
    {
     "name": "stdout",
     "output_type": "stream",
     "text": [
      "XGBoost - Optimization using optuna\n",
      "auc:0.838768188137564 , log_loss:0.4946759601297103 , ks:0.5097426198006768\n"
     ]
    },
    {
     "name": "stderr",
     "output_type": "stream",
     "text": [
      "[I 2023-10-03 20:18:51,464] Trial 41 finished with value: 0.838768188137564 and parameters: {'learning_rate': 0.07164026326747948, 'max_depth': 16, 'min_child_weight': 118, 'gamma': 0.0018954812670204325, 'alpha': 8.048244750334538e-08, 'lambda': 0.0004887615487388981, 'colsample_bytree': 0.5956790206845969}. Best is trial 23 with value: 0.8437951609576797.\n"
     ]
    },
    {
     "name": "stdout",
     "output_type": "stream",
     "text": [
      "XGBoost - Optimization using optuna\n",
      "auc:0.8390591585553495 , log_loss:0.4938115666943799 , ks:0.5106062693315092\n"
     ]
    },
    {
     "name": "stderr",
     "output_type": "stream",
     "text": [
      "[I 2023-10-03 20:19:14,101] Trial 42 finished with value: 0.8390591585553495 and parameters: {'learning_rate': 0.07293027990931196, 'max_depth': 15, 'min_child_weight': 102, 'gamma': 0.007516203481590497, 'alpha': 1.472036915044351e-06, 'lambda': 0.002073980879334011, 'colsample_bytree': 0.6146619615288362}. Best is trial 23 with value: 0.8437951609576797.\n"
     ]
    },
    {
     "name": "stdout",
     "output_type": "stream",
     "text": [
      "XGBoost - Optimization using optuna\n",
      "auc:0.8306003283536388 , log_loss:0.5103205170413102 , ks:0.4949050471863336\n"
     ]
    },
    {
     "name": "stderr",
     "output_type": "stream",
     "text": [
      "[I 2023-10-03 20:19:33,243] Trial 43 finished with value: 0.8306003283536388 and parameters: {'learning_rate': 0.03854030634468477, 'max_depth': 14, 'min_child_weight': 145, 'gamma': 0.0005534458854174783, 'alpha': 1.4137647934046905e-07, 'lambda': 0.00018556563201329573, 'colsample_bytree': 0.6443469739629962}. Best is trial 23 with value: 0.8437951609576797.\n"
     ]
    },
    {
     "name": "stdout",
     "output_type": "stream",
     "text": [
      "XGBoost - Optimization using optuna\n",
      "auc:0.8298870656045141 , log_loss:0.5159773327175937 , ks:0.4943102053258021\n"
     ]
    },
    {
     "name": "stderr",
     "output_type": "stream",
     "text": [
      "[I 2023-10-03 20:19:57,820] Trial 44 finished with value: 0.8298870656045141 and parameters: {'learning_rate': 0.029369995505718813, 'max_depth': 15, 'min_child_weight': 122, 'gamma': 0.00011645685212829624, 'alpha': 2.895555841314201e-08, 'lambda': 0.00016004738945300706, 'colsample_bytree': 0.6862767411245192}. Best is trial 23 with value: 0.8437951609576797.\n"
     ]
    },
    {
     "name": "stdout",
     "output_type": "stream",
     "text": [
      "XGBoost - Optimization using optuna\n",
      "auc:0.8218929892084903 , log_loss:0.5157104767014798 , ks:0.47980592298271957\n"
     ]
    },
    {
     "name": "stderr",
     "output_type": "stream",
     "text": [
      "[I 2023-10-03 20:20:05,992] Trial 45 finished with value: 0.8218929892084903 and parameters: {'learning_rate': 0.0991634518192262, 'max_depth': 8, 'min_child_weight': 77, 'gamma': 0.001434919413584937, 'alpha': 2.022739842777901e-07, 'lambda': 0.0006757258170851214, 'colsample_bytree': 0.5503067519251236}. Best is trial 23 with value: 0.8437951609576797.\n",
      "`early_stopping_rounds` in `fit` method is deprecated for better compatibility with scikit-learn, use `early_stopping_rounds` in constructor or`set_params` instead.\n"
     ]
    },
    {
     "name": "stdout",
     "output_type": "stream",
     "text": [
      "Last Fit\n"
     ]
    }
   ],
   "source": [
    "xgb_model, study_lgbm = train(X_train, y_train, X_test, y_test, balanced='balanced', method='XGBoost')"
   ]
  },
  {
   "cell_type": "code",
   "execution_count": 41,
   "id": "865e45ee",
   "metadata": {},
   "outputs": [
    {
     "name": "stderr",
     "output_type": "stream",
     "text": [
      "[I 2023-10-03 20:25:33,961] A new study created in memory with name: CATBoost Classifier\n"
     ]
    },
    {
     "name": "stdout",
     "output_type": "stream",
     "text": [
      "Tuning\n",
      "Starting the optimization\n",
      "CATBoost - Optimization using optuna\n",
      "auc:0.8184044789907015 , log_loss:0.5186560281425432 , ks:0.47468363713191714\n"
     ]
    },
    {
     "name": "stderr",
     "output_type": "stream",
     "text": [
      "[I 2023-10-03 20:26:11,014] Trial 0 finished with value: 0.8184044789907015 and parameters: {'learning_rate': 0.09881147237133969, 'depth': 4, 'max_bin': 363, 'min_data_in_leaf': 128, 'l2_leaf_reg': 0.0967564055013353, 'random_strength': 1.3435757129920417e-07, 'bagging_temperature': 1.2282505630800344, 'od_type': 'Iter', 'od_wait': 41}. Best is trial 0 with value: 0.8184044789907015.\n"
     ]
    },
    {
     "name": "stdout",
     "output_type": "stream",
     "text": [
      "CATBoost - Optimization using optuna\n",
      "auc:0.8077792426003866 , log_loss:0.5317363369635333 , ks:0.45704309028600115\n"
     ]
    },
    {
     "name": "stderr",
     "output_type": "stream",
     "text": [
      "[I 2023-10-03 20:26:47,883] Trial 1 finished with value: 0.8077792426003866 and parameters: {'learning_rate': 0.08721932266884756, 'depth': 4, 'max_bin': 396, 'min_data_in_leaf': 99, 'l2_leaf_reg': 1.7480208647791937e-05, 'random_strength': 1.289825711325993e-08, 'bagging_temperature': 4.988040132613492, 'od_type': 'Iter', 'od_wait': 43}. Best is trial 0 with value: 0.8184044789907015.\n"
     ]
    },
    {
     "name": "stdout",
     "output_type": "stream",
     "text": [
      "CATBoost - Optimization using optuna\n",
      "auc:0.7826555959758404 , log_loss:0.5707871548210812 , ks:0.41381266929548904\n"
     ]
    },
    {
     "name": "stderr",
     "output_type": "stream",
     "text": [
      "[I 2023-10-03 20:27:52,233] Trial 2 finished with value: 0.7826555959758404 and parameters: {'learning_rate': 0.002318103560367547, 'depth': 8, 'max_bin': 345, 'min_data_in_leaf': 130, 'l2_leaf_reg': 0.036488695050512984, 'random_strength': 8.797844219187943e-05, 'bagging_temperature': 2.15412667157018, 'od_type': 'Iter', 'od_wait': 21}. Best is trial 0 with value: 0.8184044789907015.\n"
     ]
    },
    {
     "name": "stdout",
     "output_type": "stream",
     "text": [
      "CATBoost - Optimization using optuna\n",
      "auc:0.7401159538737 , log_loss:0.6702690317990748 , ks:0.3549582785598514\n"
     ]
    },
    {
     "name": "stderr",
     "output_type": "stream",
     "text": [
      "[I 2023-10-03 20:28:36,560] Trial 3 finished with value: 0.7401159538737 and parameters: {'learning_rate': 0.00015906826959464655, 'depth': 6, 'max_bin': 280, 'min_data_in_leaf': 254, 'l2_leaf_reg': 0.9217402553933354, 'random_strength': 0.17197899663503266, 'bagging_temperature': 6.352413859190499, 'od_type': 'IncToDec', 'od_wait': 17}. Best is trial 0 with value: 0.8184044789907015.\n"
     ]
    },
    {
     "name": "stdout",
     "output_type": "stream",
     "text": [
      "CATBoost - Optimization using optuna\n",
      "auc:0.7517622482683387 , log_loss:0.6138134782607829 , ks:0.3674374984137297\n"
     ]
    },
    {
     "name": "stderr",
     "output_type": "stream",
     "text": [
      "[I 2023-10-03 20:29:19,252] Trial 4 finished with value: 0.7517622482683387 and parameters: {'learning_rate': 0.0009668177012360596, 'depth': 6, 'max_bin': 258, 'min_data_in_leaf': 272, 'l2_leaf_reg': 0.02110496181405126, 'random_strength': 0.0023246868726508993, 'bagging_temperature': 2.643325961840125, 'od_type': 'Iter', 'od_wait': 13}. Best is trial 0 with value: 0.8184044789907015.\n"
     ]
    },
    {
     "name": "stdout",
     "output_type": "stream",
     "text": [
      "CATBoost - Optimization using optuna\n",
      "auc:0.7911978386962534 , log_loss:0.5542985251431273 , ks:0.43025249048740677\n"
     ]
    },
    {
     "name": "stderr",
     "output_type": "stream",
     "text": [
      "[I 2023-10-03 20:30:06,682] Trial 5 finished with value: 0.7911978386962534 and parameters: {'learning_rate': 0.020324466941775286, 'depth': 6, 'max_bin': 290, 'min_data_in_leaf': 102, 'l2_leaf_reg': 6.831369723024497e-07, 'random_strength': 2.1888406948210392e-08, 'bagging_temperature': 8.123295370201, 'od_type': 'Iter', 'od_wait': 31}. Best is trial 0 with value: 0.8184044789907015.\n"
     ]
    },
    {
     "name": "stdout",
     "output_type": "stream",
     "text": [
      "CATBoost - Optimization using optuna\n",
      "auc:0.7596471056327108 , log_loss:0.6330755737165927 , ks:0.37431491812488915\n"
     ]
    },
    {
     "name": "stderr",
     "output_type": "stream",
     "text": [
      "[I 2023-10-03 20:31:14,846] Trial 6 finished with value: 0.7596471056327108 and parameters: {'learning_rate': 0.0004160291133784667, 'depth': 9, 'max_bin': 330, 'min_data_in_leaf': 105, 'l2_leaf_reg': 0.00021078912330344245, 'random_strength': 1.184445075203689e-06, 'bagging_temperature': 5.346868984736332, 'od_type': 'Iter', 'od_wait': 37}. Best is trial 0 with value: 0.8184044789907015.\n"
     ]
    },
    {
     "name": "stdout",
     "output_type": "stream",
     "text": [
      "CATBoost - Optimization using optuna\n",
      "auc:0.8235217745820589 , log_loss:0.5127387967639394 , ks:0.4823989072618805\n"
     ]
    },
    {
     "name": "stderr",
     "output_type": "stream",
     "text": [
      "[I 2023-10-03 20:32:11,572] Trial 7 finished with value: 0.8235217745820589 and parameters: {'learning_rate': 0.03733489178963265, 'depth': 7, 'max_bin': 338, 'min_data_in_leaf': 113, 'l2_leaf_reg': 0.0032062475510236245, 'random_strength': 3.659984825473123e-08, 'bagging_temperature': 0.8222416019064127, 'od_type': 'IncToDec', 'od_wait': 29}. Best is trial 7 with value: 0.8235217745820589.\n"
     ]
    },
    {
     "name": "stdout",
     "output_type": "stream",
     "text": [
      "CATBoost - Optimization using optuna\n",
      "auc:0.7778730679501613 , log_loss:0.5725107337753623 , ks:0.40664177323244055\n"
     ]
    },
    {
     "name": "stderr",
     "output_type": "stream",
     "text": [
      "[I 2023-10-03 20:32:48,058] Trial 8 finished with value: 0.7778730679501613 and parameters: {'learning_rate': 0.005497672958756396, 'depth': 4, 'max_bin': 382, 'min_data_in_leaf': 149, 'l2_leaf_reg': 0.10005817593085052, 'random_strength': 0.0004137884853622087, 'bagging_temperature': 2.805205385612435, 'od_type': 'IncToDec', 'od_wait': 31}. Best is trial 7 with value: 0.8235217745820589.\n"
     ]
    },
    {
     "name": "stdout",
     "output_type": "stream",
     "text": [
      "CATBoost - Optimization using optuna\n",
      "auc:0.8249816411640317 , log_loss:0.5111765641604882 , ks:0.48547378807857144\n"
     ]
    },
    {
     "name": "stderr",
     "output_type": "stream",
     "text": [
      "[I 2023-10-03 20:33:55,335] Trial 9 finished with value: 0.8249816411640317 and parameters: {'learning_rate': 0.05419435940596166, 'depth': 9, 'max_bin': 204, 'min_data_in_leaf': 295, 'l2_leaf_reg': 0.08694833379873622, 'random_strength': 0.0005835262239543304, 'bagging_temperature': 4.426735170874233, 'od_type': 'Iter', 'od_wait': 31}. Best is trial 9 with value: 0.8249816411640317.\n"
     ]
    },
    {
     "name": "stdout",
     "output_type": "stream",
     "text": [
      "CATBoost - Optimization using optuna\n",
      "auc:0.7881719948552591 , log_loss:0.5638193578556469 , ks:0.4236771732624766\n"
     ]
    },
    {
     "name": "stderr",
     "output_type": "stream",
     "text": [
      "[I 2023-10-03 20:35:12,657] Trial 10 finished with value: 0.7881719948552591 and parameters: {'learning_rate': 0.008161999476821627, 'depth': 10, 'max_bin': 211, 'min_data_in_leaf': 3, 'l2_leaf_reg': 4.864518654311131, 'random_strength': 5.6963282863540945, 'bagging_temperature': 9.982344077211243, 'od_type': 'IncToDec', 'od_wait': 48}. Best is trial 9 with value: 0.8249816411640317.\n"
     ]
    },
    {
     "name": "stdout",
     "output_type": "stream",
     "text": [
      "CATBoost - Optimization using optuna\n",
      "auc:0.8199232867141616 , log_loss:0.517732639389406 , ks:0.4764329400299735\n"
     ]
    },
    {
     "name": "stderr",
     "output_type": "stream",
     "text": [
      "[I 2023-10-03 20:36:10,901] Trial 11 finished with value: 0.8199232867141616 and parameters: {'learning_rate': 0.020804855517237326, 'depth': 8, 'max_bin': 205, 'min_data_in_leaf': 211, 'l2_leaf_reg': 0.0012653611103761368, 'random_strength': 5.010037453580226e-06, 'bagging_temperature': 0.2577601845476801, 'od_type': 'IncToDec', 'od_wait': 24}. Best is trial 9 with value: 0.8249816411640317.\n"
     ]
    },
    {
     "name": "stdout",
     "output_type": "stream",
     "text": [
      "CATBoost - Optimization using optuna\n",
      "auc:0.8225933464134372 , log_loss:0.5142434773381959 , ks:0.4811000445479866\n"
     ]
    },
    {
     "name": "stderr",
     "output_type": "stream",
     "text": [
      "[I 2023-10-03 20:37:09,174] Trial 12 finished with value: 0.8225933464134372 and parameters: {'learning_rate': 0.03212025153851275, 'depth': 8, 'max_bin': 245, 'min_data_in_leaf': 201, 'l2_leaf_reg': 1.2597598314996079e-08, 'random_strength': 1.2461808731694123e-05, 'bagging_temperature': 3.726695148976843, 'od_type': 'IncToDec', 'od_wait': 26}. Best is trial 9 with value: 0.8249816411640317.\n"
     ]
    },
    {
     "name": "stdout",
     "output_type": "stream",
     "text": [
      "CATBoost - Optimization using optuna\n",
      "auc:0.8363981459518963 , log_loss:0.49615699038493694 , ks:0.5050603662721767\n"
     ]
    },
    {
     "name": "stderr",
     "output_type": "stream",
     "text": [
      "[I 2023-10-03 20:38:38,660] Trial 13 finished with value: 0.8363981459518963 and parameters: {'learning_rate': 0.043389728663017664, 'depth': 10, 'max_bin': 318, 'min_data_in_leaf': 39, 'l2_leaf_reg': 0.0018658114257615013, 'random_strength': 4.627506435088902e-07, 'bagging_temperature': 0.46427970539192914, 'od_type': 'IncToDec', 'od_wait': 35}. Best is trial 13 with value: 0.8363981459518963.\n"
     ]
    },
    {
     "name": "stdout",
     "output_type": "stream",
     "text": [
      "CATBoost - Optimization using optuna\n",
      "auc:0.8153004229577991 , log_loss:0.5246691884577395 , ks:0.46832981758477327\n"
     ]
    },
    {
     "name": "stderr",
     "output_type": "stream",
     "text": [
      "[I 2023-10-03 20:40:06,506] Trial 14 finished with value: 0.8153004229577991 and parameters: {'learning_rate': 0.009328509816591075, 'depth': 10, 'max_bin': 301, 'min_data_in_leaf': 31, 'l2_leaf_reg': 0.00010651789960241202, 'random_strength': 5.721218367273664e-07, 'bagging_temperature': 0.021628406149906576, 'od_type': 'Iter', 'od_wait': 33}. Best is trial 13 with value: 0.8363981459518963.\n"
     ]
    },
    {
     "name": "stdout",
     "output_type": "stream",
     "text": [
      "CATBoost - Optimization using optuna\n",
      "auc:0.8290127052235847 , log_loss:0.5059579282423087 , ks:0.4919542452781967\n"
     ]
    },
    {
     "name": "stderr",
     "output_type": "stream",
     "text": [
      "[I 2023-10-03 20:41:22,041] Trial 15 finished with value: 0.8290127052235847 and parameters: {'learning_rate': 0.04945361753348812, 'depth': 9, 'max_bin': 308, 'min_data_in_leaf': 52, 'l2_leaf_reg': 0.005204690105925232, 'random_strength': 0.0028589958505324748, 'bagging_temperature': 3.7308702322319807, 'od_type': 'IncToDec', 'od_wait': 37}. Best is trial 13 with value: 0.8363981459518963.\n"
     ]
    },
    {
     "name": "stdout",
     "output_type": "stream",
     "text": [
      "Last Fit\n"
     ]
    }
   ],
   "source": [
    "cat_model, study_lgbm = train(X_train, y_train, X_test, y_test, balanced='balanced', method='CATBoost')"
   ]
  },
  {
   "cell_type": "code",
   "execution_count": 42,
   "id": "0975ddb3",
   "metadata": {},
   "outputs": [
    {
     "name": "stderr",
     "output_type": "stream",
     "text": [
      "[I 2023-10-03 20:53:00,094] A new study created in memory with name: LGBM Classifier\n"
     ]
    },
    {
     "name": "stdout",
     "output_type": "stream",
     "text": [
      "Tuning\n",
      "Starting the optimization\n",
      "LGBM - Optimization using optuna\n",
      "[LightGBM] [Warning] min_data_in_leaf is set=16, min_child_samples=20 will be ignored. Current value: min_data_in_leaf=16\n",
      "[LightGBM] [Warning] feature_fraction is set=0.7045033568440723, colsample_bytree=1.0 will be ignored. Current value: feature_fraction=0.7045033568440723\n",
      "[LightGBM] [Warning] lambda_l2 is set=1.3233812164015857, reg_lambda=0.0 will be ignored. Current value: lambda_l2=1.3233812164015857\n",
      "[LightGBM] [Warning] lambda_l1 is set=3.2378806023520627e-05, reg_alpha=0.0 will be ignored. Current value: lambda_l1=3.2378806023520627e-05\n",
      "[LightGBM] [Warning] bagging_fraction is set=0.5980146296237169, subsample=1.0 will be ignored. Current value: bagging_fraction=0.5980146296237169\n",
      "[LightGBM] [Warning] bagging_freq is set=3, subsample_freq=0 will be ignored. Current value: bagging_freq=3\n",
      "[LightGBM] [Warning] min_data_in_leaf is set=16, min_child_samples=20 will be ignored. Current value: min_data_in_leaf=16\n",
      "[LightGBM] [Warning] feature_fraction is set=0.7045033568440723, colsample_bytree=1.0 will be ignored. Current value: feature_fraction=0.7045033568440723\n",
      "[LightGBM] [Warning] lambda_l2 is set=1.3233812164015857, reg_lambda=0.0 will be ignored. Current value: lambda_l2=1.3233812164015857\n",
      "[LightGBM] [Warning] lambda_l1 is set=3.2378806023520627e-05, reg_alpha=0.0 will be ignored. Current value: lambda_l1=3.2378806023520627e-05\n",
      "[LightGBM] [Warning] bagging_fraction is set=0.5980146296237169, subsample=1.0 will be ignored. Current value: bagging_fraction=0.5980146296237169\n",
      "[LightGBM] [Warning] bagging_freq is set=3, subsample_freq=0 will be ignored. Current value: bagging_freq=3\n",
      "[LightGBM] [Info] Number of positive: 5564616, number of negative: 4935384\n",
      "[LightGBM] [Info] This is the GPU trainer!!\n",
      "[LightGBM] [Info] Total Bins 6132\n",
      "[LightGBM] [Info] Number of data points in the train set: 10500000, number of used features: 28\n",
      "[LightGBM] [Info] Using GPU Device: NVIDIA GeForce RTX 4090, Vendor: NVIDIA Corporation\n",
      "[LightGBM] [Info] Compiling OpenCL Kernel with 256 bins...\n",
      "[LightGBM] [Info] GPU programs have been built\n",
      "[LightGBM] [Info] Size of histogram bin entry: 8\n",
      "[LightGBM] [Info] 27 dense feature groups (280.38 MB) transferred to GPU in 0.086761 secs. 1 sparse feature groups\n",
      "[LightGBM] [Info] [binary:BoostFromScore]: pavg=0.529963 -> initscore=0.119997\n",
      "[LightGBM] [Info] Start training from score 0.119997\n",
      "[LightGBM] [Info] Size of histogram bin entry: 8\n",
      "[LightGBM] [Info] 27 dense feature groups (167.74 MB) transferred to GPU in 0.051298 secs. 1 sparse feature groups\n",
      "[LightGBM] [Info] Size of histogram bin entry: 8\n",
      "[LightGBM] [Info] 27 dense feature groups (167.67 MB) transferred to GPU in 0.057471 secs. 1 sparse feature groups\n",
      "[LightGBM] [Info] Size of histogram bin entry: 8\n",
      "[LightGBM] [Info] 27 dense feature groups (167.65 MB) transferred to GPU in 0.054621 secs. 1 sparse feature groups\n",
      "[LightGBM] [Info] Size of histogram bin entry: 8\n",
      "[LightGBM] [Info] 27 dense feature groups (167.69 MB) transferred to GPU in 0.053339 secs. 1 sparse feature groups\n",
      "[LightGBM] [Info] Size of histogram bin entry: 8\n",
      "[LightGBM] [Info] 27 dense feature groups (167.61 MB) transferred to GPU in 0.054094 secs. 1 sparse feature groups\n",
      "[LightGBM] [Info] Size of histogram bin entry: 8\n",
      "[LightGBM] [Info] 27 dense feature groups (167.69 MB) transferred to GPU in 0.053992 secs. 1 sparse feature groups\n",
      "[LightGBM] [Info] Size of histogram bin entry: 8\n",
      "[LightGBM] [Info] 27 dense feature groups (167.67 MB) transferred to GPU in 0.052144 secs. 1 sparse feature groups\n",
      "[LightGBM] [Info] Size of histogram bin entry: 8\n",
      "[LightGBM] [Info] 27 dense feature groups (167.68 MB) transferred to GPU in 0.058686 secs. 1 sparse feature groups\n",
      "[LightGBM] [Info] Size of histogram bin entry: 8\n",
      "[LightGBM] [Info] 27 dense feature groups (167.70 MB) transferred to GPU in 0.055325 secs. 1 sparse feature groups\n",
      "[LightGBM] [Info] Size of histogram bin entry: 8\n",
      "[LightGBM] [Info] 27 dense feature groups (167.68 MB) transferred to GPU in 0.051782 secs. 1 sparse feature groups\n",
      "[LightGBM] [Info] Size of histogram bin entry: 8\n",
      "[LightGBM] [Info] 27 dense feature groups (167.70 MB) transferred to GPU in 0.057330 secs. 1 sparse feature groups\n",
      "[LightGBM] [Info] Size of histogram bin entry: 8\n",
      "[LightGBM] [Info] 27 dense feature groups (167.67 MB) transferred to GPU in 0.054758 secs. 1 sparse feature groups\n",
      "[LightGBM] [Info] Size of histogram bin entry: 8\n",
      "[LightGBM] [Info] 27 dense feature groups (167.70 MB) transferred to GPU in 0.053255 secs. 1 sparse feature groups\n",
      "[LightGBM] [Info] Size of histogram bin entry: 8\n",
      "[LightGBM] [Info] 27 dense feature groups (167.66 MB) transferred to GPU in 0.055803 secs. 1 sparse feature groups\n",
      "[LightGBM] [Info] Size of histogram bin entry: 8\n",
      "[LightGBM] [Info] 27 dense feature groups (167.67 MB) transferred to GPU in 0.052545 secs. 1 sparse feature groups\n",
      "[LightGBM] [Info] Size of histogram bin entry: 8\n",
      "[LightGBM] [Info] 27 dense feature groups (167.66 MB) transferred to GPU in 0.054295 secs. 1 sparse feature groups\n",
      "[LightGBM] [Info] Size of histogram bin entry: 8\n",
      "[LightGBM] [Info] 27 dense feature groups (167.71 MB) transferred to GPU in 0.056696 secs. 1 sparse feature groups\n",
      "[LightGBM] [Info] Size of histogram bin entry: 8\n",
      "[LightGBM] [Info] 27 dense feature groups (167.64 MB) transferred to GPU in 0.053211 secs. 1 sparse feature groups\n",
      "[LightGBM] [Info] Size of histogram bin entry: 8\n",
      "[LightGBM] [Info] 27 dense feature groups (167.65 MB) transferred to GPU in 0.052843 secs. 1 sparse feature groups\n",
      "[LightGBM] [Info] Size of histogram bin entry: 8\n",
      "[LightGBM] [Info] 27 dense feature groups (167.70 MB) transferred to GPU in 0.052598 secs. 1 sparse feature groups\n",
      "[LightGBM] [Info] Size of histogram bin entry: 8\n",
      "[LightGBM] [Info] 27 dense feature groups (167.69 MB) transferred to GPU in 0.052787 secs. 1 sparse feature groups\n",
      "[LightGBM] [Info] Size of histogram bin entry: 8\n",
      "[LightGBM] [Info] 27 dense feature groups (167.66 MB) transferred to GPU in 0.052312 secs. 1 sparse feature groups\n",
      "[LightGBM] [Info] Size of histogram bin entry: 8\n",
      "[LightGBM] [Info] 27 dense feature groups (167.67 MB) transferred to GPU in 0.054883 secs. 1 sparse feature groups\n",
      "[LightGBM] [Info] Size of histogram bin entry: 8\n",
      "[LightGBM] [Info] 27 dense feature groups (167.68 MB) transferred to GPU in 0.051936 secs. 1 sparse feature groups\n",
      "[LightGBM] [Info] Size of histogram bin entry: 8\n",
      "[LightGBM] [Info] 27 dense feature groups (167.68 MB) transferred to GPU in 0.052515 secs. 1 sparse feature groups\n",
      "[LightGBM] [Info] Size of histogram bin entry: 8\n",
      "[LightGBM] [Info] 27 dense feature groups (167.70 MB) transferred to GPU in 0.052922 secs. 1 sparse feature groups\n",
      "[LightGBM] [Info] Size of histogram bin entry: 8\n",
      "[LightGBM] [Info] 27 dense feature groups (167.67 MB) transferred to GPU in 0.052744 secs. 1 sparse feature groups\n",
      "[LightGBM] [Info] Size of histogram bin entry: 8\n",
      "[LightGBM] [Info] 27 dense feature groups (167.47 MB) transferred to GPU in 0.052335 secs. 1 sparse feature groups\n",
      "[LightGBM] [Info] Size of histogram bin entry: 8\n",
      "[LightGBM] [Info] 27 dense feature groups (167.50 MB) transferred to GPU in 0.053406 secs. 1 sparse feature groups\n",
      "[LightGBM] [Info] Size of histogram bin entry: 8\n",
      "[LightGBM] [Info] 27 dense feature groups (167.67 MB) transferred to GPU in 0.055133 secs. 1 sparse feature groups\n",
      "[LightGBM] [Info] Size of histogram bin entry: 8\n",
      "[LightGBM] [Info] 27 dense feature groups (167.49 MB) transferred to GPU in 0.053874 secs. 1 sparse feature groups\n",
      "[LightGBM] [Info] Size of histogram bin entry: 8\n",
      "[LightGBM] [Info] 27 dense feature groups (167.68 MB) transferred to GPU in 0.052884 secs. 1 sparse feature groups\n",
      "[LightGBM] [Info] Size of histogram bin entry: 8\n",
      "[LightGBM] [Info] 27 dense feature groups (167.46 MB) transferred to GPU in 0.054026 secs. 1 sparse feature groups\n",
      "[LightGBM] [Info] Size of histogram bin entry: 8\n",
      "[LightGBM] [Info] 27 dense feature groups (167.67 MB) transferred to GPU in 0.055317 secs. 1 sparse feature groups\n",
      "[LightGBM] [Warning] min_data_in_leaf is set=16, min_child_samples=20 will be ignored. Current value: min_data_in_leaf=16\n",
      "[LightGBM] [Warning] feature_fraction is set=0.7045033568440723, colsample_bytree=1.0 will be ignored. Current value: feature_fraction=0.7045033568440723\n",
      "[LightGBM] [Warning] lambda_l2 is set=1.3233812164015857, reg_lambda=0.0 will be ignored. Current value: lambda_l2=1.3233812164015857\n",
      "[LightGBM] [Warning] lambda_l1 is set=3.2378806023520627e-05, reg_alpha=0.0 will be ignored. Current value: lambda_l1=3.2378806023520627e-05\n",
      "[LightGBM] [Warning] bagging_fraction is set=0.5980146296237169, subsample=1.0 will be ignored. Current value: bagging_fraction=0.5980146296237169\n",
      "[LightGBM] [Warning] bagging_freq is set=3, subsample_freq=0 will be ignored. Current value: bagging_freq=3\n"
     ]
    },
    {
     "name": "stdout",
     "output_type": "stream",
     "text": [
      "auc:0.7791619161426705 , log_loss:0.6875628254891557 , ks:0.40888785530958355\n"
     ]
    },
    {
     "name": "stderr",
     "output_type": "stream",
     "text": [
      "[I 2023-10-03 20:53:21,724] Trial 0 finished with value: 0.7791619161426705 and parameters: {'learning_rate': 0.00025266844120073496, 'num_leaves': 72, 'lambda_l1': 3.2378806023520627e-05, 'lambda_l2': 1.3233812164015857, 'min_data_in_leaf': 16, 'max_depth': 42, 'feature_fraction': 0.7045033568440723, 'bagging_fraction': 0.5980146296237169, 'bagging_freq': 3}. Best is trial 0 with value: 0.7791619161426705.\n"
     ]
    },
    {
     "name": "stdout",
     "output_type": "stream",
     "text": [
      "LGBM - Optimization using optuna\n",
      "[LightGBM] [Warning] min_data_in_leaf is set=74, min_child_samples=20 will be ignored. Current value: min_data_in_leaf=74\n",
      "[LightGBM] [Warning] feature_fraction is set=0.8808823881230148, colsample_bytree=1.0 will be ignored. Current value: feature_fraction=0.8808823881230148\n",
      "[LightGBM] [Warning] lambda_l2 is set=4.516417263812417e-05, reg_lambda=0.0 will be ignored. Current value: lambda_l2=4.516417263812417e-05\n",
      "[LightGBM] [Warning] lambda_l1 is set=7.86527841573768e-08, reg_alpha=0.0 will be ignored. Current value: lambda_l1=7.86527841573768e-08\n",
      "[LightGBM] [Warning] bagging_fraction is set=0.9484106828535139, subsample=1.0 will be ignored. Current value: bagging_fraction=0.9484106828535139\n",
      "[LightGBM] [Warning] bagging_freq is set=5, subsample_freq=0 will be ignored. Current value: bagging_freq=5\n",
      "[LightGBM] [Warning] min_data_in_leaf is set=74, min_child_samples=20 will be ignored. Current value: min_data_in_leaf=74\n",
      "[LightGBM] [Warning] feature_fraction is set=0.8808823881230148, colsample_bytree=1.0 will be ignored. Current value: feature_fraction=0.8808823881230148\n",
      "[LightGBM] [Warning] lambda_l2 is set=4.516417263812417e-05, reg_lambda=0.0 will be ignored. Current value: lambda_l2=4.516417263812417e-05\n",
      "[LightGBM] [Warning] lambda_l1 is set=7.86527841573768e-08, reg_alpha=0.0 will be ignored. Current value: lambda_l1=7.86527841573768e-08\n",
      "[LightGBM] [Warning] bagging_fraction is set=0.9484106828535139, subsample=1.0 will be ignored. Current value: bagging_fraction=0.9484106828535139\n",
      "[LightGBM] [Warning] bagging_freq is set=5, subsample_freq=0 will be ignored. Current value: bagging_freq=5\n",
      "[LightGBM] [Info] Number of positive: 5564616, number of negative: 4935384\n",
      "[LightGBM] [Info] This is the GPU trainer!!\n",
      "[LightGBM] [Info] Total Bins 6132\n",
      "[LightGBM] [Info] Number of data points in the train set: 10500000, number of used features: 28\n",
      "[LightGBM] [Info] Using GPU Device: NVIDIA GeForce RTX 4090, Vendor: NVIDIA Corporation\n",
      "[LightGBM] [Info] Compiling OpenCL Kernel with 256 bins...\n",
      "[LightGBM] [Info] GPU programs have been built\n",
      "[LightGBM] [Info] Size of histogram bin entry: 8\n",
      "[LightGBM] [Info] 27 dense feature groups (280.38 MB) transferred to GPU in 0.082705 secs. 1 sparse feature groups\n",
      "[LightGBM] [Info] [binary:BoostFromScore]: pavg=0.529963 -> initscore=0.119997\n",
      "[LightGBM] [Info] Start training from score 0.119997\n",
      "[LightGBM] [Info] Size of histogram bin entry: 8\n",
      "[LightGBM] [Info] 27 dense feature groups (265.91 MB) transferred to GPU in 0.084050 secs. 1 sparse feature groups\n",
      "[LightGBM] [Info] Size of histogram bin entry: 8\n",
      "[LightGBM] [Info] 27 dense feature groups (265.91 MB) transferred to GPU in 0.085520 secs. 1 sparse feature groups\n",
      "[LightGBM] [Info] Size of histogram bin entry: 8\n",
      "[LightGBM] [Info] 27 dense feature groups (265.90 MB) transferred to GPU in 0.099643 secs. 1 sparse feature groups\n",
      "[LightGBM] [Info] Size of histogram bin entry: 8\n",
      "[LightGBM] [Info] 27 dense feature groups (265.93 MB) transferred to GPU in 0.099594 secs. 1 sparse feature groups\n",
      "[LightGBM] [Info] Size of histogram bin entry: 8\n",
      "[LightGBM] [Info] 27 dense feature groups (265.91 MB) transferred to GPU in 0.109830 secs. 1 sparse feature groups\n",
      "[LightGBM] [Info] Size of histogram bin entry: 8\n",
      "[LightGBM] [Info] 27 dense feature groups (265.94 MB) transferred to GPU in 0.106404 secs. 1 sparse feature groups\n",
      "[LightGBM] [Info] Size of histogram bin entry: 8\n",
      "[LightGBM] [Info] 27 dense feature groups (265.92 MB) transferred to GPU in 0.103318 secs. 1 sparse feature groups\n",
      "[LightGBM] [Info] Size of histogram bin entry: 8\n",
      "[LightGBM] [Info] 27 dense feature groups (265.92 MB) transferred to GPU in 0.101096 secs. 1 sparse feature groups\n",
      "[LightGBM] [Info] Size of histogram bin entry: 8\n",
      "[LightGBM] [Info] 27 dense feature groups (265.93 MB) transferred to GPU in 0.100505 secs. 1 sparse feature groups\n",
      "[LightGBM] [Info] Size of histogram bin entry: 8\n",
      "[LightGBM] [Info] 27 dense feature groups (265.92 MB) transferred to GPU in 0.097623 secs. 1 sparse feature groups\n",
      "[LightGBM] [Info] Size of histogram bin entry: 8\n",
      "[LightGBM] [Info] 27 dense feature groups (265.95 MB) transferred to GPU in 0.107153 secs. 1 sparse feature groups\n",
      "[LightGBM] [Info] Size of histogram bin entry: 8\n",
      "[LightGBM] [Info] 27 dense feature groups (265.93 MB) transferred to GPU in 0.093733 secs. 1 sparse feature groups\n",
      "[LightGBM] [Info] Size of histogram bin entry: 8\n",
      "[LightGBM] [Info] 27 dense feature groups (265.94 MB) transferred to GPU in 0.097511 secs. 1 sparse feature groups\n",
      "[LightGBM] [Info] Size of histogram bin entry: 8\n",
      "[LightGBM] [Info] 27 dense feature groups (265.92 MB) transferred to GPU in 0.096311 secs. 1 sparse feature groups\n",
      "[LightGBM] [Info] Size of histogram bin entry: 8\n",
      "[LightGBM] [Info] 27 dense feature groups (265.91 MB) transferred to GPU in 0.098547 secs. 1 sparse feature groups\n",
      "[LightGBM] [Info] Size of histogram bin entry: 8\n",
      "[LightGBM] [Info] 27 dense feature groups (265.93 MB) transferred to GPU in 0.100829 secs. 1 sparse feature groups\n",
      "[LightGBM] [Info] Size of histogram bin entry: 8\n",
      "[LightGBM] [Info] 27 dense feature groups (265.94 MB) transferred to GPU in 0.092989 secs. 1 sparse feature groups\n",
      "[LightGBM] [Info] Size of histogram bin entry: 8\n",
      "[LightGBM] [Info] 27 dense feature groups (265.95 MB) transferred to GPU in 0.094814 secs. 1 sparse feature groups\n",
      "[LightGBM] [Info] Size of histogram bin entry: 8\n",
      "[LightGBM] [Info] 27 dense feature groups (265.92 MB) transferred to GPU in 0.106662 secs. 1 sparse feature groups\n",
      "[LightGBM] [Info] Size of histogram bin entry: 8\n",
      "[LightGBM] [Info] 27 dense feature groups (265.93 MB) transferred to GPU in 0.094211 secs. 1 sparse feature groups\n",
      "[LightGBM] [Warning] min_data_in_leaf is set=74, min_child_samples=20 will be ignored. Current value: min_data_in_leaf=74\n",
      "[LightGBM] [Warning] feature_fraction is set=0.8808823881230148, colsample_bytree=1.0 will be ignored. Current value: feature_fraction=0.8808823881230148\n",
      "[LightGBM] [Warning] lambda_l2 is set=4.516417263812417e-05, reg_lambda=0.0 will be ignored. Current value: lambda_l2=4.516417263812417e-05\n",
      "[LightGBM] [Warning] lambda_l1 is set=7.86527841573768e-08, reg_alpha=0.0 will be ignored. Current value: lambda_l1=7.86527841573768e-08\n",
      "[LightGBM] [Warning] bagging_fraction is set=0.9484106828535139, subsample=1.0 will be ignored. Current value: bagging_fraction=0.9484106828535139\n",
      "[LightGBM] [Warning] bagging_freq is set=5, subsample_freq=0 will be ignored. Current value: bagging_freq=5\n",
      "auc:0.8127946513855195 , log_loss:0.5290971210895908 , ks:0.464425539549306\n"
     ]
    },
    {
     "name": "stderr",
     "output_type": "stream",
     "text": [
      "[I 2023-10-03 20:53:51,167] Trial 1 finished with value: 0.8127946513855195 and parameters: {'learning_rate': 0.04519577437688327, 'num_leaves': 99, 'lambda_l1': 7.86527841573768e-08, 'lambda_l2': 4.516417263812417e-05, 'min_data_in_leaf': 74, 'max_depth': 23, 'feature_fraction': 0.8808823881230148, 'bagging_fraction': 0.9484106828535139, 'bagging_freq': 5}. Best is trial 1 with value: 0.8127946513855195.\n"
     ]
    },
    {
     "name": "stdout",
     "output_type": "stream",
     "text": [
      "LGBM - Optimization using optuna\n",
      "[LightGBM] [Warning] min_data_in_leaf is set=71, min_child_samples=20 will be ignored. Current value: min_data_in_leaf=71\n",
      "[LightGBM] [Warning] feature_fraction is set=0.42398356287008254, colsample_bytree=1.0 will be ignored. Current value: feature_fraction=0.42398356287008254\n",
      "[LightGBM] [Warning] lambda_l2 is set=2.0579773782894195, reg_lambda=0.0 will be ignored. Current value: lambda_l2=2.0579773782894195\n",
      "[LightGBM] [Warning] lambda_l1 is set=8.139651901156762e-08, reg_alpha=0.0 will be ignored. Current value: lambda_l1=8.139651901156762e-08\n",
      "[LightGBM] [Warning] bagging_fraction is set=0.5522701839674167, subsample=1.0 will be ignored. Current value: bagging_fraction=0.5522701839674167\n",
      "[LightGBM] [Warning] bagging_freq is set=6, subsample_freq=0 will be ignored. Current value: bagging_freq=6\n",
      "[LightGBM] [Warning] min_data_in_leaf is set=71, min_child_samples=20 will be ignored. Current value: min_data_in_leaf=71\n",
      "[LightGBM] [Warning] feature_fraction is set=0.42398356287008254, colsample_bytree=1.0 will be ignored. Current value: feature_fraction=0.42398356287008254\n",
      "[LightGBM] [Warning] lambda_l2 is set=2.0579773782894195, reg_lambda=0.0 will be ignored. Current value: lambda_l2=2.0579773782894195\n",
      "[LightGBM] [Warning] lambda_l1 is set=8.139651901156762e-08, reg_alpha=0.0 will be ignored. Current value: lambda_l1=8.139651901156762e-08\n",
      "[LightGBM] [Warning] bagging_fraction is set=0.5522701839674167, subsample=1.0 will be ignored. Current value: bagging_fraction=0.5522701839674167\n",
      "[LightGBM] [Warning] bagging_freq is set=6, subsample_freq=0 will be ignored. Current value: bagging_freq=6\n",
      "[LightGBM] [Info] Number of positive: 5564616, number of negative: 4935384\n",
      "[LightGBM] [Info] This is the GPU trainer!!\n",
      "[LightGBM] [Info] Total Bins 6132\n",
      "[LightGBM] [Info] Number of data points in the train set: 10500000, number of used features: 28\n",
      "[LightGBM] [Info] Using GPU Device: NVIDIA GeForce RTX 4090, Vendor: NVIDIA Corporation\n",
      "[LightGBM] [Info] Compiling OpenCL Kernel with 256 bins...\n",
      "[LightGBM] [Info] GPU programs have been built\n",
      "[LightGBM] [Info] Size of histogram bin entry: 8\n",
      "[LightGBM] [Info] 27 dense feature groups (280.38 MB) transferred to GPU in 0.082910 secs. 1 sparse feature groups\n",
      "[LightGBM] [Info] [binary:BoostFromScore]: pavg=0.529963 -> initscore=0.119997\n",
      "[LightGBM] [Info] Start training from score 0.119997\n",
      "[LightGBM] [Info] Size of histogram bin entry: 8\n",
      "[LightGBM] [Info] 27 dense feature groups (154.93 MB) transferred to GPU in 0.046682 secs. 1 sparse feature groups\n",
      "[LightGBM] [Info] Size of histogram bin entry: 8\n",
      "[LightGBM] [Info] 27 dense feature groups (154.84 MB) transferred to GPU in 0.047220 secs. 1 sparse feature groups\n",
      "[LightGBM] [Info] Size of histogram bin entry: 8\n",
      "[LightGBM] [Info] 27 dense feature groups (154.81 MB) transferred to GPU in 0.046150 secs. 1 sparse feature groups\n",
      "[LightGBM] [Info] Size of histogram bin entry: 8\n",
      "[LightGBM] [Info] 27 dense feature groups (154.84 MB) transferred to GPU in 0.047369 secs. 1 sparse feature groups\n",
      "[LightGBM] [Info] Size of histogram bin entry: 8\n",
      "[LightGBM] [Info] 27 dense feature groups (154.82 MB) transferred to GPU in 0.048017 secs. 1 sparse feature groups\n",
      "[LightGBM] [Info] Size of histogram bin entry: 8\n",
      "[LightGBM] [Info] 27 dense feature groups (154.87 MB) transferred to GPU in 0.047708 secs. 1 sparse feature groups\n",
      "[LightGBM] [Info] Size of histogram bin entry: 8\n",
      "[LightGBM] [Info] 27 dense feature groups (154.83 MB) transferred to GPU in 0.048656 secs. 1 sparse feature groups\n",
      "[LightGBM] [Info] Size of histogram bin entry: 8\n",
      "[LightGBM] [Info] 27 dense feature groups (154.87 MB) transferred to GPU in 0.048058 secs. 1 sparse feature groups\n",
      "[LightGBM] [Info] Size of histogram bin entry: 8\n",
      "[LightGBM] [Info] 27 dense feature groups (154.86 MB) transferred to GPU in 0.052789 secs. 1 sparse feature groups\n",
      "[LightGBM] [Info] Size of histogram bin entry: 8\n",
      "[LightGBM] [Info] 27 dense feature groups (154.85 MB) transferred to GPU in 0.047634 secs. 1 sparse feature groups\n",
      "[LightGBM] [Info] Size of histogram bin entry: 8\n",
      "[LightGBM] [Info] 27 dense feature groups (154.87 MB) transferred to GPU in 0.048543 secs. 1 sparse feature groups\n",
      "[LightGBM] [Info] Size of histogram bin entry: 8\n",
      "[LightGBM] [Info] 27 dense feature groups (154.82 MB) transferred to GPU in 0.049163 secs. 1 sparse feature groups\n",
      "[LightGBM] [Info] Size of histogram bin entry: 8\n",
      "[LightGBM] [Info] 27 dense feature groups (154.85 MB) transferred to GPU in 0.048172 secs. 1 sparse feature groups\n",
      "[LightGBM] [Info] Size of histogram bin entry: 8\n",
      "[LightGBM] [Info] 27 dense feature groups (154.84 MB) transferred to GPU in 0.048695 secs. 1 sparse feature groups\n",
      "[LightGBM] [Info] Size of histogram bin entry: 8\n",
      "[LightGBM] [Info] 27 dense feature groups (154.85 MB) transferred to GPU in 0.055058 secs. 1 sparse feature groups\n",
      "[LightGBM] [Info] Size of histogram bin entry: 8\n",
      "[LightGBM] [Info] 27 dense feature groups (154.82 MB) transferred to GPU in 0.047659 secs. 1 sparse feature groups\n",
      "[LightGBM] [Info] Size of histogram bin entry: 8\n",
      "[LightGBM] [Info] 27 dense feature groups (154.85 MB) transferred to GPU in 0.047770 secs. 1 sparse feature groups\n",
      "[LightGBM] [Warning] min_data_in_leaf is set=71, min_child_samples=20 will be ignored. Current value: min_data_in_leaf=71\n",
      "[LightGBM] [Warning] feature_fraction is set=0.42398356287008254, colsample_bytree=1.0 will be ignored. Current value: feature_fraction=0.42398356287008254\n",
      "[LightGBM] [Warning] lambda_l2 is set=2.0579773782894195, reg_lambda=0.0 will be ignored. Current value: lambda_l2=2.0579773782894195\n",
      "[LightGBM] [Warning] lambda_l1 is set=8.139651901156762e-08, reg_alpha=0.0 will be ignored. Current value: lambda_l1=8.139651901156762e-08\n",
      "[LightGBM] [Warning] bagging_fraction is set=0.5522701839674167, subsample=1.0 will be ignored. Current value: bagging_fraction=0.5522701839674167\n",
      "[LightGBM] [Warning] bagging_freq is set=6, subsample_freq=0 will be ignored. Current value: bagging_freq=6\n",
      "auc:0.7875069963438301 , log_loss:0.6890761460740199 , ks:0.4237187351476841\n"
     ]
    },
    {
     "name": "stderr",
     "output_type": "stream",
     "text": [
      "[I 2023-10-03 20:54:14,285] Trial 2 finished with value: 0.7875069963438301 and parameters: {'learning_rate': 0.00020808315242281628, 'num_leaves': 251, 'lambda_l1': 8.139651901156762e-08, 'lambda_l2': 2.0579773782894195, 'min_data_in_leaf': 71, 'max_depth': 15, 'feature_fraction': 0.42398356287008254, 'bagging_fraction': 0.5522701839674167, 'bagging_freq': 6}. Best is trial 1 with value: 0.8127946513855195.\n"
     ]
    },
    {
     "name": "stdout",
     "output_type": "stream",
     "text": [
      "LGBM - Optimization using optuna\n",
      "[LightGBM] [Warning] min_data_in_leaf is set=95, min_child_samples=20 will be ignored. Current value: min_data_in_leaf=95\n",
      "[LightGBM] [Warning] feature_fraction is set=0.6530012350433139, colsample_bytree=1.0 will be ignored. Current value: feature_fraction=0.6530012350433139\n",
      "[LightGBM] [Warning] lambda_l2 is set=0.4495301762741219, reg_lambda=0.0 will be ignored. Current value: lambda_l2=0.4495301762741219\n",
      "[LightGBM] [Warning] lambda_l1 is set=3.3341405637501634e-05, reg_alpha=0.0 will be ignored. Current value: lambda_l1=3.3341405637501634e-05\n",
      "[LightGBM] [Warning] bagging_fraction is set=0.6148141435988806, subsample=1.0 will be ignored. Current value: bagging_fraction=0.6148141435988806\n",
      "[LightGBM] [Warning] bagging_freq is set=1, subsample_freq=0 will be ignored. Current value: bagging_freq=1\n",
      "[LightGBM] [Warning] min_data_in_leaf is set=95, min_child_samples=20 will be ignored. Current value: min_data_in_leaf=95\n",
      "[LightGBM] [Warning] feature_fraction is set=0.6530012350433139, colsample_bytree=1.0 will be ignored. Current value: feature_fraction=0.6530012350433139\n",
      "[LightGBM] [Warning] lambda_l2 is set=0.4495301762741219, reg_lambda=0.0 will be ignored. Current value: lambda_l2=0.4495301762741219\n",
      "[LightGBM] [Warning] lambda_l1 is set=3.3341405637501634e-05, reg_alpha=0.0 will be ignored. Current value: lambda_l1=3.3341405637501634e-05\n",
      "[LightGBM] [Warning] bagging_fraction is set=0.6148141435988806, subsample=1.0 will be ignored. Current value: bagging_fraction=0.6148141435988806\n",
      "[LightGBM] [Warning] bagging_freq is set=1, subsample_freq=0 will be ignored. Current value: bagging_freq=1\n",
      "[LightGBM] [Info] Number of positive: 5564616, number of negative: 4935384\n",
      "[LightGBM] [Info] This is the GPU trainer!!\n",
      "[LightGBM] [Info] Total Bins 6132\n",
      "[LightGBM] [Info] Number of data points in the train set: 10500000, number of used features: 28\n",
      "[LightGBM] [Info] Using GPU Device: NVIDIA GeForce RTX 4090, Vendor: NVIDIA Corporation\n",
      "[LightGBM] [Info] Compiling OpenCL Kernel with 256 bins...\n",
      "[LightGBM] [Info] GPU programs have been built\n",
      "[LightGBM] [Info] Size of histogram bin entry: 8\n",
      "[LightGBM] [Info] 27 dense feature groups (280.38 MB) transferred to GPU in 0.083319 secs. 1 sparse feature groups\n",
      "[LightGBM] [Info] [binary:BoostFromScore]: pavg=0.529963 -> initscore=0.119997\n",
      "[LightGBM] [Info] Start training from score 0.119997\n",
      "[LightGBM] [Warning] min_data_in_leaf is set=95, min_child_samples=20 will be ignored. Current value: min_data_in_leaf=95\n",
      "[LightGBM] [Warning] feature_fraction is set=0.6530012350433139, colsample_bytree=1.0 will be ignored. Current value: feature_fraction=0.6530012350433139\n",
      "[LightGBM] [Warning] lambda_l2 is set=0.4495301762741219, reg_lambda=0.0 will be ignored. Current value: lambda_l2=0.4495301762741219\n",
      "[LightGBM] [Warning] lambda_l1 is set=3.3341405637501634e-05, reg_alpha=0.0 will be ignored. Current value: lambda_l1=3.3341405637501634e-05\n",
      "[LightGBM] [Warning] bagging_fraction is set=0.6148141435988806, subsample=1.0 will be ignored. Current value: bagging_fraction=0.6148141435988806\n",
      "[LightGBM] [Warning] bagging_freq is set=1, subsample_freq=0 will be ignored. Current value: bagging_freq=1\n",
      "auc:0.7205193899035011 , log_loss:0.6874843128172303 , ks:0.3224603449885509\n"
     ]
    },
    {
     "name": "stderr",
     "output_type": "stream",
     "text": [
      "[I 2023-10-03 20:54:26,822] Trial 3 finished with value: 0.7205193899035011 and parameters: {'learning_rate': 0.0004724775028636323, 'num_leaves': 6, 'lambda_l1': 3.3341405637501634e-05, 'lambda_l2': 0.4495301762741219, 'min_data_in_leaf': 95, 'max_depth': 26, 'feature_fraction': 0.6530012350433139, 'bagging_fraction': 0.6148141435988806, 'bagging_freq': 1}. Best is trial 1 with value: 0.8127946513855195.\n"
     ]
    },
    {
     "name": "stdout",
     "output_type": "stream",
     "text": [
      "LGBM - Optimization using optuna\n",
      "[LightGBM] [Warning] min_data_in_leaf is set=31, min_child_samples=20 will be ignored. Current value: min_data_in_leaf=31\n",
      "[LightGBM] [Warning] feature_fraction is set=0.6604799398338482, colsample_bytree=1.0 will be ignored. Current value: feature_fraction=0.6604799398338482\n",
      "[LightGBM] [Warning] lambda_l2 is set=8.7257438119562e-06, reg_lambda=0.0 will be ignored. Current value: lambda_l2=8.7257438119562e-06\n",
      "[LightGBM] [Warning] lambda_l1 is set=6.745851729170567e-06, reg_alpha=0.0 will be ignored. Current value: lambda_l1=6.745851729170567e-06\n",
      "[LightGBM] [Warning] bagging_fraction is set=0.5168396538864348, subsample=1.0 will be ignored. Current value: bagging_fraction=0.5168396538864348\n",
      "[LightGBM] [Warning] bagging_freq is set=3, subsample_freq=0 will be ignored. Current value: bagging_freq=3\n",
      "[LightGBM] [Warning] min_data_in_leaf is set=31, min_child_samples=20 will be ignored. Current value: min_data_in_leaf=31\n",
      "[LightGBM] [Warning] feature_fraction is set=0.6604799398338482, colsample_bytree=1.0 will be ignored. Current value: feature_fraction=0.6604799398338482\n",
      "[LightGBM] [Warning] lambda_l2 is set=8.7257438119562e-06, reg_lambda=0.0 will be ignored. Current value: lambda_l2=8.7257438119562e-06\n",
      "[LightGBM] [Warning] lambda_l1 is set=6.745851729170567e-06, reg_alpha=0.0 will be ignored. Current value: lambda_l1=6.745851729170567e-06\n",
      "[LightGBM] [Warning] bagging_fraction is set=0.5168396538864348, subsample=1.0 will be ignored. Current value: bagging_fraction=0.5168396538864348\n",
      "[LightGBM] [Warning] bagging_freq is set=3, subsample_freq=0 will be ignored. Current value: bagging_freq=3\n",
      "[LightGBM] [Info] Number of positive: 5564616, number of negative: 4935384\n",
      "[LightGBM] [Info] This is the GPU trainer!!\n",
      "[LightGBM] [Info] Total Bins 6132\n",
      "[LightGBM] [Info] Number of data points in the train set: 10500000, number of used features: 28\n",
      "[LightGBM] [Info] Using GPU Device: NVIDIA GeForce RTX 4090, Vendor: NVIDIA Corporation\n",
      "[LightGBM] [Info] Compiling OpenCL Kernel with 256 bins...\n",
      "[LightGBM] [Info] GPU programs have been built\n",
      "[LightGBM] [Info] Size of histogram bin entry: 8\n",
      "[LightGBM] [Info] 27 dense feature groups (280.38 MB) transferred to GPU in 0.085002 secs. 1 sparse feature groups\n",
      "[LightGBM] [Info] [binary:BoostFromScore]: pavg=0.529963 -> initscore=0.119997\n",
      "[LightGBM] [Info] Start training from score 0.119997\n",
      "[LightGBM] [Info] Size of histogram bin entry: 8\n",
      "[LightGBM] [Info] 27 dense feature groups (144.98 MB) transferred to GPU in 0.044557 secs. 1 sparse feature groups\n",
      "[LightGBM] [Info] Size of histogram bin entry: 8\n",
      "[LightGBM] [Info] 27 dense feature groups (144.91 MB) transferred to GPU in 0.045332 secs. 1 sparse feature groups\n",
      "[LightGBM] [Info] Size of histogram bin entry: 8\n",
      "[LightGBM] [Info] 27 dense feature groups (144.88 MB) transferred to GPU in 0.042672 secs. 1 sparse feature groups\n",
      "[LightGBM] [Info] Size of histogram bin entry: 8\n",
      "[LightGBM] [Info] 27 dense feature groups (144.92 MB) transferred to GPU in 0.051133 secs. 1 sparse feature groups\n",
      "[LightGBM] [Info] Size of histogram bin entry: 8\n",
      "[LightGBM] [Info] 27 dense feature groups (144.91 MB) transferred to GPU in 0.047671 secs. 1 sparse feature groups\n",
      "[LightGBM] [Info] Size of histogram bin entry: 8\n",
      "[LightGBM] [Info] 27 dense feature groups (144.95 MB) transferred to GPU in 0.044133 secs. 1 sparse feature groups\n",
      "[LightGBM] [Info] Size of histogram bin entry: 8\n",
      "[LightGBM] [Info] 27 dense feature groups (144.90 MB) transferred to GPU in 0.044494 secs. 1 sparse feature groups\n",
      "[LightGBM] [Info] Size of histogram bin entry: 8\n",
      "[LightGBM] [Info] 27 dense feature groups (144.92 MB) transferred to GPU in 0.047343 secs. 1 sparse feature groups\n",
      "[LightGBM] [Info] Size of histogram bin entry: 8\n",
      "[LightGBM] [Info] 27 dense feature groups (144.92 MB) transferred to GPU in 0.042675 secs. 1 sparse feature groups\n",
      "[LightGBM] [Info] Size of histogram bin entry: 8\n",
      "[LightGBM] [Info] 27 dense feature groups (144.92 MB) transferred to GPU in 0.048112 secs. 1 sparse feature groups\n",
      "[LightGBM] [Info] Size of histogram bin entry: 8\n",
      "[LightGBM] [Info] 27 dense feature groups (144.92 MB) transferred to GPU in 0.045492 secs. 1 sparse feature groups\n",
      "[LightGBM] [Info] Size of histogram bin entry: 8\n",
      "[LightGBM] [Info] 27 dense feature groups (144.89 MB) transferred to GPU in 0.047460 secs. 1 sparse feature groups\n",
      "[LightGBM] [Info] Size of histogram bin entry: 8\n",
      "[LightGBM] [Info] 27 dense feature groups (144.94 MB) transferred to GPU in 0.044964 secs. 1 sparse feature groups\n",
      "[LightGBM] [Info] Size of histogram bin entry: 8\n",
      "[LightGBM] [Info] 27 dense feature groups (144.91 MB) transferred to GPU in 0.043360 secs. 1 sparse feature groups\n",
      "[LightGBM] [Info] Size of histogram bin entry: 8\n",
      "[LightGBM] [Info] 27 dense feature groups (144.90 MB) transferred to GPU in 0.043444 secs. 1 sparse feature groups\n",
      "[LightGBM] [Info] Size of histogram bin entry: 8\n",
      "[LightGBM] [Info] 27 dense feature groups (144.90 MB) transferred to GPU in 0.043785 secs. 1 sparse feature groups\n",
      "[LightGBM] [Info] Size of histogram bin entry: 8\n",
      "[LightGBM] [Info] 27 dense feature groups (144.92 MB) transferred to GPU in 0.043369 secs. 1 sparse feature groups\n",
      "[LightGBM] [Info] Size of histogram bin entry: 8\n",
      "[LightGBM] [Info] 27 dense feature groups (144.88 MB) transferred to GPU in 0.043457 secs. 1 sparse feature groups\n",
      "[LightGBM] [Info] Size of histogram bin entry: 8\n",
      "[LightGBM] [Info] 27 dense feature groups (144.90 MB) transferred to GPU in 0.046553 secs. 1 sparse feature groups\n",
      "[LightGBM] [Info] Size of histogram bin entry: 8\n",
      "[LightGBM] [Info] 27 dense feature groups (144.95 MB) transferred to GPU in 0.047585 secs. 1 sparse feature groups\n",
      "[LightGBM] [Info] Size of histogram bin entry: 8\n",
      "[LightGBM] [Info] 27 dense feature groups (144.93 MB) transferred to GPU in 0.043846 secs. 1 sparse feature groups\n",
      "[LightGBM] [Info] Size of histogram bin entry: 8\n",
      "[LightGBM] [Info] 27 dense feature groups (144.91 MB) transferred to GPU in 0.044113 secs. 1 sparse feature groups\n",
      "[LightGBM] [Info] Size of histogram bin entry: 8\n",
      "[LightGBM] [Info] 27 dense feature groups (144.92 MB) transferred to GPU in 0.043920 secs. 1 sparse feature groups\n",
      "[LightGBM] [Info] Size of histogram bin entry: 8\n",
      "[LightGBM] [Info] 27 dense feature groups (144.92 MB) transferred to GPU in 0.043483 secs. 1 sparse feature groups\n",
      "[LightGBM] [Info] Size of histogram bin entry: 8\n",
      "[LightGBM] [Info] 27 dense feature groups (144.90 MB) transferred to GPU in 0.042967 secs. 1 sparse feature groups\n",
      "[LightGBM] [Info] Size of histogram bin entry: 8\n",
      "[LightGBM] [Info] 27 dense feature groups (144.90 MB) transferred to GPU in 0.043948 secs. 1 sparse feature groups\n",
      "[LightGBM] [Info] Size of histogram bin entry: 8\n",
      "[LightGBM] [Info] 27 dense feature groups (144.90 MB) transferred to GPU in 0.043926 secs. 1 sparse feature groups\n",
      "[LightGBM] [Info] Size of histogram bin entry: 8\n",
      "[LightGBM] [Info] 27 dense feature groups (144.74 MB) transferred to GPU in 0.046838 secs. 1 sparse feature groups\n",
      "[LightGBM] [Info] Size of histogram bin entry: 8\n",
      "[LightGBM] [Info] 27 dense feature groups (144.78 MB) transferred to GPU in 0.042140 secs. 1 sparse feature groups\n",
      "[LightGBM] [Info] Size of histogram bin entry: 8\n",
      "[LightGBM] [Info] 27 dense feature groups (144.92 MB) transferred to GPU in 0.044633 secs. 1 sparse feature groups\n",
      "[LightGBM] [Info] Size of histogram bin entry: 8\n",
      "[LightGBM] [Info] 27 dense feature groups (144.75 MB) transferred to GPU in 0.041609 secs. 1 sparse feature groups\n",
      "[LightGBM] [Info] Size of histogram bin entry: 8\n",
      "[LightGBM] [Info] 27 dense feature groups (144.93 MB) transferred to GPU in 0.044188 secs. 1 sparse feature groups\n",
      "[LightGBM] [Info] Size of histogram bin entry: 8\n",
      "[LightGBM] [Info] 27 dense feature groups (144.75 MB) transferred to GPU in 0.045517 secs. 1 sparse feature groups\n",
      "[LightGBM] [Info] Size of histogram bin entry: 8\n",
      "[LightGBM] [Info] 27 dense feature groups (144.91 MB) transferred to GPU in 0.044943 secs. 1 sparse feature groups\n",
      "[LightGBM] [Warning] min_data_in_leaf is set=31, min_child_samples=20 will be ignored. Current value: min_data_in_leaf=31\n",
      "[LightGBM] [Warning] feature_fraction is set=0.6604799398338482, colsample_bytree=1.0 will be ignored. Current value: feature_fraction=0.6604799398338482\n",
      "[LightGBM] [Warning] lambda_l2 is set=8.7257438119562e-06, reg_lambda=0.0 will be ignored. Current value: lambda_l2=8.7257438119562e-06\n",
      "[LightGBM] [Warning] lambda_l1 is set=6.745851729170567e-06, reg_alpha=0.0 will be ignored. Current value: lambda_l1=6.745851729170567e-06\n",
      "[LightGBM] [Warning] bagging_fraction is set=0.5168396538864348, subsample=1.0 will be ignored. Current value: bagging_fraction=0.5168396538864348\n",
      "[LightGBM] [Warning] bagging_freq is set=3, subsample_freq=0 will be ignored. Current value: bagging_freq=3\n"
     ]
    },
    {
     "name": "stdout",
     "output_type": "stream",
     "text": [
      "auc:0.7952101958770916 , log_loss:0.6040044039195419 , ks:0.4357167789541016\n"
     ]
    },
    {
     "name": "stderr",
     "output_type": "stream",
     "text": [
      "[I 2023-10-03 20:54:48,790] Trial 4 finished with value: 0.7952101958770916 and parameters: {'learning_rate': 0.00914274886890183, 'num_leaves': 130, 'lambda_l1': 6.745851729170567e-06, 'lambda_l2': 8.7257438119562e-06, 'min_data_in_leaf': 31, 'max_depth': 16, 'feature_fraction': 0.6604799398338482, 'bagging_fraction': 0.5168396538864348, 'bagging_freq': 3}. Best is trial 1 with value: 0.8127946513855195.\n"
     ]
    },
    {
     "name": "stdout",
     "output_type": "stream",
     "text": [
      "LGBM - Optimization using optuna\n",
      "[LightGBM] [Warning] min_data_in_leaf is set=98, min_child_samples=20 will be ignored. Current value: min_data_in_leaf=98\n",
      "[LightGBM] [Warning] feature_fraction is set=0.5988425316363307, colsample_bytree=1.0 will be ignored. Current value: feature_fraction=0.5988425316363307\n",
      "[LightGBM] [Warning] lambda_l2 is set=1.6297371901484125e-06, reg_lambda=0.0 will be ignored. Current value: lambda_l2=1.6297371901484125e-06\n",
      "[LightGBM] [Warning] lambda_l1 is set=0.008117881643818138, reg_alpha=0.0 will be ignored. Current value: lambda_l1=0.008117881643818138\n",
      "[LightGBM] [Warning] bagging_fraction is set=0.9564452399824196, subsample=1.0 will be ignored. Current value: bagging_fraction=0.9564452399824196\n",
      "[LightGBM] [Warning] bagging_freq is set=7, subsample_freq=0 will be ignored. Current value: bagging_freq=7\n",
      "[LightGBM] [Warning] min_data_in_leaf is set=98, min_child_samples=20 will be ignored. Current value: min_data_in_leaf=98\n",
      "[LightGBM] [Warning] feature_fraction is set=0.5988425316363307, colsample_bytree=1.0 will be ignored. Current value: feature_fraction=0.5988425316363307\n",
      "[LightGBM] [Warning] lambda_l2 is set=1.6297371901484125e-06, reg_lambda=0.0 will be ignored. Current value: lambda_l2=1.6297371901484125e-06\n",
      "[LightGBM] [Warning] lambda_l1 is set=0.008117881643818138, reg_alpha=0.0 will be ignored. Current value: lambda_l1=0.008117881643818138\n",
      "[LightGBM] [Warning] bagging_fraction is set=0.9564452399824196, subsample=1.0 will be ignored. Current value: bagging_fraction=0.9564452399824196\n",
      "[LightGBM] [Warning] bagging_freq is set=7, subsample_freq=0 will be ignored. Current value: bagging_freq=7\n",
      "[LightGBM] [Info] Number of positive: 5564616, number of negative: 4935384\n",
      "[LightGBM] [Info] This is the GPU trainer!!\n",
      "[LightGBM] [Info] Total Bins 6132\n",
      "[LightGBM] [Info] Number of data points in the train set: 10500000, number of used features: 28\n",
      "[LightGBM] [Info] Using GPU Device: NVIDIA GeForce RTX 4090, Vendor: NVIDIA Corporation\n",
      "[LightGBM] [Info] Compiling OpenCL Kernel with 256 bins...\n",
      "[LightGBM] [Info] GPU programs have been built\n",
      "[LightGBM] [Info] Size of histogram bin entry: 8\n",
      "[LightGBM] [Info] 27 dense feature groups (280.38 MB) transferred to GPU in 0.100579 secs. 1 sparse feature groups\n",
      "[LightGBM] [Info] [binary:BoostFromScore]: pavg=0.529963 -> initscore=0.119997\n",
      "[LightGBM] [Info] Start training from score 0.119997\n",
      "[LightGBM] [Info] Size of histogram bin entry: 8\n",
      "[LightGBM] [Info] 27 dense feature groups (268.16 MB) transferred to GPU in 0.096150 secs. 1 sparse feature groups\n",
      "[LightGBM] [Info] Size of histogram bin entry: 8\n",
      "[LightGBM] [Info] 27 dense feature groups (268.16 MB) transferred to GPU in 0.089427 secs. 1 sparse feature groups\n",
      "[LightGBM] [Info] Size of histogram bin entry: 8\n",
      "[LightGBM] [Info] 27 dense feature groups (268.14 MB) transferred to GPU in 0.081671 secs. 1 sparse feature groups\n",
      "[LightGBM] [Info] Size of histogram bin entry: 8\n",
      "[LightGBM] [Info] 27 dense feature groups (268.17 MB) transferred to GPU in 0.080267 secs. 1 sparse feature groups\n",
      "[LightGBM] [Info] Size of histogram bin entry: 8\n",
      "[LightGBM] [Info] 27 dense feature groups (268.16 MB) transferred to GPU in 0.091936 secs. 1 sparse feature groups\n",
      "[LightGBM] [Info] Size of histogram bin entry: 8\n",
      "[LightGBM] [Info] 27 dense feature groups (268.20 MB) transferred to GPU in 0.098386 secs. 1 sparse feature groups\n",
      "[LightGBM] [Info] Size of histogram bin entry: 8\n",
      "[LightGBM] [Info] 27 dense feature groups (268.18 MB) transferred to GPU in 0.107687 secs. 1 sparse feature groups\n",
      "[LightGBM] [Info] Size of histogram bin entry: 8\n",
      "[LightGBM] [Info] 27 dense feature groups (268.17 MB) transferred to GPU in 0.094106 secs. 1 sparse feature groups\n",
      "[LightGBM] [Info] Size of histogram bin entry: 8\n",
      "[LightGBM] [Info] 27 dense feature groups (268.18 MB) transferred to GPU in 0.097629 secs. 1 sparse feature groups\n",
      "[LightGBM] [Info] Size of histogram bin entry: 8\n",
      "[LightGBM] [Info] 27 dense feature groups (268.17 MB) transferred to GPU in 0.095055 secs. 1 sparse feature groups\n",
      "[LightGBM] [Info] Size of histogram bin entry: 8\n",
      "[LightGBM] [Info] 27 dense feature groups (268.19 MB) transferred to GPU in 0.095941 secs. 1 sparse feature groups\n",
      "[LightGBM] [Info] Size of histogram bin entry: 8\n",
      "[LightGBM] [Info] 27 dense feature groups (268.18 MB) transferred to GPU in 0.096121 secs. 1 sparse feature groups\n",
      "[LightGBM] [Info] Size of histogram bin entry: 8\n",
      "[LightGBM] [Info] 27 dense feature groups (268.19 MB) transferred to GPU in 0.102964 secs. 1 sparse feature groups\n",
      "[LightGBM] [Info] Size of histogram bin entry: 8\n",
      "[LightGBM] [Info] 27 dense feature groups (268.16 MB) transferred to GPU in 0.108464 secs. 1 sparse feature groups\n",
      "[LightGBM] [Info] Size of histogram bin entry: 8\n",
      "[LightGBM] [Info] 27 dense feature groups (268.17 MB) transferred to GPU in 0.102976 secs. 1 sparse feature groups\n",
      "[LightGBM] [Warning] min_data_in_leaf is set=98, min_child_samples=20 will be ignored. Current value: min_data_in_leaf=98\n",
      "[LightGBM] [Warning] feature_fraction is set=0.5988425316363307, colsample_bytree=1.0 will be ignored. Current value: feature_fraction=0.5988425316363307\n",
      "[LightGBM] [Warning] lambda_l2 is set=1.6297371901484125e-06, reg_lambda=0.0 will be ignored. Current value: lambda_l2=1.6297371901484125e-06\n",
      "[LightGBM] [Warning] lambda_l1 is set=0.008117881643818138, reg_alpha=0.0 will be ignored. Current value: lambda_l1=0.008117881643818138\n",
      "[LightGBM] [Warning] bagging_fraction is set=0.9564452399824196, subsample=1.0 will be ignored. Current value: bagging_fraction=0.9564452399824196\n",
      "[LightGBM] [Warning] bagging_freq is set=7, subsample_freq=0 will be ignored. Current value: bagging_freq=7\n",
      "auc:0.7887479875339061 , log_loss:0.6761252057566488 , ks:0.4252482961842244\n"
     ]
    },
    {
     "name": "stderr",
     "output_type": "stream",
     "text": [
      "[I 2023-10-03 20:55:18,653] Trial 5 finished with value: 0.7887479875339061 and parameters: {'learning_rate': 0.0011134386271532397, 'num_leaves': 144, 'lambda_l1': 0.008117881643818138, 'lambda_l2': 1.6297371901484125e-06, 'min_data_in_leaf': 98, 'max_depth': 21, 'feature_fraction': 0.5988425316363307, 'bagging_fraction': 0.9564452399824196, 'bagging_freq': 7}. Best is trial 1 with value: 0.8127946513855195.\n"
     ]
    },
    {
     "name": "stdout",
     "output_type": "stream",
     "text": [
      "LGBM - Optimization using optuna\n",
      "[LightGBM] [Warning] min_data_in_leaf is set=78, min_child_samples=20 will be ignored. Current value: min_data_in_leaf=78\n",
      "[LightGBM] [Warning] feature_fraction is set=0.4691566331386841, colsample_bytree=1.0 will be ignored. Current value: feature_fraction=0.4691566331386841\n",
      "[LightGBM] [Warning] lambda_l2 is set=0.08235246621994574, reg_lambda=0.0 will be ignored. Current value: lambda_l2=0.08235246621994574\n",
      "[LightGBM] [Warning] lambda_l1 is set=1.5473976675265605e-07, reg_alpha=0.0 will be ignored. Current value: lambda_l1=1.5473976675265605e-07\n",
      "[LightGBM] [Warning] bagging_fraction is set=0.8822055055338272, subsample=1.0 will be ignored. Current value: bagging_fraction=0.8822055055338272\n",
      "[LightGBM] [Warning] bagging_freq is set=7, subsample_freq=0 will be ignored. Current value: bagging_freq=7\n",
      "[LightGBM] [Warning] min_data_in_leaf is set=78, min_child_samples=20 will be ignored. Current value: min_data_in_leaf=78\n",
      "[LightGBM] [Warning] feature_fraction is set=0.4691566331386841, colsample_bytree=1.0 will be ignored. Current value: feature_fraction=0.4691566331386841\n",
      "[LightGBM] [Warning] lambda_l2 is set=0.08235246621994574, reg_lambda=0.0 will be ignored. Current value: lambda_l2=0.08235246621994574\n",
      "[LightGBM] [Warning] lambda_l1 is set=1.5473976675265605e-07, reg_alpha=0.0 will be ignored. Current value: lambda_l1=1.5473976675265605e-07\n",
      "[LightGBM] [Warning] bagging_fraction is set=0.8822055055338272, subsample=1.0 will be ignored. Current value: bagging_fraction=0.8822055055338272\n",
      "[LightGBM] [Warning] bagging_freq is set=7, subsample_freq=0 will be ignored. Current value: bagging_freq=7\n",
      "[LightGBM] [Info] Number of positive: 5564616, number of negative: 4935384\n",
      "[LightGBM] [Info] This is the GPU trainer!!\n",
      "[LightGBM] [Info] Total Bins 6132\n",
      "[LightGBM] [Info] Number of data points in the train set: 10500000, number of used features: 28\n",
      "[LightGBM] [Info] Using GPU Device: NVIDIA GeForce RTX 4090, Vendor: NVIDIA Corporation\n",
      "[LightGBM] [Info] Compiling OpenCL Kernel with 256 bins...\n",
      "[LightGBM] [Info] GPU programs have been built\n",
      "[LightGBM] [Info] Size of histogram bin entry: 8\n",
      "[LightGBM] [Info] 27 dense feature groups (280.38 MB) transferred to GPU in 0.090701 secs. 1 sparse feature groups\n",
      "[LightGBM] [Info] [binary:BoostFromScore]: pavg=0.529963 -> initscore=0.119997\n",
      "[LightGBM] [Info] Start training from score 0.119997\n",
      "[LightGBM] [Info] Size of histogram bin entry: 8\n",
      "[LightGBM] [Info] 27 dense feature groups (247.35 MB) transferred to GPU in 0.077167 secs. 1 sparse feature groups\n",
      "[LightGBM] [Info] Size of histogram bin entry: 8\n",
      "[LightGBM] [Info] 27 dense feature groups (247.36 MB) transferred to GPU in 0.077812 secs. 1 sparse feature groups\n",
      "[LightGBM] [Info] Size of histogram bin entry: 8\n",
      "[LightGBM] [Info] 27 dense feature groups (247.36 MB) transferred to GPU in 0.078823 secs. 1 sparse feature groups\n",
      "[LightGBM] [Info] Size of histogram bin entry: 8\n",
      "[LightGBM] [Info] 27 dense feature groups (247.38 MB) transferred to GPU in 0.075830 secs. 1 sparse feature groups\n",
      "[LightGBM] [Info] Size of histogram bin entry: 8\n",
      "[LightGBM] [Info] 27 dense feature groups (247.34 MB) transferred to GPU in 0.076714 secs. 1 sparse feature groups\n",
      "[LightGBM] [Info] Size of histogram bin entry: 8\n",
      "[LightGBM] [Info] 27 dense feature groups (247.37 MB) transferred to GPU in 0.077753 secs. 1 sparse feature groups\n",
      "[LightGBM] [Info] Size of histogram bin entry: 8\n",
      "[LightGBM] [Info] 27 dense feature groups (247.35 MB) transferred to GPU in 0.074765 secs. 1 sparse feature groups\n",
      "[LightGBM] [Info] Size of histogram bin entry: 8\n",
      "[LightGBM] [Info] 27 dense feature groups (247.35 MB) transferred to GPU in 0.080110 secs. 1 sparse feature groups\n",
      "[LightGBM] [Info] Size of histogram bin entry: 8\n",
      "[LightGBM] [Info] 27 dense feature groups (247.35 MB) transferred to GPU in 0.075301 secs. 1 sparse feature groups\n",
      "[LightGBM] [Info] Size of histogram bin entry: 8\n",
      "[LightGBM] [Info] 27 dense feature groups (247.38 MB) transferred to GPU in 0.072926 secs. 1 sparse feature groups\n",
      "[LightGBM] [Info] Size of histogram bin entry: 8\n",
      "[LightGBM] [Info] 27 dense feature groups (247.37 MB) transferred to GPU in 0.074705 secs. 1 sparse feature groups\n",
      "[LightGBM] [Info] Size of histogram bin entry: 8\n",
      "[LightGBM] [Info] 27 dense feature groups (247.34 MB) transferred to GPU in 0.075051 secs. 1 sparse feature groups\n",
      "[LightGBM] [Info] Size of histogram bin entry: 8\n",
      "[LightGBM] [Info] 27 dense feature groups (247.36 MB) transferred to GPU in 0.081463 secs. 1 sparse feature groups\n",
      "[LightGBM] [Info] Size of histogram bin entry: 8\n",
      "[LightGBM] [Info] 27 dense feature groups (247.37 MB) transferred to GPU in 0.081770 secs. 1 sparse feature groups\n",
      "[LightGBM] [Info] Size of histogram bin entry: 8\n",
      "[LightGBM] [Info] 27 dense feature groups (247.35 MB) transferred to GPU in 0.075242 secs. 1 sparse feature groups\n",
      "[LightGBM] [Warning] min_data_in_leaf is set=78, min_child_samples=20 will be ignored. Current value: min_data_in_leaf=78\n",
      "[LightGBM] [Warning] feature_fraction is set=0.4691566331386841, colsample_bytree=1.0 will be ignored. Current value: feature_fraction=0.4691566331386841\n",
      "[LightGBM] [Warning] lambda_l2 is set=0.08235246621994574, reg_lambda=0.0 will be ignored. Current value: lambda_l2=0.08235246621994574\n",
      "[LightGBM] [Warning] lambda_l1 is set=1.5473976675265605e-07, reg_alpha=0.0 will be ignored. Current value: lambda_l1=1.5473976675265605e-07\n",
      "[LightGBM] [Warning] bagging_fraction is set=0.8822055055338272, subsample=1.0 will be ignored. Current value: bagging_fraction=0.8822055055338272\n",
      "[LightGBM] [Warning] bagging_freq is set=7, subsample_freq=0 will be ignored. Current value: bagging_freq=7\n",
      "auc:0.796326158175785 , log_loss:0.5984940633044556 , ks:0.4378689846701819\n"
     ]
    },
    {
     "name": "stderr",
     "output_type": "stream",
     "text": [
      "[I 2023-10-03 20:55:46,620] Trial 6 finished with value: 0.796326158175785 and parameters: {'learning_rate': 0.013118147926177956, 'num_leaves': 154, 'lambda_l1': 1.5473976675265605e-07, 'lambda_l2': 0.08235246621994574, 'min_data_in_leaf': 78, 'max_depth': 59, 'feature_fraction': 0.4691566331386841, 'bagging_fraction': 0.8822055055338272, 'bagging_freq': 7}. Best is trial 1 with value: 0.8127946513855195.\n"
     ]
    },
    {
     "name": "stdout",
     "output_type": "stream",
     "text": [
      "LGBM - Optimization using optuna\n",
      "[LightGBM] [Warning] min_data_in_leaf is set=11, min_child_samples=20 will be ignored. Current value: min_data_in_leaf=11\n",
      "[LightGBM] [Warning] feature_fraction is set=0.6226583904673971, colsample_bytree=1.0 will be ignored. Current value: feature_fraction=0.6226583904673971\n",
      "[LightGBM] [Warning] lambda_l2 is set=0.0027922916722134417, reg_lambda=0.0 will be ignored. Current value: lambda_l2=0.0027922916722134417\n",
      "[LightGBM] [Warning] lambda_l1 is set=7.92761023388381e-07, reg_alpha=0.0 will be ignored. Current value: lambda_l1=7.92761023388381e-07\n",
      "[LightGBM] [Warning] bagging_fraction is set=0.9341020791391448, subsample=1.0 will be ignored. Current value: bagging_fraction=0.9341020791391448\n",
      "[LightGBM] [Warning] bagging_freq is set=5, subsample_freq=0 will be ignored. Current value: bagging_freq=5\n",
      "[LightGBM] [Warning] min_data_in_leaf is set=11, min_child_samples=20 will be ignored. Current value: min_data_in_leaf=11\n",
      "[LightGBM] [Warning] feature_fraction is set=0.6226583904673971, colsample_bytree=1.0 will be ignored. Current value: feature_fraction=0.6226583904673971\n",
      "[LightGBM] [Warning] lambda_l2 is set=0.0027922916722134417, reg_lambda=0.0 will be ignored. Current value: lambda_l2=0.0027922916722134417\n",
      "[LightGBM] [Warning] lambda_l1 is set=7.92761023388381e-07, reg_alpha=0.0 will be ignored. Current value: lambda_l1=7.92761023388381e-07\n",
      "[LightGBM] [Warning] bagging_fraction is set=0.9341020791391448, subsample=1.0 will be ignored. Current value: bagging_fraction=0.9341020791391448\n",
      "[LightGBM] [Warning] bagging_freq is set=5, subsample_freq=0 will be ignored. Current value: bagging_freq=5\n",
      "[LightGBM] [Info] Number of positive: 5564616, number of negative: 4935384\n",
      "[LightGBM] [Info] This is the GPU trainer!!\n",
      "[LightGBM] [Info] Total Bins 6132\n",
      "[LightGBM] [Info] Number of data points in the train set: 10500000, number of used features: 28\n",
      "[LightGBM] [Info] Using GPU Device: NVIDIA GeForce RTX 4090, Vendor: NVIDIA Corporation\n",
      "[LightGBM] [Info] Compiling OpenCL Kernel with 256 bins...\n",
      "[LightGBM] [Info] GPU programs have been built\n",
      "[LightGBM] [Info] Size of histogram bin entry: 8\n",
      "[LightGBM] [Info] 27 dense feature groups (280.38 MB) transferred to GPU in 0.086611 secs. 1 sparse feature groups\n",
      "[LightGBM] [Info] [binary:BoostFromScore]: pavg=0.529963 -> initscore=0.119997\n",
      "[LightGBM] [Info] Start training from score 0.119997\n",
      "[LightGBM] [Info] Size of histogram bin entry: 8\n",
      "[LightGBM] [Info] 27 dense feature groups (261.89 MB) transferred to GPU in 0.080693 secs. 1 sparse feature groups\n",
      "[LightGBM] [Info] Size of histogram bin entry: 8\n",
      "[LightGBM] [Info] 27 dense feature groups (261.90 MB) transferred to GPU in 0.082793 secs. 1 sparse feature groups\n",
      "[LightGBM] [Info] Size of histogram bin entry: 8\n",
      "[LightGBM] [Info] 27 dense feature groups (261.88 MB) transferred to GPU in 0.094727 secs. 1 sparse feature groups\n",
      "[LightGBM] [Info] Size of histogram bin entry: 8\n",
      "[LightGBM] [Info] 27 dense feature groups (261.92 MB) transferred to GPU in 0.084173 secs. 1 sparse feature groups\n",
      "[LightGBM] [Info] Size of histogram bin entry: 8\n",
      "[LightGBM] [Info] 27 dense feature groups (261.91 MB) transferred to GPU in 0.084666 secs. 1 sparse feature groups\n",
      "[LightGBM] [Info] Size of histogram bin entry: 8\n",
      "[LightGBM] [Info] 27 dense feature groups (261.95 MB) transferred to GPU in 0.085271 secs. 1 sparse feature groups\n",
      "[LightGBM] [Info] Size of histogram bin entry: 8\n",
      "[LightGBM] [Info] 27 dense feature groups (261.91 MB) transferred to GPU in 0.085875 secs. 1 sparse feature groups\n",
      "[LightGBM] [Info] Size of histogram bin entry: 8\n",
      "[LightGBM] [Info] 27 dense feature groups (261.91 MB) transferred to GPU in 0.086140 secs. 1 sparse feature groups\n",
      "[LightGBM] [Info] Size of histogram bin entry: 8\n",
      "[LightGBM] [Info] 27 dense feature groups (261.92 MB) transferred to GPU in 0.088547 secs. 1 sparse feature groups\n",
      "[LightGBM] [Info] Size of histogram bin entry: 8\n",
      "[LightGBM] [Info] 27 dense feature groups (261.91 MB) transferred to GPU in 0.085426 secs. 1 sparse feature groups\n",
      "[LightGBM] [Info] Size of histogram bin entry: 8\n",
      "[LightGBM] [Info] 27 dense feature groups (261.93 MB) transferred to GPU in 0.087518 secs. 1 sparse feature groups\n",
      "[LightGBM] [Info] Size of histogram bin entry: 8\n",
      "[LightGBM] [Info] 27 dense feature groups (261.87 MB) transferred to GPU in 0.085701 secs. 1 sparse feature groups\n",
      "[LightGBM] [Info] Size of histogram bin entry: 8\n",
      "[LightGBM] [Info] 27 dense feature groups (261.92 MB) transferred to GPU in 0.091189 secs. 1 sparse feature groups\n",
      "[LightGBM] [Info] Size of histogram bin entry: 8\n",
      "[LightGBM] [Info] 27 dense feature groups (261.91 MB) transferred to GPU in 0.087839 secs. 1 sparse feature groups\n",
      "[LightGBM] [Info] Size of histogram bin entry: 8\n",
      "[LightGBM] [Info] 27 dense feature groups (261.89 MB) transferred to GPU in 0.089204 secs. 1 sparse feature groups\n",
      "[LightGBM] [Info] Size of histogram bin entry: 8\n",
      "[LightGBM] [Info] 27 dense feature groups (261.92 MB) transferred to GPU in 0.087994 secs. 1 sparse feature groups\n",
      "[LightGBM] [Info] Size of histogram bin entry: 8\n",
      "[LightGBM] [Info] 27 dense feature groups (261.95 MB) transferred to GPU in 0.087883 secs. 1 sparse feature groups\n",
      "[LightGBM] [Info] Size of histogram bin entry: 8\n",
      "[LightGBM] [Info] 27 dense feature groups (261.94 MB) transferred to GPU in 0.090747 secs. 1 sparse feature groups\n",
      "[LightGBM] [Info] Size of histogram bin entry: 8\n",
      "[LightGBM] [Info] 27 dense feature groups (261.91 MB) transferred to GPU in 0.084828 secs. 1 sparse feature groups\n",
      "[LightGBM] [Info] Size of histogram bin entry: 8\n",
      "[LightGBM] [Info] 27 dense feature groups (261.93 MB) transferred to GPU in 0.086857 secs. 1 sparse feature groups\n",
      "[LightGBM] [Warning] min_data_in_leaf is set=11, min_child_samples=20 will be ignored. Current value: min_data_in_leaf=11\n",
      "[LightGBM] [Warning] feature_fraction is set=0.6226583904673971, colsample_bytree=1.0 will be ignored. Current value: feature_fraction=0.6226583904673971\n",
      "[LightGBM] [Warning] lambda_l2 is set=0.0027922916722134417, reg_lambda=0.0 will be ignored. Current value: lambda_l2=0.0027922916722134417\n",
      "[LightGBM] [Warning] lambda_l1 is set=7.92761023388381e-07, reg_alpha=0.0 will be ignored. Current value: lambda_l1=7.92761023388381e-07\n",
      "[LightGBM] [Warning] bagging_fraction is set=0.9341020791391448, subsample=1.0 will be ignored. Current value: bagging_fraction=0.9341020791391448\n",
      "[LightGBM] [Warning] bagging_freq is set=5, subsample_freq=0 will be ignored. Current value: bagging_freq=5\n",
      "auc:0.7887839923872044 , log_loss:0.5928215876283095 , ks:0.4242559956614959\n"
     ]
    },
    {
     "name": "stderr",
     "output_type": "stream",
     "text": [
      "[I 2023-10-03 20:56:11,565] Trial 7 finished with value: 0.7887839923872044 and parameters: {'learning_rate': 0.013739705501808102, 'num_leaves': 56, 'lambda_l1': 7.92761023388381e-07, 'lambda_l2': 0.0027922916722134417, 'min_data_in_leaf': 11, 'max_depth': 33, 'feature_fraction': 0.6226583904673971, 'bagging_fraction': 0.9341020791391448, 'bagging_freq': 5}. Best is trial 1 with value: 0.8127946513855195.\n"
     ]
    },
    {
     "name": "stdout",
     "output_type": "stream",
     "text": [
      "LGBM - Optimization using optuna\n",
      "[LightGBM] [Warning] min_data_in_leaf is set=58, min_child_samples=20 will be ignored. Current value: min_data_in_leaf=58\n",
      "[LightGBM] [Warning] feature_fraction is set=0.48405371282646237, colsample_bytree=1.0 will be ignored. Current value: feature_fraction=0.48405371282646237\n",
      "[LightGBM] [Warning] lambda_l2 is set=1.8595001316997175e-05, reg_lambda=0.0 will be ignored. Current value: lambda_l2=1.8595001316997175e-05\n",
      "[LightGBM] [Warning] lambda_l1 is set=0.00010781750725473966, reg_alpha=0.0 will be ignored. Current value: lambda_l1=0.00010781750725473966\n",
      "[LightGBM] [Warning] bagging_fraction is set=0.8117184424494785, subsample=1.0 will be ignored. Current value: bagging_fraction=0.8117184424494785\n",
      "[LightGBM] [Warning] bagging_freq is set=4, subsample_freq=0 will be ignored. Current value: bagging_freq=4\n",
      "[LightGBM] [Warning] min_data_in_leaf is set=58, min_child_samples=20 will be ignored. Current value: min_data_in_leaf=58\n",
      "[LightGBM] [Warning] feature_fraction is set=0.48405371282646237, colsample_bytree=1.0 will be ignored. Current value: feature_fraction=0.48405371282646237\n",
      "[LightGBM] [Warning] lambda_l2 is set=1.8595001316997175e-05, reg_lambda=0.0 will be ignored. Current value: lambda_l2=1.8595001316997175e-05\n",
      "[LightGBM] [Warning] lambda_l1 is set=0.00010781750725473966, reg_alpha=0.0 will be ignored. Current value: lambda_l1=0.00010781750725473966\n",
      "[LightGBM] [Warning] bagging_fraction is set=0.8117184424494785, subsample=1.0 will be ignored. Current value: bagging_fraction=0.8117184424494785\n",
      "[LightGBM] [Warning] bagging_freq is set=4, subsample_freq=0 will be ignored. Current value: bagging_freq=4\n",
      "[LightGBM] [Info] Number of positive: 5564616, number of negative: 4935384\n",
      "[LightGBM] [Info] This is the GPU trainer!!\n",
      "[LightGBM] [Info] Total Bins 6132\n",
      "[LightGBM] [Info] Number of data points in the train set: 10500000, number of used features: 28\n",
      "[LightGBM] [Info] Using GPU Device: NVIDIA GeForce RTX 4090, Vendor: NVIDIA Corporation\n",
      "[LightGBM] [Info] Compiling OpenCL Kernel with 256 bins...\n",
      "[LightGBM] [Info] GPU programs have been built\n",
      "[LightGBM] [Info] Size of histogram bin entry: 8\n",
      "[LightGBM] [Info] 27 dense feature groups (280.38 MB) transferred to GPU in 0.087471 secs. 1 sparse feature groups\n",
      "[LightGBM] [Info] [binary:BoostFromScore]: pavg=0.529963 -> initscore=0.119997\n",
      "[LightGBM] [Info] Start training from score 0.119997\n",
      "[LightGBM] [Info] Size of histogram bin entry: 8\n",
      "[LightGBM] [Info] 27 dense feature groups (227.61 MB) transferred to GPU in 0.069667 secs. 1 sparse feature groups\n",
      "[LightGBM] [Info] Size of histogram bin entry: 8\n",
      "[LightGBM] [Info] 27 dense feature groups (227.59 MB) transferred to GPU in 0.073591 secs. 1 sparse feature groups\n",
      "[LightGBM] [Info] Size of histogram bin entry: 8\n",
      "[LightGBM] [Info] 27 dense feature groups (227.55 MB) transferred to GPU in 0.077706 secs. 1 sparse feature groups\n",
      "[LightGBM] [Info] Size of histogram bin entry: 8\n",
      "[LightGBM] [Info] 27 dense feature groups (227.60 MB) transferred to GPU in 0.080622 secs. 1 sparse feature groups\n",
      "[LightGBM] [Info] Size of histogram bin entry: 8\n",
      "[LightGBM] [Info] 27 dense feature groups (227.56 MB) transferred to GPU in 0.068815 secs. 1 sparse feature groups\n",
      "[LightGBM] [Info] Size of histogram bin entry: 8\n",
      "[LightGBM] [Info] 27 dense feature groups (227.62 MB) transferred to GPU in 0.073993 secs. 1 sparse feature groups\n",
      "[LightGBM] [Info] Size of histogram bin entry: 8\n",
      "[LightGBM] [Info] 27 dense feature groups (227.59 MB) transferred to GPU in 0.068052 secs. 1 sparse feature groups\n",
      "[LightGBM] [Info] Size of histogram bin entry: 8\n",
      "[LightGBM] [Info] 27 dense feature groups (227.59 MB) transferred to GPU in 0.066771 secs. 1 sparse feature groups\n",
      "[LightGBM] [Info] Size of histogram bin entry: 8\n",
      "[LightGBM] [Info] 27 dense feature groups (227.59 MB) transferred to GPU in 0.071543 secs. 1 sparse feature groups\n",
      "[LightGBM] [Info] Size of histogram bin entry: 8\n",
      "[LightGBM] [Info] 27 dense feature groups (227.60 MB) transferred to GPU in 0.069849 secs. 1 sparse feature groups\n",
      "[LightGBM] [Info] Size of histogram bin entry: 8\n",
      "[LightGBM] [Info] 27 dense feature groups (227.60 MB) transferred to GPU in 0.073855 secs. 1 sparse feature groups\n",
      "[LightGBM] [Info] Size of histogram bin entry: 8\n",
      "[LightGBM] [Info] 27 dense feature groups (227.58 MB) transferred to GPU in 0.069346 secs. 1 sparse feature groups\n",
      "[LightGBM] [Info] Size of histogram bin entry: 8\n",
      "[LightGBM] [Info] 27 dense feature groups (227.61 MB) transferred to GPU in 0.079297 secs. 1 sparse feature groups\n",
      "[LightGBM] [Info] Size of histogram bin entry: 8\n",
      "[LightGBM] [Info] 27 dense feature groups (227.60 MB) transferred to GPU in 0.074481 secs. 1 sparse feature groups\n",
      "[LightGBM] [Info] Size of histogram bin entry: 8\n",
      "[LightGBM] [Info] 27 dense feature groups (227.58 MB) transferred to GPU in 0.068242 secs. 1 sparse feature groups\n",
      "[LightGBM] [Info] Size of histogram bin entry: 8\n",
      "[LightGBM] [Info] 27 dense feature groups (227.61 MB) transferred to GPU in 0.071825 secs. 1 sparse feature groups\n",
      "[LightGBM] [Info] Size of histogram bin entry: 8\n",
      "[LightGBM] [Info] 27 dense feature groups (227.62 MB) transferred to GPU in 0.075334 secs. 1 sparse feature groups\n",
      "[LightGBM] [Info] Size of histogram bin entry: 8\n",
      "[LightGBM] [Info] 27 dense feature groups (227.58 MB) transferred to GPU in 0.065660 secs. 1 sparse feature groups\n",
      "[LightGBM] [Info] Size of histogram bin entry: 8\n",
      "[LightGBM] [Info] 27 dense feature groups (227.58 MB) transferred to GPU in 0.068177 secs. 1 sparse feature groups\n",
      "[LightGBM] [Info] Size of histogram bin entry: 8\n",
      "[LightGBM] [Info] 27 dense feature groups (227.62 MB) transferred to GPU in 0.075801 secs. 1 sparse feature groups\n",
      "[LightGBM] [Info] Size of histogram bin entry: 8\n",
      "[LightGBM] [Info] 27 dense feature groups (227.60 MB) transferred to GPU in 0.072558 secs. 1 sparse feature groups\n",
      "[LightGBM] [Info] Size of histogram bin entry: 8\n",
      "[LightGBM] [Info] 27 dense feature groups (227.60 MB) transferred to GPU in 0.074337 secs. 1 sparse feature groups\n",
      "[LightGBM] [Info] Size of histogram bin entry: 8\n",
      "[LightGBM] [Info] 27 dense feature groups (227.58 MB) transferred to GPU in 0.068646 secs. 1 sparse feature groups\n",
      "[LightGBM] [Info] Size of histogram bin entry: 8\n",
      "[LightGBM] [Info] 27 dense feature groups (227.59 MB) transferred to GPU in 0.074482 secs. 1 sparse feature groups\n",
      "[LightGBM] [Info] Size of histogram bin entry: 8\n",
      "[LightGBM] [Info] 27 dense feature groups (227.61 MB) transferred to GPU in 0.072436 secs. 1 sparse feature groups\n",
      "[LightGBM] [Warning] min_data_in_leaf is set=58, min_child_samples=20 will be ignored. Current value: min_data_in_leaf=58\n",
      "[LightGBM] [Warning] feature_fraction is set=0.48405371282646237, colsample_bytree=1.0 will be ignored. Current value: feature_fraction=0.48405371282646237\n",
      "[LightGBM] [Warning] lambda_l2 is set=1.8595001316997175e-05, reg_lambda=0.0 will be ignored. Current value: lambda_l2=1.8595001316997175e-05\n",
      "[LightGBM] [Warning] lambda_l1 is set=0.00010781750725473966, reg_alpha=0.0 will be ignored. Current value: lambda_l1=0.00010781750725473966\n",
      "[LightGBM] [Warning] bagging_fraction is set=0.8117184424494785, subsample=1.0 will be ignored. Current value: bagging_fraction=0.8117184424494785\n",
      "[LightGBM] [Warning] bagging_freq is set=4, subsample_freq=0 will be ignored. Current value: bagging_freq=4\n",
      "auc:0.7847705004894925 , log_loss:0.6882010660581983 , ks:0.41882024798674794\n"
     ]
    },
    {
     "name": "stderr",
     "output_type": "stream",
     "text": [
      "[I 2023-10-03 20:56:37,908] Trial 8 finished with value: 0.7847705004894925 and parameters: {'learning_rate': 0.00026740322850337506, 'num_leaves': 115, 'lambda_l1': 0.00010781750725473966, 'lambda_l2': 1.8595001316997175e-05, 'min_data_in_leaf': 58, 'max_depth': 33, 'feature_fraction': 0.48405371282646237, 'bagging_fraction': 0.8117184424494785, 'bagging_freq': 4}. Best is trial 1 with value: 0.8127946513855195.\n"
     ]
    },
    {
     "name": "stdout",
     "output_type": "stream",
     "text": [
      "LGBM - Optimization using optuna\n",
      "[LightGBM] [Warning] min_data_in_leaf is set=5, min_child_samples=20 will be ignored. Current value: min_data_in_leaf=5\n",
      "[LightGBM] [Warning] feature_fraction is set=0.8926768491503212, colsample_bytree=1.0 will be ignored. Current value: feature_fraction=0.8926768491503212\n",
      "[LightGBM] [Warning] lambda_l2 is set=0.019465052710485424, reg_lambda=0.0 will be ignored. Current value: lambda_l2=0.019465052710485424\n",
      "[LightGBM] [Warning] lambda_l1 is set=2.305605061944117e-07, reg_alpha=0.0 will be ignored. Current value: lambda_l1=2.305605061944117e-07\n",
      "[LightGBM] [Warning] bagging_fraction is set=0.8312527182575755, subsample=1.0 will be ignored. Current value: bagging_fraction=0.8312527182575755\n",
      "[LightGBM] [Warning] bagging_freq is set=2, subsample_freq=0 will be ignored. Current value: bagging_freq=2\n",
      "[LightGBM] [Warning] min_data_in_leaf is set=5, min_child_samples=20 will be ignored. Current value: min_data_in_leaf=5\n",
      "[LightGBM] [Warning] feature_fraction is set=0.8926768491503212, colsample_bytree=1.0 will be ignored. Current value: feature_fraction=0.8926768491503212\n",
      "[LightGBM] [Warning] lambda_l2 is set=0.019465052710485424, reg_lambda=0.0 will be ignored. Current value: lambda_l2=0.019465052710485424\n",
      "[LightGBM] [Warning] lambda_l1 is set=2.305605061944117e-07, reg_alpha=0.0 will be ignored. Current value: lambda_l1=2.305605061944117e-07\n",
      "[LightGBM] [Warning] bagging_fraction is set=0.8312527182575755, subsample=1.0 will be ignored. Current value: bagging_fraction=0.8312527182575755\n",
      "[LightGBM] [Warning] bagging_freq is set=2, subsample_freq=0 will be ignored. Current value: bagging_freq=2\n",
      "[LightGBM] [Info] Number of positive: 5564616, number of negative: 4935384\n",
      "[LightGBM] [Info] This is the GPU trainer!!\n",
      "[LightGBM] [Info] Total Bins 6132\n",
      "[LightGBM] [Info] Number of data points in the train set: 10500000, number of used features: 28\n",
      "[LightGBM] [Info] Using GPU Device: NVIDIA GeForce RTX 4090, Vendor: NVIDIA Corporation\n",
      "[LightGBM] [Info] Compiling OpenCL Kernel with 256 bins...\n",
      "[LightGBM] [Info] GPU programs have been built\n",
      "[LightGBM] [Info] Size of histogram bin entry: 8\n",
      "[LightGBM] [Info] 27 dense feature groups (280.38 MB) transferred to GPU in 0.086877 secs. 1 sparse feature groups\n",
      "[LightGBM] [Info] [binary:BoostFromScore]: pavg=0.529963 -> initscore=0.119997\n",
      "[LightGBM] [Info] Start training from score 0.119997\n",
      "[LightGBM] [Info] Size of histogram bin entry: 8\n",
      "[LightGBM] [Info] 27 dense feature groups (233.08 MB) transferred to GPU in 0.071418 secs. 1 sparse feature groups\n",
      "[LightGBM] [Info] Size of histogram bin entry: 8\n",
      "[LightGBM] [Info] 27 dense feature groups (233.07 MB) transferred to GPU in 0.070336 secs. 1 sparse feature groups\n",
      "[LightGBM] [Info] Size of histogram bin entry: 8\n",
      "[LightGBM] [Info] 27 dense feature groups (233.06 MB) transferred to GPU in 0.070716 secs. 1 sparse feature groups\n",
      "[LightGBM] [Info] Size of histogram bin entry: 8\n",
      "[LightGBM] [Info] 27 dense feature groups (233.07 MB) transferred to GPU in 0.070567 secs. 1 sparse feature groups\n",
      "[LightGBM] [Info] Size of histogram bin entry: 8\n",
      "[LightGBM] [Info] 27 dense feature groups (233.02 MB) transferred to GPU in 0.071002 secs. 1 sparse feature groups\n",
      "[LightGBM] [Info] Size of histogram bin entry: 8\n",
      "[LightGBM] [Info] 27 dense feature groups (233.11 MB) transferred to GPU in 0.071180 secs. 1 sparse feature groups\n",
      "[LightGBM] [Info] Size of histogram bin entry: 8\n",
      "[LightGBM] [Info] 27 dense feature groups (233.07 MB) transferred to GPU in 0.073967 secs. 1 sparse feature groups\n",
      "[LightGBM] [Info] Size of histogram bin entry: 8\n",
      "[LightGBM] [Info] 27 dense feature groups (233.08 MB) transferred to GPU in 0.071749 secs. 1 sparse feature groups\n",
      "[LightGBM] [Info] Size of histogram bin entry: 8\n",
      "[LightGBM] [Info] 27 dense feature groups (233.08 MB) transferred to GPU in 0.072557 secs. 1 sparse feature groups\n",
      "[LightGBM] [Info] Size of histogram bin entry: 8\n",
      "[LightGBM] [Info] 27 dense feature groups (233.08 MB) transferred to GPU in 0.074696 secs. 1 sparse feature groups\n",
      "[LightGBM] [Info] Size of histogram bin entry: 8\n",
      "[LightGBM] [Info] 27 dense feature groups (233.09 MB) transferred to GPU in 0.082591 secs. 1 sparse feature groups\n",
      "[LightGBM] [Info] Size of histogram bin entry: 8\n",
      "[LightGBM] [Info] 27 dense feature groups (233.04 MB) transferred to GPU in 0.083283 secs. 1 sparse feature groups\n",
      "[LightGBM] [Info] Size of histogram bin entry: 8\n",
      "[LightGBM] [Info] 27 dense feature groups (233.10 MB) transferred to GPU in 0.083846 secs. 1 sparse feature groups\n",
      "[LightGBM] [Info] Size of histogram bin entry: 8\n",
      "[LightGBM] [Info] 27 dense feature groups (233.07 MB) transferred to GPU in 0.082931 secs. 1 sparse feature groups\n",
      "[LightGBM] [Info] Size of histogram bin entry: 8\n",
      "[LightGBM] [Info] 27 dense feature groups (233.07 MB) transferred to GPU in 0.071986 secs. 1 sparse feature groups\n",
      "[LightGBM] [Info] Size of histogram bin entry: 8\n",
      "[LightGBM] [Info] 27 dense feature groups (233.09 MB) transferred to GPU in 0.076564 secs. 1 sparse feature groups\n",
      "[LightGBM] [Info] Size of histogram bin entry: 8\n",
      "[LightGBM] [Info] 27 dense feature groups (233.10 MB) transferred to GPU in 0.071432 secs. 1 sparse feature groups\n",
      "[LightGBM] [Info] Size of histogram bin entry: 8\n",
      "[LightGBM] [Info] 27 dense feature groups (233.05 MB) transferred to GPU in 0.069568 secs. 1 sparse feature groups\n",
      "[LightGBM] [Info] Size of histogram bin entry: 8\n",
      "[LightGBM] [Info] 27 dense feature groups (233.07 MB) transferred to GPU in 0.069633 secs. 1 sparse feature groups\n",
      "[LightGBM] [Info] Size of histogram bin entry: 8\n",
      "[LightGBM] [Info] 27 dense feature groups (233.09 MB) transferred to GPU in 0.070574 secs. 1 sparse feature groups\n",
      "[LightGBM] [Info] Size of histogram bin entry: 8\n",
      "[LightGBM] [Info] 27 dense feature groups (233.05 MB) transferred to GPU in 0.070432 secs. 1 sparse feature groups\n",
      "[LightGBM] [Info] Size of histogram bin entry: 8\n",
      "[LightGBM] [Info] 27 dense feature groups (233.08 MB) transferred to GPU in 0.070915 secs. 1 sparse feature groups\n",
      "[LightGBM] [Info] Size of histogram bin entry: 8\n",
      "[LightGBM] [Info] 27 dense feature groups (233.06 MB) transferred to GPU in 0.072005 secs. 1 sparse feature groups\n",
      "[LightGBM] [Info] Size of histogram bin entry: 8\n",
      "[LightGBM] [Info] 27 dense feature groups (233.07 MB) transferred to GPU in 0.074946 secs. 1 sparse feature groups\n",
      "[LightGBM] [Info] Size of histogram bin entry: 8\n",
      "[LightGBM] [Info] 27 dense feature groups (233.09 MB) transferred to GPU in 0.069052 secs. 1 sparse feature groups\n",
      "[LightGBM] [Info] Size of histogram bin entry: 8\n",
      "[LightGBM] [Info] 27 dense feature groups (233.07 MB) transferred to GPU in 0.070370 secs. 1 sparse feature groups\n",
      "[LightGBM] [Info] Size of histogram bin entry: 8\n",
      "[LightGBM] [Info] 27 dense feature groups (233.07 MB) transferred to GPU in 0.074475 secs. 1 sparse feature groups\n",
      "[LightGBM] [Info] Size of histogram bin entry: 8\n",
      "[LightGBM] [Info] 27 dense feature groups (233.07 MB) transferred to GPU in 0.068931 secs. 1 sparse feature groups\n",
      "[LightGBM] [Info] Size of histogram bin entry: 8\n",
      "[LightGBM] [Info] 27 dense feature groups (233.14 MB) transferred to GPU in 0.076151 secs. 1 sparse feature groups\n",
      "[LightGBM] [Info] Size of histogram bin entry: 8\n",
      "[LightGBM] [Info] 27 dense feature groups (233.12 MB) transferred to GPU in 0.070750 secs. 1 sparse feature groups\n",
      "[LightGBM] [Info] Size of histogram bin entry: 8\n",
      "[LightGBM] [Info] 27 dense feature groups (233.09 MB) transferred to GPU in 0.077970 secs. 1 sparse feature groups\n",
      "[LightGBM] [Info] Size of histogram bin entry: 8\n",
      "[LightGBM] [Info] 27 dense feature groups (233.09 MB) transferred to GPU in 0.076962 secs. 1 sparse feature groups\n",
      "[LightGBM] [Info] Size of histogram bin entry: 8\n",
      "[LightGBM] [Info] 27 dense feature groups (233.12 MB) transferred to GPU in 0.070160 secs. 1 sparse feature groups\n",
      "[LightGBM] [Info] Size of histogram bin entry: 8\n",
      "[LightGBM] [Info] 27 dense feature groups (233.07 MB) transferred to GPU in 0.068123 secs. 1 sparse feature groups\n",
      "[LightGBM] [Info] Size of histogram bin entry: 8\n",
      "[LightGBM] [Info] 27 dense feature groups (233.02 MB) transferred to GPU in 0.068707 secs. 1 sparse feature groups\n",
      "[LightGBM] [Info] Size of histogram bin entry: 8\n",
      "[LightGBM] [Info] 27 dense feature groups (233.08 MB) transferred to GPU in 0.070919 secs. 1 sparse feature groups\n"
     ]
    },
    {
     "name": "stdout",
     "output_type": "stream",
     "text": [
      "[LightGBM] [Info] Size of histogram bin entry: 8\n",
      "[LightGBM] [Info] 27 dense feature groups (233.06 MB) transferred to GPU in 0.069434 secs. 1 sparse feature groups\n",
      "[LightGBM] [Info] Size of histogram bin entry: 8\n",
      "[LightGBM] [Info] 27 dense feature groups (233.06 MB) transferred to GPU in 0.070448 secs. 1 sparse feature groups\n",
      "[LightGBM] [Info] Size of histogram bin entry: 8\n",
      "[LightGBM] [Info] 27 dense feature groups (233.08 MB) transferred to GPU in 0.077930 secs. 1 sparse feature groups\n",
      "[LightGBM] [Info] Size of histogram bin entry: 8\n",
      "[LightGBM] [Info] 27 dense feature groups (232.99 MB) transferred to GPU in 0.070848 secs. 1 sparse feature groups\n",
      "[LightGBM] [Info] Size of histogram bin entry: 8\n",
      "[LightGBM] [Info] 27 dense feature groups (233.06 MB) transferred to GPU in 0.068938 secs. 1 sparse feature groups\n",
      "[LightGBM] [Info] Size of histogram bin entry: 8\n",
      "[LightGBM] [Info] 27 dense feature groups (233.06 MB) transferred to GPU in 0.082223 secs. 1 sparse feature groups\n",
      "[LightGBM] [Info] Size of histogram bin entry: 8\n",
      "[LightGBM] [Info] 27 dense feature groups (233.08 MB) transferred to GPU in 0.070375 secs. 1 sparse feature groups\n",
      "[LightGBM] [Info] Size of histogram bin entry: 8\n",
      "[LightGBM] [Info] 27 dense feature groups (233.03 MB) transferred to GPU in 0.069085 secs. 1 sparse feature groups\n",
      "[LightGBM] [Info] Size of histogram bin entry: 8\n",
      "[LightGBM] [Info] 27 dense feature groups (233.06 MB) transferred to GPU in 0.069867 secs. 1 sparse feature groups\n",
      "[LightGBM] [Info] Size of histogram bin entry: 8\n",
      "[LightGBM] [Info] 27 dense feature groups (233.06 MB) transferred to GPU in 0.070164 secs. 1 sparse feature groups\n",
      "[LightGBM] [Info] Size of histogram bin entry: 8\n",
      "[LightGBM] [Info] 27 dense feature groups (233.04 MB) transferred to GPU in 0.070952 secs. 1 sparse feature groups\n",
      "[LightGBM] [Info] Size of histogram bin entry: 8\n",
      "[LightGBM] [Info] 27 dense feature groups (233.10 MB) transferred to GPU in 0.070362 secs. 1 sparse feature groups\n",
      "[LightGBM] [Info] Size of histogram bin entry: 8\n",
      "[LightGBM] [Info] 27 dense feature groups (233.10 MB) transferred to GPU in 0.069180 secs. 1 sparse feature groups\n",
      "[LightGBM] [Info] Size of histogram bin entry: 8\n",
      "[LightGBM] [Info] 27 dense feature groups (233.06 MB) transferred to GPU in 0.070801 secs. 1 sparse feature groups\n",
      "[LightGBM] [Warning] min_data_in_leaf is set=5, min_child_samples=20 will be ignored. Current value: min_data_in_leaf=5\n",
      "[LightGBM] [Warning] feature_fraction is set=0.8926768491503212, colsample_bytree=1.0 will be ignored. Current value: feature_fraction=0.8926768491503212\n",
      "[LightGBM] [Warning] lambda_l2 is set=0.019465052710485424, reg_lambda=0.0 will be ignored. Current value: lambda_l2=0.019465052710485424\n",
      "[LightGBM] [Warning] lambda_l1 is set=2.305605061944117e-07, reg_alpha=0.0 will be ignored. Current value: lambda_l1=2.305605061944117e-07\n",
      "[LightGBM] [Warning] bagging_fraction is set=0.8312527182575755, subsample=1.0 will be ignored. Current value: bagging_fraction=0.8312527182575755\n",
      "[LightGBM] [Warning] bagging_freq is set=2, subsample_freq=0 will be ignored. Current value: bagging_freq=2\n",
      "auc:0.8086987084626934 , log_loss:0.5372000702169989 , ks:0.45733282202886\n"
     ]
    },
    {
     "name": "stderr",
     "output_type": "stream",
     "text": [
      "[I 2023-10-03 20:57:08,713] Trial 9 finished with value: 0.8086987084626934 and parameters: {'learning_rate': 0.03243587843893011, 'num_leaves': 114, 'lambda_l1': 2.305605061944117e-07, 'lambda_l2': 0.019465052710485424, 'min_data_in_leaf': 5, 'max_depth': 29, 'feature_fraction': 0.8926768491503212, 'bagging_fraction': 0.8312527182575755, 'bagging_freq': 2}. Best is trial 1 with value: 0.8127946513855195.\n"
     ]
    },
    {
     "name": "stdout",
     "output_type": "stream",
     "text": [
      "LGBM - Optimization using optuna\n",
      "[LightGBM] [Warning] min_data_in_leaf is set=43, min_child_samples=20 will be ignored. Current value: min_data_in_leaf=43\n",
      "[LightGBM] [Warning] feature_fraction is set=0.9584452207797062, colsample_bytree=1.0 will be ignored. Current value: feature_fraction=0.9584452207797062\n",
      "[LightGBM] [Warning] lambda_l2 is set=1.4751336293816268e-08, reg_lambda=0.0 will be ignored. Current value: lambda_l2=1.4751336293816268e-08\n",
      "[LightGBM] [Warning] lambda_l1 is set=0.5960909378421199, reg_alpha=0.0 will be ignored. Current value: lambda_l1=0.5960909378421199\n",
      "[LightGBM] [Warning] bagging_fraction is set=0.9985455050014735, subsample=1.0 will be ignored. Current value: bagging_fraction=0.9985455050014735\n",
      "[LightGBM] [Warning] bagging_freq is set=5, subsample_freq=0 will be ignored. Current value: bagging_freq=5\n",
      "[LightGBM] [Warning] min_data_in_leaf is set=43, min_child_samples=20 will be ignored. Current value: min_data_in_leaf=43\n",
      "[LightGBM] [Warning] feature_fraction is set=0.9584452207797062, colsample_bytree=1.0 will be ignored. Current value: feature_fraction=0.9584452207797062\n",
      "[LightGBM] [Warning] lambda_l2 is set=1.4751336293816268e-08, reg_lambda=0.0 will be ignored. Current value: lambda_l2=1.4751336293816268e-08\n",
      "[LightGBM] [Warning] lambda_l1 is set=0.5960909378421199, reg_alpha=0.0 will be ignored. Current value: lambda_l1=0.5960909378421199\n",
      "[LightGBM] [Warning] bagging_fraction is set=0.9985455050014735, subsample=1.0 will be ignored. Current value: bagging_fraction=0.9985455050014735\n",
      "[LightGBM] [Warning] bagging_freq is set=5, subsample_freq=0 will be ignored. Current value: bagging_freq=5\n",
      "[LightGBM] [Info] Number of positive: 5564616, number of negative: 4935384\n",
      "[LightGBM] [Info] This is the GPU trainer!!\n",
      "[LightGBM] [Info] Total Bins 6132\n",
      "[LightGBM] [Info] Number of data points in the train set: 10500000, number of used features: 28\n",
      "[LightGBM] [Info] Using GPU Device: NVIDIA GeForce RTX 4090, Vendor: NVIDIA Corporation\n",
      "[LightGBM] [Info] Compiling OpenCL Kernel with 256 bins...\n",
      "[LightGBM] [Info] GPU programs have been built\n",
      "[LightGBM] [Info] Size of histogram bin entry: 8\n",
      "[LightGBM] [Info] 27 dense feature groups (280.38 MB) transferred to GPU in 0.086755 secs. 1 sparse feature groups\n",
      "[LightGBM] [Info] [binary:BoostFromScore]: pavg=0.529963 -> initscore=0.119997\n",
      "[LightGBM] [Info] Start training from score 0.119997\n",
      "[LightGBM] [Info] Size of histogram bin entry: 8\n",
      "[LightGBM] [Info] 27 dense feature groups (279.98 MB) transferred to GPU in 0.096936 secs. 1 sparse feature groups\n",
      "[LightGBM] [Info] Size of histogram bin entry: 8\n",
      "[LightGBM] [Info] 27 dense feature groups (279.98 MB) transferred to GPU in 0.101592 secs. 1 sparse feature groups\n",
      "[LightGBM] [Info] Size of histogram bin entry: 8\n",
      "[LightGBM] [Info] 27 dense feature groups (279.98 MB) transferred to GPU in 0.097076 secs. 1 sparse feature groups\n",
      "[LightGBM] [Info] Size of histogram bin entry: 8\n",
      "[LightGBM] [Info] 27 dense feature groups (279.98 MB) transferred to GPU in 0.099161 secs. 1 sparse feature groups\n",
      "[LightGBM] [Info] Size of histogram bin entry: 8\n",
      "[LightGBM] [Info] 27 dense feature groups (279.98 MB) transferred to GPU in 0.102120 secs. 1 sparse feature groups\n",
      "[LightGBM] [Info] Size of histogram bin entry: 8\n",
      "[LightGBM] [Info] 27 dense feature groups (279.98 MB) transferred to GPU in 0.103737 secs. 1 sparse feature groups\n",
      "[LightGBM] [Info] Size of histogram bin entry: 8\n",
      "[LightGBM] [Info] 27 dense feature groups (279.98 MB) transferred to GPU in 0.114534 secs. 1 sparse feature groups\n",
      "[LightGBM] [Info] Size of histogram bin entry: 8\n",
      "[LightGBM] [Info] 27 dense feature groups (279.98 MB) transferred to GPU in 0.111825 secs. 1 sparse feature groups\n",
      "[LightGBM] [Info] Size of histogram bin entry: 8\n",
      "[LightGBM] [Info] 27 dense feature groups (279.98 MB) transferred to GPU in 0.111720 secs. 1 sparse feature groups\n",
      "[LightGBM] [Info] Size of histogram bin entry: 8\n",
      "[LightGBM] [Info] 27 dense feature groups (279.98 MB) transferred to GPU in 0.107925 secs. 1 sparse feature groups\n",
      "[LightGBM] [Info] Size of histogram bin entry: 8\n",
      "[LightGBM] [Info] 27 dense feature groups (279.98 MB) transferred to GPU in 0.103541 secs. 1 sparse feature groups\n",
      "[LightGBM] [Info] Size of histogram bin entry: 8\n",
      "[LightGBM] [Info] 27 dense feature groups (279.98 MB) transferred to GPU in 0.121742 secs. 1 sparse feature groups\n",
      "[LightGBM] [Info] Size of histogram bin entry: 8\n",
      "[LightGBM] [Info] 27 dense feature groups (279.98 MB) transferred to GPU in 0.102781 secs. 1 sparse feature groups\n",
      "[LightGBM] [Info] Size of histogram bin entry: 8\n",
      "[LightGBM] [Info] 27 dense feature groups (279.98 MB) transferred to GPU in 0.104200 secs. 1 sparse feature groups\n",
      "[LightGBM] [Info] Size of histogram bin entry: 8\n",
      "[LightGBM] [Info] 27 dense feature groups (279.98 MB) transferred to GPU in 0.100900 secs. 1 sparse feature groups\n",
      "[LightGBM] [Info] Size of histogram bin entry: 8\n",
      "[LightGBM] [Info] 27 dense feature groups (279.98 MB) transferred to GPU in 0.107465 secs. 1 sparse feature groups\n",
      "[LightGBM] [Info] Size of histogram bin entry: 8\n",
      "[LightGBM] [Info] 27 dense feature groups (279.98 MB) transferred to GPU in 0.102856 secs. 1 sparse feature groups\n",
      "[LightGBM] [Info] Size of histogram bin entry: 8\n",
      "[LightGBM] [Info] 27 dense feature groups (279.98 MB) transferred to GPU in 0.103366 secs. 1 sparse feature groups\n",
      "[LightGBM] [Info] Size of histogram bin entry: 8\n",
      "[LightGBM] [Info] 27 dense feature groups (279.98 MB) transferred to GPU in 0.102098 secs. 1 sparse feature groups\n",
      "[LightGBM] [Info] Size of histogram bin entry: 8\n",
      "[LightGBM] [Info] 27 dense feature groups (279.97 MB) transferred to GPU in 0.104126 secs. 1 sparse feature groups\n",
      "[LightGBM] [Warning] min_data_in_leaf is set=43, min_child_samples=20 will be ignored. Current value: min_data_in_leaf=43\n",
      "[LightGBM] [Warning] feature_fraction is set=0.9584452207797062, colsample_bytree=1.0 will be ignored. Current value: feature_fraction=0.9584452207797062\n",
      "[LightGBM] [Warning] lambda_l2 is set=1.4751336293816268e-08, reg_lambda=0.0 will be ignored. Current value: lambda_l2=1.4751336293816268e-08\n",
      "[LightGBM] [Warning] lambda_l1 is set=0.5960909378421199, reg_alpha=0.0 will be ignored. Current value: lambda_l1=0.5960909378421199\n",
      "[LightGBM] [Warning] bagging_fraction is set=0.9985455050014735, subsample=1.0 will be ignored. Current value: bagging_fraction=0.9985455050014735\n",
      "[LightGBM] [Warning] bagging_freq is set=5, subsample_freq=0 will be ignored. Current value: bagging_freq=5\n",
      "auc:0.8069636796450168 , log_loss:0.5337800538414925 , ks:0.4550668684795264\n"
     ]
    },
    {
     "name": "stderr",
     "output_type": "stream",
     "text": [
      "[I 2023-10-03 20:57:29,661] Trial 10 finished with value: 0.8069636796450168 and parameters: {'learning_rate': 0.09952555158402306, 'num_leaves': 209, 'lambda_l1': 0.5960909378421199, 'lambda_l2': 1.4751336293816268e-08, 'min_data_in_leaf': 43, 'max_depth': 5, 'feature_fraction': 0.9584452207797062, 'bagging_fraction': 0.9985455050014735, 'bagging_freq': 5}. Best is trial 1 with value: 0.8127946513855195.\n"
     ]
    },
    {
     "name": "stdout",
     "output_type": "stream",
     "text": [
      "LGBM - Optimization using optuna\n",
      "[LightGBM] [Warning] min_data_in_leaf is set=63, min_child_samples=20 will be ignored. Current value: min_data_in_leaf=63\n",
      "[LightGBM] [Warning] feature_fraction is set=0.9006353925573062, colsample_bytree=1.0 will be ignored. Current value: feature_fraction=0.9006353925573062\n",
      "[LightGBM] [Warning] lambda_l2 is set=0.006606004299886459, reg_lambda=0.0 will be ignored. Current value: lambda_l2=0.006606004299886459\n",
      "[LightGBM] [Warning] lambda_l1 is set=1.11163303184011e-08, reg_alpha=0.0 will be ignored. Current value: lambda_l1=1.11163303184011e-08\n",
      "[LightGBM] [Warning] bagging_fraction is set=0.7677457842521488, subsample=1.0 will be ignored. Current value: bagging_fraction=0.7677457842521488\n",
      "[LightGBM] [Warning] bagging_freq is set=1, subsample_freq=0 will be ignored. Current value: bagging_freq=1\n",
      "[LightGBM] [Warning] min_data_in_leaf is set=63, min_child_samples=20 will be ignored. Current value: min_data_in_leaf=63\n",
      "[LightGBM] [Warning] feature_fraction is set=0.9006353925573062, colsample_bytree=1.0 will be ignored. Current value: feature_fraction=0.9006353925573062\n",
      "[LightGBM] [Warning] lambda_l2 is set=0.006606004299886459, reg_lambda=0.0 will be ignored. Current value: lambda_l2=0.006606004299886459\n",
      "[LightGBM] [Warning] lambda_l1 is set=1.11163303184011e-08, reg_alpha=0.0 will be ignored. Current value: lambda_l1=1.11163303184011e-08\n",
      "[LightGBM] [Warning] bagging_fraction is set=0.7677457842521488, subsample=1.0 will be ignored. Current value: bagging_fraction=0.7677457842521488\n",
      "[LightGBM] [Warning] bagging_freq is set=1, subsample_freq=0 will be ignored. Current value: bagging_freq=1\n",
      "[LightGBM] [Info] Number of positive: 5564616, number of negative: 4935384\n",
      "[LightGBM] [Info] This is the GPU trainer!!\n",
      "[LightGBM] [Info] Total Bins 6132\n",
      "[LightGBM] [Info] Number of data points in the train set: 10500000, number of used features: 28\n",
      "[LightGBM] [Info] Using GPU Device: NVIDIA GeForce RTX 4090, Vendor: NVIDIA Corporation\n",
      "[LightGBM] [Info] Compiling OpenCL Kernel with 256 bins...\n",
      "[LightGBM] [Info] GPU programs have been built\n",
      "[LightGBM] [Info] Size of histogram bin entry: 8\n",
      "[LightGBM] [Info] 27 dense feature groups (280.38 MB) transferred to GPU in 0.101878 secs. 1 sparse feature groups\n",
      "[LightGBM] [Info] [binary:BoostFromScore]: pavg=0.529963 -> initscore=0.119997\n",
      "[LightGBM] [Info] Start training from score 0.119997\n",
      "[LightGBM] [Warning] min_data_in_leaf is set=63, min_child_samples=20 will be ignored. Current value: min_data_in_leaf=63\n",
      "[LightGBM] [Warning] feature_fraction is set=0.9006353925573062, colsample_bytree=1.0 will be ignored. Current value: feature_fraction=0.9006353925573062\n",
      "[LightGBM] [Warning] lambda_l2 is set=0.006606004299886459, reg_lambda=0.0 will be ignored. Current value: lambda_l2=0.006606004299886459\n",
      "[LightGBM] [Warning] lambda_l1 is set=1.11163303184011e-08, reg_alpha=0.0 will be ignored. Current value: lambda_l1=1.11163303184011e-08\n",
      "[LightGBM] [Warning] bagging_fraction is set=0.7677457842521488, subsample=1.0 will be ignored. Current value: bagging_fraction=0.7677457842521488\n",
      "[LightGBM] [Warning] bagging_freq is set=1, subsample_freq=0 will be ignored. Current value: bagging_freq=1\n",
      "auc:0.8195593416686496 , log_loss:0.5178946135657353 , ks:0.47522095694941924\n"
     ]
    },
    {
     "name": "stderr",
     "output_type": "stream",
     "text": [
      "[I 2023-10-03 20:57:51,345] Trial 11 finished with value: 0.8195593416686496 and parameters: {'learning_rate': 0.08470417460145674, 'num_leaves': 80, 'lambda_l1': 1.11163303184011e-08, 'lambda_l2': 0.006606004299886459, 'min_data_in_leaf': 63, 'max_depth': 47, 'feature_fraction': 0.9006353925573062, 'bagging_fraction': 0.7677457842521488, 'bagging_freq': 1}. Best is trial 11 with value: 0.8195593416686496.\n"
     ]
    },
    {
     "name": "stdout",
     "output_type": "stream",
     "text": [
      "LGBM - Optimization using optuna\n",
      "[LightGBM] [Warning] min_data_in_leaf is set=68, min_child_samples=20 will be ignored. Current value: min_data_in_leaf=68\n",
      "[LightGBM] [Warning] feature_fraction is set=0.8696039927765576, colsample_bytree=1.0 will be ignored. Current value: feature_fraction=0.8696039927765576\n",
      "[LightGBM] [Warning] lambda_l2 is set=0.0005390703808079336, reg_lambda=0.0 will be ignored. Current value: lambda_l2=0.0005390703808079336\n",
      "[LightGBM] [Warning] lambda_l1 is set=1.8567784235472534e-08, reg_alpha=0.0 will be ignored. Current value: lambda_l1=1.8567784235472534e-08\n",
      "[LightGBM] [Warning] bagging_fraction is set=0.7134450238920119, subsample=1.0 will be ignored. Current value: bagging_fraction=0.7134450238920119\n",
      "[LightGBM] [Warning] bagging_freq is set=1, subsample_freq=0 will be ignored. Current value: bagging_freq=1\n",
      "[LightGBM] [Warning] min_data_in_leaf is set=68, min_child_samples=20 will be ignored. Current value: min_data_in_leaf=68\n",
      "[LightGBM] [Warning] feature_fraction is set=0.8696039927765576, colsample_bytree=1.0 will be ignored. Current value: feature_fraction=0.8696039927765576\n",
      "[LightGBM] [Warning] lambda_l2 is set=0.0005390703808079336, reg_lambda=0.0 will be ignored. Current value: lambda_l2=0.0005390703808079336\n",
      "[LightGBM] [Warning] lambda_l1 is set=1.8567784235472534e-08, reg_alpha=0.0 will be ignored. Current value: lambda_l1=1.8567784235472534e-08\n",
      "[LightGBM] [Warning] bagging_fraction is set=0.7134450238920119, subsample=1.0 will be ignored. Current value: bagging_fraction=0.7134450238920119\n",
      "[LightGBM] [Warning] bagging_freq is set=1, subsample_freq=0 will be ignored. Current value: bagging_freq=1\n",
      "[LightGBM] [Info] Number of positive: 5564616, number of negative: 4935384\n",
      "[LightGBM] [Info] This is the GPU trainer!!\n",
      "[LightGBM] [Info] Total Bins 6132\n",
      "[LightGBM] [Info] Number of data points in the train set: 10500000, number of used features: 28\n",
      "[LightGBM] [Info] Using GPU Device: NVIDIA GeForce RTX 4090, Vendor: NVIDIA Corporation\n",
      "[LightGBM] [Info] Compiling OpenCL Kernel with 256 bins...\n",
      "[LightGBM] [Info] GPU programs have been built\n",
      "[LightGBM] [Info] Size of histogram bin entry: 8\n",
      "[LightGBM] [Info] 27 dense feature groups (280.38 MB) transferred to GPU in 0.087890 secs. 1 sparse feature groups\n",
      "[LightGBM] [Info] [binary:BoostFromScore]: pavg=0.529963 -> initscore=0.119997\n",
      "[LightGBM] [Info] Start training from score 0.119997\n",
      "[LightGBM] [Warning] min_data_in_leaf is set=68, min_child_samples=20 will be ignored. Current value: min_data_in_leaf=68\n",
      "[LightGBM] [Warning] feature_fraction is set=0.8696039927765576, colsample_bytree=1.0 will be ignored. Current value: feature_fraction=0.8696039927765576\n",
      "[LightGBM] [Warning] lambda_l2 is set=0.0005390703808079336, reg_lambda=0.0 will be ignored. Current value: lambda_l2=0.0005390703808079336\n",
      "[LightGBM] [Warning] lambda_l1 is set=1.8567784235472534e-08, reg_alpha=0.0 will be ignored. Current value: lambda_l1=1.8567784235472534e-08\n",
      "[LightGBM] [Warning] bagging_fraction is set=0.7134450238920119, subsample=1.0 will be ignored. Current value: bagging_fraction=0.7134450238920119\n",
      "[LightGBM] [Warning] bagging_freq is set=1, subsample_freq=0 will be ignored. Current value: bagging_freq=1\n",
      "auc:0.817331073334812 , log_loss:0.520728496272681 , ks:0.47163754819264037\n"
     ]
    },
    {
     "name": "stderr",
     "output_type": "stream",
     "text": [
      "[I 2023-10-03 20:58:11,604] Trial 12 finished with value: 0.817331073334812 and parameters: {'learning_rate': 0.08472376772626221, 'num_leaves': 64, 'lambda_l1': 1.8567784235472534e-08, 'lambda_l2': 0.0005390703808079336, 'min_data_in_leaf': 68, 'max_depth': 45, 'feature_fraction': 0.8696039927765576, 'bagging_fraction': 0.7134450238920119, 'bagging_freq': 1}. Best is trial 11 with value: 0.8195593416686496.\n"
     ]
    },
    {
     "name": "stdout",
     "output_type": "stream",
     "text": [
      "LGBM - Optimization using optuna\n",
      "[LightGBM] [Warning] min_data_in_leaf is set=50, min_child_samples=20 will be ignored. Current value: min_data_in_leaf=50\n",
      "[LightGBM] [Warning] feature_fraction is set=0.8037782843647776, colsample_bytree=1.0 will be ignored. Current value: feature_fraction=0.8037782843647776\n",
      "[LightGBM] [Warning] lambda_l2 is set=0.0013628659863395836, reg_lambda=0.0 will be ignored. Current value: lambda_l2=0.0013628659863395836\n",
      "[LightGBM] [Warning] lambda_l1 is set=1.2718863851266083e-08, reg_alpha=0.0 will be ignored. Current value: lambda_l1=1.2718863851266083e-08\n",
      "[LightGBM] [Warning] bagging_fraction is set=0.7209793715424803, subsample=1.0 will be ignored. Current value: bagging_fraction=0.7209793715424803\n",
      "[LightGBM] [Warning] bagging_freq is set=1, subsample_freq=0 will be ignored. Current value: bagging_freq=1\n",
      "[LightGBM] [Warning] min_data_in_leaf is set=50, min_child_samples=20 will be ignored. Current value: min_data_in_leaf=50\n",
      "[LightGBM] [Warning] feature_fraction is set=0.8037782843647776, colsample_bytree=1.0 will be ignored. Current value: feature_fraction=0.8037782843647776\n",
      "[LightGBM] [Warning] lambda_l2 is set=0.0013628659863395836, reg_lambda=0.0 will be ignored. Current value: lambda_l2=0.0013628659863395836\n",
      "[LightGBM] [Warning] lambda_l1 is set=1.2718863851266083e-08, reg_alpha=0.0 will be ignored. Current value: lambda_l1=1.2718863851266083e-08\n",
      "[LightGBM] [Warning] bagging_fraction is set=0.7209793715424803, subsample=1.0 will be ignored. Current value: bagging_fraction=0.7209793715424803\n",
      "[LightGBM] [Warning] bagging_freq is set=1, subsample_freq=0 will be ignored. Current value: bagging_freq=1\n",
      "[LightGBM] [Info] Number of positive: 5564616, number of negative: 4935384\n",
      "[LightGBM] [Info] This is the GPU trainer!!\n",
      "[LightGBM] [Info] Total Bins 6132\n",
      "[LightGBM] [Info] Number of data points in the train set: 10500000, number of used features: 28\n",
      "[LightGBM] [Info] Using GPU Device: NVIDIA GeForce RTX 4090, Vendor: NVIDIA Corporation\n",
      "[LightGBM] [Info] Compiling OpenCL Kernel with 256 bins...\n",
      "[LightGBM] [Info] GPU programs have been built\n",
      "[LightGBM] [Info] Size of histogram bin entry: 8\n",
      "[LightGBM] [Info] 27 dense feature groups (280.38 MB) transferred to GPU in 0.095532 secs. 1 sparse feature groups\n",
      "[LightGBM] [Info] [binary:BoostFromScore]: pavg=0.529963 -> initscore=0.119997\n",
      "[LightGBM] [Info] Start training from score 0.119997\n",
      "[LightGBM] [Warning] min_data_in_leaf is set=50, min_child_samples=20 will be ignored. Current value: min_data_in_leaf=50\n",
      "[LightGBM] [Warning] feature_fraction is set=0.8037782843647776, colsample_bytree=1.0 will be ignored. Current value: feature_fraction=0.8037782843647776\n",
      "[LightGBM] [Warning] lambda_l2 is set=0.0013628659863395836, reg_lambda=0.0 will be ignored. Current value: lambda_l2=0.0013628659863395836\n",
      "[LightGBM] [Warning] lambda_l1 is set=1.2718863851266083e-08, reg_alpha=0.0 will be ignored. Current value: lambda_l1=1.2718863851266083e-08\n",
      "[LightGBM] [Warning] bagging_fraction is set=0.7209793715424803, subsample=1.0 will be ignored. Current value: bagging_fraction=0.7209793715424803\n",
      "[LightGBM] [Warning] bagging_freq is set=1, subsample_freq=0 will be ignored. Current value: bagging_freq=1\n",
      "auc:0.8088917899761847 , log_loss:0.5308639175639515 , ks:0.45761750061247447\n"
     ]
    },
    {
     "name": "stderr",
     "output_type": "stream",
     "text": [
      "[I 2023-10-03 20:58:28,728] Trial 13 finished with value: 0.8088917899761847 and parameters: {'learning_rate': 0.0956753130347302, 'num_leaves': 25, 'lambda_l1': 1.2718863851266083e-08, 'lambda_l2': 0.0013628659863395836, 'min_data_in_leaf': 50, 'max_depth': 48, 'feature_fraction': 0.8037782843647776, 'bagging_fraction': 0.7209793715424803, 'bagging_freq': 1}. Best is trial 11 with value: 0.8195593416686496.\n"
     ]
    },
    {
     "name": "stdout",
     "output_type": "stream",
     "text": [
      "LGBM - Optimization using optuna\n",
      "[LightGBM] [Warning] min_data_in_leaf is set=63, min_child_samples=20 will be ignored. Current value: min_data_in_leaf=63\n",
      "[LightGBM] [Warning] feature_fraction is set=0.9837389235538968, colsample_bytree=1.0 will be ignored. Current value: feature_fraction=0.9837389235538968\n",
      "[LightGBM] [Warning] lambda_l2 is set=0.01573445643147286, reg_lambda=0.0 will be ignored. Current value: lambda_l2=0.01573445643147286\n",
      "[LightGBM] [Warning] lambda_l1 is set=1.1234050060401955e-08, reg_alpha=0.0 will be ignored. Current value: lambda_l1=1.1234050060401955e-08\n",
      "[LightGBM] [Warning] bagging_fraction is set=0.4310814176537316, subsample=1.0 will be ignored. Current value: bagging_fraction=0.4310814176537316\n",
      "[LightGBM] [Warning] bagging_freq is set=2, subsample_freq=0 will be ignored. Current value: bagging_freq=2\n",
      "[LightGBM] [Warning] min_data_in_leaf is set=63, min_child_samples=20 will be ignored. Current value: min_data_in_leaf=63\n",
      "[LightGBM] [Warning] feature_fraction is set=0.9837389235538968, colsample_bytree=1.0 will be ignored. Current value: feature_fraction=0.9837389235538968\n",
      "[LightGBM] [Warning] lambda_l2 is set=0.01573445643147286, reg_lambda=0.0 will be ignored. Current value: lambda_l2=0.01573445643147286\n",
      "[LightGBM] [Warning] lambda_l1 is set=1.1234050060401955e-08, reg_alpha=0.0 will be ignored. Current value: lambda_l1=1.1234050060401955e-08\n",
      "[LightGBM] [Warning] bagging_fraction is set=0.4310814176537316, subsample=1.0 will be ignored. Current value: bagging_fraction=0.4310814176537316\n",
      "[LightGBM] [Warning] bagging_freq is set=2, subsample_freq=0 will be ignored. Current value: bagging_freq=2\n",
      "[LightGBM] [Info] Number of positive: 5564616, number of negative: 4935384\n",
      "[LightGBM] [Info] This is the GPU trainer!!\n",
      "[LightGBM] [Info] Total Bins 6132\n",
      "[LightGBM] [Info] Number of data points in the train set: 10500000, number of used features: 28\n",
      "[LightGBM] [Info] Using GPU Device: NVIDIA GeForce RTX 4090, Vendor: NVIDIA Corporation\n",
      "[LightGBM] [Info] Compiling OpenCL Kernel with 256 bins...\n",
      "[LightGBM] [Info] GPU programs have been built\n",
      "[LightGBM] [Info] Size of histogram bin entry: 8\n",
      "[LightGBM] [Info] 27 dense feature groups (280.38 MB) transferred to GPU in 0.088560 secs. 1 sparse feature groups\n",
      "[LightGBM] [Info] [binary:BoostFromScore]: pavg=0.529963 -> initscore=0.119997\n",
      "[LightGBM] [Info] Start training from score 0.119997\n",
      "[LightGBM] [Info] Size of histogram bin entry: 8\n",
      "[LightGBM] [Info] 27 dense feature groups (120.94 MB) transferred to GPU in 0.037919 secs. 1 sparse feature groups\n",
      "[LightGBM] [Info] Size of histogram bin entry: 8\n",
      "[LightGBM] [Info] 27 dense feature groups (120.86 MB) transferred to GPU in 0.036443 secs. 1 sparse feature groups\n",
      "[LightGBM] [Info] Size of histogram bin entry: 8\n",
      "[LightGBM] [Info] 27 dense feature groups (120.82 MB) transferred to GPU in 0.035968 secs. 1 sparse feature groups\n",
      "[LightGBM] [Info] Size of histogram bin entry: 8\n",
      "[LightGBM] [Info] 27 dense feature groups (120.86 MB) transferred to GPU in 0.035786 secs. 1 sparse feature groups\n",
      "[LightGBM] [Info] Size of histogram bin entry: 8\n",
      "[LightGBM] [Info] 27 dense feature groups (120.86 MB) transferred to GPU in 0.037154 secs. 1 sparse feature groups\n",
      "[LightGBM] [Info] Size of histogram bin entry: 8\n",
      "[LightGBM] [Info] 27 dense feature groups (120.88 MB) transferred to GPU in 0.037598 secs. 1 sparse feature groups\n",
      "[LightGBM] [Info] Size of histogram bin entry: 8\n",
      "[LightGBM] [Info] 27 dense feature groups (120.86 MB) transferred to GPU in 0.035290 secs. 1 sparse feature groups\n",
      "[LightGBM] [Info] Size of histogram bin entry: 8\n",
      "[LightGBM] [Info] 27 dense feature groups (120.88 MB) transferred to GPU in 0.035412 secs. 1 sparse feature groups\n",
      "[LightGBM] [Info] Size of histogram bin entry: 8\n",
      "[LightGBM] [Info] 27 dense feature groups (120.90 MB) transferred to GPU in 0.035486 secs. 1 sparse feature groups\n",
      "[LightGBM] [Info] Size of histogram bin entry: 8\n",
      "[LightGBM] [Info] 27 dense feature groups (120.88 MB) transferred to GPU in 0.036150 secs. 1 sparse feature groups\n",
      "[LightGBM] [Info] Size of histogram bin entry: 8\n",
      "[LightGBM] [Info] 27 dense feature groups (120.89 MB) transferred to GPU in 0.034056 secs. 1 sparse feature groups\n",
      "[LightGBM] [Info] Size of histogram bin entry: 8\n",
      "[LightGBM] [Info] 27 dense feature groups (120.87 MB) transferred to GPU in 0.036734 secs. 1 sparse feature groups\n",
      "[LightGBM] [Info] Size of histogram bin entry: 8\n",
      "[LightGBM] [Info] 27 dense feature groups (120.87 MB) transferred to GPU in 0.034854 secs. 1 sparse feature groups\n",
      "[LightGBM] [Info] Size of histogram bin entry: 8\n",
      "[LightGBM] [Info] 27 dense feature groups (120.87 MB) transferred to GPU in 0.035582 secs. 1 sparse feature groups\n",
      "[LightGBM] [Info] Size of histogram bin entry: 8\n",
      "[LightGBM] [Info] 27 dense feature groups (120.87 MB) transferred to GPU in 0.036682 secs. 1 sparse feature groups\n",
      "[LightGBM] [Info] Size of histogram bin entry: 8\n",
      "[LightGBM] [Info] 27 dense feature groups (120.86 MB) transferred to GPU in 0.035541 secs. 1 sparse feature groups\n",
      "[LightGBM] [Info] Size of histogram bin entry: 8\n",
      "[LightGBM] [Info] 27 dense feature groups (120.90 MB) transferred to GPU in 0.036284 secs. 1 sparse feature groups\n",
      "[LightGBM] [Info] Size of histogram bin entry: 8\n",
      "[LightGBM] [Info] 27 dense feature groups (120.85 MB) transferred to GPU in 0.033729 secs. 1 sparse feature groups\n",
      "[LightGBM] [Info] Size of histogram bin entry: 8\n",
      "[LightGBM] [Info] 27 dense feature groups (120.87 MB) transferred to GPU in 0.034445 secs. 1 sparse feature groups\n",
      "[LightGBM] [Info] Size of histogram bin entry: 8\n",
      "[LightGBM] [Info] 27 dense feature groups (120.88 MB) transferred to GPU in 0.035859 secs. 1 sparse feature groups\n",
      "[LightGBM] [Info] Size of histogram bin entry: 8\n",
      "[LightGBM] [Info] 27 dense feature groups (120.87 MB) transferred to GPU in 0.036570 secs. 1 sparse feature groups\n",
      "[LightGBM] [Info] Size of histogram bin entry: 8\n",
      "[LightGBM] [Info] 27 dense feature groups (120.87 MB) transferred to GPU in 0.036826 secs. 1 sparse feature groups\n",
      "[LightGBM] [Info] Size of histogram bin entry: 8\n",
      "[LightGBM] [Info] 27 dense feature groups (120.88 MB) transferred to GPU in 0.035012 secs. 1 sparse feature groups\n",
      "[LightGBM] [Info] Size of histogram bin entry: 8\n",
      "[LightGBM] [Info] 27 dense feature groups (120.88 MB) transferred to GPU in 0.037075 secs. 1 sparse feature groups\n",
      "[LightGBM] [Info] Size of histogram bin entry: 8\n",
      "[LightGBM] [Info] 27 dense feature groups (120.87 MB) transferred to GPU in 0.035578 secs. 1 sparse feature groups\n",
      "[LightGBM] [Info] Size of histogram bin entry: 8\n",
      "[LightGBM] [Info] 27 dense feature groups (120.88 MB) transferred to GPU in 0.039547 secs. 1 sparse feature groups\n",
      "[LightGBM] [Info] Size of histogram bin entry: 8\n",
      "[LightGBM] [Info] 27 dense feature groups (120.87 MB) transferred to GPU in 0.039532 secs. 1 sparse feature groups\n",
      "[LightGBM] [Info] Size of histogram bin entry: 8\n",
      "[LightGBM] [Info] 27 dense feature groups (120.74 MB) transferred to GPU in 0.035562 secs. 1 sparse feature groups\n",
      "[LightGBM] [Info] Size of histogram bin entry: 8\n",
      "[LightGBM] [Info] 27 dense feature groups (120.76 MB) transferred to GPU in 0.035778 secs. 1 sparse feature groups\n",
      "[LightGBM] [Info] Size of histogram bin entry: 8\n",
      "[LightGBM] [Info] 27 dense feature groups (120.88 MB) transferred to GPU in 0.035760 secs. 1 sparse feature groups\n",
      "[LightGBM] [Info] Size of histogram bin entry: 8\n",
      "[LightGBM] [Info] 27 dense feature groups (120.74 MB) transferred to GPU in 0.034188 secs. 1 sparse feature groups\n",
      "[LightGBM] [Info] Size of histogram bin entry: 8\n",
      "[LightGBM] [Info] 27 dense feature groups (120.91 MB) transferred to GPU in 0.034513 secs. 1 sparse feature groups\n",
      "[LightGBM] [Info] Size of histogram bin entry: 8\n",
      "[LightGBM] [Info] 27 dense feature groups (120.70 MB) transferred to GPU in 0.035039 secs. 1 sparse feature groups\n",
      "[LightGBM] [Info] Size of histogram bin entry: 8\n",
      "[LightGBM] [Info] 27 dense feature groups (120.86 MB) transferred to GPU in 0.039565 secs. 1 sparse feature groups\n",
      "[LightGBM] [Info] Size of histogram bin entry: 8\n",
      "[LightGBM] [Info] 27 dense feature groups (120.86 MB) transferred to GPU in 0.036524 secs. 1 sparse feature groups\n",
      "[LightGBM] [Info] Size of histogram bin entry: 8\n",
      "[LightGBM] [Info] 27 dense feature groups (120.87 MB) transferred to GPU in 0.036723 secs. 1 sparse feature groups\n"
     ]
    },
    {
     "name": "stdout",
     "output_type": "stream",
     "text": [
      "[LightGBM] [Info] Size of histogram bin entry: 8\n",
      "[LightGBM] [Info] 27 dense feature groups (120.85 MB) transferred to GPU in 0.036377 secs. 1 sparse feature groups\n",
      "[LightGBM] [Info] Size of histogram bin entry: 8\n",
      "[LightGBM] [Info] 27 dense feature groups (120.86 MB) transferred to GPU in 0.036947 secs. 1 sparse feature groups\n",
      "[LightGBM] [Info] Size of histogram bin entry: 8\n",
      "[LightGBM] [Info] 27 dense feature groups (120.88 MB) transferred to GPU in 0.039098 secs. 1 sparse feature groups\n",
      "[LightGBM] [Info] Size of histogram bin entry: 8\n",
      "[LightGBM] [Info] 27 dense feature groups (120.74 MB) transferred to GPU in 0.035939 secs. 1 sparse feature groups\n",
      "[LightGBM] [Info] Size of histogram bin entry: 8\n",
      "[LightGBM] [Info] 27 dense feature groups (120.87 MB) transferred to GPU in 0.034893 secs. 1 sparse feature groups\n",
      "[LightGBM] [Info] Size of histogram bin entry: 8\n",
      "[LightGBM] [Info] 27 dense feature groups (120.87 MB) transferred to GPU in 0.035619 secs. 1 sparse feature groups\n",
      "[LightGBM] [Info] Size of histogram bin entry: 8\n",
      "[LightGBM] [Info] 27 dense feature groups (120.88 MB) transferred to GPU in 0.036960 secs. 1 sparse feature groups\n",
      "[LightGBM] [Info] Size of histogram bin entry: 8\n",
      "[LightGBM] [Info] 27 dense feature groups (120.84 MB) transferred to GPU in 0.040085 secs. 1 sparse feature groups\n",
      "[LightGBM] [Info] Size of histogram bin entry: 8\n",
      "[LightGBM] [Info] 27 dense feature groups (120.90 MB) transferred to GPU in 0.036205 secs. 1 sparse feature groups\n",
      "[LightGBM] [Info] Size of histogram bin entry: 8\n",
      "[LightGBM] [Info] 27 dense feature groups (120.87 MB) transferred to GPU in 0.035841 secs. 1 sparse feature groups\n",
      "[LightGBM] [Info] Size of histogram bin entry: 8\n",
      "[LightGBM] [Info] 27 dense feature groups (120.84 MB) transferred to GPU in 0.034190 secs. 1 sparse feature groups\n",
      "[LightGBM] [Info] Size of histogram bin entry: 8\n",
      "[LightGBM] [Info] 27 dense feature groups (120.88 MB) transferred to GPU in 0.035071 secs. 1 sparse feature groups\n",
      "[LightGBM] [Info] Size of histogram bin entry: 8\n",
      "[LightGBM] [Info] 27 dense feature groups (120.87 MB) transferred to GPU in 0.034481 secs. 1 sparse feature groups\n",
      "[LightGBM] [Info] Size of histogram bin entry: 8\n",
      "[LightGBM] [Info] 27 dense feature groups (120.87 MB) transferred to GPU in 0.035773 secs. 1 sparse feature groups\n",
      "[LightGBM] [Warning] min_data_in_leaf is set=63, min_child_samples=20 will be ignored. Current value: min_data_in_leaf=63\n",
      "[LightGBM] [Warning] feature_fraction is set=0.9837389235538968, colsample_bytree=1.0 will be ignored. Current value: feature_fraction=0.9837389235538968\n",
      "[LightGBM] [Warning] lambda_l2 is set=0.01573445643147286, reg_lambda=0.0 will be ignored. Current value: lambda_l2=0.01573445643147286\n",
      "[LightGBM] [Warning] lambda_l1 is set=1.1234050060401955e-08, reg_alpha=0.0 will be ignored. Current value: lambda_l1=1.1234050060401955e-08\n",
      "[LightGBM] [Warning] bagging_fraction is set=0.4310814176537316, subsample=1.0 will be ignored. Current value: bagging_fraction=0.4310814176537316\n",
      "[LightGBM] [Warning] bagging_freq is set=2, subsample_freq=0 will be ignored. Current value: bagging_freq=2\n",
      "auc:0.7657110210003589 , log_loss:0.642374387566748 , ks:0.3895122718276648\n"
     ]
    },
    {
     "name": "stderr",
     "output_type": "stream",
     "text": [
      "[I 2023-10-03 20:58:47,540] Trial 14 finished with value: 0.7657110210003589 and parameters: {'learning_rate': 0.003428169421040355, 'num_leaves': 57, 'lambda_l1': 1.1234050060401955e-08, 'lambda_l2': 0.01573445643147286, 'min_data_in_leaf': 63, 'max_depth': 54, 'feature_fraction': 0.9837389235538968, 'bagging_fraction': 0.4310814176537316, 'bagging_freq': 2}. Best is trial 11 with value: 0.8195593416686496.\n"
     ]
    },
    {
     "name": "stdout",
     "output_type": "stream",
     "text": [
      "LGBM - Optimization using optuna\n",
      "[LightGBM] [Warning] min_data_in_leaf is set=81, min_child_samples=20 will be ignored. Current value: min_data_in_leaf=81\n",
      "[LightGBM] [Warning] feature_fraction is set=0.787776445233928, colsample_bytree=1.0 will be ignored. Current value: feature_fraction=0.787776445233928\n",
      "[LightGBM] [Warning] lambda_l2 is set=0.0002941397648476997, reg_lambda=0.0 will be ignored. Current value: lambda_l2=0.0002941397648476997\n",
      "[LightGBM] [Warning] lambda_l1 is set=3.2574673166938493e-06, reg_alpha=0.0 will be ignored. Current value: lambda_l1=3.2574673166938493e-06\n",
      "[LightGBM] [Warning] bagging_fraction is set=0.6970319200405634, subsample=1.0 will be ignored. Current value: bagging_fraction=0.6970319200405634\n",
      "[LightGBM] [Warning] bagging_freq is set=1, subsample_freq=0 will be ignored. Current value: bagging_freq=1\n",
      "[LightGBM] [Warning] min_data_in_leaf is set=81, min_child_samples=20 will be ignored. Current value: min_data_in_leaf=81\n",
      "[LightGBM] [Warning] feature_fraction is set=0.787776445233928, colsample_bytree=1.0 will be ignored. Current value: feature_fraction=0.787776445233928\n",
      "[LightGBM] [Warning] lambda_l2 is set=0.0002941397648476997, reg_lambda=0.0 will be ignored. Current value: lambda_l2=0.0002941397648476997\n",
      "[LightGBM] [Warning] lambda_l1 is set=3.2574673166938493e-06, reg_alpha=0.0 will be ignored. Current value: lambda_l1=3.2574673166938493e-06\n",
      "[LightGBM] [Warning] bagging_fraction is set=0.6970319200405634, subsample=1.0 will be ignored. Current value: bagging_fraction=0.6970319200405634\n",
      "[LightGBM] [Warning] bagging_freq is set=1, subsample_freq=0 will be ignored. Current value: bagging_freq=1\n",
      "[LightGBM] [Info] Number of positive: 5564616, number of negative: 4935384\n",
      "[LightGBM] [Info] This is the GPU trainer!!\n",
      "[LightGBM] [Info] Total Bins 6132\n",
      "[LightGBM] [Info] Number of data points in the train set: 10500000, number of used features: 28\n",
      "[LightGBM] [Info] Using GPU Device: NVIDIA GeForce RTX 4090, Vendor: NVIDIA Corporation\n",
      "[LightGBM] [Info] Compiling OpenCL Kernel with 256 bins...\n",
      "[LightGBM] [Info] GPU programs have been built\n",
      "[LightGBM] [Info] Size of histogram bin entry: 8\n",
      "[LightGBM] [Info] 27 dense feature groups (280.38 MB) transferred to GPU in 0.089565 secs. 1 sparse feature groups\n",
      "[LightGBM] [Info] [binary:BoostFromScore]: pavg=0.529963 -> initscore=0.119997\n",
      "[LightGBM] [Info] Start training from score 0.119997\n",
      "[LightGBM] [Warning] min_data_in_leaf is set=81, min_child_samples=20 will be ignored. Current value: min_data_in_leaf=81\n",
      "[LightGBM] [Warning] feature_fraction is set=0.787776445233928, colsample_bytree=1.0 will be ignored. Current value: feature_fraction=0.787776445233928\n",
      "[LightGBM] [Warning] lambda_l2 is set=0.0002941397648476997, reg_lambda=0.0 will be ignored. Current value: lambda_l2=0.0002941397648476997\n",
      "[LightGBM] [Warning] lambda_l1 is set=3.2574673166938493e-06, reg_alpha=0.0 will be ignored. Current value: lambda_l1=3.2574673166938493e-06\n",
      "[LightGBM] [Warning] bagging_fraction is set=0.6970319200405634, subsample=1.0 will be ignored. Current value: bagging_fraction=0.6970319200405634\n",
      "[LightGBM] [Warning] bagging_freq is set=1, subsample_freq=0 will be ignored. Current value: bagging_freq=1\n",
      "auc:0.8082189728575603 , log_loss:0.5368874935781165 , ks:0.45673249136616606\n"
     ]
    },
    {
     "name": "stderr",
     "output_type": "stream",
     "text": [
      "[I 2023-10-03 20:59:08,396] Trial 15 finished with value: 0.8082189728575603 and parameters: {'learning_rate': 0.03875650194170762, 'num_leaves': 81, 'lambda_l1': 3.2574673166938493e-06, 'lambda_l2': 0.0002941397648476997, 'min_data_in_leaf': 81, 'max_depth': 44, 'feature_fraction': 0.787776445233928, 'bagging_fraction': 0.6970319200405634, 'bagging_freq': 1}. Best is trial 11 with value: 0.8195593416686496.\n"
     ]
    },
    {
     "name": "stdout",
     "output_type": "stream",
     "text": [
      "LGBM - Optimization using optuna\n",
      "[LightGBM] [Warning] min_data_in_leaf is set=39, min_child_samples=20 will be ignored. Current value: min_data_in_leaf=39\n",
      "[LightGBM] [Warning] feature_fraction is set=0.8689774988763902, colsample_bytree=1.0 will be ignored. Current value: feature_fraction=0.8689774988763902\n",
      "[LightGBM] [Warning] lambda_l2 is set=6.439645559952697, reg_lambda=0.0 will be ignored. Current value: lambda_l2=6.439645559952697\n",
      "[LightGBM] [Warning] lambda_l1 is set=1.0143743455820053e-08, reg_alpha=0.0 will be ignored. Current value: lambda_l1=1.0143743455820053e-08\n",
      "[LightGBM] [Warning] bagging_fraction is set=0.7347620078771572, subsample=1.0 will be ignored. Current value: bagging_fraction=0.7347620078771572\n",
      "[LightGBM] [Warning] bagging_freq is set=2, subsample_freq=0 will be ignored. Current value: bagging_freq=2\n",
      "[LightGBM] [Warning] min_data_in_leaf is set=39, min_child_samples=20 will be ignored. Current value: min_data_in_leaf=39\n",
      "[LightGBM] [Warning] feature_fraction is set=0.8689774988763902, colsample_bytree=1.0 will be ignored. Current value: feature_fraction=0.8689774988763902\n",
      "[LightGBM] [Warning] lambda_l2 is set=6.439645559952697, reg_lambda=0.0 will be ignored. Current value: lambda_l2=6.439645559952697\n",
      "[LightGBM] [Warning] lambda_l1 is set=1.0143743455820053e-08, reg_alpha=0.0 will be ignored. Current value: lambda_l1=1.0143743455820053e-08\n",
      "[LightGBM] [Warning] bagging_fraction is set=0.7347620078771572, subsample=1.0 will be ignored. Current value: bagging_fraction=0.7347620078771572\n",
      "[LightGBM] [Warning] bagging_freq is set=2, subsample_freq=0 will be ignored. Current value: bagging_freq=2\n",
      "[LightGBM] [Info] Number of positive: 5564616, number of negative: 4935384\n",
      "[LightGBM] [Info] This is the GPU trainer!!\n",
      "[LightGBM] [Info] Total Bins 6132\n",
      "[LightGBM] [Info] Number of data points in the train set: 10500000, number of used features: 28\n",
      "[LightGBM] [Info] Using GPU Device: NVIDIA GeForce RTX 4090, Vendor: NVIDIA Corporation\n",
      "[LightGBM] [Info] Compiling OpenCL Kernel with 256 bins...\n",
      "[LightGBM] [Info] GPU programs have been built\n",
      "[LightGBM] [Info] Size of histogram bin entry: 8\n",
      "[LightGBM] [Info] 27 dense feature groups (280.38 MB) transferred to GPU in 0.084442 secs. 1 sparse feature groups\n",
      "[LightGBM] [Info] [binary:BoostFromScore]: pavg=0.529963 -> initscore=0.119997\n",
      "[LightGBM] [Info] Start training from score 0.119997\n",
      "[LightGBM] [Info] Size of histogram bin entry: 8\n",
      "[LightGBM] [Info] 27 dense feature groups (206.04 MB) transferred to GPU in 0.062674 secs. 1 sparse feature groups\n",
      "[LightGBM] [Info] Size of histogram bin entry: 8\n",
      "[LightGBM] [Info] 27 dense feature groups (206.02 MB) transferred to GPU in 0.063910 secs. 1 sparse feature groups\n",
      "[LightGBM] [Info] Size of histogram bin entry: 8\n",
      "[LightGBM] [Info] 27 dense feature groups (206.00 MB) transferred to GPU in 0.063450 secs. 1 sparse feature groups\n",
      "[LightGBM] [Info] Size of histogram bin entry: 8\n",
      "[LightGBM] [Info] 27 dense feature groups (206.03 MB) transferred to GPU in 0.062432 secs. 1 sparse feature groups\n",
      "[LightGBM] [Info] Size of histogram bin entry: 8\n",
      "[LightGBM] [Info] 27 dense feature groups (206.02 MB) transferred to GPU in 0.069781 secs. 1 sparse feature groups\n",
      "[LightGBM] [Info] Size of histogram bin entry: 8\n",
      "[LightGBM] [Info] 27 dense feature groups (206.02 MB) transferred to GPU in 0.070766 secs. 1 sparse feature groups\n",
      "[LightGBM] [Info] Size of histogram bin entry: 8\n",
      "[LightGBM] [Info] 27 dense feature groups (206.01 MB) transferred to GPU in 0.062609 secs. 1 sparse feature groups\n",
      "[LightGBM] [Info] Size of histogram bin entry: 8\n",
      "[LightGBM] [Info] 27 dense feature groups (206.02 MB) transferred to GPU in 0.063181 secs. 1 sparse feature groups\n",
      "[LightGBM] [Info] Size of histogram bin entry: 8\n",
      "[LightGBM] [Info] 27 dense feature groups (206.04 MB) transferred to GPU in 0.066570 secs. 1 sparse feature groups\n",
      "[LightGBM] [Info] Size of histogram bin entry: 8\n",
      "[LightGBM] [Info] 27 dense feature groups (206.03 MB) transferred to GPU in 0.062262 secs. 1 sparse feature groups\n",
      "[LightGBM] [Info] Size of histogram bin entry: 8\n",
      "[LightGBM] [Info] 27 dense feature groups (206.03 MB) transferred to GPU in 0.060713 secs. 1 sparse feature groups\n",
      "[LightGBM] [Info] Size of histogram bin entry: 8\n",
      "[LightGBM] [Info] 27 dense feature groups (206.01 MB) transferred to GPU in 0.065563 secs. 1 sparse feature groups\n",
      "[LightGBM] [Info] Size of histogram bin entry: 8\n",
      "[LightGBM] [Info] 27 dense feature groups (206.03 MB) transferred to GPU in 0.063010 secs. 1 sparse feature groups\n",
      "[LightGBM] [Info] Size of histogram bin entry: 8\n",
      "[LightGBM] [Info] 27 dense feature groups (206.01 MB) transferred to GPU in 0.061575 secs. 1 sparse feature groups\n",
      "[LightGBM] [Info] Size of histogram bin entry: 8\n",
      "[LightGBM] [Info] 27 dense feature groups (206.01 MB) transferred to GPU in 0.066782 secs. 1 sparse feature groups\n",
      "[LightGBM] [Info] Size of histogram bin entry: 8\n",
      "[LightGBM] [Info] 27 dense feature groups (206.03 MB) transferred to GPU in 0.064001 secs. 1 sparse feature groups\n",
      "[LightGBM] [Info] Size of histogram bin entry: 8\n",
      "[LightGBM] [Info] 27 dense feature groups (206.02 MB) transferred to GPU in 0.060917 secs. 1 sparse feature groups\n",
      "[LightGBM] [Info] Size of histogram bin entry: 8\n",
      "[LightGBM] [Info] 27 dense feature groups (206.00 MB) transferred to GPU in 0.062373 secs. 1 sparse feature groups\n",
      "[LightGBM] [Info] Size of histogram bin entry: 8\n",
      "[LightGBM] [Info] 27 dense feature groups (206.02 MB) transferred to GPU in 0.062272 secs. 1 sparse feature groups\n",
      "[LightGBM] [Info] Size of histogram bin entry: 8\n",
      "[LightGBM] [Info] 27 dense feature groups (206.02 MB) transferred to GPU in 0.064099 secs. 1 sparse feature groups\n",
      "[LightGBM] [Info] Size of histogram bin entry: 8\n",
      "[LightGBM] [Info] 27 dense feature groups (206.01 MB) transferred to GPU in 0.062404 secs. 1 sparse feature groups\n",
      "[LightGBM] [Info] Size of histogram bin entry: 8\n",
      "[LightGBM] [Info] 27 dense feature groups (206.01 MB) transferred to GPU in 0.064034 secs. 1 sparse feature groups\n",
      "[LightGBM] [Info] Size of histogram bin entry: 8\n",
      "[LightGBM] [Info] 27 dense feature groups (206.01 MB) transferred to GPU in 0.064076 secs. 1 sparse feature groups\n",
      "[LightGBM] [Info] Size of histogram bin entry: 8\n",
      "[LightGBM] [Info] 27 dense feature groups (206.01 MB) transferred to GPU in 0.062454 secs. 1 sparse feature groups\n",
      "[LightGBM] [Info] Size of histogram bin entry: 8\n",
      "[LightGBM] [Info] 27 dense feature groups (206.03 MB) transferred to GPU in 0.060793 secs. 1 sparse feature groups\n",
      "[LightGBM] [Info] Size of histogram bin entry: 8\n",
      "[LightGBM] [Info] 27 dense feature groups (206.00 MB) transferred to GPU in 0.061889 secs. 1 sparse feature groups\n",
      "[LightGBM] [Info] Size of histogram bin entry: 8\n",
      "[LightGBM] [Info] 27 dense feature groups (206.01 MB) transferred to GPU in 0.063174 secs. 1 sparse feature groups\n",
      "[LightGBM] [Info] Size of histogram bin entry: 8\n",
      "[LightGBM] [Info] 27 dense feature groups (205.94 MB) transferred to GPU in 0.060908 secs. 1 sparse feature groups\n",
      "[LightGBM] [Info] Size of histogram bin entry: 8\n",
      "[LightGBM] [Info] 27 dense feature groups (205.82 MB) transferred to GPU in 0.059587 secs. 1 sparse feature groups\n",
      "[LightGBM] [Info] Size of histogram bin entry: 8\n",
      "[LightGBM] [Info] 27 dense feature groups (206.04 MB) transferred to GPU in 0.069609 secs. 1 sparse feature groups\n",
      "[LightGBM] [Info] Size of histogram bin entry: 8\n",
      "[LightGBM] [Info] 27 dense feature groups (206.08 MB) transferred to GPU in 0.063542 secs. 1 sparse feature groups\n",
      "[LightGBM] [Info] Size of histogram bin entry: 8\n",
      "[LightGBM] [Info] 27 dense feature groups (206.02 MB) transferred to GPU in 0.062904 secs. 1 sparse feature groups\n",
      "[LightGBM] [Info] Size of histogram bin entry: 8\n",
      "[LightGBM] [Info] 27 dense feature groups (206.07 MB) transferred to GPU in 0.059815 secs. 1 sparse feature groups\n",
      "[LightGBM] [Info] Size of histogram bin entry: 8\n",
      "[LightGBM] [Info] 27 dense feature groups (206.02 MB) transferred to GPU in 0.063866 secs. 1 sparse feature groups\n",
      "[LightGBM] [Info] Size of histogram bin entry: 8\n",
      "[LightGBM] [Info] 27 dense feature groups (205.98 MB) transferred to GPU in 0.061626 secs. 1 sparse feature groups\n",
      "[LightGBM] [Info] Size of histogram bin entry: 8\n",
      "[LightGBM] [Info] 27 dense feature groups (206.01 MB) transferred to GPU in 0.062904 secs. 1 sparse feature groups\n"
     ]
    },
    {
     "name": "stdout",
     "output_type": "stream",
     "text": [
      "[LightGBM] [Info] Size of histogram bin entry: 8\n",
      "[LightGBM] [Info] 27 dense feature groups (206.00 MB) transferred to GPU in 0.060969 secs. 1 sparse feature groups\n",
      "[LightGBM] [Info] Size of histogram bin entry: 8\n",
      "[LightGBM] [Info] 27 dense feature groups (206.00 MB) transferred to GPU in 0.061653 secs. 1 sparse feature groups\n",
      "[LightGBM] [Info] Size of histogram bin entry: 8\n",
      "[LightGBM] [Info] 27 dense feature groups (206.02 MB) transferred to GPU in 0.061619 secs. 1 sparse feature groups\n",
      "[LightGBM] [Info] Size of histogram bin entry: 8\n",
      "[LightGBM] [Info] 27 dense feature groups (205.93 MB) transferred to GPU in 0.062494 secs. 1 sparse feature groups\n",
      "[LightGBM] [Info] Size of histogram bin entry: 8\n",
      "[LightGBM] [Info] 27 dense feature groups (206.01 MB) transferred to GPU in 0.060467 secs. 1 sparse feature groups\n",
      "[LightGBM] [Info] Size of histogram bin entry: 8\n",
      "[LightGBM] [Info] 27 dense feature groups (206.01 MB) transferred to GPU in 0.065825 secs. 1 sparse feature groups\n",
      "[LightGBM] [Info] Size of histogram bin entry: 8\n",
      "[LightGBM] [Info] 27 dense feature groups (206.03 MB) transferred to GPU in 0.062228 secs. 1 sparse feature groups\n",
      "[LightGBM] [Info] Size of histogram bin entry: 8\n",
      "[LightGBM] [Info] 27 dense feature groups (205.97 MB) transferred to GPU in 0.062317 secs. 1 sparse feature groups\n",
      "[LightGBM] [Info] Size of histogram bin entry: 8\n",
      "[LightGBM] [Info] 27 dense feature groups (206.03 MB) transferred to GPU in 0.061761 secs. 1 sparse feature groups\n",
      "[LightGBM] [Info] Size of histogram bin entry: 8\n",
      "[LightGBM] [Info] 27 dense feature groups (206.02 MB) transferred to GPU in 0.063597 secs. 1 sparse feature groups\n",
      "[LightGBM] [Info] Size of histogram bin entry: 8\n",
      "[LightGBM] [Info] 27 dense feature groups (205.98 MB) transferred to GPU in 0.063201 secs. 1 sparse feature groups\n",
      "[LightGBM] [Info] Size of histogram bin entry: 8\n",
      "[LightGBM] [Info] 27 dense feature groups (205.99 MB) transferred to GPU in 0.066049 secs. 1 sparse feature groups\n",
      "[LightGBM] [Info] Size of histogram bin entry: 8\n",
      "[LightGBM] [Info] 27 dense feature groups (206.03 MB) transferred to GPU in 0.069593 secs. 1 sparse feature groups\n",
      "[LightGBM] [Info] Size of histogram bin entry: 8\n",
      "[LightGBM] [Info] 27 dense feature groups (206.01 MB) transferred to GPU in 0.061160 secs. 1 sparse feature groups\n",
      "[LightGBM] [Warning] min_data_in_leaf is set=39, min_child_samples=20 will be ignored. Current value: min_data_in_leaf=39\n",
      "[LightGBM] [Warning] feature_fraction is set=0.8689774988763902, colsample_bytree=1.0 will be ignored. Current value: feature_fraction=0.8689774988763902\n",
      "[LightGBM] [Warning] lambda_l2 is set=6.439645559952697, reg_lambda=0.0 will be ignored. Current value: lambda_l2=6.439645559952697\n",
      "[LightGBM] [Warning] lambda_l1 is set=1.0143743455820053e-08, reg_alpha=0.0 will be ignored. Current value: lambda_l1=1.0143743455820053e-08\n",
      "[LightGBM] [Warning] bagging_fraction is set=0.7347620078771572, subsample=1.0 will be ignored. Current value: bagging_fraction=0.7347620078771572\n",
      "[LightGBM] [Warning] bagging_freq is set=2, subsample_freq=0 will be ignored. Current value: bagging_freq=2\n",
      "auc:0.791142801981944 , log_loss:0.6280071293596614 , ks:0.42814845097491677\n"
     ]
    },
    {
     "name": "stderr",
     "output_type": "stream",
     "text": [
      "[I 2023-10-03 20:59:38,923] Trial 16 finished with value: 0.791142801981944 and parameters: {'learning_rate': 0.0044538934742430055, 'num_leaves': 176, 'lambda_l1': 1.0143743455820053e-08, 'lambda_l2': 6.439645559952697, 'min_data_in_leaf': 39, 'max_depth': 64, 'feature_fraction': 0.8689774988763902, 'bagging_fraction': 0.7347620078771572, 'bagging_freq': 2}. Best is trial 11 with value: 0.8195593416686496.\n"
     ]
    },
    {
     "name": "stdout",
     "output_type": "stream",
     "text": [
      "LGBM - Optimization using optuna\n",
      "[LightGBM] [Warning] min_data_in_leaf is set=89, min_child_samples=20 will be ignored. Current value: min_data_in_leaf=89\n",
      "[LightGBM] [Warning] feature_fraction is set=0.9404578897522263, colsample_bytree=1.0 will be ignored. Current value: feature_fraction=0.9404578897522263\n",
      "[LightGBM] [Warning] lambda_l2 is set=0.0003645148065158934, reg_lambda=0.0 will be ignored. Current value: lambda_l2=0.0003645148065158934\n",
      "[LightGBM] [Warning] lambda_l1 is set=1.2375261487006883e-06, reg_alpha=0.0 will be ignored. Current value: lambda_l1=1.2375261487006883e-06\n",
      "[LightGBM] [Warning] bagging_fraction is set=0.7889223810335262, subsample=1.0 will be ignored. Current value: bagging_fraction=0.7889223810335262\n",
      "[LightGBM] [Warning] bagging_freq is set=3, subsample_freq=0 will be ignored. Current value: bagging_freq=3\n",
      "[LightGBM] [Warning] min_data_in_leaf is set=89, min_child_samples=20 will be ignored. Current value: min_data_in_leaf=89\n",
      "[LightGBM] [Warning] feature_fraction is set=0.9404578897522263, colsample_bytree=1.0 will be ignored. Current value: feature_fraction=0.9404578897522263\n",
      "[LightGBM] [Warning] lambda_l2 is set=0.0003645148065158934, reg_lambda=0.0 will be ignored. Current value: lambda_l2=0.0003645148065158934\n",
      "[LightGBM] [Warning] lambda_l1 is set=1.2375261487006883e-06, reg_alpha=0.0 will be ignored. Current value: lambda_l1=1.2375261487006883e-06\n",
      "[LightGBM] [Warning] bagging_fraction is set=0.7889223810335262, subsample=1.0 will be ignored. Current value: bagging_fraction=0.7889223810335262\n",
      "[LightGBM] [Warning] bagging_freq is set=3, subsample_freq=0 will be ignored. Current value: bagging_freq=3\n",
      "[LightGBM] [Info] Number of positive: 5564616, number of negative: 4935384\n",
      "[LightGBM] [Info] This is the GPU trainer!!\n",
      "[LightGBM] [Info] Total Bins 6132\n",
      "[LightGBM] [Info] Number of data points in the train set: 10500000, number of used features: 28\n",
      "[LightGBM] [Info] Using GPU Device: NVIDIA GeForce RTX 4090, Vendor: NVIDIA Corporation\n",
      "[LightGBM] [Info] Compiling OpenCL Kernel with 256 bins...\n",
      "[LightGBM] [Info] GPU programs have been built\n",
      "[LightGBM] [Info] Size of histogram bin entry: 8\n",
      "[LightGBM] [Info] 27 dense feature groups (280.38 MB) transferred to GPU in 0.088553 secs. 1 sparse feature groups\n",
      "[LightGBM] [Info] [binary:BoostFromScore]: pavg=0.529963 -> initscore=0.119997\n",
      "[LightGBM] [Info] Start training from score 0.119997\n",
      "[LightGBM] [Info] Size of histogram bin entry: 8\n",
      "[LightGBM] [Info] 27 dense feature groups (221.22 MB) transferred to GPU in 0.071040 secs. 1 sparse feature groups\n",
      "[LightGBM] [Info] Size of histogram bin entry: 8\n",
      "[LightGBM] [Info] 27 dense feature groups (221.20 MB) transferred to GPU in 0.069625 secs. 1 sparse feature groups\n",
      "[LightGBM] [Info] Size of histogram bin entry: 8\n",
      "[LightGBM] [Info] 27 dense feature groups (221.18 MB) transferred to GPU in 0.071481 secs. 1 sparse feature groups\n",
      "[LightGBM] [Info] Size of histogram bin entry: 8\n",
      "[LightGBM] [Info] 27 dense feature groups (221.22 MB) transferred to GPU in 0.069023 secs. 1 sparse feature groups\n",
      "[LightGBM] [Info] Size of histogram bin entry: 8\n",
      "[LightGBM] [Info] 27 dense feature groups (221.17 MB) transferred to GPU in 0.068018 secs. 1 sparse feature groups\n",
      "[LightGBM] [Info] Size of histogram bin entry: 8\n",
      "[LightGBM] [Info] 27 dense feature groups (221.23 MB) transferred to GPU in 0.070653 secs. 1 sparse feature groups\n",
      "[LightGBM] [Info] Size of histogram bin entry: 8\n",
      "[LightGBM] [Info] 27 dense feature groups (221.20 MB) transferred to GPU in 0.070597 secs. 1 sparse feature groups\n",
      "[LightGBM] [Info] Size of histogram bin entry: 8\n",
      "[LightGBM] [Info] 27 dense feature groups (221.21 MB) transferred to GPU in 0.069591 secs. 1 sparse feature groups\n",
      "[LightGBM] [Info] Size of histogram bin entry: 8\n",
      "[LightGBM] [Info] 27 dense feature groups (221.18 MB) transferred to GPU in 0.073164 secs. 1 sparse feature groups\n",
      "[LightGBM] [Info] Size of histogram bin entry: 8\n",
      "[LightGBM] [Info] 27 dense feature groups (221.21 MB) transferred to GPU in 0.070437 secs. 1 sparse feature groups\n",
      "[LightGBM] [Info] Size of histogram bin entry: 8\n",
      "[LightGBM] [Info] 27 dense feature groups (221.23 MB) transferred to GPU in 0.071425 secs. 1 sparse feature groups\n",
      "[LightGBM] [Info] Size of histogram bin entry: 8\n",
      "[LightGBM] [Info] 27 dense feature groups (221.20 MB) transferred to GPU in 0.068791 secs. 1 sparse feature groups\n",
      "[LightGBM] [Info] Size of histogram bin entry: 8\n",
      "[LightGBM] [Info] 27 dense feature groups (221.20 MB) transferred to GPU in 0.068029 secs. 1 sparse feature groups\n",
      "[LightGBM] [Info] Size of histogram bin entry: 8\n",
      "[LightGBM] [Info] 27 dense feature groups (221.20 MB) transferred to GPU in 0.068212 secs. 1 sparse feature groups\n",
      "[LightGBM] [Info] Size of histogram bin entry: 8\n",
      "[LightGBM] [Info] 27 dense feature groups (221.18 MB) transferred to GPU in 0.069505 secs. 1 sparse feature groups\n",
      "[LightGBM] [Info] Size of histogram bin entry: 8\n",
      "[LightGBM] [Info] 27 dense feature groups (221.22 MB) transferred to GPU in 0.069713 secs. 1 sparse feature groups\n",
      "[LightGBM] [Info] Size of histogram bin entry: 8\n",
      "[LightGBM] [Info] 27 dense feature groups (221.24 MB) transferred to GPU in 0.068269 secs. 1 sparse feature groups\n",
      "[LightGBM] [Info] Size of histogram bin entry: 8\n",
      "[LightGBM] [Info] 27 dense feature groups (221.16 MB) transferred to GPU in 0.075850 secs. 1 sparse feature groups\n",
      "[LightGBM] [Info] Size of histogram bin entry: 8\n",
      "[LightGBM] [Info] 27 dense feature groups (221.19 MB) transferred to GPU in 0.068198 secs. 1 sparse feature groups\n",
      "[LightGBM] [Info] Size of histogram bin entry: 8\n",
      "[LightGBM] [Info] 27 dense feature groups (221.22 MB) transferred to GPU in 0.067448 secs. 1 sparse feature groups\n",
      "[LightGBM] [Info] Size of histogram bin entry: 8\n",
      "[LightGBM] [Info] 27 dense feature groups (221.20 MB) transferred to GPU in 0.068496 secs. 1 sparse feature groups\n",
      "[LightGBM] [Info] Size of histogram bin entry: 8\n",
      "[LightGBM] [Info] 27 dense feature groups (221.20 MB) transferred to GPU in 0.068740 secs. 1 sparse feature groups\n",
      "[LightGBM] [Info] Size of histogram bin entry: 8\n",
      "[LightGBM] [Info] 27 dense feature groups (221.20 MB) transferred to GPU in 0.072428 secs. 1 sparse feature groups\n",
      "[LightGBM] [Info] Size of histogram bin entry: 8\n",
      "[LightGBM] [Info] 27 dense feature groups (221.20 MB) transferred to GPU in 0.078863 secs. 1 sparse feature groups\n",
      "[LightGBM] [Info] Size of histogram bin entry: 8\n",
      "[LightGBM] [Info] 27 dense feature groups (221.23 MB) transferred to GPU in 0.069088 secs. 1 sparse feature groups\n",
      "[LightGBM] [Info] Size of histogram bin entry: 8\n",
      "[LightGBM] [Info] 27 dense feature groups (221.22 MB) transferred to GPU in 0.077499 secs. 1 sparse feature groups\n",
      "[LightGBM] [Info] Size of histogram bin entry: 8\n",
      "[LightGBM] [Info] 27 dense feature groups (221.20 MB) transferred to GPU in 0.068831 secs. 1 sparse feature groups\n",
      "[LightGBM] [Info] Size of histogram bin entry: 8\n",
      "[LightGBM] [Info] 27 dense feature groups (221.19 MB) transferred to GPU in 0.070419 secs. 1 sparse feature groups\n",
      "[LightGBM] [Info] Size of histogram bin entry: 8\n",
      "[LightGBM] [Info] 27 dense feature groups (221.07 MB) transferred to GPU in 0.071419 secs. 1 sparse feature groups\n",
      "[LightGBM] [Info] Size of histogram bin entry: 8\n",
      "[LightGBM] [Info] 27 dense feature groups (221.26 MB) transferred to GPU in 0.073236 secs. 1 sparse feature groups\n",
      "[LightGBM] [Info] Size of histogram bin entry: 8\n",
      "[LightGBM] [Info] 27 dense feature groups (221.24 MB) transferred to GPU in 0.067490 secs. 1 sparse feature groups\n",
      "[LightGBM] [Info] Size of histogram bin entry: 8\n",
      "[LightGBM] [Info] 27 dense feature groups (221.23 MB) transferred to GPU in 0.068248 secs. 1 sparse feature groups\n",
      "[LightGBM] [Info] Size of histogram bin entry: 8\n",
      "[LightGBM] [Info] 27 dense feature groups (221.23 MB) transferred to GPU in 0.067389 secs. 1 sparse feature groups\n",
      "[LightGBM] [Info] Size of histogram bin entry: 8\n",
      "[LightGBM] [Info] 27 dense feature groups (221.20 MB) transferred to GPU in 0.069211 secs. 1 sparse feature groups\n",
      "[LightGBM] [Warning] min_data_in_leaf is set=89, min_child_samples=20 will be ignored. Current value: min_data_in_leaf=89\n",
      "[LightGBM] [Warning] feature_fraction is set=0.9404578897522263, colsample_bytree=1.0 will be ignored. Current value: feature_fraction=0.9404578897522263\n",
      "[LightGBM] [Warning] lambda_l2 is set=0.0003645148065158934, reg_lambda=0.0 will be ignored. Current value: lambda_l2=0.0003645148065158934\n",
      "[LightGBM] [Warning] lambda_l1 is set=1.2375261487006883e-06, reg_alpha=0.0 will be ignored. Current value: lambda_l1=1.2375261487006883e-06\n",
      "[LightGBM] [Warning] bagging_fraction is set=0.7889223810335262, subsample=1.0 will be ignored. Current value: bagging_fraction=0.7889223810335262\n",
      "[LightGBM] [Warning] bagging_freq is set=3, subsample_freq=0 will be ignored. Current value: bagging_freq=3\n"
     ]
    },
    {
     "name": "stdout",
     "output_type": "stream",
     "text": [
      "auc:0.7925828170067853 , log_loss:0.5581609451310584 , ks:0.43040629003273867\n"
     ]
    },
    {
     "name": "stderr",
     "output_type": "stream",
     "text": [
      "[I 2023-10-03 21:00:00,072] Trial 17 finished with value: 0.7925828170067853 and parameters: {'learning_rate': 0.031795856606169175, 'num_leaves': 25, 'lambda_l1': 1.2375261487006883e-06, 'lambda_l2': 0.0003645148065158934, 'min_data_in_leaf': 89, 'max_depth': 40, 'feature_fraction': 0.9404578897522263, 'bagging_fraction': 0.7889223810335262, 'bagging_freq': 3}. Best is trial 11 with value: 0.8195593416686496.\n"
     ]
    },
    {
     "name": "stdout",
     "output_type": "stream",
     "text": [
      "LGBM - Optimization using optuna\n",
      "[LightGBM] [Warning] min_data_in_leaf is set=62, min_child_samples=20 will be ignored. Current value: min_data_in_leaf=62\n",
      "[LightGBM] [Warning] feature_fraction is set=0.996480254819377, colsample_bytree=1.0 will be ignored. Current value: feature_fraction=0.996480254819377\n",
      "[LightGBM] [Warning] lambda_l2 is set=0.12525193975185653, reg_lambda=0.0 will be ignored. Current value: lambda_l2=0.12525193975185653\n",
      "[LightGBM] [Warning] lambda_l1 is set=0.000277053473137191, reg_alpha=0.0 will be ignored. Current value: lambda_l1=0.000277053473137191\n",
      "[LightGBM] [Warning] bagging_fraction is set=0.6736454663420699, subsample=1.0 will be ignored. Current value: bagging_fraction=0.6736454663420699\n",
      "[LightGBM] [Warning] bagging_freq is set=1, subsample_freq=0 will be ignored. Current value: bagging_freq=1\n",
      "[LightGBM] [Warning] min_data_in_leaf is set=62, min_child_samples=20 will be ignored. Current value: min_data_in_leaf=62\n",
      "[LightGBM] [Warning] feature_fraction is set=0.996480254819377, colsample_bytree=1.0 will be ignored. Current value: feature_fraction=0.996480254819377\n",
      "[LightGBM] [Warning] lambda_l2 is set=0.12525193975185653, reg_lambda=0.0 will be ignored. Current value: lambda_l2=0.12525193975185653\n",
      "[LightGBM] [Warning] lambda_l1 is set=0.000277053473137191, reg_alpha=0.0 will be ignored. Current value: lambda_l1=0.000277053473137191\n",
      "[LightGBM] [Warning] bagging_fraction is set=0.6736454663420699, subsample=1.0 will be ignored. Current value: bagging_fraction=0.6736454663420699\n",
      "[LightGBM] [Warning] bagging_freq is set=1, subsample_freq=0 will be ignored. Current value: bagging_freq=1\n",
      "[LightGBM] [Info] Number of positive: 5564616, number of negative: 4935384\n",
      "[LightGBM] [Info] This is the GPU trainer!!\n",
      "[LightGBM] [Info] Total Bins 6132\n",
      "[LightGBM] [Info] Number of data points in the train set: 10500000, number of used features: 28\n",
      "[LightGBM] [Info] Using GPU Device: NVIDIA GeForce RTX 4090, Vendor: NVIDIA Corporation\n",
      "[LightGBM] [Info] Compiling OpenCL Kernel with 256 bins...\n",
      "[LightGBM] [Info] GPU programs have been built\n",
      "[LightGBM] [Info] Size of histogram bin entry: 8\n",
      "[LightGBM] [Info] 27 dense feature groups (280.38 MB) transferred to GPU in 0.085674 secs. 1 sparse feature groups\n",
      "[LightGBM] [Info] [binary:BoostFromScore]: pavg=0.529963 -> initscore=0.119997\n",
      "[LightGBM] [Info] Start training from score 0.119997\n",
      "[LightGBM] [Warning] min_data_in_leaf is set=62, min_child_samples=20 will be ignored. Current value: min_data_in_leaf=62\n",
      "[LightGBM] [Warning] feature_fraction is set=0.996480254819377, colsample_bytree=1.0 will be ignored. Current value: feature_fraction=0.996480254819377\n",
      "[LightGBM] [Warning] lambda_l2 is set=0.12525193975185653, reg_lambda=0.0 will be ignored. Current value: lambda_l2=0.12525193975185653\n",
      "[LightGBM] [Warning] lambda_l1 is set=0.000277053473137191, reg_alpha=0.0 will be ignored. Current value: lambda_l1=0.000277053473137191\n",
      "[LightGBM] [Warning] bagging_fraction is set=0.6736454663420699, subsample=1.0 will be ignored. Current value: bagging_fraction=0.6736454663420699\n",
      "[LightGBM] [Warning] bagging_freq is set=1, subsample_freq=0 will be ignored. Current value: bagging_freq=1\n",
      "auc:0.7526119752063374 , log_loss:0.6656232270756732 , ks:0.37509760440832524\n"
     ]
    },
    {
     "name": "stderr",
     "output_type": "stream",
     "text": [
      "[I 2023-10-03 21:00:18,160] Trial 18 finished with value: 0.7526119752063374 and parameters: {'learning_rate': 0.001692431064109172, 'num_leaves': 36, 'lambda_l1': 0.000277053473137191, 'lambda_l2': 0.12525193975185653, 'min_data_in_leaf': 62, 'max_depth': 52, 'feature_fraction': 0.996480254819377, 'bagging_fraction': 0.6736454663420699, 'bagging_freq': 1}. Best is trial 11 with value: 0.8195593416686496.\n"
     ]
    },
    {
     "name": "stdout",
     "output_type": "stream",
     "text": [
      "LGBM - Optimization using optuna\n",
      "[LightGBM] [Warning] min_data_in_leaf is set=29, min_child_samples=20 will be ignored. Current value: min_data_in_leaf=29\n",
      "[LightGBM] [Warning] feature_fraction is set=0.819782049247797, colsample_bytree=1.0 will be ignored. Current value: feature_fraction=0.819782049247797\n",
      "[LightGBM] [Warning] lambda_l2 is set=0.007842617574243553, reg_lambda=0.0 will be ignored. Current value: lambda_l2=0.007842617574243553\n",
      "[LightGBM] [Warning] lambda_l1 is set=0.001945976919346984, reg_alpha=0.0 will be ignored. Current value: lambda_l1=0.001945976919346984\n",
      "[LightGBM] [Warning] bagging_fraction is set=0.7562188798823102, subsample=1.0 will be ignored. Current value: bagging_fraction=0.7562188798823102\n",
      "[LightGBM] [Warning] bagging_freq is set=2, subsample_freq=0 will be ignored. Current value: bagging_freq=2\n",
      "[LightGBM] [Warning] min_data_in_leaf is set=29, min_child_samples=20 will be ignored. Current value: min_data_in_leaf=29\n",
      "[LightGBM] [Warning] feature_fraction is set=0.819782049247797, colsample_bytree=1.0 will be ignored. Current value: feature_fraction=0.819782049247797\n",
      "[LightGBM] [Warning] lambda_l2 is set=0.007842617574243553, reg_lambda=0.0 will be ignored. Current value: lambda_l2=0.007842617574243553\n",
      "[LightGBM] [Warning] lambda_l1 is set=0.001945976919346984, reg_alpha=0.0 will be ignored. Current value: lambda_l1=0.001945976919346984\n",
      "[LightGBM] [Warning] bagging_fraction is set=0.7562188798823102, subsample=1.0 will be ignored. Current value: bagging_fraction=0.7562188798823102\n",
      "[LightGBM] [Warning] bagging_freq is set=2, subsample_freq=0 will be ignored. Current value: bagging_freq=2\n",
      "[LightGBM] [Info] Number of positive: 5564616, number of negative: 4935384\n",
      "[LightGBM] [Info] This is the GPU trainer!!\n",
      "[LightGBM] [Info] Total Bins 6132\n",
      "[LightGBM] [Info] Number of data points in the train set: 10500000, number of used features: 28\n",
      "[LightGBM] [Info] Using GPU Device: NVIDIA GeForce RTX 4090, Vendor: NVIDIA Corporation\n",
      "[LightGBM] [Info] Compiling OpenCL Kernel with 256 bins...\n",
      "[LightGBM] [Info] GPU programs have been built\n",
      "[LightGBM] [Info] Size of histogram bin entry: 8\n",
      "[LightGBM] [Info] 27 dense feature groups (280.38 MB) transferred to GPU in 0.088316 secs. 1 sparse feature groups\n",
      "[LightGBM] [Info] [binary:BoostFromScore]: pavg=0.529963 -> initscore=0.119997\n",
      "[LightGBM] [Info] Start training from score 0.119997\n",
      "[LightGBM] [Info] Size of histogram bin entry: 8\n",
      "[LightGBM] [Info] 27 dense feature groups (212.06 MB) transferred to GPU in 0.067924 secs. 1 sparse feature groups\n",
      "[LightGBM] [Info] Size of histogram bin entry: 8\n",
      "[LightGBM] [Info] 27 dense feature groups (212.04 MB) transferred to GPU in 0.062758 secs. 1 sparse feature groups\n",
      "[LightGBM] [Info] Size of histogram bin entry: 8\n",
      "[LightGBM] [Info] 27 dense feature groups (212.00 MB) transferred to GPU in 0.062212 secs. 1 sparse feature groups\n",
      "[LightGBM] [Info] Size of histogram bin entry: 8\n",
      "[LightGBM] [Info] 27 dense feature groups (212.05 MB) transferred to GPU in 0.065115 secs. 1 sparse feature groups\n",
      "[LightGBM] [Info] Size of histogram bin entry: 8\n",
      "[LightGBM] [Info] 27 dense feature groups (212.02 MB) transferred to GPU in 0.063258 secs. 1 sparse feature groups\n",
      "[LightGBM] [Info] Size of histogram bin entry: 8\n",
      "[LightGBM] [Info] 27 dense feature groups (212.07 MB) transferred to GPU in 0.061796 secs. 1 sparse feature groups\n",
      "[LightGBM] [Info] Size of histogram bin entry: 8\n",
      "[LightGBM] [Info] 27 dense feature groups (212.03 MB) transferred to GPU in 0.076598 secs. 1 sparse feature groups\n",
      "[LightGBM] [Info] Size of histogram bin entry: 8\n",
      "[LightGBM] [Info] 27 dense feature groups (212.04 MB) transferred to GPU in 0.075751 secs. 1 sparse feature groups\n",
      "[LightGBM] [Info] Size of histogram bin entry: 8\n",
      "[LightGBM] [Info] 27 dense feature groups (212.02 MB) transferred to GPU in 0.075850 secs. 1 sparse feature groups\n",
      "[LightGBM] [Info] Size of histogram bin entry: 8\n",
      "[LightGBM] [Info] 27 dense feature groups (212.04 MB) transferred to GPU in 0.063659 secs. 1 sparse feature groups\n",
      "[LightGBM] [Info] Size of histogram bin entry: 8\n",
      "[LightGBM] [Info] 27 dense feature groups (212.06 MB) transferred to GPU in 0.062623 secs. 1 sparse feature groups\n",
      "[LightGBM] [Info] Size of histogram bin entry: 8\n",
      "[LightGBM] [Info] 27 dense feature groups (212.03 MB) transferred to GPU in 0.063545 secs. 1 sparse feature groups\n",
      "[LightGBM] [Info] Size of histogram bin entry: 8\n",
      "[LightGBM] [Info] 27 dense feature groups (212.04 MB) transferred to GPU in 0.061377 secs. 1 sparse feature groups\n",
      "[LightGBM] [Info] Size of histogram bin entry: 8\n",
      "[LightGBM] [Info] 27 dense feature groups (212.03 MB) transferred to GPU in 0.062560 secs. 1 sparse feature groups\n",
      "[LightGBM] [Info] Size of histogram bin entry: 8\n",
      "[LightGBM] [Info] 27 dense feature groups (212.03 MB) transferred to GPU in 0.061939 secs. 1 sparse feature groups\n",
      "[LightGBM] [Info] Size of histogram bin entry: 8\n",
      "[LightGBM] [Info] 27 dense feature groups (212.04 MB) transferred to GPU in 0.064828 secs. 1 sparse feature groups\n",
      "[LightGBM] [Info] Size of histogram bin entry: 8\n",
      "[LightGBM] [Info] 27 dense feature groups (212.05 MB) transferred to GPU in 0.069653 secs. 1 sparse feature groups\n",
      "[LightGBM] [Info] Size of histogram bin entry: 8\n",
      "[LightGBM] [Info] 27 dense feature groups (212.01 MB) transferred to GPU in 0.081842 secs. 1 sparse feature groups\n",
      "[LightGBM] [Info] Size of histogram bin entry: 8\n",
      "[LightGBM] [Info] 27 dense feature groups (212.03 MB) transferred to GPU in 0.065516 secs. 1 sparse feature groups\n",
      "[LightGBM] [Info] Size of histogram bin entry: 8\n",
      "[LightGBM] [Info] 27 dense feature groups (212.04 MB) transferred to GPU in 0.063260 secs. 1 sparse feature groups\n",
      "[LightGBM] [Info] Size of histogram bin entry: 8\n",
      "[LightGBM] [Info] 27 dense feature groups (212.03 MB) transferred to GPU in 0.067590 secs. 1 sparse feature groups\n",
      "[LightGBM] [Info] Size of histogram bin entry: 8\n",
      "[LightGBM] [Info] 27 dense feature groups (212.02 MB) transferred to GPU in 0.063706 secs. 1 sparse feature groups\n",
      "[LightGBM] [Info] Size of histogram bin entry: 8\n",
      "[LightGBM] [Info] 27 dense feature groups (212.01 MB) transferred to GPU in 0.064592 secs. 1 sparse feature groups\n",
      "[LightGBM] [Info] Size of histogram bin entry: 8\n",
      "[LightGBM] [Info] 27 dense feature groups (212.02 MB) transferred to GPU in 0.072095 secs. 1 sparse feature groups\n",
      "[LightGBM] [Info] Size of histogram bin entry: 8\n",
      "[LightGBM] [Info] 27 dense feature groups (212.06 MB) transferred to GPU in 0.063992 secs. 1 sparse feature groups\n",
      "[LightGBM] [Info] Size of histogram bin entry: 8\n",
      "[LightGBM] [Info] 27 dense feature groups (212.00 MB) transferred to GPU in 0.062671 secs. 1 sparse feature groups\n",
      "[LightGBM] [Info] Size of histogram bin entry: 8\n",
      "[LightGBM] [Info] 27 dense feature groups (212.03 MB) transferred to GPU in 0.062750 secs. 1 sparse feature groups\n",
      "[LightGBM] [Info] Size of histogram bin entry: 8\n",
      "[LightGBM] [Info] 27 dense feature groups (212.00 MB) transferred to GPU in 0.063716 secs. 1 sparse feature groups\n",
      "[LightGBM] [Info] Size of histogram bin entry: 8\n",
      "[LightGBM] [Info] 27 dense feature groups (211.84 MB) transferred to GPU in 0.061830 secs. 1 sparse feature groups\n",
      "[LightGBM] [Info] Size of histogram bin entry: 8\n",
      "[LightGBM] [Info] 27 dense feature groups (212.06 MB) transferred to GPU in 0.077444 secs. 1 sparse feature groups\n",
      "[LightGBM] [Info] Size of histogram bin entry: 8\n",
      "[LightGBM] [Info] 27 dense feature groups (212.08 MB) transferred to GPU in 0.077149 secs. 1 sparse feature groups\n",
      "[LightGBM] [Info] Size of histogram bin entry: 8\n",
      "[LightGBM] [Info] 27 dense feature groups (212.04 MB) transferred to GPU in 0.076149 secs. 1 sparse feature groups\n",
      "[LightGBM] [Info] Size of histogram bin entry: 8\n",
      "[LightGBM] [Info] 27 dense feature groups (212.07 MB) transferred to GPU in 0.063057 secs. 1 sparse feature groups\n",
      "[LightGBM] [Info] Size of histogram bin entry: 8\n",
      "[LightGBM] [Info] 27 dense feature groups (212.02 MB) transferred to GPU in 0.065012 secs. 1 sparse feature groups\n",
      "[LightGBM] [Info] Size of histogram bin entry: 8\n",
      "[LightGBM] [Info] 27 dense feature groups (212.01 MB) transferred to GPU in 0.066871 secs. 1 sparse feature groups\n",
      "[LightGBM] [Info] Size of histogram bin entry: 8\n",
      "[LightGBM] [Info] 27 dense feature groups (212.04 MB) transferred to GPU in 0.061493 secs. 1 sparse feature groups\n"
     ]
    },
    {
     "name": "stdout",
     "output_type": "stream",
     "text": [
      "[LightGBM] [Info] Size of histogram bin entry: 8\n",
      "[LightGBM] [Info] 27 dense feature groups (212.01 MB) transferred to GPU in 0.062380 secs. 1 sparse feature groups\n",
      "[LightGBM] [Info] Size of histogram bin entry: 8\n",
      "[LightGBM] [Info] 27 dense feature groups (212.01 MB) transferred to GPU in 0.063599 secs. 1 sparse feature groups\n",
      "[LightGBM] [Info] Size of histogram bin entry: 8\n",
      "[LightGBM] [Info] 27 dense feature groups (212.02 MB) transferred to GPU in 0.068511 secs. 1 sparse feature groups\n",
      "[LightGBM] [Info] Size of histogram bin entry: 8\n",
      "[LightGBM] [Info] 27 dense feature groups (211.99 MB) transferred to GPU in 0.064642 secs. 1 sparse feature groups\n",
      "[LightGBM] [Info] Size of histogram bin entry: 8\n",
      "[LightGBM] [Info] 27 dense feature groups (212.00 MB) transferred to GPU in 0.063575 secs. 1 sparse feature groups\n",
      "[LightGBM] [Info] Size of histogram bin entry: 8\n",
      "[LightGBM] [Info] 27 dense feature groups (212.02 MB) transferred to GPU in 0.071774 secs. 1 sparse feature groups\n",
      "[LightGBM] [Info] Size of histogram bin entry: 8\n",
      "[LightGBM] [Info] 27 dense feature groups (212.03 MB) transferred to GPU in 0.064145 secs. 1 sparse feature groups\n",
      "[LightGBM] [Info] Size of histogram bin entry: 8\n",
      "[LightGBM] [Info] 27 dense feature groups (211.99 MB) transferred to GPU in 0.068790 secs. 1 sparse feature groups\n",
      "[LightGBM] [Info] Size of histogram bin entry: 8\n",
      "[LightGBM] [Info] 27 dense feature groups (212.04 MB) transferred to GPU in 0.063227 secs. 1 sparse feature groups\n",
      "[LightGBM] [Info] Size of histogram bin entry: 8\n",
      "[LightGBM] [Info] 27 dense feature groups (212.03 MB) transferred to GPU in 0.064761 secs. 1 sparse feature groups\n",
      "[LightGBM] [Info] Size of histogram bin entry: 8\n",
      "[LightGBM] [Info] 27 dense feature groups (212.00 MB) transferred to GPU in 0.066055 secs. 1 sparse feature groups\n",
      "[LightGBM] [Info] Size of histogram bin entry: 8\n",
      "[LightGBM] [Info] 27 dense feature groups (212.02 MB) transferred to GPU in 0.063717 secs. 1 sparse feature groups\n",
      "[LightGBM] [Info] Size of histogram bin entry: 8\n",
      "[LightGBM] [Info] 27 dense feature groups (212.06 MB) transferred to GPU in 0.062603 secs. 1 sparse feature groups\n",
      "[LightGBM] [Info] Size of histogram bin entry: 8\n",
      "[LightGBM] [Info] 27 dense feature groups (212.02 MB) transferred to GPU in 0.062902 secs. 1 sparse feature groups\n",
      "[LightGBM] [Warning] min_data_in_leaf is set=29, min_child_samples=20 will be ignored. Current value: min_data_in_leaf=29\n",
      "[LightGBM] [Warning] feature_fraction is set=0.819782049247797, colsample_bytree=1.0 will be ignored. Current value: feature_fraction=0.819782049247797\n",
      "[LightGBM] [Warning] lambda_l2 is set=0.007842617574243553, reg_lambda=0.0 will be ignored. Current value: lambda_l2=0.007842617574243553\n",
      "[LightGBM] [Warning] lambda_l1 is set=0.001945976919346984, reg_alpha=0.0 will be ignored. Current value: lambda_l1=0.001945976919346984\n",
      "[LightGBM] [Warning] bagging_fraction is set=0.7562188798823102, subsample=1.0 will be ignored. Current value: bagging_fraction=0.7562188798823102\n",
      "[LightGBM] [Warning] bagging_freq is set=2, subsample_freq=0 will be ignored. Current value: bagging_freq=2\n",
      "auc:0.817060772524738 , log_loss:0.5219348798225667 , ks:0.47141056595096315\n"
     ]
    },
    {
     "name": "stderr",
     "output_type": "stream",
     "text": [
      "[I 2023-10-03 21:00:46,174] Trial 19 finished with value: 0.817060772524738 and parameters: {'learning_rate': 0.06624072033489757, 'num_leaves': 88, 'lambda_l1': 0.001945976919346984, 'lambda_l2': 0.007842617574243553, 'min_data_in_leaf': 29, 'max_depth': 39, 'feature_fraction': 0.819782049247797, 'bagging_fraction': 0.7562188798823102, 'bagging_freq': 2}. Best is trial 11 with value: 0.8195593416686496.\n"
     ]
    },
    {
     "name": "stdout",
     "output_type": "stream",
     "text": [
      "LGBM - Optimization using optuna\n",
      "[LightGBM] [Warning] min_data_in_leaf is set=51, min_child_samples=20 will be ignored. Current value: min_data_in_leaf=51\n",
      "[LightGBM] [Warning] feature_fraction is set=0.7456946889751774, colsample_bytree=1.0 will be ignored. Current value: feature_fraction=0.7456946889751774\n",
      "[LightGBM] [Warning] lambda_l2 is set=0.0011391713383089386, reg_lambda=0.0 will be ignored. Current value: lambda_l2=0.0011391713383089386\n",
      "[LightGBM] [Warning] lambda_l1 is set=6.359304013663209e-07, reg_alpha=0.0 will be ignored. Current value: lambda_l1=6.359304013663209e-07\n",
      "[LightGBM] [Warning] bagging_fraction is set=0.8698301842266886, subsample=1.0 will be ignored. Current value: bagging_fraction=0.8698301842266886\n",
      "[LightGBM] [Warning] bagging_freq is set=4, subsample_freq=0 will be ignored. Current value: bagging_freq=4\n",
      "[LightGBM] [Warning] min_data_in_leaf is set=51, min_child_samples=20 will be ignored. Current value: min_data_in_leaf=51\n",
      "[LightGBM] [Warning] feature_fraction is set=0.7456946889751774, colsample_bytree=1.0 will be ignored. Current value: feature_fraction=0.7456946889751774\n",
      "[LightGBM] [Warning] lambda_l2 is set=0.0011391713383089386, reg_lambda=0.0 will be ignored. Current value: lambda_l2=0.0011391713383089386\n",
      "[LightGBM] [Warning] lambda_l1 is set=6.359304013663209e-07, reg_alpha=0.0 will be ignored. Current value: lambda_l1=6.359304013663209e-07\n",
      "[LightGBM] [Warning] bagging_fraction is set=0.8698301842266886, subsample=1.0 will be ignored. Current value: bagging_fraction=0.8698301842266886\n",
      "[LightGBM] [Warning] bagging_freq is set=4, subsample_freq=0 will be ignored. Current value: bagging_freq=4\n",
      "[LightGBM] [Info] Number of positive: 5564616, number of negative: 4935384\n",
      "[LightGBM] [Info] This is the GPU trainer!!\n",
      "[LightGBM] [Info] Total Bins 6132\n",
      "[LightGBM] [Info] Number of data points in the train set: 10500000, number of used features: 28\n",
      "[LightGBM] [Info] Using GPU Device: NVIDIA GeForce RTX 4090, Vendor: NVIDIA Corporation\n",
      "[LightGBM] [Info] Compiling OpenCL Kernel with 256 bins...\n",
      "[LightGBM] [Info] GPU programs have been built\n",
      "[LightGBM] [Info] Size of histogram bin entry: 8\n",
      "[LightGBM] [Info] 27 dense feature groups (280.38 MB) transferred to GPU in 0.086081 secs. 1 sparse feature groups\n",
      "[LightGBM] [Info] [binary:BoostFromScore]: pavg=0.529963 -> initscore=0.119997\n",
      "[LightGBM] [Info] Start training from score 0.119997\n",
      "[LightGBM] [Info] Size of histogram bin entry: 8\n",
      "[LightGBM] [Info] 27 dense feature groups (243.88 MB) transferred to GPU in 0.077443 secs. 1 sparse feature groups\n",
      "[LightGBM] [Info] Size of histogram bin entry: 8\n",
      "[LightGBM] [Info] 27 dense feature groups (243.88 MB) transferred to GPU in 0.073831 secs. 1 sparse feature groups\n",
      "[LightGBM] [Info] Size of histogram bin entry: 8\n",
      "[LightGBM] [Info] 27 dense feature groups (243.86 MB) transferred to GPU in 0.074911 secs. 1 sparse feature groups\n",
      "[LightGBM] [Info] Size of histogram bin entry: 8\n",
      "[LightGBM] [Info] 27 dense feature groups (243.90 MB) transferred to GPU in 0.084070 secs. 1 sparse feature groups\n",
      "[LightGBM] [Info] Size of histogram bin entry: 8\n",
      "[LightGBM] [Info] 27 dense feature groups (243.85 MB) transferred to GPU in 0.077118 secs. 1 sparse feature groups\n",
      "[LightGBM] [Info] Size of histogram bin entry: 8\n",
      "[LightGBM] [Info] 27 dense feature groups (243.90 MB) transferred to GPU in 0.085013 secs. 1 sparse feature groups\n",
      "[LightGBM] [Info] Size of histogram bin entry: 8\n",
      "[LightGBM] [Info] 27 dense feature groups (243.88 MB) transferred to GPU in 0.072921 secs. 1 sparse feature groups\n",
      "[LightGBM] [Info] Size of histogram bin entry: 8\n",
      "[LightGBM] [Info] 27 dense feature groups (243.88 MB) transferred to GPU in 0.089407 secs. 1 sparse feature groups\n",
      "[LightGBM] [Info] Size of histogram bin entry: 8\n",
      "[LightGBM] [Info] 27 dense feature groups (243.88 MB) transferred to GPU in 0.079218 secs. 1 sparse feature groups\n",
      "[LightGBM] [Info] Size of histogram bin entry: 8\n",
      "[LightGBM] [Info] 27 dense feature groups (243.90 MB) transferred to GPU in 0.080519 secs. 1 sparse feature groups\n",
      "[LightGBM] [Info] Size of histogram bin entry: 8\n",
      "[LightGBM] [Info] 27 dense feature groups (243.90 MB) transferred to GPU in 0.077249 secs. 1 sparse feature groups\n",
      "[LightGBM] [Info] Size of histogram bin entry: 8\n",
      "[LightGBM] [Info] 27 dense feature groups (243.86 MB) transferred to GPU in 0.077178 secs. 1 sparse feature groups\n",
      "[LightGBM] [Info] Size of histogram bin entry: 8\n",
      "[LightGBM] [Info] 27 dense feature groups (243.89 MB) transferred to GPU in 0.075093 secs. 1 sparse feature groups\n",
      "[LightGBM] [Info] Size of histogram bin entry: 8\n",
      "[LightGBM] [Info] 27 dense feature groups (243.89 MB) transferred to GPU in 0.075395 secs. 1 sparse feature groups\n",
      "[LightGBM] [Info] Size of histogram bin entry: 8\n",
      "[LightGBM] [Info] 27 dense feature groups (243.90 MB) transferred to GPU in 0.081931 secs. 1 sparse feature groups\n",
      "[LightGBM] [Info] Size of histogram bin entry: 8\n",
      "[LightGBM] [Info] 27 dense feature groups (243.90 MB) transferred to GPU in 0.082210 secs. 1 sparse feature groups\n",
      "[LightGBM] [Info] Size of histogram bin entry: 8\n",
      "[LightGBM] [Info] 27 dense feature groups (243.89 MB) transferred to GPU in 0.074275 secs. 1 sparse feature groups\n",
      "[LightGBM] [Info] Size of histogram bin entry: 8\n",
      "[LightGBM] [Info] 27 dense feature groups (243.85 MB) transferred to GPU in 0.077101 secs. 1 sparse feature groups\n",
      "[LightGBM] [Info] Size of histogram bin entry: 8\n",
      "[LightGBM] [Info] 27 dense feature groups (243.88 MB) transferred to GPU in 0.077236 secs. 1 sparse feature groups\n",
      "[LightGBM] [Info] Size of histogram bin entry: 8\n",
      "[LightGBM] [Info] 27 dense feature groups (243.93 MB) transferred to GPU in 0.093780 secs. 1 sparse feature groups\n",
      "[LightGBM] [Info] Size of histogram bin entry: 8\n",
      "[LightGBM] [Info] 27 dense feature groups (243.87 MB) transferred to GPU in 0.075515 secs. 1 sparse feature groups\n",
      "[LightGBM] [Info] Size of histogram bin entry: 8\n",
      "[LightGBM] [Info] 27 dense feature groups (243.88 MB) transferred to GPU in 0.073321 secs. 1 sparse feature groups\n",
      "[LightGBM] [Info] Size of histogram bin entry: 8\n",
      "[LightGBM] [Info] 27 dense feature groups (243.88 MB) transferred to GPU in 0.074792 secs. 1 sparse feature groups\n",
      "[LightGBM] [Info] Size of histogram bin entry: 8\n",
      "[LightGBM] [Info] 27 dense feature groups (243.88 MB) transferred to GPU in 0.088769 secs. 1 sparse feature groups\n",
      "[LightGBM] [Info] Size of histogram bin entry: 8\n",
      "[LightGBM] [Info] 27 dense feature groups (243.89 MB) transferred to GPU in 0.074523 secs. 1 sparse feature groups\n",
      "[LightGBM] [Warning] min_data_in_leaf is set=51, min_child_samples=20 will be ignored. Current value: min_data_in_leaf=51\n",
      "[LightGBM] [Warning] feature_fraction is set=0.7456946889751774, colsample_bytree=1.0 will be ignored. Current value: feature_fraction=0.7456946889751774\n",
      "[LightGBM] [Warning] lambda_l2 is set=0.0011391713383089386, reg_lambda=0.0 will be ignored. Current value: lambda_l2=0.0011391713383089386\n",
      "[LightGBM] [Warning] lambda_l1 is set=6.359304013663209e-07, reg_alpha=0.0 will be ignored. Current value: lambda_l1=6.359304013663209e-07\n",
      "[LightGBM] [Warning] bagging_fraction is set=0.8698301842266886, subsample=1.0 will be ignored. Current value: bagging_fraction=0.8698301842266886\n",
      "[LightGBM] [Warning] bagging_freq is set=4, subsample_freq=0 will be ignored. Current value: bagging_freq=4\n",
      "auc:0.7920128374237274 , log_loss:0.5713811880795824 , ks:0.4298402161290749\n"
     ]
    },
    {
     "name": "stderr",
     "output_type": "stream",
     "text": [
      "[I 2023-10-03 21:01:11,117] Trial 20 finished with value: 0.7920128374237274 and parameters: {'learning_rate': 0.01842307495472302, 'num_leaves': 54, 'lambda_l1': 6.359304013663209e-07, 'lambda_l2': 0.0011391713383089386, 'min_data_in_leaf': 51, 'max_depth': 51, 'feature_fraction': 0.7456946889751774, 'bagging_fraction': 0.8698301842266886, 'bagging_freq': 4}. Best is trial 11 with value: 0.8195593416686496.\n"
     ]
    },
    {
     "name": "stdout",
     "output_type": "stream",
     "text": [
      "LGBM - Optimization using optuna\n",
      "[LightGBM] [Warning] min_data_in_leaf is set=27, min_child_samples=20 will be ignored. Current value: min_data_in_leaf=27\n",
      "[LightGBM] [Warning] feature_fraction is set=0.8366321999331143, colsample_bytree=1.0 will be ignored. Current value: feature_fraction=0.8366321999331143\n",
      "[LightGBM] [Warning] lambda_l2 is set=0.009949713857715498, reg_lambda=0.0 will be ignored. Current value: lambda_l2=0.009949713857715498\n",
      "[LightGBM] [Warning] lambda_l1 is set=0.004927628327105772, reg_alpha=0.0 will be ignored. Current value: lambda_l1=0.004927628327105772\n",
      "[LightGBM] [Warning] bagging_fraction is set=0.7669567822539117, subsample=1.0 will be ignored. Current value: bagging_fraction=0.7669567822539117\n",
      "[LightGBM] [Warning] bagging_freq is set=2, subsample_freq=0 will be ignored. Current value: bagging_freq=2\n",
      "[LightGBM] [Warning] min_data_in_leaf is set=27, min_child_samples=20 will be ignored. Current value: min_data_in_leaf=27\n",
      "[LightGBM] [Warning] feature_fraction is set=0.8366321999331143, colsample_bytree=1.0 will be ignored. Current value: feature_fraction=0.8366321999331143\n",
      "[LightGBM] [Warning] lambda_l2 is set=0.009949713857715498, reg_lambda=0.0 will be ignored. Current value: lambda_l2=0.009949713857715498\n",
      "[LightGBM] [Warning] lambda_l1 is set=0.004927628327105772, reg_alpha=0.0 will be ignored. Current value: lambda_l1=0.004927628327105772\n",
      "[LightGBM] [Warning] bagging_fraction is set=0.7669567822539117, subsample=1.0 will be ignored. Current value: bagging_fraction=0.7669567822539117\n",
      "[LightGBM] [Warning] bagging_freq is set=2, subsample_freq=0 will be ignored. Current value: bagging_freq=2\n",
      "[LightGBM] [Info] Number of positive: 5564616, number of negative: 4935384\n",
      "[LightGBM] [Info] This is the GPU trainer!!\n",
      "[LightGBM] [Info] Total Bins 6132\n",
      "[LightGBM] [Info] Number of data points in the train set: 10500000, number of used features: 28\n",
      "[LightGBM] [Info] Using GPU Device: NVIDIA GeForce RTX 4090, Vendor: NVIDIA Corporation\n",
      "[LightGBM] [Info] Compiling OpenCL Kernel with 256 bins...\n",
      "[LightGBM] [Info] GPU programs have been built\n",
      "[LightGBM] [Info] Size of histogram bin entry: 8\n",
      "[LightGBM] [Info] 27 dense feature groups (280.38 MB) transferred to GPU in 0.097892 secs. 1 sparse feature groups\n",
      "[LightGBM] [Info] [binary:BoostFromScore]: pavg=0.529963 -> initscore=0.119997\n",
      "[LightGBM] [Info] Start training from score 0.119997\n",
      "[LightGBM] [Info] Size of histogram bin entry: 8\n",
      "[LightGBM] [Info] 27 dense feature groups (215.07 MB) transferred to GPU in 0.066921 secs. 1 sparse feature groups\n",
      "[LightGBM] [Info] Size of histogram bin entry: 8\n",
      "[LightGBM] [Info] 27 dense feature groups (215.04 MB) transferred to GPU in 0.070347 secs. 1 sparse feature groups\n",
      "[LightGBM] [Info] Size of histogram bin entry: 8\n",
      "[LightGBM] [Info] 27 dense feature groups (215.03 MB) transferred to GPU in 0.064687 secs. 1 sparse feature groups\n",
      "[LightGBM] [Info] Size of histogram bin entry: 8\n",
      "[LightGBM] [Info] 27 dense feature groups (215.06 MB) transferred to GPU in 0.065895 secs. 1 sparse feature groups\n",
      "[LightGBM] [Info] Size of histogram bin entry: 8\n",
      "[LightGBM] [Info] 27 dense feature groups (215.03 MB) transferred to GPU in 0.071755 secs. 1 sparse feature groups\n",
      "[LightGBM] [Info] Size of histogram bin entry: 8\n",
      "[LightGBM] [Info] 27 dense feature groups (215.08 MB) transferred to GPU in 0.069035 secs. 1 sparse feature groups\n",
      "[LightGBM] [Info] Size of histogram bin entry: 8\n",
      "[LightGBM] [Info] 27 dense feature groups (215.04 MB) transferred to GPU in 0.063284 secs. 1 sparse feature groups\n",
      "[LightGBM] [Info] Size of histogram bin entry: 8\n",
      "[LightGBM] [Info] 27 dense feature groups (215.04 MB) transferred to GPU in 0.065899 secs. 1 sparse feature groups\n",
      "[LightGBM] [Info] Size of histogram bin entry: 8\n",
      "[LightGBM] [Info] 27 dense feature groups (215.04 MB) transferred to GPU in 0.065143 secs. 1 sparse feature groups\n",
      "[LightGBM] [Info] Size of histogram bin entry: 8\n",
      "[LightGBM] [Info] 27 dense feature groups (215.05 MB) transferred to GPU in 0.066117 secs. 1 sparse feature groups\n",
      "[LightGBM] [Info] Size of histogram bin entry: 8\n",
      "[LightGBM] [Info] 27 dense feature groups (215.07 MB) transferred to GPU in 0.073409 secs. 1 sparse feature groups\n",
      "[LightGBM] [Info] Size of histogram bin entry: 8\n",
      "[LightGBM] [Info] 27 dense feature groups (215.05 MB) transferred to GPU in 0.067695 secs. 1 sparse feature groups\n",
      "[LightGBM] [Info] Size of histogram bin entry: 8\n",
      "[LightGBM] [Info] 27 dense feature groups (215.04 MB) transferred to GPU in 0.066173 secs. 1 sparse feature groups\n",
      "[LightGBM] [Info] Size of histogram bin entry: 8\n",
      "[LightGBM] [Info] 27 dense feature groups (215.04 MB) transferred to GPU in 0.064259 secs. 1 sparse feature groups\n",
      "[LightGBM] [Info] Size of histogram bin entry: 8\n",
      "[LightGBM] [Info] 27 dense feature groups (215.04 MB) transferred to GPU in 0.063501 secs. 1 sparse feature groups\n",
      "[LightGBM] [Info] Size of histogram bin entry: 8\n",
      "[LightGBM] [Info] 27 dense feature groups (215.06 MB) transferred to GPU in 0.066496 secs. 1 sparse feature groups\n",
      "[LightGBM] [Info] Size of histogram bin entry: 8\n",
      "[LightGBM] [Info] 27 dense feature groups (215.08 MB) transferred to GPU in 0.064162 secs. 1 sparse feature groups\n",
      "[LightGBM] [Info] Size of histogram bin entry: 8\n",
      "[LightGBM] [Info] 27 dense feature groups (215.01 MB) transferred to GPU in 0.064134 secs. 1 sparse feature groups\n",
      "[LightGBM] [Info] Size of histogram bin entry: 8\n",
      "[LightGBM] [Info] 27 dense feature groups (215.03 MB) transferred to GPU in 0.066353 secs. 1 sparse feature groups\n",
      "[LightGBM] [Info] Size of histogram bin entry: 8\n",
      "[LightGBM] [Info] 27 dense feature groups (215.06 MB) transferred to GPU in 0.067875 secs. 1 sparse feature groups\n",
      "[LightGBM] [Info] Size of histogram bin entry: 8\n",
      "[LightGBM] [Info] 27 dense feature groups (215.03 MB) transferred to GPU in 0.072384 secs. 1 sparse feature groups\n",
      "[LightGBM] [Info] Size of histogram bin entry: 8\n",
      "[LightGBM] [Info] 27 dense feature groups (215.03 MB) transferred to GPU in 0.073238 secs. 1 sparse feature groups\n",
      "[LightGBM] [Info] Size of histogram bin entry: 8\n",
      "[LightGBM] [Info] 27 dense feature groups (215.02 MB) transferred to GPU in 0.066611 secs. 1 sparse feature groups\n",
      "[LightGBM] [Info] Size of histogram bin entry: 8\n",
      "[LightGBM] [Info] 27 dense feature groups (215.03 MB) transferred to GPU in 0.067581 secs. 1 sparse feature groups\n",
      "[LightGBM] [Info] Size of histogram bin entry: 8\n",
      "[LightGBM] [Info] 27 dense feature groups (215.07 MB) transferred to GPU in 0.070696 secs. 1 sparse feature groups\n",
      "[LightGBM] [Info] Size of histogram bin entry: 8\n",
      "[LightGBM] [Info] 27 dense feature groups (215.06 MB) transferred to GPU in 0.079111 secs. 1 sparse feature groups\n",
      "[LightGBM] [Info] Size of histogram bin entry: 8\n",
      "[LightGBM] [Info] 27 dense feature groups (215.04 MB) transferred to GPU in 0.077630 secs. 1 sparse feature groups\n",
      "[LightGBM] [Info] Size of histogram bin entry: 8\n",
      "[LightGBM] [Info] 27 dense feature groups (215.02 MB) transferred to GPU in 0.078177 secs. 1 sparse feature groups\n",
      "[LightGBM] [Info] Size of histogram bin entry: 8\n",
      "[LightGBM] [Info] 27 dense feature groups (214.85 MB) transferred to GPU in 0.077642 secs. 1 sparse feature groups\n",
      "[LightGBM] [Info] Size of histogram bin entry: 8\n",
      "[LightGBM] [Info] 27 dense feature groups (215.08 MB) transferred to GPU in 0.079923 secs. 1 sparse feature groups\n",
      "[LightGBM] [Info] Size of histogram bin entry: 8\n",
      "[LightGBM] [Info] 27 dense feature groups (215.08 MB) transferred to GPU in 0.066240 secs. 1 sparse feature groups\n",
      "[LightGBM] [Info] Size of histogram bin entry: 8\n",
      "[LightGBM] [Info] 27 dense feature groups (215.06 MB) transferred to GPU in 0.067706 secs. 1 sparse feature groups\n",
      "[LightGBM] [Info] Size of histogram bin entry: 8\n",
      "[LightGBM] [Info] 27 dense feature groups (215.08 MB) transferred to GPU in 0.066469 secs. 1 sparse feature groups\n",
      "[LightGBM] [Info] Size of histogram bin entry: 8\n",
      "[LightGBM] [Info] 27 dense feature groups (215.03 MB) transferred to GPU in 0.065600 secs. 1 sparse feature groups\n",
      "[LightGBM] [Info] Size of histogram bin entry: 8\n",
      "[LightGBM] [Info] 27 dense feature groups (215.02 MB) transferred to GPU in 0.064856 secs. 1 sparse feature groups\n",
      "[LightGBM] [Info] Size of histogram bin entry: 8\n",
      "[LightGBM] [Info] 27 dense feature groups (215.05 MB) transferred to GPU in 0.065376 secs. 1 sparse feature groups\n"
     ]
    },
    {
     "name": "stdout",
     "output_type": "stream",
     "text": [
      "[LightGBM] [Info] Size of histogram bin entry: 8\n",
      "[LightGBM] [Info] 27 dense feature groups (215.03 MB) transferred to GPU in 0.067894 secs. 1 sparse feature groups\n",
      "[LightGBM] [Info] Size of histogram bin entry: 8\n",
      "[LightGBM] [Info] 27 dense feature groups (215.02 MB) transferred to GPU in 0.066144 secs. 1 sparse feature groups\n",
      "[LightGBM] [Info] Size of histogram bin entry: 8\n",
      "[LightGBM] [Info] 27 dense feature groups (215.03 MB) transferred to GPU in 0.073689 secs. 1 sparse feature groups\n",
      "[LightGBM] [Info] Size of histogram bin entry: 8\n",
      "[LightGBM] [Info] 27 dense feature groups (214.99 MB) transferred to GPU in 0.073076 secs. 1 sparse feature groups\n",
      "[LightGBM] [Info] Size of histogram bin entry: 8\n",
      "[LightGBM] [Info] 27 dense feature groups (215.03 MB) transferred to GPU in 0.073120 secs. 1 sparse feature groups\n",
      "[LightGBM] [Info] Size of histogram bin entry: 8\n",
      "[LightGBM] [Info] 27 dense feature groups (215.05 MB) transferred to GPU in 0.066862 secs. 1 sparse feature groups\n",
      "[LightGBM] [Info] Size of histogram bin entry: 8\n",
      "[LightGBM] [Info] 27 dense feature groups (215.06 MB) transferred to GPU in 0.065519 secs. 1 sparse feature groups\n",
      "[LightGBM] [Info] Size of histogram bin entry: 8\n",
      "[LightGBM] [Info] 27 dense feature groups (215.00 MB) transferred to GPU in 0.066224 secs. 1 sparse feature groups\n",
      "[LightGBM] [Info] Size of histogram bin entry: 8\n",
      "[LightGBM] [Info] 27 dense feature groups (215.05 MB) transferred to GPU in 0.067925 secs. 1 sparse feature groups\n",
      "[LightGBM] [Info] Size of histogram bin entry: 8\n",
      "[LightGBM] [Info] 27 dense feature groups (215.05 MB) transferred to GPU in 0.083155 secs. 1 sparse feature groups\n",
      "[LightGBM] [Info] Size of histogram bin entry: 8\n",
      "[LightGBM] [Info] 27 dense feature groups (215.03 MB) transferred to GPU in 0.073097 secs. 1 sparse feature groups\n",
      "[LightGBM] [Info] Size of histogram bin entry: 8\n",
      "[LightGBM] [Info] 27 dense feature groups (215.04 MB) transferred to GPU in 0.068479 secs. 1 sparse feature groups\n",
      "[LightGBM] [Info] Size of histogram bin entry: 8\n",
      "[LightGBM] [Info] 27 dense feature groups (215.06 MB) transferred to GPU in 0.070063 secs. 1 sparse feature groups\n",
      "[LightGBM] [Info] Size of histogram bin entry: 8\n",
      "[LightGBM] [Info] 27 dense feature groups (215.03 MB) transferred to GPU in 0.068488 secs. 1 sparse feature groups\n",
      "[LightGBM] [Warning] min_data_in_leaf is set=27, min_child_samples=20 will be ignored. Current value: min_data_in_leaf=27\n",
      "[LightGBM] [Warning] feature_fraction is set=0.8366321999331143, colsample_bytree=1.0 will be ignored. Current value: feature_fraction=0.8366321999331143\n",
      "[LightGBM] [Warning] lambda_l2 is set=0.009949713857715498, reg_lambda=0.0 will be ignored. Current value: lambda_l2=0.009949713857715498\n",
      "[LightGBM] [Warning] lambda_l1 is set=0.004927628327105772, reg_alpha=0.0 will be ignored. Current value: lambda_l1=0.004927628327105772\n",
      "[LightGBM] [Warning] bagging_fraction is set=0.7669567822539117, subsample=1.0 will be ignored. Current value: bagging_fraction=0.7669567822539117\n",
      "[LightGBM] [Warning] bagging_freq is set=2, subsample_freq=0 will be ignored. Current value: bagging_freq=2\n",
      "auc:0.8200177853786748 , log_loss:0.5176377940292853 , ks:0.47666208578072405\n"
     ]
    },
    {
     "name": "stderr",
     "output_type": "stream",
     "text": [
      "[I 2023-10-03 21:01:40,042] Trial 21 finished with value: 0.8200177853786748 and parameters: {'learning_rate': 0.07975939974178177, 'num_leaves': 90, 'lambda_l1': 0.004927628327105772, 'lambda_l2': 0.009949713857715498, 'min_data_in_leaf': 27, 'max_depth': 39, 'feature_fraction': 0.8366321999331143, 'bagging_fraction': 0.7669567822539117, 'bagging_freq': 2}. Best is trial 21 with value: 0.8200177853786748.\n"
     ]
    },
    {
     "name": "stdout",
     "output_type": "stream",
     "text": [
      "LGBM - Optimization using optuna\n",
      "[LightGBM] [Warning] min_data_in_leaf is set=67, min_child_samples=20 will be ignored. Current value: min_data_in_leaf=67\n",
      "[LightGBM] [Warning] feature_fraction is set=0.9155051544531272, colsample_bytree=1.0 will be ignored. Current value: feature_fraction=0.9155051544531272\n",
      "[LightGBM] [Warning] lambda_l2 is set=0.05415573516232405, reg_lambda=0.0 will be ignored. Current value: lambda_l2=0.05415573516232405\n",
      "[LightGBM] [Warning] lambda_l1 is set=0.0028493448388375404, reg_alpha=0.0 will be ignored. Current value: lambda_l1=0.0028493448388375404\n",
      "[LightGBM] [Warning] bagging_fraction is set=0.7684771692359239, subsample=1.0 will be ignored. Current value: bagging_fraction=0.7684771692359239\n",
      "[LightGBM] [Warning] bagging_freq is set=1, subsample_freq=0 will be ignored. Current value: bagging_freq=1\n",
      "[LightGBM] [Warning] min_data_in_leaf is set=67, min_child_samples=20 will be ignored. Current value: min_data_in_leaf=67\n",
      "[LightGBM] [Warning] feature_fraction is set=0.9155051544531272, colsample_bytree=1.0 will be ignored. Current value: feature_fraction=0.9155051544531272\n",
      "[LightGBM] [Warning] lambda_l2 is set=0.05415573516232405, reg_lambda=0.0 will be ignored. Current value: lambda_l2=0.05415573516232405\n",
      "[LightGBM] [Warning] lambda_l1 is set=0.0028493448388375404, reg_alpha=0.0 will be ignored. Current value: lambda_l1=0.0028493448388375404\n",
      "[LightGBM] [Warning] bagging_fraction is set=0.7684771692359239, subsample=1.0 will be ignored. Current value: bagging_fraction=0.7684771692359239\n",
      "[LightGBM] [Warning] bagging_freq is set=1, subsample_freq=0 will be ignored. Current value: bagging_freq=1\n",
      "[LightGBM] [Info] Number of positive: 5564616, number of negative: 4935384\n",
      "[LightGBM] [Info] This is the GPU trainer!!\n",
      "[LightGBM] [Info] Total Bins 6132\n",
      "[LightGBM] [Info] Number of data points in the train set: 10500000, number of used features: 28\n",
      "[LightGBM] [Info] Using GPU Device: NVIDIA GeForce RTX 4090, Vendor: NVIDIA Corporation\n",
      "[LightGBM] [Info] Compiling OpenCL Kernel with 256 bins...\n",
      "[LightGBM] [Info] GPU programs have been built\n",
      "[LightGBM] [Info] Size of histogram bin entry: 8\n",
      "[LightGBM] [Info] 27 dense feature groups (280.38 MB) transferred to GPU in 0.090696 secs. 1 sparse feature groups\n",
      "[LightGBM] [Info] [binary:BoostFromScore]: pavg=0.529963 -> initscore=0.119997\n",
      "[LightGBM] [Info] Start training from score 0.119997\n",
      "[LightGBM] [Warning] min_data_in_leaf is set=67, min_child_samples=20 will be ignored. Current value: min_data_in_leaf=67\n",
      "[LightGBM] [Warning] feature_fraction is set=0.9155051544531272, colsample_bytree=1.0 will be ignored. Current value: feature_fraction=0.9155051544531272\n",
      "[LightGBM] [Warning] lambda_l2 is set=0.05415573516232405, reg_lambda=0.0 will be ignored. Current value: lambda_l2=0.05415573516232405\n",
      "[LightGBM] [Warning] lambda_l1 is set=0.0028493448388375404, reg_alpha=0.0 will be ignored. Current value: lambda_l1=0.0028493448388375404\n",
      "[LightGBM] [Warning] bagging_fraction is set=0.7684771692359239, subsample=1.0 will be ignored. Current value: bagging_fraction=0.7684771692359239\n",
      "[LightGBM] [Warning] bagging_freq is set=1, subsample_freq=0 will be ignored. Current value: bagging_freq=1\n",
      "auc:0.8177420654715849 , log_loss:0.521021750920807 , ks:0.47231780578117827\n"
     ]
    },
    {
     "name": "stderr",
     "output_type": "stream",
     "text": [
      "[I 2023-10-03 21:02:03,841] Trial 22 finished with value: 0.8177420654715849 and parameters: {'learning_rate': 0.06126296681302738, 'num_leaves': 106, 'lambda_l1': 0.0028493448388375404, 'lambda_l2': 0.05415573516232405, 'min_data_in_leaf': 67, 'max_depth': 47, 'feature_fraction': 0.9155051544531272, 'bagging_fraction': 0.7684771692359239, 'bagging_freq': 1}. Best is trial 21 with value: 0.8200177853786748.\n"
     ]
    },
    {
     "name": "stdout",
     "output_type": "stream",
     "text": [
      "LGBM - Optimization using optuna\n",
      "[LightGBM] [Warning] min_data_in_leaf is set=24, min_child_samples=20 will be ignored. Current value: min_data_in_leaf=24\n",
      "[LightGBM] [Warning] feature_fraction is set=0.9185459434435714, colsample_bytree=1.0 will be ignored. Current value: feature_fraction=0.9185459434435714\n",
      "[LightGBM] [Warning] lambda_l2 is set=0.06643069771199578, reg_lambda=0.0 will be ignored. Current value: lambda_l2=0.06643069771199578\n",
      "[LightGBM] [Warning] lambda_l1 is set=0.002345941124304121, reg_alpha=0.0 will be ignored. Current value: lambda_l1=0.002345941124304121\n",
      "[LightGBM] [Warning] bagging_fraction is set=0.7766948994236493, subsample=1.0 will be ignored. Current value: bagging_fraction=0.7766948994236493\n",
      "[LightGBM] [Warning] bagging_freq is set=2, subsample_freq=0 will be ignored. Current value: bagging_freq=2\n",
      "[LightGBM] [Warning] min_data_in_leaf is set=24, min_child_samples=20 will be ignored. Current value: min_data_in_leaf=24\n",
      "[LightGBM] [Warning] feature_fraction is set=0.9185459434435714, colsample_bytree=1.0 will be ignored. Current value: feature_fraction=0.9185459434435714\n",
      "[LightGBM] [Warning] lambda_l2 is set=0.06643069771199578, reg_lambda=0.0 will be ignored. Current value: lambda_l2=0.06643069771199578\n",
      "[LightGBM] [Warning] lambda_l1 is set=0.002345941124304121, reg_alpha=0.0 will be ignored. Current value: lambda_l1=0.002345941124304121\n",
      "[LightGBM] [Warning] bagging_fraction is set=0.7766948994236493, subsample=1.0 will be ignored. Current value: bagging_fraction=0.7766948994236493\n",
      "[LightGBM] [Warning] bagging_freq is set=2, subsample_freq=0 will be ignored. Current value: bagging_freq=2\n",
      "[LightGBM] [Info] Number of positive: 5564616, number of negative: 4935384\n",
      "[LightGBM] [Info] This is the GPU trainer!!\n",
      "[LightGBM] [Info] Total Bins 6132\n",
      "[LightGBM] [Info] Number of data points in the train set: 10500000, number of used features: 28\n",
      "[LightGBM] [Info] Using GPU Device: NVIDIA GeForce RTX 4090, Vendor: NVIDIA Corporation\n",
      "[LightGBM] [Info] Compiling OpenCL Kernel with 256 bins...\n",
      "[LightGBM] [Info] GPU programs have been built\n",
      "[LightGBM] [Info] Size of histogram bin entry: 8\n",
      "[LightGBM] [Info] 27 dense feature groups (280.38 MB) transferred to GPU in 0.086733 secs. 1 sparse feature groups\n",
      "[LightGBM] [Info] [binary:BoostFromScore]: pavg=0.529963 -> initscore=0.119997\n",
      "[LightGBM] [Info] Start training from score 0.119997\n",
      "[LightGBM] [Info] Size of histogram bin entry: 8\n",
      "[LightGBM] [Info] 27 dense feature groups (217.80 MB) transferred to GPU in 0.066867 secs. 1 sparse feature groups\n",
      "[LightGBM] [Info] Size of histogram bin entry: 8\n",
      "[LightGBM] [Info] 27 dense feature groups (217.77 MB) transferred to GPU in 0.082078 secs. 1 sparse feature groups\n",
      "[LightGBM] [Info] Size of histogram bin entry: 8\n",
      "[LightGBM] [Info] 27 dense feature groups (217.75 MB) transferred to GPU in 0.082445 secs. 1 sparse feature groups\n",
      "[LightGBM] [Info] Size of histogram bin entry: 8\n",
      "[LightGBM] [Info] 27 dense feature groups (217.79 MB) transferred to GPU in 0.075542 secs. 1 sparse feature groups\n",
      "[LightGBM] [Info] Size of histogram bin entry: 8\n",
      "[LightGBM] [Info] 27 dense feature groups (217.76 MB) transferred to GPU in 0.068252 secs. 1 sparse feature groups\n",
      "[LightGBM] [Info] Size of histogram bin entry: 8\n",
      "[LightGBM] [Info] 27 dense feature groups (217.79 MB) transferred to GPU in 0.068328 secs. 1 sparse feature groups\n",
      "[LightGBM] [Info] Size of histogram bin entry: 8\n",
      "[LightGBM] [Info] 27 dense feature groups (217.77 MB) transferred to GPU in 0.067924 secs. 1 sparse feature groups\n",
      "[LightGBM] [Info] Size of histogram bin entry: 8\n",
      "[LightGBM] [Info] 27 dense feature groups (217.77 MB) transferred to GPU in 0.069619 secs. 1 sparse feature groups\n",
      "[LightGBM] [Info] Size of histogram bin entry: 8\n",
      "[LightGBM] [Info] 27 dense feature groups (217.76 MB) transferred to GPU in 0.068024 secs. 1 sparse feature groups\n",
      "[LightGBM] [Info] Size of histogram bin entry: 8\n",
      "[LightGBM] [Info] 27 dense feature groups (217.78 MB) transferred to GPU in 0.068891 secs. 1 sparse feature groups\n",
      "[LightGBM] [Info] Size of histogram bin entry: 8\n",
      "[LightGBM] [Info] 27 dense feature groups (217.80 MB) transferred to GPU in 0.070891 secs. 1 sparse feature groups\n",
      "[LightGBM] [Info] Size of histogram bin entry: 8\n",
      "[LightGBM] [Info] 27 dense feature groups (217.77 MB) transferred to GPU in 0.068669 secs. 1 sparse feature groups\n",
      "[LightGBM] [Info] Size of histogram bin entry: 8\n",
      "[LightGBM] [Info] 27 dense feature groups (217.77 MB) transferred to GPU in 0.073607 secs. 1 sparse feature groups\n",
      "[LightGBM] [Info] Size of histogram bin entry: 8\n",
      "[LightGBM] [Info] 27 dense feature groups (217.77 MB) transferred to GPU in 0.068293 secs. 1 sparse feature groups\n",
      "[LightGBM] [Info] Size of histogram bin entry: 8\n",
      "[LightGBM] [Info] 27 dense feature groups (217.77 MB) transferred to GPU in 0.072511 secs. 1 sparse feature groups\n",
      "[LightGBM] [Info] Size of histogram bin entry: 8\n",
      "[LightGBM] [Info] 27 dense feature groups (217.80 MB) transferred to GPU in 0.066001 secs. 1 sparse feature groups\n",
      "[LightGBM] [Info] Size of histogram bin entry: 8\n",
      "[LightGBM] [Info] 27 dense feature groups (217.81 MB) transferred to GPU in 0.067129 secs. 1 sparse feature groups\n",
      "[LightGBM] [Info] Size of histogram bin entry: 8\n",
      "[LightGBM] [Info] 27 dense feature groups (217.73 MB) transferred to GPU in 0.067723 secs. 1 sparse feature groups\n",
      "[LightGBM] [Info] Size of histogram bin entry: 8\n",
      "[LightGBM] [Info] 27 dense feature groups (217.77 MB) transferred to GPU in 0.069726 secs. 1 sparse feature groups\n",
      "[LightGBM] [Info] Size of histogram bin entry: 8\n",
      "[LightGBM] [Info] 27 dense feature groups (217.78 MB) transferred to GPU in 0.067531 secs. 1 sparse feature groups\n",
      "[LightGBM] [Info] Size of histogram bin entry: 8\n",
      "[LightGBM] [Info] 27 dense feature groups (217.76 MB) transferred to GPU in 0.067137 secs. 1 sparse feature groups\n",
      "[LightGBM] [Info] Size of histogram bin entry: 8\n",
      "[LightGBM] [Info] 27 dense feature groups (217.77 MB) transferred to GPU in 0.073964 secs. 1 sparse feature groups\n",
      "[LightGBM] [Info] Size of histogram bin entry: 8\n",
      "[LightGBM] [Info] 27 dense feature groups (217.77 MB) transferred to GPU in 0.067441 secs. 1 sparse feature groups\n",
      "[LightGBM] [Info] Size of histogram bin entry: 8\n",
      "[LightGBM] [Info] 27 dense feature groups (217.76 MB) transferred to GPU in 0.067106 secs. 1 sparse feature groups\n",
      "[LightGBM] [Info] Size of histogram bin entry: 8\n",
      "[LightGBM] [Info] 27 dense feature groups (217.80 MB) transferred to GPU in 0.066656 secs. 1 sparse feature groups\n",
      "[LightGBM] [Info] Size of histogram bin entry: 8\n",
      "[LightGBM] [Info] 27 dense feature groups (217.79 MB) transferred to GPU in 0.067862 secs. 1 sparse feature groups\n",
      "[LightGBM] [Info] Size of histogram bin entry: 8\n",
      "[LightGBM] [Info] 27 dense feature groups (217.77 MB) transferred to GPU in 0.067082 secs. 1 sparse feature groups\n",
      "[LightGBM] [Info] Size of histogram bin entry: 8\n",
      "[LightGBM] [Info] 27 dense feature groups (217.76 MB) transferred to GPU in 0.069635 secs. 1 sparse feature groups\n",
      "[LightGBM] [Info] Size of histogram bin entry: 8\n",
      "[LightGBM] [Info] 27 dense feature groups (217.58 MB) transferred to GPU in 0.069596 secs. 1 sparse feature groups\n",
      "[LightGBM] [Info] Size of histogram bin entry: 8\n",
      "[LightGBM] [Info] 27 dense feature groups (217.81 MB) transferred to GPU in 0.077416 secs. 1 sparse feature groups\n",
      "[LightGBM] [Info] Size of histogram bin entry: 8\n",
      "[LightGBM] [Info] 27 dense feature groups (217.81 MB) transferred to GPU in 0.074529 secs. 1 sparse feature groups\n",
      "[LightGBM] [Info] Size of histogram bin entry: 8\n",
      "[LightGBM] [Info] 27 dense feature groups (217.81 MB) transferred to GPU in 0.070076 secs. 1 sparse feature groups\n",
      "[LightGBM] [Info] Size of histogram bin entry: 8\n",
      "[LightGBM] [Info] 27 dense feature groups (217.80 MB) transferred to GPU in 0.065620 secs. 1 sparse feature groups\n",
      "[LightGBM] [Info] Size of histogram bin entry: 8\n",
      "[LightGBM] [Info] 27 dense feature groups (217.77 MB) transferred to GPU in 0.065184 secs. 1 sparse feature groups\n",
      "[LightGBM] [Info] Size of histogram bin entry: 8\n",
      "[LightGBM] [Info] 27 dense feature groups (217.74 MB) transferred to GPU in 0.067661 secs. 1 sparse feature groups\n",
      "[LightGBM] [Info] Size of histogram bin entry: 8\n",
      "[LightGBM] [Info] 27 dense feature groups (217.77 MB) transferred to GPU in 0.069267 secs. 1 sparse feature groups\n"
     ]
    },
    {
     "name": "stdout",
     "output_type": "stream",
     "text": [
      "[LightGBM] [Info] Size of histogram bin entry: 8\n",
      "[LightGBM] [Info] 27 dense feature groups (217.77 MB) transferred to GPU in 0.072369 secs. 1 sparse feature groups\n",
      "[LightGBM] [Info] Size of histogram bin entry: 8\n",
      "[LightGBM] [Info] 27 dense feature groups (217.77 MB) transferred to GPU in 0.073791 secs. 1 sparse feature groups\n",
      "[LightGBM] [Info] Size of histogram bin entry: 8\n",
      "[LightGBM] [Info] 27 dense feature groups (217.75 MB) transferred to GPU in 0.071813 secs. 1 sparse feature groups\n",
      "[LightGBM] [Info] Size of histogram bin entry: 8\n",
      "[LightGBM] [Info] 27 dense feature groups (217.72 MB) transferred to GPU in 0.067342 secs. 1 sparse feature groups\n",
      "[LightGBM] [Info] Size of histogram bin entry: 8\n",
      "[LightGBM] [Info] 27 dense feature groups (217.75 MB) transferred to GPU in 0.067101 secs. 1 sparse feature groups\n",
      "[LightGBM] [Info] Size of histogram bin entry: 8\n",
      "[LightGBM] [Info] 27 dense feature groups (217.77 MB) transferred to GPU in 0.065678 secs. 1 sparse feature groups\n",
      "[LightGBM] [Info] Size of histogram bin entry: 8\n",
      "[LightGBM] [Info] 27 dense feature groups (217.78 MB) transferred to GPU in 0.065904 secs. 1 sparse feature groups\n",
      "[LightGBM] [Info] Size of histogram bin entry: 8\n",
      "[LightGBM] [Info] 27 dense feature groups (217.74 MB) transferred to GPU in 0.079824 secs. 1 sparse feature groups\n",
      "[LightGBM] [Info] Size of histogram bin entry: 8\n",
      "[LightGBM] [Info] 27 dense feature groups (217.78 MB) transferred to GPU in 0.065668 secs. 1 sparse feature groups\n",
      "[LightGBM] [Info] Size of histogram bin entry: 8\n",
      "[LightGBM] [Info] 27 dense feature groups (217.77 MB) transferred to GPU in 0.067511 secs. 1 sparse feature groups\n",
      "[LightGBM] [Info] Size of histogram bin entry: 8\n",
      "[LightGBM] [Info] 27 dense feature groups (217.76 MB) transferred to GPU in 0.065449 secs. 1 sparse feature groups\n",
      "[LightGBM] [Info] Size of histogram bin entry: 8\n",
      "[LightGBM] [Info] 27 dense feature groups (217.77 MB) transferred to GPU in 0.064893 secs. 1 sparse feature groups\n",
      "[LightGBM] [Info] Size of histogram bin entry: 8\n",
      "[LightGBM] [Info] 27 dense feature groups (217.79 MB) transferred to GPU in 0.064711 secs. 1 sparse feature groups\n",
      "[LightGBM] [Info] Size of histogram bin entry: 8\n",
      "[LightGBM] [Info] 27 dense feature groups (217.76 MB) transferred to GPU in 0.065219 secs. 1 sparse feature groups\n",
      "[LightGBM] [Warning] min_data_in_leaf is set=24, min_child_samples=20 will be ignored. Current value: min_data_in_leaf=24\n",
      "[LightGBM] [Warning] feature_fraction is set=0.9185459434435714, colsample_bytree=1.0 will be ignored. Current value: feature_fraction=0.9185459434435714\n",
      "[LightGBM] [Warning] lambda_l2 is set=0.06643069771199578, reg_lambda=0.0 will be ignored. Current value: lambda_l2=0.06643069771199578\n",
      "[LightGBM] [Warning] lambda_l1 is set=0.002345941124304121, reg_alpha=0.0 will be ignored. Current value: lambda_l1=0.002345941124304121\n",
      "[LightGBM] [Warning] bagging_fraction is set=0.7766948994236493, subsample=1.0 will be ignored. Current value: bagging_fraction=0.7766948994236493\n",
      "[LightGBM] [Warning] bagging_freq is set=2, subsample_freq=0 will be ignored. Current value: bagging_freq=2\n",
      "auc:0.815490453237026 , log_loss:0.5245220518923793 , ks:0.46895115554426176\n"
     ]
    },
    {
     "name": "stderr",
     "output_type": "stream",
     "text": [
      "[I 2023-10-03 21:02:33,330] Trial 23 finished with value: 0.815490453237026 and parameters: {'learning_rate': 0.05327506705644685, 'num_leaves': 102, 'lambda_l1': 0.002345941124304121, 'lambda_l2': 0.06643069771199578, 'min_data_in_leaf': 24, 'max_depth': 37, 'feature_fraction': 0.9185459434435714, 'bagging_fraction': 0.7766948994236493, 'bagging_freq': 2}. Best is trial 21 with value: 0.8200177853786748.\n"
     ]
    },
    {
     "name": "stdout",
     "output_type": "stream",
     "text": [
      "LGBM - Optimization using optuna\n",
      "[LightGBM] [Warning] min_data_in_leaf is set=43, min_child_samples=20 will be ignored. Current value: min_data_in_leaf=43\n",
      "[LightGBM] [Warning] feature_fraction is set=0.9325159178298223, colsample_bytree=1.0 will be ignored. Current value: feature_fraction=0.9325159178298223\n",
      "[LightGBM] [Warning] lambda_l2 is set=0.00833120872829969, reg_lambda=0.0 will be ignored. Current value: lambda_l2=0.00833120872829969\n",
      "[LightGBM] [Warning] lambda_l1 is set=0.02953111081273994, reg_alpha=0.0 will be ignored. Current value: lambda_l1=0.02953111081273994\n",
      "[LightGBM] [Warning] bagging_fraction is set=0.826351835313591, subsample=1.0 will be ignored. Current value: bagging_fraction=0.826351835313591\n",
      "[LightGBM] [Warning] bagging_freq is set=1, subsample_freq=0 will be ignored. Current value: bagging_freq=1\n",
      "[LightGBM] [Warning] min_data_in_leaf is set=43, min_child_samples=20 will be ignored. Current value: min_data_in_leaf=43\n",
      "[LightGBM] [Warning] feature_fraction is set=0.9325159178298223, colsample_bytree=1.0 will be ignored. Current value: feature_fraction=0.9325159178298223\n",
      "[LightGBM] [Warning] lambda_l2 is set=0.00833120872829969, reg_lambda=0.0 will be ignored. Current value: lambda_l2=0.00833120872829969\n",
      "[LightGBM] [Warning] lambda_l1 is set=0.02953111081273994, reg_alpha=0.0 will be ignored. Current value: lambda_l1=0.02953111081273994\n",
      "[LightGBM] [Warning] bagging_fraction is set=0.826351835313591, subsample=1.0 will be ignored. Current value: bagging_fraction=0.826351835313591\n",
      "[LightGBM] [Warning] bagging_freq is set=1, subsample_freq=0 will be ignored. Current value: bagging_freq=1\n",
      "[LightGBM] [Info] Number of positive: 5564616, number of negative: 4935384\n",
      "[LightGBM] [Info] This is the GPU trainer!!\n",
      "[LightGBM] [Info] Total Bins 6132\n",
      "[LightGBM] [Info] Number of data points in the train set: 10500000, number of used features: 28\n",
      "[LightGBM] [Info] Using GPU Device: NVIDIA GeForce RTX 4090, Vendor: NVIDIA Corporation\n",
      "[LightGBM] [Info] Compiling OpenCL Kernel with 256 bins...\n",
      "[LightGBM] [Info] GPU programs have been built\n",
      "[LightGBM] [Info] Size of histogram bin entry: 8\n",
      "[LightGBM] [Info] 27 dense feature groups (280.38 MB) transferred to GPU in 0.086642 secs. 1 sparse feature groups\n",
      "[LightGBM] [Info] [binary:BoostFromScore]: pavg=0.529963 -> initscore=0.119997\n",
      "[LightGBM] [Info] Start training from score 0.119997\n",
      "[LightGBM] [Warning] min_data_in_leaf is set=43, min_child_samples=20 will be ignored. Current value: min_data_in_leaf=43\n",
      "[LightGBM] [Warning] feature_fraction is set=0.9325159178298223, colsample_bytree=1.0 will be ignored. Current value: feature_fraction=0.9325159178298223\n",
      "[LightGBM] [Warning] lambda_l2 is set=0.00833120872829969, reg_lambda=0.0 will be ignored. Current value: lambda_l2=0.00833120872829969\n",
      "[LightGBM] [Warning] lambda_l1 is set=0.02953111081273994, reg_alpha=0.0 will be ignored. Current value: lambda_l1=0.02953111081273994\n",
      "[LightGBM] [Warning] bagging_fraction is set=0.826351835313591, subsample=1.0 will be ignored. Current value: bagging_fraction=0.826351835313591\n",
      "[LightGBM] [Warning] bagging_freq is set=1, subsample_freq=0 will be ignored. Current value: bagging_freq=1\n",
      "auc:0.8054442360363733 , log_loss:0.5469415876685964 , ks:0.45249023859768994\n"
     ]
    },
    {
     "name": "stderr",
     "output_type": "stream",
     "text": [
      "[I 2023-10-03 21:02:59,871] Trial 24 finished with value: 0.8054442360363733 and parameters: {'learning_rate': 0.021880119404859823, 'num_leaves': 172, 'lambda_l1': 0.02953111081273994, 'lambda_l2': 0.00833120872829969, 'min_data_in_leaf': 43, 'max_depth': 57, 'feature_fraction': 0.9325159178298223, 'bagging_fraction': 0.826351835313591, 'bagging_freq': 1}. Best is trial 21 with value: 0.8200177853786748.\n"
     ]
    },
    {
     "name": "stdout",
     "output_type": "stream",
     "text": [
      "LGBM - Optimization using optuna\n",
      "[LightGBM] [Warning] min_data_in_leaf is set=85, min_child_samples=20 will be ignored. Current value: min_data_in_leaf=85\n",
      "[LightGBM] [Warning] feature_fraction is set=0.8553041784002876, colsample_bytree=1.0 will be ignored. Current value: feature_fraction=0.8553041784002876\n",
      "[LightGBM] [Warning] lambda_l2 is set=0.28598886214200847, reg_lambda=0.0 will be ignored. Current value: lambda_l2=0.28598886214200847\n",
      "[LightGBM] [Warning] lambda_l1 is set=0.08164777057195752, reg_alpha=0.0 will be ignored. Current value: lambda_l1=0.08164777057195752\n",
      "[LightGBM] [Warning] bagging_fraction is set=0.7646895468126416, subsample=1.0 will be ignored. Current value: bagging_fraction=0.7646895468126416\n",
      "[LightGBM] [Warning] bagging_freq is set=3, subsample_freq=0 will be ignored. Current value: bagging_freq=3\n",
      "[LightGBM] [Warning] min_data_in_leaf is set=85, min_child_samples=20 will be ignored. Current value: min_data_in_leaf=85\n",
      "[LightGBM] [Warning] feature_fraction is set=0.8553041784002876, colsample_bytree=1.0 will be ignored. Current value: feature_fraction=0.8553041784002876\n",
      "[LightGBM] [Warning] lambda_l2 is set=0.28598886214200847, reg_lambda=0.0 will be ignored. Current value: lambda_l2=0.28598886214200847\n",
      "[LightGBM] [Warning] lambda_l1 is set=0.08164777057195752, reg_alpha=0.0 will be ignored. Current value: lambda_l1=0.08164777057195752\n",
      "[LightGBM] [Warning] bagging_fraction is set=0.7646895468126416, subsample=1.0 will be ignored. Current value: bagging_fraction=0.7646895468126416\n",
      "[LightGBM] [Warning] bagging_freq is set=3, subsample_freq=0 will be ignored. Current value: bagging_freq=3\n",
      "[LightGBM] [Info] Number of positive: 5564616, number of negative: 4935384\n",
      "[LightGBM] [Info] This is the GPU trainer!!\n",
      "[LightGBM] [Info] Total Bins 6132\n",
      "[LightGBM] [Info] Number of data points in the train set: 10500000, number of used features: 28\n",
      "[LightGBM] [Info] Using GPU Device: NVIDIA GeForce RTX 4090, Vendor: NVIDIA Corporation\n",
      "[LightGBM] [Info] Compiling OpenCL Kernel with 256 bins...\n",
      "[LightGBM] [Info] GPU programs have been built\n",
      "[LightGBM] [Info] Size of histogram bin entry: 8\n",
      "[LightGBM] [Info] 27 dense feature groups (280.38 MB) transferred to GPU in 0.089203 secs. 1 sparse feature groups\n",
      "[LightGBM] [Info] [binary:BoostFromScore]: pavg=0.529963 -> initscore=0.119997\n",
      "[LightGBM] [Info] Start training from score 0.119997\n",
      "[LightGBM] [Info] Size of histogram bin entry: 8\n",
      "[LightGBM] [Info] 27 dense feature groups (214.43 MB) transferred to GPU in 0.073698 secs. 1 sparse feature groups\n",
      "[LightGBM] [Info] Size of histogram bin entry: 8\n",
      "[LightGBM] [Info] 27 dense feature groups (214.41 MB) transferred to GPU in 0.066501 secs. 1 sparse feature groups\n",
      "[LightGBM] [Info] Size of histogram bin entry: 8\n",
      "[LightGBM] [Info] 27 dense feature groups (214.39 MB) transferred to GPU in 0.067610 secs. 1 sparse feature groups\n",
      "[LightGBM] [Info] Size of histogram bin entry: 8\n",
      "[LightGBM] [Info] 27 dense feature groups (214.43 MB) transferred to GPU in 0.067961 secs. 1 sparse feature groups\n",
      "[LightGBM] [Info] Size of histogram bin entry: 8\n",
      "[LightGBM] [Info] 27 dense feature groups (214.40 MB) transferred to GPU in 0.065456 secs. 1 sparse feature groups\n",
      "[LightGBM] [Info] Size of histogram bin entry: 8\n",
      "[LightGBM] [Info] 27 dense feature groups (214.44 MB) transferred to GPU in 0.070030 secs. 1 sparse feature groups\n",
      "[LightGBM] [Info] Size of histogram bin entry: 8\n",
      "[LightGBM] [Info] 27 dense feature groups (214.40 MB) transferred to GPU in 0.065593 secs. 1 sparse feature groups\n",
      "[LightGBM] [Info] Size of histogram bin entry: 8\n",
      "[LightGBM] [Info] 27 dense feature groups (214.41 MB) transferred to GPU in 0.064269 secs. 1 sparse feature groups\n",
      "[LightGBM] [Info] Size of histogram bin entry: 8\n",
      "[LightGBM] [Info] 27 dense feature groups (214.40 MB) transferred to GPU in 0.064049 secs. 1 sparse feature groups\n",
      "[LightGBM] [Info] Size of histogram bin entry: 8\n",
      "[LightGBM] [Info] 27 dense feature groups (214.42 MB) transferred to GPU in 0.073560 secs. 1 sparse feature groups\n",
      "[LightGBM] [Info] Size of histogram bin entry: 8\n",
      "[LightGBM] [Info] 27 dense feature groups (214.43 MB) transferred to GPU in 0.069567 secs. 1 sparse feature groups\n",
      "[LightGBM] [Info] Size of histogram bin entry: 8\n",
      "[LightGBM] [Info] 27 dense feature groups (214.41 MB) transferred to GPU in 0.068233 secs. 1 sparse feature groups\n",
      "[LightGBM] [Info] Size of histogram bin entry: 8\n",
      "[LightGBM] [Info] 27 dense feature groups (214.41 MB) transferred to GPU in 0.065809 secs. 1 sparse feature groups\n",
      "[LightGBM] [Info] Size of histogram bin entry: 8\n",
      "[LightGBM] [Info] 27 dense feature groups (214.41 MB) transferred to GPU in 0.071945 secs. 1 sparse feature groups\n",
      "[LightGBM] [Info] Size of histogram bin entry: 8\n",
      "[LightGBM] [Info] 27 dense feature groups (214.40 MB) transferred to GPU in 0.066425 secs. 1 sparse feature groups\n",
      "[LightGBM] [Info] Size of histogram bin entry: 8\n",
      "[LightGBM] [Info] 27 dense feature groups (214.42 MB) transferred to GPU in 0.063452 secs. 1 sparse feature groups\n",
      "[LightGBM] [Info] Size of histogram bin entry: 8\n",
      "[LightGBM] [Info] 27 dense feature groups (214.44 MB) transferred to GPU in 0.064743 secs. 1 sparse feature groups\n",
      "[LightGBM] [Info] Size of histogram bin entry: 8\n",
      "[LightGBM] [Info] 27 dense feature groups (214.38 MB) transferred to GPU in 0.063995 secs. 1 sparse feature groups\n",
      "[LightGBM] [Info] Size of histogram bin entry: 8\n",
      "[LightGBM] [Info] 27 dense feature groups (214.39 MB) transferred to GPU in 0.065193 secs. 1 sparse feature groups\n",
      "[LightGBM] [Info] Size of histogram bin entry: 8\n",
      "[LightGBM] [Info] 27 dense feature groups (214.43 MB) transferred to GPU in 0.064358 secs. 1 sparse feature groups\n",
      "[LightGBM] [Info] Size of histogram bin entry: 8\n",
      "[LightGBM] [Info] 27 dense feature groups (214.39 MB) transferred to GPU in 0.063316 secs. 1 sparse feature groups\n",
      "[LightGBM] [Info] Size of histogram bin entry: 8\n",
      "[LightGBM] [Info] 27 dense feature groups (214.40 MB) transferred to GPU in 0.067809 secs. 1 sparse feature groups\n",
      "[LightGBM] [Info] Size of histogram bin entry: 8\n",
      "[LightGBM] [Info] 27 dense feature groups (214.39 MB) transferred to GPU in 0.064962 secs. 1 sparse feature groups\n",
      "[LightGBM] [Info] Size of histogram bin entry: 8\n",
      "[LightGBM] [Info] 27 dense feature groups (214.40 MB) transferred to GPU in 0.065691 secs. 1 sparse feature groups\n",
      "[LightGBM] [Info] Size of histogram bin entry: 8\n",
      "[LightGBM] [Info] 27 dense feature groups (214.43 MB) transferred to GPU in 0.064762 secs. 1 sparse feature groups\n",
      "[LightGBM] [Info] Size of histogram bin entry: 8\n",
      "[LightGBM] [Info] 27 dense feature groups (214.42 MB) transferred to GPU in 0.065689 secs. 1 sparse feature groups\n",
      "[LightGBM] [Info] Size of histogram bin entry: 8\n",
      "[LightGBM] [Info] 27 dense feature groups (214.41 MB) transferred to GPU in 0.064528 secs. 1 sparse feature groups\n",
      "[LightGBM] [Info] Size of histogram bin entry: 8\n",
      "[LightGBM] [Info] 27 dense feature groups (214.38 MB) transferred to GPU in 0.066336 secs. 1 sparse feature groups\n",
      "[LightGBM] [Info] Size of histogram bin entry: 8\n",
      "[LightGBM] [Info] 27 dense feature groups (214.22 MB) transferred to GPU in 0.070434 secs. 1 sparse feature groups\n",
      "[LightGBM] [Info] Size of histogram bin entry: 8\n",
      "[LightGBM] [Info] 27 dense feature groups (214.45 MB) transferred to GPU in 0.063475 secs. 1 sparse feature groups\n",
      "[LightGBM] [Info] Size of histogram bin entry: 8\n",
      "[LightGBM] [Info] 27 dense feature groups (214.45 MB) transferred to GPU in 0.066203 secs. 1 sparse feature groups\n",
      "[LightGBM] [Info] Size of histogram bin entry: 8\n",
      "[LightGBM] [Info] 27 dense feature groups (214.42 MB) transferred to GPU in 0.064253 secs. 1 sparse feature groups\n",
      "[LightGBM] [Info] Size of histogram bin entry: 8\n",
      "[LightGBM] [Info] 27 dense feature groups (214.44 MB) transferred to GPU in 0.068268 secs. 1 sparse feature groups\n",
      "[LightGBM] [Info] Size of histogram bin entry: 8\n",
      "[LightGBM] [Info] 27 dense feature groups (214.40 MB) transferred to GPU in 0.069018 secs. 1 sparse feature groups\n",
      "[LightGBM] [Warning] min_data_in_leaf is set=85, min_child_samples=20 will be ignored. Current value: min_data_in_leaf=85\n",
      "[LightGBM] [Warning] feature_fraction is set=0.8553041784002876, colsample_bytree=1.0 will be ignored. Current value: feature_fraction=0.8553041784002876\n",
      "[LightGBM] [Warning] lambda_l2 is set=0.28598886214200847, reg_lambda=0.0 will be ignored. Current value: lambda_l2=0.28598886214200847\n",
      "[LightGBM] [Warning] lambda_l1 is set=0.08164777057195752, reg_alpha=0.0 will be ignored. Current value: lambda_l1=0.08164777057195752\n",
      "[LightGBM] [Warning] bagging_fraction is set=0.7646895468126416, subsample=1.0 will be ignored. Current value: bagging_fraction=0.7646895468126416\n",
      "[LightGBM] [Warning] bagging_freq is set=3, subsample_freq=0 will be ignored. Current value: bagging_freq=3\n"
     ]
    },
    {
     "name": "stdout",
     "output_type": "stream",
     "text": [
      "auc:0.8179630603683824 , log_loss:0.5219021401395008 , ks:0.47289274884551247\n"
     ]
    },
    {
     "name": "stderr",
     "output_type": "stream",
     "text": [
      "[I 2023-10-03 21:03:28,703] Trial 25 finished with value: 0.8179630603683824 and parameters: {'learning_rate': 0.051304634883899775, 'num_leaves': 143, 'lambda_l1': 0.08164777057195752, 'lambda_l2': 0.28598886214200847, 'min_data_in_leaf': 85, 'max_depth': 47, 'feature_fraction': 0.8553041784002876, 'bagging_fraction': 0.7646895468126416, 'bagging_freq': 3}. Best is trial 21 with value: 0.8200177853786748.\n"
     ]
    },
    {
     "name": "stdout",
     "output_type": "stream",
     "text": [
      "LGBM - Optimization using optuna\n",
      "[LightGBM] [Warning] min_data_in_leaf is set=82, min_child_samples=20 will be ignored. Current value: min_data_in_leaf=82\n",
      "[LightGBM] [Warning] feature_fraction is set=0.8314714646709638, colsample_bytree=1.0 will be ignored. Current value: feature_fraction=0.8314714646709638\n",
      "[LightGBM] [Warning] lambda_l2 is set=0.3098245790883658, reg_lambda=0.0 will be ignored. Current value: lambda_l2=0.3098245790883658\n",
      "[LightGBM] [Warning] lambda_l1 is set=0.11900164354544715, reg_alpha=0.0 will be ignored. Current value: lambda_l1=0.11900164354544715\n",
      "[LightGBM] [Warning] bagging_fraction is set=0.666604014868869, subsample=1.0 will be ignored. Current value: bagging_fraction=0.666604014868869\n",
      "[LightGBM] [Warning] bagging_freq is set=3, subsample_freq=0 will be ignored. Current value: bagging_freq=3\n",
      "[LightGBM] [Warning] min_data_in_leaf is set=82, min_child_samples=20 will be ignored. Current value: min_data_in_leaf=82\n",
      "[LightGBM] [Warning] feature_fraction is set=0.8314714646709638, colsample_bytree=1.0 will be ignored. Current value: feature_fraction=0.8314714646709638\n",
      "[LightGBM] [Warning] lambda_l2 is set=0.3098245790883658, reg_lambda=0.0 will be ignored. Current value: lambda_l2=0.3098245790883658\n",
      "[LightGBM] [Warning] lambda_l1 is set=0.11900164354544715, reg_alpha=0.0 will be ignored. Current value: lambda_l1=0.11900164354544715\n",
      "[LightGBM] [Warning] bagging_fraction is set=0.666604014868869, subsample=1.0 will be ignored. Current value: bagging_fraction=0.666604014868869\n",
      "[LightGBM] [Warning] bagging_freq is set=3, subsample_freq=0 will be ignored. Current value: bagging_freq=3\n",
      "[LightGBM] [Info] Number of positive: 5564616, number of negative: 4935384\n",
      "[LightGBM] [Info] This is the GPU trainer!!\n",
      "[LightGBM] [Info] Total Bins 6132\n",
      "[LightGBM] [Info] Number of data points in the train set: 10500000, number of used features: 28\n",
      "[LightGBM] [Info] Using GPU Device: NVIDIA GeForce RTX 4090, Vendor: NVIDIA Corporation\n",
      "[LightGBM] [Info] Compiling OpenCL Kernel with 256 bins...\n",
      "[LightGBM] [Info] GPU programs have been built\n",
      "[LightGBM] [Info] Size of histogram bin entry: 8\n",
      "[LightGBM] [Info] 27 dense feature groups (280.38 MB) transferred to GPU in 0.096726 secs. 1 sparse feature groups\n",
      "[LightGBM] [Info] [binary:BoostFromScore]: pavg=0.529963 -> initscore=0.119997\n",
      "[LightGBM] [Info] Start training from score 0.119997\n",
      "[LightGBM] [Info] Size of histogram bin entry: 8\n",
      "[LightGBM] [Info] 27 dense feature groups (186.95 MB) transferred to GPU in 0.063816 secs. 1 sparse feature groups\n",
      "[LightGBM] [Info] Size of histogram bin entry: 8\n",
      "[LightGBM] [Info] 27 dense feature groups (186.91 MB) transferred to GPU in 0.066466 secs. 1 sparse feature groups\n",
      "[LightGBM] [Info] Size of histogram bin entry: 8\n",
      "[LightGBM] [Info] 27 dense feature groups (186.89 MB) transferred to GPU in 0.064639 secs. 1 sparse feature groups\n",
      "[LightGBM] [Info] Size of histogram bin entry: 8\n",
      "[LightGBM] [Info] 27 dense feature groups (186.91 MB) transferred to GPU in 0.057871 secs. 1 sparse feature groups\n",
      "[LightGBM] [Info] Size of histogram bin entry: 8\n",
      "[LightGBM] [Info] 27 dense feature groups (186.90 MB) transferred to GPU in 0.056384 secs. 1 sparse feature groups\n",
      "[LightGBM] [Info] Size of histogram bin entry: 8\n",
      "[LightGBM] [Info] 27 dense feature groups (186.92 MB) transferred to GPU in 0.058143 secs. 1 sparse feature groups\n",
      "[LightGBM] [Info] Size of histogram bin entry: 8\n",
      "[LightGBM] [Info] 27 dense feature groups (186.90 MB) transferred to GPU in 0.057836 secs. 1 sparse feature groups\n",
      "[LightGBM] [Info] Size of histogram bin entry: 8\n",
      "[LightGBM] [Info] 27 dense feature groups (186.91 MB) transferred to GPU in 0.060603 secs. 1 sparse feature groups\n",
      "[LightGBM] [Info] Size of histogram bin entry: 8\n",
      "[LightGBM] [Info] 27 dense feature groups (186.91 MB) transferred to GPU in 0.060033 secs. 1 sparse feature groups\n",
      "[LightGBM] [Info] Size of histogram bin entry: 8\n",
      "[LightGBM] [Info] 27 dense feature groups (186.92 MB) transferred to GPU in 0.060859 secs. 1 sparse feature groups\n",
      "[LightGBM] [Info] Size of histogram bin entry: 8\n",
      "[LightGBM] [Info] 27 dense feature groups (186.93 MB) transferred to GPU in 0.057083 secs. 1 sparse feature groups\n",
      "[LightGBM] [Info] Size of histogram bin entry: 8\n",
      "[LightGBM] [Info] 27 dense feature groups (186.93 MB) transferred to GPU in 0.060780 secs. 1 sparse feature groups\n",
      "[LightGBM] [Info] Size of histogram bin entry: 8\n",
      "[LightGBM] [Info] 27 dense feature groups (186.91 MB) transferred to GPU in 0.060707 secs. 1 sparse feature groups\n",
      "[LightGBM] [Info] Size of histogram bin entry: 8\n",
      "[LightGBM] [Info] 27 dense feature groups (186.90 MB) transferred to GPU in 0.057480 secs. 1 sparse feature groups\n",
      "[LightGBM] [Info] Size of histogram bin entry: 8\n",
      "[LightGBM] [Info] 27 dense feature groups (186.91 MB) transferred to GPU in 0.057449 secs. 1 sparse feature groups\n",
      "[LightGBM] [Info] Size of histogram bin entry: 8\n",
      "[LightGBM] [Info] 27 dense feature groups (186.92 MB) transferred to GPU in 0.056553 secs. 1 sparse feature groups\n",
      "[LightGBM] [Info] Size of histogram bin entry: 8\n",
      "[LightGBM] [Info] 27 dense feature groups (186.93 MB) transferred to GPU in 0.055671 secs. 1 sparse feature groups\n",
      "[LightGBM] [Info] Size of histogram bin entry: 8\n",
      "[LightGBM] [Info] 27 dense feature groups (186.87 MB) transferred to GPU in 0.058533 secs. 1 sparse feature groups\n",
      "[LightGBM] [Info] Size of histogram bin entry: 8\n",
      "[LightGBM] [Info] 27 dense feature groups (186.91 MB) transferred to GPU in 0.057862 secs. 1 sparse feature groups\n",
      "[LightGBM] [Info] Size of histogram bin entry: 8\n",
      "[LightGBM] [Info] 27 dense feature groups (186.91 MB) transferred to GPU in 0.056536 secs. 1 sparse feature groups\n",
      "[LightGBM] [Info] Size of histogram bin entry: 8\n",
      "[LightGBM] [Info] 27 dense feature groups (186.91 MB) transferred to GPU in 0.058607 secs. 1 sparse feature groups\n",
      "[LightGBM] [Info] Size of histogram bin entry: 8\n",
      "[LightGBM] [Info] 27 dense feature groups (186.91 MB) transferred to GPU in 0.058418 secs. 1 sparse feature groups\n",
      "[LightGBM] [Info] Size of histogram bin entry: 8\n",
      "[LightGBM] [Info] 27 dense feature groups (186.90 MB) transferred to GPU in 0.057402 secs. 1 sparse feature groups\n",
      "[LightGBM] [Info] Size of histogram bin entry: 8\n",
      "[LightGBM] [Info] 27 dense feature groups (186.91 MB) transferred to GPU in 0.056436 secs. 1 sparse feature groups\n",
      "[LightGBM] [Info] Size of histogram bin entry: 8\n",
      "[LightGBM] [Info] 27 dense feature groups (186.91 MB) transferred to GPU in 0.057987 secs. 1 sparse feature groups\n",
      "[LightGBM] [Info] Size of histogram bin entry: 8\n",
      "[LightGBM] [Info] 27 dense feature groups (186.91 MB) transferred to GPU in 0.056898 secs. 1 sparse feature groups\n",
      "[LightGBM] [Info] Size of histogram bin entry: 8\n",
      "[LightGBM] [Info] 27 dense feature groups (186.91 MB) transferred to GPU in 0.054856 secs. 1 sparse feature groups\n",
      "[LightGBM] [Info] Size of histogram bin entry: 8\n",
      "[LightGBM] [Info] 27 dense feature groups (186.75 MB) transferred to GPU in 0.058094 secs. 1 sparse feature groups\n",
      "[LightGBM] [Info] Size of histogram bin entry: 8\n",
      "[LightGBM] [Info] 27 dense feature groups (186.75 MB) transferred to GPU in 0.056294 secs. 1 sparse feature groups\n",
      "[LightGBM] [Info] Size of histogram bin entry: 8\n",
      "[LightGBM] [Info] 27 dense feature groups (186.89 MB) transferred to GPU in 0.063442 secs. 1 sparse feature groups\n",
      "[LightGBM] [Info] Size of histogram bin entry: 8\n",
      "[LightGBM] [Info] 27 dense feature groups (186.95 MB) transferred to GPU in 0.056665 secs. 1 sparse feature groups\n",
      "[LightGBM] [Info] Size of histogram bin entry: 8\n",
      "[LightGBM] [Info] 27 dense feature groups (186.93 MB) transferred to GPU in 0.056095 secs. 1 sparse feature groups\n",
      "[LightGBM] [Info] Size of histogram bin entry: 8\n",
      "[LightGBM] [Info] 27 dense feature groups (186.71 MB) transferred to GPU in 0.056035 secs. 1 sparse feature groups\n",
      "[LightGBM] [Info] Size of histogram bin entry: 8\n",
      "[LightGBM] [Info] 27 dense feature groups (186.91 MB) transferred to GPU in 0.058217 secs. 1 sparse feature groups\n",
      "[LightGBM] [Warning] min_data_in_leaf is set=82, min_child_samples=20 will be ignored. Current value: min_data_in_leaf=82\n",
      "[LightGBM] [Warning] feature_fraction is set=0.8314714646709638, colsample_bytree=1.0 will be ignored. Current value: feature_fraction=0.8314714646709638\n",
      "[LightGBM] [Warning] lambda_l2 is set=0.3098245790883658, reg_lambda=0.0 will be ignored. Current value: lambda_l2=0.3098245790883658\n",
      "[LightGBM] [Warning] lambda_l1 is set=0.11900164354544715, reg_alpha=0.0 will be ignored. Current value: lambda_l1=0.11900164354544715\n",
      "[LightGBM] [Warning] bagging_fraction is set=0.666604014868869, subsample=1.0 will be ignored. Current value: bagging_fraction=0.666604014868869\n",
      "[LightGBM] [Warning] bagging_freq is set=3, subsample_freq=0 will be ignored. Current value: bagging_freq=3\n"
     ]
    },
    {
     "name": "stdout",
     "output_type": "stream",
     "text": [
      "auc:0.810386771575156 , log_loss:0.5387077983035973 , ks:0.46001106741939446\n"
     ]
    },
    {
     "name": "stderr",
     "output_type": "stream",
     "text": [
      "[I 2023-10-03 21:03:57,105] Trial 26 finished with value: 0.810386771575156 and parameters: {'learning_rate': 0.026863301344357837, 'num_leaves': 198, 'lambda_l1': 0.11900164354544715, 'lambda_l2': 0.3098245790883658, 'min_data_in_leaf': 82, 'max_depth': 62, 'feature_fraction': 0.8314714646709638, 'bagging_fraction': 0.666604014868869, 'bagging_freq': 3}. Best is trial 21 with value: 0.8200177853786748.\n"
     ]
    },
    {
     "name": "stdout",
     "output_type": "stream",
     "text": [
      "LGBM - Optimization using optuna\n",
      "[LightGBM] [Warning] min_data_in_leaf is set=86, min_child_samples=20 will be ignored. Current value: min_data_in_leaf=86\n",
      "[LightGBM] [Warning] feature_fraction is set=0.7651267085646971, colsample_bytree=1.0 will be ignored. Current value: feature_fraction=0.7651267085646971\n",
      "[LightGBM] [Warning] lambda_l2 is set=0.44575028948044537, reg_lambda=0.0 will be ignored. Current value: lambda_l2=0.44575028948044537\n",
      "[LightGBM] [Warning] lambda_l1 is set=0.35750933074577806, reg_alpha=0.0 will be ignored. Current value: lambda_l1=0.35750933074577806\n",
      "[LightGBM] [Warning] bagging_fraction is set=0.8584478971914011, subsample=1.0 will be ignored. Current value: bagging_fraction=0.8584478971914011\n",
      "[LightGBM] [Warning] bagging_freq is set=3, subsample_freq=0 will be ignored. Current value: bagging_freq=3\n",
      "[LightGBM] [Warning] min_data_in_leaf is set=86, min_child_samples=20 will be ignored. Current value: min_data_in_leaf=86\n",
      "[LightGBM] [Warning] feature_fraction is set=0.7651267085646971, colsample_bytree=1.0 will be ignored. Current value: feature_fraction=0.7651267085646971\n",
      "[LightGBM] [Warning] lambda_l2 is set=0.44575028948044537, reg_lambda=0.0 will be ignored. Current value: lambda_l2=0.44575028948044537\n",
      "[LightGBM] [Warning] lambda_l1 is set=0.35750933074577806, reg_alpha=0.0 will be ignored. Current value: lambda_l1=0.35750933074577806\n",
      "[LightGBM] [Warning] bagging_fraction is set=0.8584478971914011, subsample=1.0 will be ignored. Current value: bagging_fraction=0.8584478971914011\n",
      "[LightGBM] [Warning] bagging_freq is set=3, subsample_freq=0 will be ignored. Current value: bagging_freq=3\n",
      "[LightGBM] [Info] Number of positive: 5564616, number of negative: 4935384\n",
      "[LightGBM] [Info] This is the GPU trainer!!\n",
      "[LightGBM] [Info] Total Bins 6132\n",
      "[LightGBM] [Info] Number of data points in the train set: 10500000, number of used features: 28\n",
      "[LightGBM] [Info] Using GPU Device: NVIDIA GeForce RTX 4090, Vendor: NVIDIA Corporation\n",
      "[LightGBM] [Info] Compiling OpenCL Kernel with 256 bins...\n",
      "[LightGBM] [Info] GPU programs have been built\n",
      "[LightGBM] [Info] Size of histogram bin entry: 8\n",
      "[LightGBM] [Info] 27 dense feature groups (280.38 MB) transferred to GPU in 0.085813 secs. 1 sparse feature groups\n",
      "[LightGBM] [Info] [binary:BoostFromScore]: pavg=0.529963 -> initscore=0.119997\n",
      "[LightGBM] [Info] Start training from score 0.119997\n",
      "[LightGBM] [Info] Size of histogram bin entry: 8\n",
      "[LightGBM] [Info] 27 dense feature groups (240.69 MB) transferred to GPU in 0.073755 secs. 1 sparse feature groups\n",
      "[LightGBM] [Info] Size of histogram bin entry: 8\n",
      "[LightGBM] [Info] 27 dense feature groups (240.69 MB) transferred to GPU in 0.072077 secs. 1 sparse feature groups\n",
      "[LightGBM] [Info] Size of histogram bin entry: 8\n",
      "[LightGBM] [Info] 27 dense feature groups (240.68 MB) transferred to GPU in 0.092422 secs. 1 sparse feature groups\n",
      "[LightGBM] [Info] Size of histogram bin entry: 8\n",
      "[LightGBM] [Info] 27 dense feature groups (240.69 MB) transferred to GPU in 0.078332 secs. 1 sparse feature groups\n",
      "[LightGBM] [Info] Size of histogram bin entry: 8\n",
      "[LightGBM] [Info] 27 dense feature groups (240.66 MB) transferred to GPU in 0.082218 secs. 1 sparse feature groups\n",
      "[LightGBM] [Info] Size of histogram bin entry: 8\n",
      "[LightGBM] [Info] 27 dense feature groups (240.71 MB) transferred to GPU in 0.075369 secs. 1 sparse feature groups\n",
      "[LightGBM] [Info] Size of histogram bin entry: 8\n",
      "[LightGBM] [Info] 27 dense feature groups (240.69 MB) transferred to GPU in 0.076065 secs. 1 sparse feature groups\n",
      "[LightGBM] [Info] Size of histogram bin entry: 8\n",
      "[LightGBM] [Info] 27 dense feature groups (240.69 MB) transferred to GPU in 0.074600 secs. 1 sparse feature groups\n",
      "[LightGBM] [Info] Size of histogram bin entry: 8\n",
      "[LightGBM] [Info] 27 dense feature groups (240.69 MB) transferred to GPU in 0.074524 secs. 1 sparse feature groups\n",
      "[LightGBM] [Info] Size of histogram bin entry: 8\n",
      "[LightGBM] [Info] 27 dense feature groups (240.71 MB) transferred to GPU in 0.073228 secs. 1 sparse feature groups\n",
      "[LightGBM] [Info] Size of histogram bin entry: 8\n",
      "[LightGBM] [Info] 27 dense feature groups (240.71 MB) transferred to GPU in 0.099734 secs. 1 sparse feature groups\n",
      "[LightGBM] [Info] Size of histogram bin entry: 8\n",
      "[LightGBM] [Info] 27 dense feature groups (240.68 MB) transferred to GPU in 0.091058 secs. 1 sparse feature groups\n",
      "[LightGBM] [Info] Size of histogram bin entry: 8\n",
      "[LightGBM] [Info] 27 dense feature groups (240.70 MB) transferred to GPU in 0.098172 secs. 1 sparse feature groups\n",
      "[LightGBM] [Info] Size of histogram bin entry: 8\n",
      "[LightGBM] [Info] 27 dense feature groups (240.69 MB) transferred to GPU in 0.098566 secs. 1 sparse feature groups\n",
      "[LightGBM] [Info] Size of histogram bin entry: 8\n",
      "[LightGBM] [Info] 27 dense feature groups (240.71 MB) transferred to GPU in 0.081459 secs. 1 sparse feature groups\n",
      "[LightGBM] [Info] Size of histogram bin entry: 8\n",
      "[LightGBM] [Info] 27 dense feature groups (240.71 MB) transferred to GPU in 0.079173 secs. 1 sparse feature groups\n",
      "[LightGBM] [Info] Size of histogram bin entry: 8\n",
      "[LightGBM] [Info] 27 dense feature groups (240.71 MB) transferred to GPU in 0.081033 secs. 1 sparse feature groups\n",
      "[LightGBM] [Info] Size of histogram bin entry: 8\n",
      "[LightGBM] [Info] 27 dense feature groups (240.66 MB) transferred to GPU in 0.079810 secs. 1 sparse feature groups\n",
      "[LightGBM] [Info] Size of histogram bin entry: 8\n",
      "[LightGBM] [Info] 27 dense feature groups (240.70 MB) transferred to GPU in 0.081662 secs. 1 sparse feature groups\n",
      "[LightGBM] [Info] Size of histogram bin entry: 8\n",
      "[LightGBM] [Info] 27 dense feature groups (240.73 MB) transferred to GPU in 0.084800 secs. 1 sparse feature groups\n",
      "[LightGBM] [Info] Size of histogram bin entry: 8\n",
      "[LightGBM] [Info] 27 dense feature groups (240.68 MB) transferred to GPU in 0.081524 secs. 1 sparse feature groups\n",
      "[LightGBM] [Info] Size of histogram bin entry: 8\n",
      "[LightGBM] [Info] 27 dense feature groups (240.69 MB) transferred to GPU in 0.078395 secs. 1 sparse feature groups\n",
      "[LightGBM] [Info] Size of histogram bin entry: 8\n",
      "[LightGBM] [Info] 27 dense feature groups (240.70 MB) transferred to GPU in 0.095402 secs. 1 sparse feature groups\n",
      "[LightGBM] [Info] Size of histogram bin entry: 8\n",
      "[LightGBM] [Info] 27 dense feature groups (240.69 MB) transferred to GPU in 0.085582 secs. 1 sparse feature groups\n",
      "[LightGBM] [Info] Size of histogram bin entry: 8\n",
      "[LightGBM] [Info] 27 dense feature groups (240.70 MB) transferred to GPU in 0.087191 secs. 1 sparse feature groups\n",
      "[LightGBM] [Info] Size of histogram bin entry: 8\n",
      "[LightGBM] [Info] 27 dense feature groups (240.68 MB) transferred to GPU in 0.078873 secs. 1 sparse feature groups\n",
      "[LightGBM] [Info] Size of histogram bin entry: 8\n",
      "[LightGBM] [Info] 27 dense feature groups (240.70 MB) transferred to GPU in 0.078948 secs. 1 sparse feature groups\n",
      "[LightGBM] [Info] Size of histogram bin entry: 8\n",
      "[LightGBM] [Info] 27 dense feature groups (240.72 MB) transferred to GPU in 0.078999 secs. 1 sparse feature groups\n",
      "[LightGBM] [Info] Size of histogram bin entry: 8\n",
      "[LightGBM] [Info] 27 dense feature groups (240.74 MB) transferred to GPU in 0.083675 secs. 1 sparse feature groups\n",
      "[LightGBM] [Info] Size of histogram bin entry: 8\n",
      "[LightGBM] [Info] 27 dense feature groups (240.74 MB) transferred to GPU in 0.087700 secs. 1 sparse feature groups\n",
      "[LightGBM] [Info] Size of histogram bin entry: 8\n",
      "[LightGBM] [Info] 27 dense feature groups (240.72 MB) transferred to GPU in 0.087371 secs. 1 sparse feature groups\n",
      "[LightGBM] [Info] Size of histogram bin entry: 8\n",
      "[LightGBM] [Info] 27 dense feature groups (240.71 MB) transferred to GPU in 0.080046 secs. 1 sparse feature groups\n",
      "[LightGBM] [Info] Size of histogram bin entry: 8\n",
      "[LightGBM] [Info] 27 dense feature groups (240.72 MB) transferred to GPU in 0.078624 secs. 1 sparse feature groups\n",
      "[LightGBM] [Info] Size of histogram bin entry: 8\n",
      "[LightGBM] [Info] 27 dense feature groups (240.69 MB) transferred to GPU in 0.079192 secs. 1 sparse feature groups\n",
      "[LightGBM] [Warning] min_data_in_leaf is set=86, min_child_samples=20 will be ignored. Current value: min_data_in_leaf=86\n",
      "[LightGBM] [Warning] feature_fraction is set=0.7651267085646971, colsample_bytree=1.0 will be ignored. Current value: feature_fraction=0.7651267085646971\n",
      "[LightGBM] [Warning] lambda_l2 is set=0.44575028948044537, reg_lambda=0.0 will be ignored. Current value: lambda_l2=0.44575028948044537\n",
      "[LightGBM] [Warning] lambda_l1 is set=0.35750933074577806, reg_alpha=0.0 will be ignored. Current value: lambda_l1=0.35750933074577806\n",
      "[LightGBM] [Warning] bagging_fraction is set=0.8584478971914011, subsample=1.0 will be ignored. Current value: bagging_fraction=0.8584478971914011\n",
      "[LightGBM] [Warning] bagging_freq is set=3, subsample_freq=0 will be ignored. Current value: bagging_freq=3\n"
     ]
    },
    {
     "name": "stdout",
     "output_type": "stream",
     "text": [
      "auc:0.8156785950292469 , log_loss:0.5258495291536687 , ks:0.46922403935594487\n"
     ]
    },
    {
     "name": "stderr",
     "output_type": "stream",
     "text": [
      "[I 2023-10-03 21:04:27,808] Trial 27 finished with value: 0.8156785950292469 and parameters: {'learning_rate': 0.04761231366373886, 'num_leaves': 134, 'lambda_l1': 0.35750933074577806, 'lambda_l2': 0.44575028948044537, 'min_data_in_leaf': 86, 'max_depth': 36, 'feature_fraction': 0.7651267085646971, 'bagging_fraction': 0.8584478971914011, 'bagging_freq': 3}. Best is trial 21 with value: 0.8200177853786748.\n"
     ]
    },
    {
     "name": "stdout",
     "output_type": "stream",
     "text": [
      "LGBM - Optimization using optuna\n",
      "[LightGBM] [Warning] min_data_in_leaf is set=56, min_child_samples=20 will be ignored. Current value: min_data_in_leaf=56\n",
      "[LightGBM] [Warning] feature_fraction is set=0.832252797907398, colsample_bytree=1.0 will be ignored. Current value: feature_fraction=0.832252797907398\n",
      "[LightGBM] [Warning] lambda_l2 is set=0.019091477614260246, reg_lambda=0.0 will be ignored. Current value: lambda_l2=0.019091477614260246\n",
      "[LightGBM] [Warning] lambda_l1 is set=0.0417676558755436, reg_alpha=0.0 will be ignored. Current value: lambda_l1=0.0417676558755436\n",
      "[LightGBM] [Warning] bagging_fraction is set=0.7522412318631828, subsample=1.0 will be ignored. Current value: bagging_fraction=0.7522412318631828\n",
      "[LightGBM] [Warning] bagging_freq is set=2, subsample_freq=0 will be ignored. Current value: bagging_freq=2\n",
      "[LightGBM] [Warning] min_data_in_leaf is set=56, min_child_samples=20 will be ignored. Current value: min_data_in_leaf=56\n",
      "[LightGBM] [Warning] feature_fraction is set=0.832252797907398, colsample_bytree=1.0 will be ignored. Current value: feature_fraction=0.832252797907398\n",
      "[LightGBM] [Warning] lambda_l2 is set=0.019091477614260246, reg_lambda=0.0 will be ignored. Current value: lambda_l2=0.019091477614260246\n",
      "[LightGBM] [Warning] lambda_l1 is set=0.0417676558755436, reg_alpha=0.0 will be ignored. Current value: lambda_l1=0.0417676558755436\n",
      "[LightGBM] [Warning] bagging_fraction is set=0.7522412318631828, subsample=1.0 will be ignored. Current value: bagging_fraction=0.7522412318631828\n",
      "[LightGBM] [Warning] bagging_freq is set=2, subsample_freq=0 will be ignored. Current value: bagging_freq=2\n",
      "[LightGBM] [Info] Number of positive: 5564616, number of negative: 4935384\n",
      "[LightGBM] [Info] This is the GPU trainer!!\n",
      "[LightGBM] [Info] Total Bins 6132\n",
      "[LightGBM] [Info] Number of data points in the train set: 10500000, number of used features: 28\n",
      "[LightGBM] [Info] Using GPU Device: NVIDIA GeForce RTX 4090, Vendor: NVIDIA Corporation\n",
      "[LightGBM] [Info] Compiling OpenCL Kernel with 256 bins...\n",
      "[LightGBM] [Info] GPU programs have been built\n",
      "[LightGBM] [Info] Size of histogram bin entry: 8\n",
      "[LightGBM] [Info] 27 dense feature groups (280.38 MB) transferred to GPU in 0.102231 secs. 1 sparse feature groups\n",
      "[LightGBM] [Info] [binary:BoostFromScore]: pavg=0.529963 -> initscore=0.119997\n",
      "[LightGBM] [Info] Start training from score 0.119997\n",
      "[LightGBM] [Info] Size of histogram bin entry: 8\n",
      "[LightGBM] [Info] 27 dense feature groups (210.94 MB) transferred to GPU in 0.075639 secs. 1 sparse feature groups\n",
      "[LightGBM] [Info] Size of histogram bin entry: 8\n",
      "[LightGBM] [Info] 27 dense feature groups (210.93 MB) transferred to GPU in 0.074224 secs. 1 sparse feature groups\n",
      "[LightGBM] [Info] Size of histogram bin entry: 8\n",
      "[LightGBM] [Info] 27 dense feature groups (210.90 MB) transferred to GPU in 0.074082 secs. 1 sparse feature groups\n",
      "[LightGBM] [Info] Size of histogram bin entry: 8\n",
      "[LightGBM] [Info] 27 dense feature groups (210.95 MB) transferred to GPU in 0.076681 secs. 1 sparse feature groups\n",
      "[LightGBM] [Info] Size of histogram bin entry: 8\n",
      "[LightGBM] [Info] 27 dense feature groups (210.92 MB) transferred to GPU in 0.074407 secs. 1 sparse feature groups\n",
      "[LightGBM] [Info] Size of histogram bin entry: 8\n",
      "[LightGBM] [Info] 27 dense feature groups (210.94 MB) transferred to GPU in 0.063869 secs. 1 sparse feature groups\n",
      "[LightGBM] [Info] Size of histogram bin entry: 8\n",
      "[LightGBM] [Info] 27 dense feature groups (210.91 MB) transferred to GPU in 0.063711 secs. 1 sparse feature groups\n",
      "[LightGBM] [Info] Size of histogram bin entry: 8\n",
      "[LightGBM] [Info] 27 dense feature groups (210.92 MB) transferred to GPU in 0.063862 secs. 1 sparse feature groups\n",
      "[LightGBM] [Info] Size of histogram bin entry: 8\n",
      "[LightGBM] [Info] 27 dense feature groups (210.92 MB) transferred to GPU in 0.063467 secs. 1 sparse feature groups\n",
      "[LightGBM] [Info] Size of histogram bin entry: 8\n",
      "[LightGBM] [Info] 27 dense feature groups (210.93 MB) transferred to GPU in 0.065410 secs. 1 sparse feature groups\n",
      "[LightGBM] [Info] Size of histogram bin entry: 8\n",
      "[LightGBM] [Info] 27 dense feature groups (210.94 MB) transferred to GPU in 0.061363 secs. 1 sparse feature groups\n",
      "[LightGBM] [Info] Size of histogram bin entry: 8\n",
      "[LightGBM] [Info] 27 dense feature groups (210.91 MB) transferred to GPU in 0.062333 secs. 1 sparse feature groups\n",
      "[LightGBM] [Info] Size of histogram bin entry: 8\n",
      "[LightGBM] [Info] 27 dense feature groups (210.93 MB) transferred to GPU in 0.064007 secs. 1 sparse feature groups\n",
      "[LightGBM] [Info] Size of histogram bin entry: 8\n",
      "[LightGBM] [Info] 27 dense feature groups (210.92 MB) transferred to GPU in 0.071492 secs. 1 sparse feature groups\n",
      "[LightGBM] [Info] Size of histogram bin entry: 8\n",
      "[LightGBM] [Info] 27 dense feature groups (210.91 MB) transferred to GPU in 0.068996 secs. 1 sparse feature groups\n",
      "[LightGBM] [Info] Size of histogram bin entry: 8\n",
      "[LightGBM] [Info] 27 dense feature groups (210.94 MB) transferred to GPU in 0.063933 secs. 1 sparse feature groups\n",
      "[LightGBM] [Info] Size of histogram bin entry: 8\n",
      "[LightGBM] [Info] 27 dense feature groups (210.94 MB) transferred to GPU in 0.062511 secs. 1 sparse feature groups\n",
      "[LightGBM] [Info] Size of histogram bin entry: 8\n",
      "[LightGBM] [Info] 27 dense feature groups (210.90 MB) transferred to GPU in 0.064303 secs. 1 sparse feature groups\n",
      "[LightGBM] [Info] Size of histogram bin entry: 8\n",
      "[LightGBM] [Info] 27 dense feature groups (210.91 MB) transferred to GPU in 0.062480 secs. 1 sparse feature groups\n",
      "[LightGBM] [Info] Size of histogram bin entry: 8\n",
      "[LightGBM] [Info] 27 dense feature groups (210.92 MB) transferred to GPU in 0.075014 secs. 1 sparse feature groups\n",
      "[LightGBM] [Info] Size of histogram bin entry: 8\n",
      "[LightGBM] [Info] 27 dense feature groups (210.91 MB) transferred to GPU in 0.065637 secs. 1 sparse feature groups\n",
      "[LightGBM] [Info] Size of histogram bin entry: 8\n",
      "[LightGBM] [Info] 27 dense feature groups (210.91 MB) transferred to GPU in 0.070508 secs. 1 sparse feature groups\n",
      "[LightGBM] [Info] Size of histogram bin entry: 8\n",
      "[LightGBM] [Info] 27 dense feature groups (210.90 MB) transferred to GPU in 0.066640 secs. 1 sparse feature groups\n",
      "[LightGBM] [Info] Size of histogram bin entry: 8\n",
      "[LightGBM] [Info] 27 dense feature groups (210.91 MB) transferred to GPU in 0.064400 secs. 1 sparse feature groups\n",
      "[LightGBM] [Info] Size of histogram bin entry: 8\n",
      "[LightGBM] [Info] 27 dense feature groups (210.94 MB) transferred to GPU in 0.062797 secs. 1 sparse feature groups\n",
      "[LightGBM] [Info] Size of histogram bin entry: 8\n",
      "[LightGBM] [Info] 27 dense feature groups (210.89 MB) transferred to GPU in 0.065124 secs. 1 sparse feature groups\n",
      "[LightGBM] [Info] Size of histogram bin entry: 8\n",
      "[LightGBM] [Info] 27 dense feature groups (210.90 MB) transferred to GPU in 0.065380 secs. 1 sparse feature groups\n",
      "[LightGBM] [Info] Size of histogram bin entry: 8\n",
      "[LightGBM] [Info] 27 dense feature groups (210.89 MB) transferred to GPU in 0.063018 secs. 1 sparse feature groups\n",
      "[LightGBM] [Info] Size of histogram bin entry: 8\n",
      "[LightGBM] [Info] 27 dense feature groups (210.73 MB) transferred to GPU in 0.067919 secs. 1 sparse feature groups\n",
      "[LightGBM] [Info] Size of histogram bin entry: 8\n",
      "[LightGBM] [Info] 27 dense feature groups (210.95 MB) transferred to GPU in 0.063330 secs. 1 sparse feature groups\n",
      "[LightGBM] [Info] Size of histogram bin entry: 8\n",
      "[LightGBM] [Info] 27 dense feature groups (210.97 MB) transferred to GPU in 0.067019 secs. 1 sparse feature groups\n",
      "[LightGBM] [Info] Size of histogram bin entry: 8\n",
      "[LightGBM] [Info] 27 dense feature groups (210.93 MB) transferred to GPU in 0.064535 secs. 1 sparse feature groups\n",
      "[LightGBM] [Info] Size of histogram bin entry: 8\n",
      "[LightGBM] [Info] 27 dense feature groups (210.96 MB) transferred to GPU in 0.063324 secs. 1 sparse feature groups\n",
      "[LightGBM] [Info] Size of histogram bin entry: 8\n",
      "[LightGBM] [Info] 27 dense feature groups (210.91 MB) transferred to GPU in 0.066143 secs. 1 sparse feature groups\n",
      "[LightGBM] [Info] Size of histogram bin entry: 8\n",
      "[LightGBM] [Info] 27 dense feature groups (210.90 MB) transferred to GPU in 0.065116 secs. 1 sparse feature groups\n",
      "[LightGBM] [Info] Size of histogram bin entry: 8\n",
      "[LightGBM] [Info] 27 dense feature groups (210.93 MB) transferred to GPU in 0.064888 secs. 1 sparse feature groups\n"
     ]
    },
    {
     "name": "stdout",
     "output_type": "stream",
     "text": [
      "[LightGBM] [Info] Size of histogram bin entry: 8\n",
      "[LightGBM] [Info] 27 dense feature groups (210.89 MB) transferred to GPU in 0.065734 secs. 1 sparse feature groups\n",
      "[LightGBM] [Info] Size of histogram bin entry: 8\n",
      "[LightGBM] [Info] 27 dense feature groups (210.91 MB) transferred to GPU in 0.064464 secs. 1 sparse feature groups\n",
      "[LightGBM] [Info] Size of histogram bin entry: 8\n",
      "[LightGBM] [Info] 27 dense feature groups (210.92 MB) transferred to GPU in 0.068174 secs. 1 sparse feature groups\n",
      "[LightGBM] [Info] Size of histogram bin entry: 8\n",
      "[LightGBM] [Info] 27 dense feature groups (210.88 MB) transferred to GPU in 0.065191 secs. 1 sparse feature groups\n",
      "[LightGBM] [Info] Size of histogram bin entry: 8\n",
      "[LightGBM] [Info] 27 dense feature groups (210.90 MB) transferred to GPU in 0.069654 secs. 1 sparse feature groups\n",
      "[LightGBM] [Info] Size of histogram bin entry: 8\n",
      "[LightGBM] [Info] 27 dense feature groups (210.91 MB) transferred to GPU in 0.062368 secs. 1 sparse feature groups\n",
      "[LightGBM] [Info] Size of histogram bin entry: 8\n",
      "[LightGBM] [Info] 27 dense feature groups (210.92 MB) transferred to GPU in 0.061955 secs. 1 sparse feature groups\n",
      "[LightGBM] [Info] Size of histogram bin entry: 8\n",
      "[LightGBM] [Info] 27 dense feature groups (210.88 MB) transferred to GPU in 0.072160 secs. 1 sparse feature groups\n",
      "[LightGBM] [Info] Size of histogram bin entry: 8\n",
      "[LightGBM] [Info] 27 dense feature groups (210.93 MB) transferred to GPU in 0.063174 secs. 1 sparse feature groups\n",
      "[LightGBM] [Info] Size of histogram bin entry: 8\n",
      "[LightGBM] [Info] 27 dense feature groups (210.92 MB) transferred to GPU in 0.063957 secs. 1 sparse feature groups\n",
      "[LightGBM] [Info] Size of histogram bin entry: 8\n",
      "[LightGBM] [Info] 27 dense feature groups (210.88 MB) transferred to GPU in 0.064233 secs. 1 sparse feature groups\n",
      "[LightGBM] [Info] Size of histogram bin entry: 8\n",
      "[LightGBM] [Info] 27 dense feature groups (210.90 MB) transferred to GPU in 0.065183 secs. 1 sparse feature groups\n",
      "[LightGBM] [Info] Size of histogram bin entry: 8\n",
      "[LightGBM] [Info] 27 dense feature groups (210.94 MB) transferred to GPU in 0.066018 secs. 1 sparse feature groups\n",
      "[LightGBM] [Info] Size of histogram bin entry: 8\n",
      "[LightGBM] [Info] 27 dense feature groups (210.91 MB) transferred to GPU in 0.068335 secs. 1 sparse feature groups\n",
      "[LightGBM] [Warning] min_data_in_leaf is set=56, min_child_samples=20 will be ignored. Current value: min_data_in_leaf=56\n",
      "[LightGBM] [Warning] feature_fraction is set=0.832252797907398, colsample_bytree=1.0 will be ignored. Current value: feature_fraction=0.832252797907398\n",
      "[LightGBM] [Warning] lambda_l2 is set=0.019091477614260246, reg_lambda=0.0 will be ignored. Current value: lambda_l2=0.019091477614260246\n",
      "[LightGBM] [Warning] lambda_l1 is set=0.0417676558755436, reg_alpha=0.0 will be ignored. Current value: lambda_l1=0.0417676558755436\n",
      "[LightGBM] [Warning] bagging_fraction is set=0.7522412318631828, subsample=1.0 will be ignored. Current value: bagging_fraction=0.7522412318631828\n",
      "[LightGBM] [Warning] bagging_freq is set=2, subsample_freq=0 will be ignored. Current value: bagging_freq=2\n",
      "auc:0.7870112440063748 , log_loss:0.6085341081981341 , ks:0.4211853572259577\n"
     ]
    },
    {
     "name": "stderr",
     "output_type": "stream",
     "text": [
      "[I 2023-10-03 21:04:55,422] Trial 28 finished with value: 0.7870112440063748 and parameters: {'learning_rate': 0.007559724653098411, 'num_leaves': 85, 'lambda_l1': 0.0417676558755436, 'lambda_l2': 0.019091477614260246, 'min_data_in_leaf': 56, 'max_depth': 49, 'feature_fraction': 0.832252797907398, 'bagging_fraction': 0.7522412318631828, 'bagging_freq': 2}. Best is trial 21 with value: 0.8200177853786748.\n"
     ]
    },
    {
     "name": "stdout",
     "output_type": "stream",
     "text": [
      "LGBM - Optimization using optuna\n",
      "[LightGBM] [Warning] min_data_in_leaf is set=17, min_child_samples=20 will be ignored. Current value: min_data_in_leaf=17\n",
      "[LightGBM] [Warning] feature_fraction is set=0.7265862458914822, colsample_bytree=1.0 will be ignored. Current value: feature_fraction=0.7265862458914822\n",
      "[LightGBM] [Warning] lambda_l2 is set=1.712267871355936, reg_lambda=0.0 will be ignored. Current value: lambda_l2=1.712267871355936\n",
      "[LightGBM] [Warning] lambda_l1 is set=5.131359320461935, reg_alpha=0.0 will be ignored. Current value: lambda_l1=5.131359320461935\n",
      "[LightGBM] [Warning] bagging_fraction is set=0.6554658706889013, subsample=1.0 will be ignored. Current value: bagging_fraction=0.6554658706889013\n",
      "[LightGBM] [Warning] bagging_freq is set=3, subsample_freq=0 will be ignored. Current value: bagging_freq=3\n",
      "[LightGBM] [Warning] min_data_in_leaf is set=17, min_child_samples=20 will be ignored. Current value: min_data_in_leaf=17\n",
      "[LightGBM] [Warning] feature_fraction is set=0.7265862458914822, colsample_bytree=1.0 will be ignored. Current value: feature_fraction=0.7265862458914822\n",
      "[LightGBM] [Warning] lambda_l2 is set=1.712267871355936, reg_lambda=0.0 will be ignored. Current value: lambda_l2=1.712267871355936\n",
      "[LightGBM] [Warning] lambda_l1 is set=5.131359320461935, reg_alpha=0.0 will be ignored. Current value: lambda_l1=5.131359320461935\n",
      "[LightGBM] [Warning] bagging_fraction is set=0.6554658706889013, subsample=1.0 will be ignored. Current value: bagging_fraction=0.6554658706889013\n",
      "[LightGBM] [Warning] bagging_freq is set=3, subsample_freq=0 will be ignored. Current value: bagging_freq=3\n",
      "[LightGBM] [Info] Number of positive: 5564616, number of negative: 4935384\n",
      "[LightGBM] [Info] This is the GPU trainer!!\n",
      "[LightGBM] [Info] Total Bins 6132\n",
      "[LightGBM] [Info] Number of data points in the train set: 10500000, number of used features: 28\n",
      "[LightGBM] [Info] Using GPU Device: NVIDIA GeForce RTX 4090, Vendor: NVIDIA Corporation\n",
      "[LightGBM] [Info] Compiling OpenCL Kernel with 256 bins...\n",
      "[LightGBM] [Info] GPU programs have been built\n",
      "[LightGBM] [Info] Size of histogram bin entry: 8\n",
      "[LightGBM] [Info] 27 dense feature groups (280.38 MB) transferred to GPU in 0.091259 secs. 1 sparse feature groups\n",
      "[LightGBM] [Info] [binary:BoostFromScore]: pavg=0.529963 -> initscore=0.119997\n",
      "[LightGBM] [Info] Start training from score 0.119997\n",
      "[LightGBM] [Info] Size of histogram bin entry: 8\n",
      "[LightGBM] [Info] 27 dense feature groups (183.84 MB) transferred to GPU in 0.057245 secs. 1 sparse feature groups\n",
      "[LightGBM] [Info] Size of histogram bin entry: 8\n",
      "[LightGBM] [Info] 27 dense feature groups (183.78 MB) transferred to GPU in 0.058987 secs. 1 sparse feature groups\n",
      "[LightGBM] [Info] Size of histogram bin entry: 8\n",
      "[LightGBM] [Info] 27 dense feature groups (183.77 MB) transferred to GPU in 0.056695 secs. 1 sparse feature groups\n",
      "[LightGBM] [Info] Size of histogram bin entry: 8\n",
      "[LightGBM] [Info] 27 dense feature groups (183.80 MB) transferred to GPU in 0.057468 secs. 1 sparse feature groups\n",
      "[LightGBM] [Info] Size of histogram bin entry: 8\n",
      "[LightGBM] [Info] 27 dense feature groups (183.78 MB) transferred to GPU in 0.056266 secs. 1 sparse feature groups\n",
      "[LightGBM] [Info] Size of histogram bin entry: 8\n",
      "[LightGBM] [Info] 27 dense feature groups (183.81 MB) transferred to GPU in 0.054326 secs. 1 sparse feature groups\n",
      "[LightGBM] [Info] Size of histogram bin entry: 8\n",
      "[LightGBM] [Info] 27 dense feature groups (183.78 MB) transferred to GPU in 0.053921 secs. 1 sparse feature groups\n",
      "[LightGBM] [Info] Size of histogram bin entry: 8\n",
      "[LightGBM] [Info] 27 dense feature groups (183.79 MB) transferred to GPU in 0.061572 secs. 1 sparse feature groups\n",
      "[LightGBM] [Info] Size of histogram bin entry: 8\n",
      "[LightGBM] [Info] 27 dense feature groups (183.79 MB) transferred to GPU in 0.058359 secs. 1 sparse feature groups\n",
      "[LightGBM] [Info] Size of histogram bin entry: 8\n",
      "[LightGBM] [Info] 27 dense feature groups (183.79 MB) transferred to GPU in 0.054889 secs. 1 sparse feature groups\n",
      "[LightGBM] [Info] Size of histogram bin entry: 8\n",
      "[LightGBM] [Info] 27 dense feature groups (183.80 MB) transferred to GPU in 0.055839 secs. 1 sparse feature groups\n",
      "[LightGBM] [Info] Size of histogram bin entry: 8\n",
      "[LightGBM] [Info] 27 dense feature groups (183.80 MB) transferred to GPU in 0.055852 secs. 1 sparse feature groups\n",
      "[LightGBM] [Info] Size of histogram bin entry: 8\n",
      "[LightGBM] [Info] 27 dense feature groups (183.79 MB) transferred to GPU in 0.054945 secs. 1 sparse feature groups\n",
      "[LightGBM] [Info] Size of histogram bin entry: 8\n",
      "[LightGBM] [Info] 27 dense feature groups (183.78 MB) transferred to GPU in 0.056265 secs. 1 sparse feature groups\n",
      "[LightGBM] [Info] Size of histogram bin entry: 8\n",
      "[LightGBM] [Info] 27 dense feature groups (183.78 MB) transferred to GPU in 0.057204 secs. 1 sparse feature groups\n",
      "[LightGBM] [Info] Size of histogram bin entry: 8\n",
      "[LightGBM] [Info] 27 dense feature groups (183.79 MB) transferred to GPU in 0.055615 secs. 1 sparse feature groups\n",
      "[LightGBM] [Info] Size of histogram bin entry: 8\n",
      "[LightGBM] [Info] 27 dense feature groups (183.80 MB) transferred to GPU in 0.055987 secs. 1 sparse feature groups\n",
      "[LightGBM] [Info] Size of histogram bin entry: 8\n",
      "[LightGBM] [Info] 27 dense feature groups (183.74 MB) transferred to GPU in 0.056535 secs. 1 sparse feature groups\n",
      "[LightGBM] [Info] Size of histogram bin entry: 8\n",
      "[LightGBM] [Info] 27 dense feature groups (183.77 MB) transferred to GPU in 0.056269 secs. 1 sparse feature groups\n",
      "[LightGBM] [Info] Size of histogram bin entry: 8\n",
      "[LightGBM] [Info] 27 dense feature groups (183.79 MB) transferred to GPU in 0.063440 secs. 1 sparse feature groups\n",
      "[LightGBM] [Info] Size of histogram bin entry: 8\n",
      "[LightGBM] [Info] 27 dense feature groups (183.78 MB) transferred to GPU in 0.054598 secs. 1 sparse feature groups\n",
      "[LightGBM] [Info] Size of histogram bin entry: 8\n",
      "[LightGBM] [Info] 27 dense feature groups (183.78 MB) transferred to GPU in 0.061889 secs. 1 sparse feature groups\n",
      "[LightGBM] [Info] Size of histogram bin entry: 8\n",
      "[LightGBM] [Info] 27 dense feature groups (183.77 MB) transferred to GPU in 0.055076 secs. 1 sparse feature groups\n",
      "[LightGBM] [Info] Size of histogram bin entry: 8\n",
      "[LightGBM] [Info] 27 dense feature groups (183.79 MB) transferred to GPU in 0.057834 secs. 1 sparse feature groups\n",
      "[LightGBM] [Info] Size of histogram bin entry: 8\n",
      "[LightGBM] [Info] 27 dense feature groups (183.79 MB) transferred to GPU in 0.055574 secs. 1 sparse feature groups\n",
      "[LightGBM] [Info] Size of histogram bin entry: 8\n",
      "[LightGBM] [Info] 27 dense feature groups (183.79 MB) transferred to GPU in 0.056780 secs. 1 sparse feature groups\n",
      "[LightGBM] [Info] Size of histogram bin entry: 8\n",
      "[LightGBM] [Info] 27 dense feature groups (183.78 MB) transferred to GPU in 0.057362 secs. 1 sparse feature groups\n",
      "[LightGBM] [Info] Size of histogram bin entry: 8\n",
      "[LightGBM] [Info] 27 dense feature groups (183.62 MB) transferred to GPU in 0.060369 secs. 1 sparse feature groups\n",
      "[LightGBM] [Info] Size of histogram bin entry: 8\n",
      "[LightGBM] [Info] 27 dense feature groups (183.63 MB) transferred to GPU in 0.055671 secs. 1 sparse feature groups\n",
      "[LightGBM] [Info] Size of histogram bin entry: 8\n",
      "[LightGBM] [Info] 27 dense feature groups (183.77 MB) transferred to GPU in 0.056560 secs. 1 sparse feature groups\n",
      "[LightGBM] [Info] Size of histogram bin entry: 8\n",
      "[LightGBM] [Info] 27 dense feature groups (183.77 MB) transferred to GPU in 0.059864 secs. 1 sparse feature groups\n",
      "[LightGBM] [Info] Size of histogram bin entry: 8\n",
      "[LightGBM] [Info] 27 dense feature groups (183.82 MB) transferred to GPU in 0.055361 secs. 1 sparse feature groups\n",
      "[LightGBM] [Info] Size of histogram bin entry: 8\n",
      "[LightGBM] [Info] 27 dense feature groups (183.60 MB) transferred to GPU in 0.058493 secs. 1 sparse feature groups\n",
      "[LightGBM] [Info] Size of histogram bin entry: 8\n",
      "[LightGBM] [Info] 27 dense feature groups (183.79 MB) transferred to GPU in 0.060991 secs. 1 sparse feature groups\n",
      "[LightGBM] [Warning] min_data_in_leaf is set=17, min_child_samples=20 will be ignored. Current value: min_data_in_leaf=17\n",
      "[LightGBM] [Warning] feature_fraction is set=0.7265862458914822, colsample_bytree=1.0 will be ignored. Current value: feature_fraction=0.7265862458914822\n",
      "[LightGBM] [Warning] lambda_l2 is set=1.712267871355936, reg_lambda=0.0 will be ignored. Current value: lambda_l2=1.712267871355936\n",
      "[LightGBM] [Warning] lambda_l1 is set=5.131359320461935, reg_alpha=0.0 will be ignored. Current value: lambda_l1=5.131359320461935\n",
      "[LightGBM] [Warning] bagging_fraction is set=0.6554658706889013, subsample=1.0 will be ignored. Current value: bagging_fraction=0.6554658706889013\n",
      "[LightGBM] [Warning] bagging_freq is set=3, subsample_freq=0 will be ignored. Current value: bagging_freq=3\n"
     ]
    },
    {
     "name": "stdout",
     "output_type": "stream",
     "text": [
      "auc:0.8268745059988453 , log_loss:0.5086788921843918 , ks:0.4877810091940671\n"
     ]
    },
    {
     "name": "stderr",
     "output_type": "stream",
     "text": [
      "[I 2023-10-03 21:05:22,366] Trial 29 finished with value: 0.8268745059988453 and parameters: {'learning_rate': 0.09805228364360181, 'num_leaves': 165, 'lambda_l1': 5.131359320461935, 'lambda_l2': 1.712267871355936, 'min_data_in_leaf': 17, 'max_depth': 41, 'feature_fraction': 0.7265862458914822, 'bagging_fraction': 0.6554658706889013, 'bagging_freq': 3}. Best is trial 29 with value: 0.8268745059988453.\n"
     ]
    },
    {
     "name": "stdout",
     "output_type": "stream",
     "text": [
      "LGBM - Optimization using optuna\n",
      "[LightGBM] [Warning] min_data_in_leaf is set=15, min_child_samples=20 will be ignored. Current value: min_data_in_leaf=15\n",
      "[LightGBM] [Warning] feature_fraction is set=0.7224039325560779, colsample_bytree=1.0 will be ignored. Current value: feature_fraction=0.7224039325560779\n",
      "[LightGBM] [Warning] lambda_l2 is set=9.62491987895942, reg_lambda=0.0 will be ignored. Current value: lambda_l2=9.62491987895942\n",
      "[LightGBM] [Warning] lambda_l1 is set=7.547708504667601, reg_alpha=0.0 will be ignored. Current value: lambda_l1=7.547708504667601\n",
      "[LightGBM] [Warning] bagging_fraction is set=0.6624891790251534, subsample=1.0 will be ignored. Current value: bagging_fraction=0.6624891790251534\n",
      "[LightGBM] [Warning] bagging_freq is set=4, subsample_freq=0 will be ignored. Current value: bagging_freq=4\n",
      "[LightGBM] [Warning] min_data_in_leaf is set=15, min_child_samples=20 will be ignored. Current value: min_data_in_leaf=15\n",
      "[LightGBM] [Warning] feature_fraction is set=0.7224039325560779, colsample_bytree=1.0 will be ignored. Current value: feature_fraction=0.7224039325560779\n",
      "[LightGBM] [Warning] lambda_l2 is set=9.62491987895942, reg_lambda=0.0 will be ignored. Current value: lambda_l2=9.62491987895942\n",
      "[LightGBM] [Warning] lambda_l1 is set=7.547708504667601, reg_alpha=0.0 will be ignored. Current value: lambda_l1=7.547708504667601\n",
      "[LightGBM] [Warning] bagging_fraction is set=0.6624891790251534, subsample=1.0 will be ignored. Current value: bagging_fraction=0.6624891790251534\n",
      "[LightGBM] [Warning] bagging_freq is set=4, subsample_freq=0 will be ignored. Current value: bagging_freq=4\n",
      "[LightGBM] [Info] Number of positive: 5564616, number of negative: 4935384\n",
      "[LightGBM] [Info] This is the GPU trainer!!\n",
      "[LightGBM] [Info] Total Bins 6132\n",
      "[LightGBM] [Info] Number of data points in the train set: 10500000, number of used features: 28\n",
      "[LightGBM] [Info] Using GPU Device: NVIDIA GeForce RTX 4090, Vendor: NVIDIA Corporation\n",
      "[LightGBM] [Info] Compiling OpenCL Kernel with 256 bins...\n",
      "[LightGBM] [Info] GPU programs have been built\n",
      "[LightGBM] [Info] Size of histogram bin entry: 8\n",
      "[LightGBM] [Info] 27 dense feature groups (280.38 MB) transferred to GPU in 0.087549 secs. 1 sparse feature groups\n",
      "[LightGBM] [Info] [binary:BoostFromScore]: pavg=0.529963 -> initscore=0.119997\n",
      "[LightGBM] [Info] Start training from score 0.119997\n",
      "[LightGBM] [Info] Size of histogram bin entry: 8\n",
      "[LightGBM] [Info] 27 dense feature groups (185.80 MB) transferred to GPU in 0.059860 secs. 1 sparse feature groups\n",
      "[LightGBM] [Info] Size of histogram bin entry: 8\n",
      "[LightGBM] [Info] 27 dense feature groups (185.74 MB) transferred to GPU in 0.059840 secs. 1 sparse feature groups\n",
      "[LightGBM] [Info] Size of histogram bin entry: 8\n",
      "[LightGBM] [Info] 27 dense feature groups (185.73 MB) transferred to GPU in 0.056386 secs. 1 sparse feature groups\n",
      "[LightGBM] [Info] Size of histogram bin entry: 8\n",
      "[LightGBM] [Info] 27 dense feature groups (185.76 MB) transferred to GPU in 0.056078 secs. 1 sparse feature groups\n",
      "[LightGBM] [Info] Size of histogram bin entry: 8\n",
      "[LightGBM] [Info] 27 dense feature groups (185.75 MB) transferred to GPU in 0.055991 secs. 1 sparse feature groups\n",
      "[LightGBM] [Info] Size of histogram bin entry: 8\n",
      "[LightGBM] [Info] 27 dense feature groups (185.77 MB) transferred to GPU in 0.055449 secs. 1 sparse feature groups\n",
      "[LightGBM] [Info] Size of histogram bin entry: 8\n",
      "[LightGBM] [Info] 27 dense feature groups (185.75 MB) transferred to GPU in 0.059222 secs. 1 sparse feature groups\n",
      "[LightGBM] [Info] Size of histogram bin entry: 8\n",
      "[LightGBM] [Info] 27 dense feature groups (185.76 MB) transferred to GPU in 0.055782 secs. 1 sparse feature groups\n",
      "[LightGBM] [Info] Size of histogram bin entry: 8\n",
      "[LightGBM] [Info] 27 dense feature groups (185.76 MB) transferred to GPU in 0.056511 secs. 1 sparse feature groups\n",
      "[LightGBM] [Info] Size of histogram bin entry: 8\n",
      "[LightGBM] [Info] 27 dense feature groups (185.76 MB) transferred to GPU in 0.057477 secs. 1 sparse feature groups\n",
      "[LightGBM] [Info] Size of histogram bin entry: 8\n",
      "[LightGBM] [Info] 27 dense feature groups (185.78 MB) transferred to GPU in 0.059370 secs. 1 sparse feature groups\n",
      "[LightGBM] [Info] Size of histogram bin entry: 8\n",
      "[LightGBM] [Info] 27 dense feature groups (185.76 MB) transferred to GPU in 0.057097 secs. 1 sparse feature groups\n",
      "[LightGBM] [Info] Size of histogram bin entry: 8\n",
      "[LightGBM] [Info] 27 dense feature groups (185.75 MB) transferred to GPU in 0.057963 secs. 1 sparse feature groups\n",
      "[LightGBM] [Info] Size of histogram bin entry: 8\n",
      "[LightGBM] [Info] 27 dense feature groups (185.75 MB) transferred to GPU in 0.054673 secs. 1 sparse feature groups\n",
      "[LightGBM] [Info] Size of histogram bin entry: 8\n",
      "[LightGBM] [Info] 27 dense feature groups (185.75 MB) transferred to GPU in 0.057573 secs. 1 sparse feature groups\n",
      "[LightGBM] [Info] Size of histogram bin entry: 8\n",
      "[LightGBM] [Info] 27 dense feature groups (185.76 MB) transferred to GPU in 0.055585 secs. 1 sparse feature groups\n",
      "[LightGBM] [Info] Size of histogram bin entry: 8\n",
      "[LightGBM] [Info] 27 dense feature groups (185.78 MB) transferred to GPU in 0.057540 secs. 1 sparse feature groups\n",
      "[LightGBM] [Info] Size of histogram bin entry: 8\n",
      "[LightGBM] [Info] 27 dense feature groups (185.70 MB) transferred to GPU in 0.056142 secs. 1 sparse feature groups\n",
      "[LightGBM] [Info] Size of histogram bin entry: 8\n",
      "[LightGBM] [Info] 27 dense feature groups (185.74 MB) transferred to GPU in 0.062950 secs. 1 sparse feature groups\n",
      "[LightGBM] [Info] Size of histogram bin entry: 8\n",
      "[LightGBM] [Info] 27 dense feature groups (185.76 MB) transferred to GPU in 0.056011 secs. 1 sparse feature groups\n",
      "[LightGBM] [Info] Size of histogram bin entry: 8\n",
      "[LightGBM] [Info] 27 dense feature groups (185.75 MB) transferred to GPU in 0.059197 secs. 1 sparse feature groups\n",
      "[LightGBM] [Info] Size of histogram bin entry: 8\n",
      "[LightGBM] [Info] 27 dense feature groups (185.76 MB) transferred to GPU in 0.058017 secs. 1 sparse feature groups\n",
      "[LightGBM] [Info] Size of histogram bin entry: 8\n",
      "[LightGBM] [Info] 27 dense feature groups (185.75 MB) transferred to GPU in 0.057835 secs. 1 sparse feature groups\n",
      "[LightGBM] [Info] Size of histogram bin entry: 8\n",
      "[LightGBM] [Info] 27 dense feature groups (185.76 MB) transferred to GPU in 0.056886 secs. 1 sparse feature groups\n",
      "[LightGBM] [Info] Size of histogram bin entry: 8\n",
      "[LightGBM] [Info] 27 dense feature groups (185.76 MB) transferred to GPU in 0.057568 secs. 1 sparse feature groups\n",
      "[LightGBM] [Warning] min_data_in_leaf is set=15, min_child_samples=20 will be ignored. Current value: min_data_in_leaf=15\n",
      "[LightGBM] [Warning] feature_fraction is set=0.7224039325560779, colsample_bytree=1.0 will be ignored. Current value: feature_fraction=0.7224039325560779\n",
      "[LightGBM] [Warning] lambda_l2 is set=9.62491987895942, reg_lambda=0.0 will be ignored. Current value: lambda_l2=9.62491987895942\n",
      "[LightGBM] [Warning] lambda_l1 is set=7.547708504667601, reg_alpha=0.0 will be ignored. Current value: lambda_l1=7.547708504667601\n",
      "[LightGBM] [Warning] bagging_fraction is set=0.6624891790251534, subsample=1.0 will be ignored. Current value: bagging_fraction=0.6624891790251534\n",
      "[LightGBM] [Warning] bagging_freq is set=4, subsample_freq=0 will be ignored. Current value: bagging_freq=4\n",
      "auc:0.8264104492443027 , log_loss:0.5093740759329641 , ks:0.48689623595846526\n"
     ]
    },
    {
     "name": "stderr",
     "output_type": "stream",
     "text": [
      "[I 2023-10-03 21:05:48,329] Trial 30 finished with value: 0.8264104492443027 and parameters: {'learning_rate': 0.09281968679289715, 'num_leaves': 169, 'lambda_l1': 7.547708504667601, 'lambda_l2': 9.62491987895942, 'min_data_in_leaf': 15, 'max_depth': 42, 'feature_fraction': 0.7224039325560779, 'bagging_fraction': 0.6624891790251534, 'bagging_freq': 4}. Best is trial 29 with value: 0.8268745059988453.\n"
     ]
    },
    {
     "name": "stdout",
     "output_type": "stream",
     "text": [
      "LGBM - Optimization using optuna\n",
      "[LightGBM] [Warning] min_data_in_leaf is set=17, min_child_samples=20 will be ignored. Current value: min_data_in_leaf=17\n",
      "[LightGBM] [Warning] feature_fraction is set=0.7252803451390366, colsample_bytree=1.0 will be ignored. Current value: feature_fraction=0.7252803451390366\n",
      "[LightGBM] [Warning] lambda_l2 is set=6.784014201998564, reg_lambda=0.0 will be ignored. Current value: lambda_l2=6.784014201998564\n",
      "[LightGBM] [Warning] lambda_l1 is set=8.47646490626656, reg_alpha=0.0 will be ignored. Current value: lambda_l1=8.47646490626656\n",
      "[LightGBM] [Warning] bagging_fraction is set=0.6489958145483001, subsample=1.0 will be ignored. Current value: bagging_fraction=0.6489958145483001\n",
      "[LightGBM] [Warning] bagging_freq is set=4, subsample_freq=0 will be ignored. Current value: bagging_freq=4\n",
      "[LightGBM] [Warning] min_data_in_leaf is set=17, min_child_samples=20 will be ignored. Current value: min_data_in_leaf=17\n",
      "[LightGBM] [Warning] feature_fraction is set=0.7252803451390366, colsample_bytree=1.0 will be ignored. Current value: feature_fraction=0.7252803451390366\n",
      "[LightGBM] [Warning] lambda_l2 is set=6.784014201998564, reg_lambda=0.0 will be ignored. Current value: lambda_l2=6.784014201998564\n",
      "[LightGBM] [Warning] lambda_l1 is set=8.47646490626656, reg_alpha=0.0 will be ignored. Current value: lambda_l1=8.47646490626656\n",
      "[LightGBM] [Warning] bagging_fraction is set=0.6489958145483001, subsample=1.0 will be ignored. Current value: bagging_fraction=0.6489958145483001\n",
      "[LightGBM] [Warning] bagging_freq is set=4, subsample_freq=0 will be ignored. Current value: bagging_freq=4\n",
      "[LightGBM] [Info] Number of positive: 5564616, number of negative: 4935384\n",
      "[LightGBM] [Info] This is the GPU trainer!!\n",
      "[LightGBM] [Info] Total Bins 6132\n",
      "[LightGBM] [Info] Number of data points in the train set: 10500000, number of used features: 28\n",
      "[LightGBM] [Info] Using GPU Device: NVIDIA GeForce RTX 4090, Vendor: NVIDIA Corporation\n",
      "[LightGBM] [Info] Compiling OpenCL Kernel with 256 bins...\n",
      "[LightGBM] [Info] GPU programs have been built\n",
      "[LightGBM] [Info] Size of histogram bin entry: 8\n",
      "[LightGBM] [Info] 27 dense feature groups (280.38 MB) transferred to GPU in 0.102684 secs. 1 sparse feature groups\n",
      "[LightGBM] [Info] [binary:BoostFromScore]: pavg=0.529963 -> initscore=0.119997\n",
      "[LightGBM] [Info] Start training from score 0.119997\n",
      "[LightGBM] [Info] Size of histogram bin entry: 8\n",
      "[LightGBM] [Info] 27 dense feature groups (182.03 MB) transferred to GPU in 0.059258 secs. 1 sparse feature groups\n",
      "[LightGBM] [Info] Size of histogram bin entry: 8\n",
      "[LightGBM] [Info] 27 dense feature groups (181.96 MB) transferred to GPU in 0.057458 secs. 1 sparse feature groups\n",
      "[LightGBM] [Info] Size of histogram bin entry: 8\n",
      "[LightGBM] [Info] 27 dense feature groups (181.95 MB) transferred to GPU in 0.058216 secs. 1 sparse feature groups\n",
      "[LightGBM] [Info] Size of histogram bin entry: 8\n",
      "[LightGBM] [Info] 27 dense feature groups (181.99 MB) transferred to GPU in 0.058560 secs. 1 sparse feature groups\n",
      "[LightGBM] [Info] Size of histogram bin entry: 8\n",
      "[LightGBM] [Info] 27 dense feature groups (181.96 MB) transferred to GPU in 0.057257 secs. 1 sparse feature groups\n",
      "[LightGBM] [Info] Size of histogram bin entry: 8\n",
      "[LightGBM] [Info] 27 dense feature groups (182.00 MB) transferred to GPU in 0.054348 secs. 1 sparse feature groups\n",
      "[LightGBM] [Info] Size of histogram bin entry: 8\n",
      "[LightGBM] [Info] 27 dense feature groups (181.97 MB) transferred to GPU in 0.053996 secs. 1 sparse feature groups\n",
      "[LightGBM] [Info] Size of histogram bin entry: 8\n",
      "[LightGBM] [Info] 27 dense feature groups (181.98 MB) transferred to GPU in 0.056450 secs. 1 sparse feature groups\n",
      "[LightGBM] [Info] Size of histogram bin entry: 8\n",
      "[LightGBM] [Info] 27 dense feature groups (181.98 MB) transferred to GPU in 0.053262 secs. 1 sparse feature groups\n",
      "[LightGBM] [Info] Size of histogram bin entry: 8\n",
      "[LightGBM] [Info] 27 dense feature groups (181.97 MB) transferred to GPU in 0.056193 secs. 1 sparse feature groups\n",
      "[LightGBM] [Info] Size of histogram bin entry: 8\n",
      "[LightGBM] [Info] 27 dense feature groups (181.99 MB) transferred to GPU in 0.054635 secs. 1 sparse feature groups\n",
      "[LightGBM] [Info] Size of histogram bin entry: 8\n",
      "[LightGBM] [Info] 27 dense feature groups (181.99 MB) transferred to GPU in 0.058454 secs. 1 sparse feature groups\n",
      "[LightGBM] [Info] Size of histogram bin entry: 8\n",
      "[LightGBM] [Info] 27 dense feature groups (181.99 MB) transferred to GPU in 0.059225 secs. 1 sparse feature groups\n",
      "[LightGBM] [Info] Size of histogram bin entry: 8\n",
      "[LightGBM] [Info] 27 dense feature groups (181.97 MB) transferred to GPU in 0.057547 secs. 1 sparse feature groups\n",
      "[LightGBM] [Info] Size of histogram bin entry: 8\n",
      "[LightGBM] [Info] 27 dense feature groups (181.96 MB) transferred to GPU in 0.062082 secs. 1 sparse feature groups\n",
      "[LightGBM] [Info] Size of histogram bin entry: 8\n",
      "[LightGBM] [Info] 27 dense feature groups (181.98 MB) transferred to GPU in 0.056211 secs. 1 sparse feature groups\n",
      "[LightGBM] [Info] Size of histogram bin entry: 8\n",
      "[LightGBM] [Info] 27 dense feature groups (181.99 MB) transferred to GPU in 0.054975 secs. 1 sparse feature groups\n",
      "[LightGBM] [Info] Size of histogram bin entry: 8\n",
      "[LightGBM] [Info] 27 dense feature groups (181.90 MB) transferred to GPU in 0.054835 secs. 1 sparse feature groups\n",
      "[LightGBM] [Info] Size of histogram bin entry: 8\n",
      "[LightGBM] [Info] 27 dense feature groups (181.96 MB) transferred to GPU in 0.055394 secs. 1 sparse feature groups\n",
      "[LightGBM] [Info] Size of histogram bin entry: 8\n",
      "[LightGBM] [Info] 27 dense feature groups (181.99 MB) transferred to GPU in 0.054624 secs. 1 sparse feature groups\n",
      "[LightGBM] [Info] Size of histogram bin entry: 8\n",
      "[LightGBM] [Info] 27 dense feature groups (181.97 MB) transferred to GPU in 0.054953 secs. 1 sparse feature groups\n",
      "[LightGBM] [Info] Size of histogram bin entry: 8\n",
      "[LightGBM] [Info] 27 dense feature groups (181.97 MB) transferred to GPU in 0.056447 secs. 1 sparse feature groups\n",
      "[LightGBM] [Info] Size of histogram bin entry: 8\n",
      "[LightGBM] [Info] 27 dense feature groups (181.96 MB) transferred to GPU in 0.056136 secs. 1 sparse feature groups\n",
      "[LightGBM] [Info] Size of histogram bin entry: 8\n",
      "[LightGBM] [Info] 27 dense feature groups (181.98 MB) transferred to GPU in 0.057503 secs. 1 sparse feature groups\n",
      "[LightGBM] [Info] Size of histogram bin entry: 8\n",
      "[LightGBM] [Info] 27 dense feature groups (181.98 MB) transferred to GPU in 0.054380 secs. 1 sparse feature groups\n",
      "[LightGBM] [Warning] min_data_in_leaf is set=17, min_child_samples=20 will be ignored. Current value: min_data_in_leaf=17\n",
      "[LightGBM] [Warning] feature_fraction is set=0.7252803451390366, colsample_bytree=1.0 will be ignored. Current value: feature_fraction=0.7252803451390366\n",
      "[LightGBM] [Warning] lambda_l2 is set=6.784014201998564, reg_lambda=0.0 will be ignored. Current value: lambda_l2=6.784014201998564\n",
      "[LightGBM] [Warning] lambda_l1 is set=8.47646490626656, reg_alpha=0.0 will be ignored. Current value: lambda_l1=8.47646490626656\n",
      "[LightGBM] [Warning] bagging_fraction is set=0.6489958145483001, subsample=1.0 will be ignored. Current value: bagging_fraction=0.6489958145483001\n",
      "[LightGBM] [Warning] bagging_freq is set=4, subsample_freq=0 will be ignored. Current value: bagging_freq=4\n",
      "auc:0.8267124159774177 , log_loss:0.5089308309770832 , ks:0.4877753350478049\n"
     ]
    },
    {
     "name": "stderr",
     "output_type": "stream",
     "text": [
      "[I 2023-10-03 21:06:14,520] Trial 31 finished with value: 0.8267124159774177 and parameters: {'learning_rate': 0.09557017785788094, 'num_leaves': 169, 'lambda_l1': 8.47646490626656, 'lambda_l2': 6.784014201998564, 'min_data_in_leaf': 17, 'max_depth': 42, 'feature_fraction': 0.7252803451390366, 'bagging_fraction': 0.6489958145483001, 'bagging_freq': 4}. Best is trial 29 with value: 0.8268745059988453.\n"
     ]
    },
    {
     "name": "stdout",
     "output_type": "stream",
     "text": [
      "LGBM - Optimization using optuna\n",
      "[LightGBM] [Warning] min_data_in_leaf is set=18, min_child_samples=20 will be ignored. Current value: min_data_in_leaf=18\n",
      "[LightGBM] [Warning] feature_fraction is set=0.7212579753840413, colsample_bytree=1.0 will be ignored. Current value: feature_fraction=0.7212579753840413\n",
      "[LightGBM] [Warning] lambda_l2 is set=9.126136420195838, reg_lambda=0.0 will be ignored. Current value: lambda_l2=9.126136420195838\n",
      "[LightGBM] [Warning] lambda_l1 is set=5.190209437737752, reg_alpha=0.0 will be ignored. Current value: lambda_l1=5.190209437737752\n",
      "[LightGBM] [Warning] bagging_fraction is set=0.6649685678640098, subsample=1.0 will be ignored. Current value: bagging_fraction=0.6649685678640098\n",
      "[LightGBM] [Warning] bagging_freq is set=4, subsample_freq=0 will be ignored. Current value: bagging_freq=4\n",
      "[LightGBM] [Warning] min_data_in_leaf is set=18, min_child_samples=20 will be ignored. Current value: min_data_in_leaf=18\n",
      "[LightGBM] [Warning] feature_fraction is set=0.7212579753840413, colsample_bytree=1.0 will be ignored. Current value: feature_fraction=0.7212579753840413\n",
      "[LightGBM] [Warning] lambda_l2 is set=9.126136420195838, reg_lambda=0.0 will be ignored. Current value: lambda_l2=9.126136420195838\n",
      "[LightGBM] [Warning] lambda_l1 is set=5.190209437737752, reg_alpha=0.0 will be ignored. Current value: lambda_l1=5.190209437737752\n",
      "[LightGBM] [Warning] bagging_fraction is set=0.6649685678640098, subsample=1.0 will be ignored. Current value: bagging_fraction=0.6649685678640098\n",
      "[LightGBM] [Warning] bagging_freq is set=4, subsample_freq=0 will be ignored. Current value: bagging_freq=4\n",
      "[LightGBM] [Info] Number of positive: 5564616, number of negative: 4935384\n",
      "[LightGBM] [Info] This is the GPU trainer!!\n",
      "[LightGBM] [Info] Total Bins 6132\n",
      "[LightGBM] [Info] Number of data points in the train set: 10500000, number of used features: 28\n",
      "[LightGBM] [Info] Using GPU Device: NVIDIA GeForce RTX 4090, Vendor: NVIDIA Corporation\n",
      "[LightGBM] [Info] Compiling OpenCL Kernel with 256 bins...\n",
      "[LightGBM] [Info] GPU programs have been built\n",
      "[LightGBM] [Info] Size of histogram bin entry: 8\n",
      "[LightGBM] [Info] 27 dense feature groups (280.38 MB) transferred to GPU in 0.088296 secs. 1 sparse feature groups\n",
      "[LightGBM] [Info] [binary:BoostFromScore]: pavg=0.529963 -> initscore=0.119997\n",
      "[LightGBM] [Info] Start training from score 0.119997\n",
      "[LightGBM] [Info] Size of histogram bin entry: 8\n",
      "[LightGBM] [Info] 27 dense feature groups (186.49 MB) transferred to GPU in 0.055835 secs. 1 sparse feature groups\n",
      "[LightGBM] [Info] Size of histogram bin entry: 8\n",
      "[LightGBM] [Info] 27 dense feature groups (186.44 MB) transferred to GPU in 0.057822 secs. 1 sparse feature groups\n",
      "[LightGBM] [Info] Size of histogram bin entry: 8\n",
      "[LightGBM] [Info] 27 dense feature groups (186.43 MB) transferred to GPU in 0.056301 secs. 1 sparse feature groups\n",
      "[LightGBM] [Info] Size of histogram bin entry: 8\n",
      "[LightGBM] [Info] 27 dense feature groups (186.45 MB) transferred to GPU in 0.056399 secs. 1 sparse feature groups\n",
      "[LightGBM] [Info] Size of histogram bin entry: 8\n",
      "[LightGBM] [Info] 27 dense feature groups (186.44 MB) transferred to GPU in 0.056098 secs. 1 sparse feature groups\n",
      "[LightGBM] [Info] Size of histogram bin entry: 8\n",
      "[LightGBM] [Info] 27 dense feature groups (186.46 MB) transferred to GPU in 0.056607 secs. 1 sparse feature groups\n",
      "[LightGBM] [Info] Size of histogram bin entry: 8\n",
      "[LightGBM] [Info] 27 dense feature groups (186.44 MB) transferred to GPU in 0.055992 secs. 1 sparse feature groups\n",
      "[LightGBM] [Info] Size of histogram bin entry: 8\n",
      "[LightGBM] [Info] 27 dense feature groups (186.45 MB) transferred to GPU in 0.072087 secs. 1 sparse feature groups\n",
      "[LightGBM] [Info] Size of histogram bin entry: 8\n",
      "[LightGBM] [Info] 27 dense feature groups (186.45 MB) transferred to GPU in 0.072751 secs. 1 sparse feature groups\n",
      "[LightGBM] [Info] Size of histogram bin entry: 8\n",
      "[LightGBM] [Info] 27 dense feature groups (186.45 MB) transferred to GPU in 0.072317 secs. 1 sparse feature groups\n",
      "[LightGBM] [Info] Size of histogram bin entry: 8\n",
      "[LightGBM] [Info] 27 dense feature groups (186.47 MB) transferred to GPU in 0.071707 secs. 1 sparse feature groups\n",
      "[LightGBM] [Info] Size of histogram bin entry: 8\n",
      "[LightGBM] [Info] 27 dense feature groups (186.46 MB) transferred to GPU in 0.057206 secs. 1 sparse feature groups\n",
      "[LightGBM] [Info] Size of histogram bin entry: 8\n",
      "[LightGBM] [Info] 27 dense feature groups (186.45 MB) transferred to GPU in 0.055801 secs. 1 sparse feature groups\n",
      "[LightGBM] [Info] Size of histogram bin entry: 8\n",
      "[LightGBM] [Info] 27 dense feature groups (186.44 MB) transferred to GPU in 0.062893 secs. 1 sparse feature groups\n",
      "[LightGBM] [Info] Size of histogram bin entry: 8\n",
      "[LightGBM] [Info] 27 dense feature groups (186.44 MB) transferred to GPU in 0.056155 secs. 1 sparse feature groups\n",
      "[LightGBM] [Info] Size of histogram bin entry: 8\n",
      "[LightGBM] [Info] 27 dense feature groups (186.45 MB) transferred to GPU in 0.056431 secs. 1 sparse feature groups\n",
      "[LightGBM] [Info] Size of histogram bin entry: 8\n",
      "[LightGBM] [Info] 27 dense feature groups (186.47 MB) transferred to GPU in 0.064144 secs. 1 sparse feature groups\n",
      "[LightGBM] [Info] Size of histogram bin entry: 8\n",
      "[LightGBM] [Info] 27 dense feature groups (186.40 MB) transferred to GPU in 0.061213 secs. 1 sparse feature groups\n",
      "[LightGBM] [Info] Size of histogram bin entry: 8\n",
      "[LightGBM] [Info] 27 dense feature groups (186.44 MB) transferred to GPU in 0.056921 secs. 1 sparse feature groups\n",
      "[LightGBM] [Info] Size of histogram bin entry: 8\n",
      "[LightGBM] [Info] 27 dense feature groups (186.46 MB) transferred to GPU in 0.057140 secs. 1 sparse feature groups\n",
      "[LightGBM] [Info] Size of histogram bin entry: 8\n",
      "[LightGBM] [Info] 27 dense feature groups (186.44 MB) transferred to GPU in 0.062463 secs. 1 sparse feature groups\n",
      "[LightGBM] [Info] Size of histogram bin entry: 8\n",
      "[LightGBM] [Info] 27 dense feature groups (186.45 MB) transferred to GPU in 0.060473 secs. 1 sparse feature groups\n",
      "[LightGBM] [Info] Size of histogram bin entry: 8\n",
      "[LightGBM] [Info] 27 dense feature groups (186.44 MB) transferred to GPU in 0.056298 secs. 1 sparse feature groups\n",
      "[LightGBM] [Info] Size of histogram bin entry: 8\n",
      "[LightGBM] [Info] 27 dense feature groups (186.45 MB) transferred to GPU in 0.057249 secs. 1 sparse feature groups\n",
      "[LightGBM] [Info] Size of histogram bin entry: 8\n",
      "[LightGBM] [Info] 27 dense feature groups (186.45 MB) transferred to GPU in 0.057356 secs. 1 sparse feature groups\n",
      "[LightGBM] [Warning] min_data_in_leaf is set=18, min_child_samples=20 will be ignored. Current value: min_data_in_leaf=18\n",
      "[LightGBM] [Warning] feature_fraction is set=0.7212579753840413, colsample_bytree=1.0 will be ignored. Current value: feature_fraction=0.7212579753840413\n",
      "[LightGBM] [Warning] lambda_l2 is set=9.126136420195838, reg_lambda=0.0 will be ignored. Current value: lambda_l2=9.126136420195838\n",
      "[LightGBM] [Warning] lambda_l1 is set=5.190209437737752, reg_alpha=0.0 will be ignored. Current value: lambda_l1=5.190209437737752\n",
      "[LightGBM] [Warning] bagging_fraction is set=0.6649685678640098, subsample=1.0 will be ignored. Current value: bagging_fraction=0.6649685678640098\n",
      "[LightGBM] [Warning] bagging_freq is set=4, subsample_freq=0 will be ignored. Current value: bagging_freq=4\n",
      "auc:0.8151993884133524 , log_loss:0.5294139772594544 , ks:0.4681340838445746\n"
     ]
    },
    {
     "name": "stderr",
     "output_type": "stream",
     "text": [
      "[I 2023-10-03 21:06:41,964] Trial 32 finished with value: 0.8151993884133524 and parameters: {'learning_rate': 0.037295598660504824, 'num_leaves': 204, 'lambda_l1': 5.190209437737752, 'lambda_l2': 9.126136420195838, 'min_data_in_leaf': 18, 'max_depth': 42, 'feature_fraction': 0.7212579753840413, 'bagging_fraction': 0.6649685678640098, 'bagging_freq': 4}. Best is trial 29 with value: 0.8268745059988453.\n"
     ]
    },
    {
     "name": "stdout",
     "output_type": "stream",
     "text": [
      "LGBM - Optimization using optuna\n",
      "[LightGBM] [Warning] min_data_in_leaf is set=14, min_child_samples=20 will be ignored. Current value: min_data_in_leaf=14\n",
      "[LightGBM] [Warning] feature_fraction is set=0.7081852372685242, colsample_bytree=1.0 will be ignored. Current value: feature_fraction=0.7081852372685242\n",
      "[LightGBM] [Warning] lambda_l2 is set=1.5419096272747452, reg_lambda=0.0 will be ignored. Current value: lambda_l2=1.5419096272747452\n",
      "[LightGBM] [Warning] lambda_l1 is set=5.080063253247613, reg_alpha=0.0 will be ignored. Current value: lambda_l1=5.080063253247613\n",
      "[LightGBM] [Warning] bagging_fraction is set=0.6278633563592727, subsample=1.0 will be ignored. Current value: bagging_fraction=0.6278633563592727\n",
      "[LightGBM] [Warning] bagging_freq is set=4, subsample_freq=0 will be ignored. Current value: bagging_freq=4\n",
      "[LightGBM] [Warning] min_data_in_leaf is set=14, min_child_samples=20 will be ignored. Current value: min_data_in_leaf=14\n",
      "[LightGBM] [Warning] feature_fraction is set=0.7081852372685242, colsample_bytree=1.0 will be ignored. Current value: feature_fraction=0.7081852372685242\n",
      "[LightGBM] [Warning] lambda_l2 is set=1.5419096272747452, reg_lambda=0.0 will be ignored. Current value: lambda_l2=1.5419096272747452\n",
      "[LightGBM] [Warning] lambda_l1 is set=5.080063253247613, reg_alpha=0.0 will be ignored. Current value: lambda_l1=5.080063253247613\n",
      "[LightGBM] [Warning] bagging_fraction is set=0.6278633563592727, subsample=1.0 will be ignored. Current value: bagging_fraction=0.6278633563592727\n",
      "[LightGBM] [Warning] bagging_freq is set=4, subsample_freq=0 will be ignored. Current value: bagging_freq=4\n",
      "[LightGBM] [Info] Number of positive: 5564616, number of negative: 4935384\n",
      "[LightGBM] [Info] This is the GPU trainer!!\n",
      "[LightGBM] [Info] Total Bins 6132\n",
      "[LightGBM] [Info] Number of data points in the train set: 10500000, number of used features: 28\n",
      "[LightGBM] [Info] Using GPU Device: NVIDIA GeForce RTX 4090, Vendor: NVIDIA Corporation\n",
      "[LightGBM] [Info] Compiling OpenCL Kernel with 256 bins...\n",
      "[LightGBM] [Info] GPU programs have been built\n",
      "[LightGBM] [Info] Size of histogram bin entry: 8\n",
      "[LightGBM] [Info] 27 dense feature groups (280.38 MB) transferred to GPU in 0.087230 secs. 1 sparse feature groups\n",
      "[LightGBM] [Info] [binary:BoostFromScore]: pavg=0.529963 -> initscore=0.119997\n",
      "[LightGBM] [Info] Start training from score 0.119997\n",
      "[LightGBM] [Info] Size of histogram bin entry: 8\n",
      "[LightGBM] [Info] 27 dense feature groups (176.10 MB) transferred to GPU in 0.053792 secs. 1 sparse feature groups\n",
      "[LightGBM] [Info] Size of histogram bin entry: 8\n",
      "[LightGBM] [Info] 27 dense feature groups (176.04 MB) transferred to GPU in 0.055719 secs. 1 sparse feature groups\n",
      "[LightGBM] [Info] Size of histogram bin entry: 8\n",
      "[LightGBM] [Info] 27 dense feature groups (176.02 MB) transferred to GPU in 0.059865 secs. 1 sparse feature groups\n",
      "[LightGBM] [Info] Size of histogram bin entry: 8\n",
      "[LightGBM] [Info] 27 dense feature groups (176.06 MB) transferred to GPU in 0.056269 secs. 1 sparse feature groups\n",
      "[LightGBM] [Info] Size of histogram bin entry: 8\n",
      "[LightGBM] [Info] 27 dense feature groups (176.01 MB) transferred to GPU in 0.053564 secs. 1 sparse feature groups\n",
      "[LightGBM] [Info] Size of histogram bin entry: 8\n",
      "[LightGBM] [Info] 27 dense feature groups (176.08 MB) transferred to GPU in 0.053925 secs. 1 sparse feature groups\n",
      "[LightGBM] [Info] Size of histogram bin entry: 8\n",
      "[LightGBM] [Info] 27 dense feature groups (176.03 MB) transferred to GPU in 0.056736 secs. 1 sparse feature groups\n",
      "[LightGBM] [Info] Size of histogram bin entry: 8\n",
      "[LightGBM] [Info] 27 dense feature groups (176.04 MB) transferred to GPU in 0.057185 secs. 1 sparse feature groups\n",
      "[LightGBM] [Info] Size of histogram bin entry: 8\n",
      "[LightGBM] [Info] 27 dense feature groups (176.05 MB) transferred to GPU in 0.059323 secs. 1 sparse feature groups\n",
      "[LightGBM] [Info] Size of histogram bin entry: 8\n",
      "[LightGBM] [Info] 27 dense feature groups (176.05 MB) transferred to GPU in 0.056967 secs. 1 sparse feature groups\n",
      "[LightGBM] [Info] Size of histogram bin entry: 8\n",
      "[LightGBM] [Info] 27 dense feature groups (176.08 MB) transferred to GPU in 0.054231 secs. 1 sparse feature groups\n",
      "[LightGBM] [Info] Size of histogram bin entry: 8\n",
      "[LightGBM] [Info] 27 dense feature groups (176.05 MB) transferred to GPU in 0.054282 secs. 1 sparse feature groups\n",
      "[LightGBM] [Info] Size of histogram bin entry: 8\n",
      "[LightGBM] [Info] 27 dense feature groups (176.05 MB) transferred to GPU in 0.054368 secs. 1 sparse feature groups\n",
      "[LightGBM] [Info] Size of histogram bin entry: 8\n",
      "[LightGBM] [Info] 27 dense feature groups (176.05 MB) transferred to GPU in 0.054608 secs. 1 sparse feature groups\n",
      "[LightGBM] [Info] Size of histogram bin entry: 8\n",
      "[LightGBM] [Info] 27 dense feature groups (176.05 MB) transferred to GPU in 0.054436 secs. 1 sparse feature groups\n",
      "[LightGBM] [Info] Size of histogram bin entry: 8\n",
      "[LightGBM] [Info] 27 dense feature groups (176.04 MB) transferred to GPU in 0.054738 secs. 1 sparse feature groups\n",
      "[LightGBM] [Info] Size of histogram bin entry: 8\n",
      "[LightGBM] [Info] 27 dense feature groups (176.06 MB) transferred to GPU in 0.058801 secs. 1 sparse feature groups\n",
      "[LightGBM] [Info] Size of histogram bin entry: 8\n",
      "[LightGBM] [Info] 27 dense feature groups (175.99 MB) transferred to GPU in 0.055169 secs. 1 sparse feature groups\n",
      "[LightGBM] [Info] Size of histogram bin entry: 8\n",
      "[LightGBM] [Info] 27 dense feature groups (176.02 MB) transferred to GPU in 0.054961 secs. 1 sparse feature groups\n",
      "[LightGBM] [Info] Size of histogram bin entry: 8\n",
      "[LightGBM] [Info] 27 dense feature groups (176.06 MB) transferred to GPU in 0.053334 secs. 1 sparse feature groups\n",
      "[LightGBM] [Info] Size of histogram bin entry: 8\n",
      "[LightGBM] [Info] 27 dense feature groups (176.06 MB) transferred to GPU in 0.055704 secs. 1 sparse feature groups\n",
      "[LightGBM] [Info] Size of histogram bin entry: 8\n",
      "[LightGBM] [Info] 27 dense feature groups (176.03 MB) transferred to GPU in 0.053991 secs. 1 sparse feature groups\n",
      "[LightGBM] [Info] Size of histogram bin entry: 8\n",
      "[LightGBM] [Info] 27 dense feature groups (176.03 MB) transferred to GPU in 0.054922 secs. 1 sparse feature groups\n",
      "[LightGBM] [Info] Size of histogram bin entry: 8\n",
      "[LightGBM] [Info] 27 dense feature groups (176.05 MB) transferred to GPU in 0.054656 secs. 1 sparse feature groups\n",
      "[LightGBM] [Info] Size of histogram bin entry: 8\n",
      "[LightGBM] [Info] 27 dense feature groups (176.05 MB) transferred to GPU in 0.054155 secs. 1 sparse feature groups\n",
      "[LightGBM] [Warning] min_data_in_leaf is set=14, min_child_samples=20 will be ignored. Current value: min_data_in_leaf=14\n",
      "[LightGBM] [Warning] feature_fraction is set=0.7081852372685242, colsample_bytree=1.0 will be ignored. Current value: feature_fraction=0.7081852372685242\n",
      "[LightGBM] [Warning] lambda_l2 is set=1.5419096272747452, reg_lambda=0.0 will be ignored. Current value: lambda_l2=1.5419096272747452\n",
      "[LightGBM] [Warning] lambda_l1 is set=5.080063253247613, reg_alpha=0.0 will be ignored. Current value: lambda_l1=5.080063253247613\n",
      "[LightGBM] [Warning] bagging_fraction is set=0.6278633563592727, subsample=1.0 will be ignored. Current value: bagging_fraction=0.6278633563592727\n",
      "[LightGBM] [Warning] bagging_freq is set=4, subsample_freq=0 will be ignored. Current value: bagging_freq=4\n",
      "auc:0.8218045424422242 , log_loss:0.5164666699613253 , ks:0.4801134091170314\n"
     ]
    },
    {
     "name": "stderr",
     "output_type": "stream",
     "text": [
      "[I 2023-10-03 21:07:07,457] Trial 33 finished with value: 0.8218045424422242 and parameters: {'learning_rate': 0.06471980540088837, 'num_leaves': 169, 'lambda_l1': 5.080063253247613, 'lambda_l2': 1.5419096272747452, 'min_data_in_leaf': 14, 'max_depth': 42, 'feature_fraction': 0.7081852372685242, 'bagging_fraction': 0.6278633563592727, 'bagging_freq': 4}. Best is trial 29 with value: 0.8268745059988453.\n"
     ]
    },
    {
     "name": "stdout",
     "output_type": "stream",
     "text": [
      "LGBM - Optimization using optuna\n",
      "[LightGBM] [Warning] min_data_in_leaf is set=17, min_child_samples=20 will be ignored. Current value: min_data_in_leaf=17\n",
      "[LightGBM] [Warning] feature_fraction is set=0.7014809778832624, colsample_bytree=1.0 will be ignored. Current value: feature_fraction=0.7014809778832624\n",
      "[LightGBM] [Warning] lambda_l2 is set=1.9903909050431297, reg_lambda=0.0 will be ignored. Current value: lambda_l2=1.9903909050431297\n",
      "[LightGBM] [Warning] lambda_l1 is set=6.724479730743874, reg_alpha=0.0 will be ignored. Current value: lambda_l1=6.724479730743874\n",
      "[LightGBM] [Warning] bagging_fraction is set=0.6237915160108711, subsample=1.0 will be ignored. Current value: bagging_fraction=0.6237915160108711\n",
      "[LightGBM] [Warning] bagging_freq is set=5, subsample_freq=0 will be ignored. Current value: bagging_freq=5\n",
      "[LightGBM] [Warning] min_data_in_leaf is set=17, min_child_samples=20 will be ignored. Current value: min_data_in_leaf=17\n",
      "[LightGBM] [Warning] feature_fraction is set=0.7014809778832624, colsample_bytree=1.0 will be ignored. Current value: feature_fraction=0.7014809778832624\n",
      "[LightGBM] [Warning] lambda_l2 is set=1.9903909050431297, reg_lambda=0.0 will be ignored. Current value: lambda_l2=1.9903909050431297\n",
      "[LightGBM] [Warning] lambda_l1 is set=6.724479730743874, reg_alpha=0.0 will be ignored. Current value: lambda_l1=6.724479730743874\n",
      "[LightGBM] [Warning] bagging_fraction is set=0.6237915160108711, subsample=1.0 will be ignored. Current value: bagging_fraction=0.6237915160108711\n",
      "[LightGBM] [Warning] bagging_freq is set=5, subsample_freq=0 will be ignored. Current value: bagging_freq=5\n",
      "[LightGBM] [Info] Number of positive: 5564616, number of negative: 4935384\n",
      "[LightGBM] [Info] This is the GPU trainer!!\n",
      "[LightGBM] [Info] Total Bins 6132\n",
      "[LightGBM] [Info] Number of data points in the train set: 10500000, number of used features: 28\n",
      "[LightGBM] [Info] Using GPU Device: NVIDIA GeForce RTX 4090, Vendor: NVIDIA Corporation\n",
      "[LightGBM] [Info] Compiling OpenCL Kernel with 256 bins...\n",
      "[LightGBM] [Info] GPU programs have been built\n",
      "[LightGBM] [Info] Size of histogram bin entry: 8\n",
      "[LightGBM] [Info] 27 dense feature groups (280.38 MB) transferred to GPU in 0.103491 secs. 1 sparse feature groups\n",
      "[LightGBM] [Info] [binary:BoostFromScore]: pavg=0.529963 -> initscore=0.119997\n",
      "[LightGBM] [Info] Start training from score 0.119997\n",
      "[LightGBM] [Info] Size of histogram bin entry: 8\n",
      "[LightGBM] [Info] 27 dense feature groups (174.97 MB) transferred to GPU in 0.062464 secs. 1 sparse feature groups\n",
      "[LightGBM] [Info] Size of histogram bin entry: 8\n",
      "[LightGBM] [Info] 27 dense feature groups (174.90 MB) transferred to GPU in 0.063380 secs. 1 sparse feature groups\n",
      "[LightGBM] [Info] Size of histogram bin entry: 8\n",
      "[LightGBM] [Info] 27 dense feature groups (174.88 MB) transferred to GPU in 0.063520 secs. 1 sparse feature groups\n",
      "[LightGBM] [Info] Size of histogram bin entry: 8\n",
      "[LightGBM] [Info] 27 dense feature groups (174.93 MB) transferred to GPU in 0.054490 secs. 1 sparse feature groups\n",
      "[LightGBM] [Info] Size of histogram bin entry: 8\n",
      "[LightGBM] [Info] 27 dense feature groups (174.88 MB) transferred to GPU in 0.059417 secs. 1 sparse feature groups\n",
      "[LightGBM] [Info] Size of histogram bin entry: 8\n",
      "[LightGBM] [Info] 27 dense feature groups (174.94 MB) transferred to GPU in 0.056202 secs. 1 sparse feature groups\n",
      "[LightGBM] [Info] Size of histogram bin entry: 8\n",
      "[LightGBM] [Info] 27 dense feature groups (174.90 MB) transferred to GPU in 0.056926 secs. 1 sparse feature groups\n",
      "[LightGBM] [Info] Size of histogram bin entry: 8\n",
      "[LightGBM] [Info] 27 dense feature groups (174.91 MB) transferred to GPU in 0.054233 secs. 1 sparse feature groups\n",
      "[LightGBM] [Info] Size of histogram bin entry: 8\n",
      "[LightGBM] [Info] 27 dense feature groups (174.92 MB) transferred to GPU in 0.053306 secs. 1 sparse feature groups\n",
      "[LightGBM] [Info] Size of histogram bin entry: 8\n",
      "[LightGBM] [Info] 27 dense feature groups (174.92 MB) transferred to GPU in 0.061658 secs. 1 sparse feature groups\n",
      "[LightGBM] [Info] Size of histogram bin entry: 8\n",
      "[LightGBM] [Info] 27 dense feature groups (174.94 MB) transferred to GPU in 0.062765 secs. 1 sparse feature groups\n",
      "[LightGBM] [Info] Size of histogram bin entry: 8\n",
      "[LightGBM] [Info] 27 dense feature groups (174.92 MB) transferred to GPU in 0.055293 secs. 1 sparse feature groups\n",
      "[LightGBM] [Info] Size of histogram bin entry: 8\n",
      "[LightGBM] [Info] 27 dense feature groups (174.92 MB) transferred to GPU in 0.053800 secs. 1 sparse feature groups\n",
      "[LightGBM] [Info] Size of histogram bin entry: 8\n",
      "[LightGBM] [Info] 27 dense feature groups (174.90 MB) transferred to GPU in 0.052698 secs. 1 sparse feature groups\n",
      "[LightGBM] [Info] Size of histogram bin entry: 8\n",
      "[LightGBM] [Info] 27 dense feature groups (174.90 MB) transferred to GPU in 0.051723 secs. 1 sparse feature groups\n",
      "[LightGBM] [Info] Size of histogram bin entry: 8\n",
      "[LightGBM] [Info] 27 dense feature groups (174.90 MB) transferred to GPU in 0.055705 secs. 1 sparse feature groups\n",
      "[LightGBM] [Info] Size of histogram bin entry: 8\n",
      "[LightGBM] [Info] 27 dense feature groups (174.93 MB) transferred to GPU in 0.054877 secs. 1 sparse feature groups\n",
      "[LightGBM] [Info] Size of histogram bin entry: 8\n",
      "[LightGBM] [Info] 27 dense feature groups (174.86 MB) transferred to GPU in 0.062444 secs. 1 sparse feature groups\n",
      "[LightGBM] [Info] Size of histogram bin entry: 8\n",
      "[LightGBM] [Info] 27 dense feature groups (174.89 MB) transferred to GPU in 0.062628 secs. 1 sparse feature groups\n",
      "[LightGBM] [Info] Size of histogram bin entry: 8\n",
      "[LightGBM] [Info] 27 dense feature groups (174.93 MB) transferred to GPU in 0.063298 secs. 1 sparse feature groups\n",
      "[LightGBM] [Warning] min_data_in_leaf is set=17, min_child_samples=20 will be ignored. Current value: min_data_in_leaf=17\n",
      "[LightGBM] [Warning] feature_fraction is set=0.7014809778832624, colsample_bytree=1.0 will be ignored. Current value: feature_fraction=0.7014809778832624\n",
      "[LightGBM] [Warning] lambda_l2 is set=1.9903909050431297, reg_lambda=0.0 will be ignored. Current value: lambda_l2=1.9903909050431297\n",
      "[LightGBM] [Warning] lambda_l1 is set=6.724479730743874, reg_alpha=0.0 will be ignored. Current value: lambda_l1=6.724479730743874\n",
      "[LightGBM] [Warning] bagging_fraction is set=0.6237915160108711, subsample=1.0 will be ignored. Current value: bagging_fraction=0.6237915160108711\n",
      "[LightGBM] [Warning] bagging_freq is set=5, subsample_freq=0 will be ignored. Current value: bagging_freq=5\n",
      "auc:0.819966461558604 , log_loss:0.519576004566162 , ks:0.47724671077452346\n"
     ]
    },
    {
     "name": "stderr",
     "output_type": "stream",
     "text": [
      "[I 2023-10-03 21:07:32,845] Trial 34 finished with value: 0.819966461558604 and parameters: {'learning_rate': 0.05559550040848992, 'num_leaves': 174, 'lambda_l1': 6.724479730743874, 'lambda_l2': 1.9903909050431297, 'min_data_in_leaf': 17, 'max_depth': 30, 'feature_fraction': 0.7014809778832624, 'bagging_fraction': 0.6237915160108711, 'bagging_freq': 5}. Best is trial 29 with value: 0.8268745059988453.\n"
     ]
    },
    {
     "name": "stdout",
     "output_type": "stream",
     "text": [
      "LGBM - Optimization using optuna\n",
      "[LightGBM] [Warning] min_data_in_leaf is set=10, min_child_samples=20 will be ignored. Current value: min_data_in_leaf=10\n",
      "[LightGBM] [Warning] feature_fraction is set=0.7381009958446028, colsample_bytree=1.0 will be ignored. Current value: feature_fraction=0.7381009958446028\n",
      "[LightGBM] [Warning] lambda_l2 is set=1.509701345398469, reg_lambda=0.0 will be ignored. Current value: lambda_l2=1.509701345398469\n",
      "[LightGBM] [Warning] lambda_l1 is set=2.5035022838714616, reg_alpha=0.0 will be ignored. Current value: lambda_l1=2.5035022838714616\n",
      "[LightGBM] [Warning] bagging_fraction is set=0.6084587844504742, subsample=1.0 will be ignored. Current value: bagging_fraction=0.6084587844504742\n",
      "[LightGBM] [Warning] bagging_freq is set=4, subsample_freq=0 will be ignored. Current value: bagging_freq=4\n",
      "[LightGBM] [Warning] min_data_in_leaf is set=10, min_child_samples=20 will be ignored. Current value: min_data_in_leaf=10\n",
      "[LightGBM] [Warning] feature_fraction is set=0.7381009958446028, colsample_bytree=1.0 will be ignored. Current value: feature_fraction=0.7381009958446028\n",
      "[LightGBM] [Warning] lambda_l2 is set=1.509701345398469, reg_lambda=0.0 will be ignored. Current value: lambda_l2=1.509701345398469\n",
      "[LightGBM] [Warning] lambda_l1 is set=2.5035022838714616, reg_alpha=0.0 will be ignored. Current value: lambda_l1=2.5035022838714616\n",
      "[LightGBM] [Warning] bagging_fraction is set=0.6084587844504742, subsample=1.0 will be ignored. Current value: bagging_fraction=0.6084587844504742\n",
      "[LightGBM] [Warning] bagging_freq is set=4, subsample_freq=0 will be ignored. Current value: bagging_freq=4\n",
      "[LightGBM] [Info] Number of positive: 5564616, number of negative: 4935384\n",
      "[LightGBM] [Info] This is the GPU trainer!!\n",
      "[LightGBM] [Info] Total Bins 6132\n",
      "[LightGBM] [Info] Number of data points in the train set: 10500000, number of used features: 28\n",
      "[LightGBM] [Info] Using GPU Device: NVIDIA GeForce RTX 4090, Vendor: NVIDIA Corporation\n",
      "[LightGBM] [Info] Compiling OpenCL Kernel with 256 bins...\n",
      "[LightGBM] [Info] GPU programs have been built\n",
      "[LightGBM] [Info] Size of histogram bin entry: 8\n",
      "[LightGBM] [Info] 27 dense feature groups (280.38 MB) transferred to GPU in 0.087076 secs. 1 sparse feature groups\n",
      "[LightGBM] [Info] [binary:BoostFromScore]: pavg=0.529963 -> initscore=0.119997\n",
      "[LightGBM] [Info] Start training from score 0.119997\n",
      "[LightGBM] [Info] Size of histogram bin entry: 8\n",
      "[LightGBM] [Info] 27 dense feature groups (170.67 MB) transferred to GPU in 0.052284 secs. 1 sparse feature groups\n",
      "[LightGBM] [Info] Size of histogram bin entry: 8\n",
      "[LightGBM] [Info] 27 dense feature groups (170.60 MB) transferred to GPU in 0.052225 secs. 1 sparse feature groups\n",
      "[LightGBM] [Info] Size of histogram bin entry: 8\n",
      "[LightGBM] [Info] 27 dense feature groups (170.58 MB) transferred to GPU in 0.052339 secs. 1 sparse feature groups\n",
      "[LightGBM] [Info] Size of histogram bin entry: 8\n",
      "[LightGBM] [Info] 27 dense feature groups (170.63 MB) transferred to GPU in 0.058991 secs. 1 sparse feature groups\n",
      "[LightGBM] [Info] Size of histogram bin entry: 8\n",
      "[LightGBM] [Info] 27 dense feature groups (170.56 MB) transferred to GPU in 0.051828 secs. 1 sparse feature groups\n",
      "[LightGBM] [Info] Size of histogram bin entry: 8\n",
      "[LightGBM] [Info] 27 dense feature groups (170.62 MB) transferred to GPU in 0.051405 secs. 1 sparse feature groups\n",
      "[LightGBM] [Info] Size of histogram bin entry: 8\n",
      "[LightGBM] [Info] 27 dense feature groups (170.60 MB) transferred to GPU in 0.055378 secs. 1 sparse feature groups\n",
      "[LightGBM] [Info] Size of histogram bin entry: 8\n",
      "[LightGBM] [Info] 27 dense feature groups (170.60 MB) transferred to GPU in 0.053755 secs. 1 sparse feature groups\n",
      "[LightGBM] [Info] Size of histogram bin entry: 8\n",
      "[LightGBM] [Info] 27 dense feature groups (170.62 MB) transferred to GPU in 0.051644 secs. 1 sparse feature groups\n",
      "[LightGBM] [Info] Size of histogram bin entry: 8\n",
      "[LightGBM] [Info] 27 dense feature groups (170.61 MB) transferred to GPU in 0.052999 secs. 1 sparse feature groups\n",
      "[LightGBM] [Info] Size of histogram bin entry: 8\n",
      "[LightGBM] [Info] 27 dense feature groups (170.62 MB) transferred to GPU in 0.051029 secs. 1 sparse feature groups\n",
      "[LightGBM] [Info] Size of histogram bin entry: 8\n",
      "[LightGBM] [Info] 27 dense feature groups (170.59 MB) transferred to GPU in 0.053103 secs. 1 sparse feature groups\n",
      "[LightGBM] [Info] Size of histogram bin entry: 8\n",
      "[LightGBM] [Info] 27 dense feature groups (170.63 MB) transferred to GPU in 0.053660 secs. 1 sparse feature groups\n",
      "[LightGBM] [Info] Size of histogram bin entry: 8\n",
      "[LightGBM] [Info] 27 dense feature groups (170.59 MB) transferred to GPU in 0.053878 secs. 1 sparse feature groups\n",
      "[LightGBM] [Info] Size of histogram bin entry: 8\n",
      "[LightGBM] [Info] 27 dense feature groups (170.60 MB) transferred to GPU in 0.053836 secs. 1 sparse feature groups\n",
      "[LightGBM] [Info] Size of histogram bin entry: 8\n",
      "[LightGBM] [Info] 27 dense feature groups (170.59 MB) transferred to GPU in 0.053625 secs. 1 sparse feature groups\n",
      "[LightGBM] [Info] Size of histogram bin entry: 8\n",
      "[LightGBM] [Info] 27 dense feature groups (170.62 MB) transferred to GPU in 0.056197 secs. 1 sparse feature groups\n",
      "[LightGBM] [Info] Size of histogram bin entry: 8\n",
      "[LightGBM] [Info] 27 dense feature groups (170.56 MB) transferred to GPU in 0.054956 secs. 1 sparse feature groups\n",
      "[LightGBM] [Info] Size of histogram bin entry: 8\n",
      "[LightGBM] [Info] 27 dense feature groups (170.57 MB) transferred to GPU in 0.053615 secs. 1 sparse feature groups\n",
      "[LightGBM] [Info] Size of histogram bin entry: 8\n",
      "[LightGBM] [Info] 27 dense feature groups (170.63 MB) transferred to GPU in 0.052575 secs. 1 sparse feature groups\n",
      "[LightGBM] [Info] Size of histogram bin entry: 8\n",
      "[LightGBM] [Info] 27 dense feature groups (170.62 MB) transferred to GPU in 0.056014 secs. 1 sparse feature groups\n",
      "[LightGBM] [Info] Size of histogram bin entry: 8\n",
      "[LightGBM] [Info] 27 dense feature groups (170.59 MB) transferred to GPU in 0.062169 secs. 1 sparse feature groups\n",
      "[LightGBM] [Info] Size of histogram bin entry: 8\n",
      "[LightGBM] [Info] 27 dense feature groups (170.60 MB) transferred to GPU in 0.054597 secs. 1 sparse feature groups\n",
      "[LightGBM] [Info] Size of histogram bin entry: 8\n",
      "[LightGBM] [Info] 27 dense feature groups (170.61 MB) transferred to GPU in 0.052012 secs. 1 sparse feature groups\n",
      "[LightGBM] [Info] Size of histogram bin entry: 8\n",
      "[LightGBM] [Info] 27 dense feature groups (170.60 MB) transferred to GPU in 0.053758 secs. 1 sparse feature groups\n",
      "[LightGBM] [Warning] min_data_in_leaf is set=10, min_child_samples=20 will be ignored. Current value: min_data_in_leaf=10\n",
      "[LightGBM] [Warning] feature_fraction is set=0.7381009958446028, colsample_bytree=1.0 will be ignored. Current value: feature_fraction=0.7381009958446028\n",
      "[LightGBM] [Warning] lambda_l2 is set=1.509701345398469, reg_lambda=0.0 will be ignored. Current value: lambda_l2=1.509701345398469\n",
      "[LightGBM] [Warning] lambda_l1 is set=2.5035022838714616, reg_alpha=0.0 will be ignored. Current value: lambda_l1=2.5035022838714616\n",
      "[LightGBM] [Warning] bagging_fraction is set=0.6084587844504742, subsample=1.0 will be ignored. Current value: bagging_fraction=0.6084587844504742\n",
      "[LightGBM] [Warning] bagging_freq is set=4, subsample_freq=0 will be ignored. Current value: bagging_freq=4\n",
      "auc:0.8107954371337613 , log_loss:0.5414117202802967 , ks:0.4612419184169192\n"
     ]
    },
    {
     "name": "stderr",
     "output_type": "stream",
     "text": [
      "[I 2023-10-03 21:07:59,688] Trial 35 finished with value: 0.8107954371337613 and parameters: {'learning_rate': 0.025233717973098372, 'num_leaves': 228, 'lambda_l1': 2.5035022838714616, 'lambda_l2': 1.509701345398469, 'min_data_in_leaf': 10, 'max_depth': 42, 'feature_fraction': 0.7381009958446028, 'bagging_fraction': 0.6084587844504742, 'bagging_freq': 4}. Best is trial 29 with value: 0.8268745059988453.\n"
     ]
    },
    {
     "name": "stdout",
     "output_type": "stream",
     "text": [
      "LGBM - Optimization using optuna\n",
      "[LightGBM] [Warning] min_data_in_leaf is set=35, min_child_samples=20 will be ignored. Current value: min_data_in_leaf=35\n",
      "[LightGBM] [Warning] feature_fraction is set=0.6797171753236758, colsample_bytree=1.0 will be ignored. Current value: feature_fraction=0.6797171753236758\n",
      "[LightGBM] [Warning] lambda_l2 is set=3.9481310155827596, reg_lambda=0.0 will be ignored. Current value: lambda_l2=3.9481310155827596\n",
      "[LightGBM] [Warning] lambda_l1 is set=9.982056169105803, reg_alpha=0.0 will be ignored. Current value: lambda_l1=9.982056169105803\n",
      "[LightGBM] [Warning] bagging_fraction is set=0.5768295342211237, subsample=1.0 will be ignored. Current value: bagging_fraction=0.5768295342211237\n",
      "[LightGBM] [Warning] bagging_freq is set=5, subsample_freq=0 will be ignored. Current value: bagging_freq=5\n",
      "[LightGBM] [Warning] min_data_in_leaf is set=35, min_child_samples=20 will be ignored. Current value: min_data_in_leaf=35\n",
      "[LightGBM] [Warning] feature_fraction is set=0.6797171753236758, colsample_bytree=1.0 will be ignored. Current value: feature_fraction=0.6797171753236758\n",
      "[LightGBM] [Warning] lambda_l2 is set=3.9481310155827596, reg_lambda=0.0 will be ignored. Current value: lambda_l2=3.9481310155827596\n",
      "[LightGBM] [Warning] lambda_l1 is set=9.982056169105803, reg_alpha=0.0 will be ignored. Current value: lambda_l1=9.982056169105803\n",
      "[LightGBM] [Warning] bagging_fraction is set=0.5768295342211237, subsample=1.0 will be ignored. Current value: bagging_fraction=0.5768295342211237\n",
      "[LightGBM] [Warning] bagging_freq is set=5, subsample_freq=0 will be ignored. Current value: bagging_freq=5\n",
      "[LightGBM] [Info] Number of positive: 5564616, number of negative: 4935384\n",
      "[LightGBM] [Info] This is the GPU trainer!!\n",
      "[LightGBM] [Info] Total Bins 6132\n",
      "[LightGBM] [Info] Number of data points in the train set: 10500000, number of used features: 28\n",
      "[LightGBM] [Info] Using GPU Device: NVIDIA GeForce RTX 4090, Vendor: NVIDIA Corporation\n",
      "[LightGBM] [Info] Compiling OpenCL Kernel with 256 bins...\n",
      "[LightGBM] [Info] GPU programs have been built\n",
      "[LightGBM] [Info] Size of histogram bin entry: 8\n",
      "[LightGBM] [Info] 27 dense feature groups (280.38 MB) transferred to GPU in 0.095026 secs. 1 sparse feature groups\n",
      "[LightGBM] [Info] [binary:BoostFromScore]: pavg=0.529963 -> initscore=0.119997\n",
      "[LightGBM] [Info] Start training from score 0.119997\n",
      "[LightGBM] [Info] Size of histogram bin entry: 8\n",
      "[LightGBM] [Info] 27 dense feature groups (161.81 MB) transferred to GPU in 0.050312 secs. 1 sparse feature groups\n",
      "[LightGBM] [Info] Size of histogram bin entry: 8\n",
      "[LightGBM] [Info] 27 dense feature groups (161.74 MB) transferred to GPU in 0.051682 secs. 1 sparse feature groups\n",
      "[LightGBM] [Info] Size of histogram bin entry: 8\n",
      "[LightGBM] [Info] 27 dense feature groups (161.68 MB) transferred to GPU in 0.049456 secs. 1 sparse feature groups\n",
      "[LightGBM] [Info] Size of histogram bin entry: 8\n",
      "[LightGBM] [Info] 27 dense feature groups (161.74 MB) transferred to GPU in 0.048090 secs. 1 sparse feature groups\n",
      "[LightGBM] [Info] Size of histogram bin entry: 8\n",
      "[LightGBM] [Info] 27 dense feature groups (161.69 MB) transferred to GPU in 0.048718 secs. 1 sparse feature groups\n",
      "[LightGBM] [Info] Size of histogram bin entry: 8\n",
      "[LightGBM] [Info] 27 dense feature groups (161.76 MB) transferred to GPU in 0.055742 secs. 1 sparse feature groups\n",
      "[LightGBM] [Info] Size of histogram bin entry: 8\n",
      "[LightGBM] [Info] 27 dense feature groups (161.73 MB) transferred to GPU in 0.049424 secs. 1 sparse feature groups\n",
      "[LightGBM] [Info] Size of histogram bin entry: 8\n",
      "[LightGBM] [Info] 27 dense feature groups (161.75 MB) transferred to GPU in 0.049688 secs. 1 sparse feature groups\n",
      "[LightGBM] [Info] Size of histogram bin entry: 8\n",
      "[LightGBM] [Info] 27 dense feature groups (161.75 MB) transferred to GPU in 0.053701 secs. 1 sparse feature groups\n",
      "[LightGBM] [Info] Size of histogram bin entry: 8\n",
      "[LightGBM] [Info] 27 dense feature groups (161.75 MB) transferred to GPU in 0.054939 secs. 1 sparse feature groups\n",
      "[LightGBM] [Info] Size of histogram bin entry: 8\n",
      "[LightGBM] [Info] 27 dense feature groups (161.77 MB) transferred to GPU in 0.050262 secs. 1 sparse feature groups\n",
      "[LightGBM] [Info] Size of histogram bin entry: 8\n",
      "[LightGBM] [Info] 27 dense feature groups (161.71 MB) transferred to GPU in 0.047828 secs. 1 sparse feature groups\n",
      "[LightGBM] [Info] Size of histogram bin entry: 8\n",
      "[LightGBM] [Info] 27 dense feature groups (161.73 MB) transferred to GPU in 0.050400 secs. 1 sparse feature groups\n",
      "[LightGBM] [Info] Size of histogram bin entry: 8\n",
      "[LightGBM] [Info] 27 dense feature groups (161.73 MB) transferred to GPU in 0.049607 secs. 1 sparse feature groups\n",
      "[LightGBM] [Info] Size of histogram bin entry: 8\n",
      "[LightGBM] [Info] 27 dense feature groups (161.74 MB) transferred to GPU in 0.049517 secs. 1 sparse feature groups\n",
      "[LightGBM] [Info] Size of histogram bin entry: 8\n",
      "[LightGBM] [Info] 27 dense feature groups (161.72 MB) transferred to GPU in 0.052835 secs. 1 sparse feature groups\n",
      "[LightGBM] [Info] Size of histogram bin entry: 8\n",
      "[LightGBM] [Info] 27 dense feature groups (161.72 MB) transferred to GPU in 0.054984 secs. 1 sparse feature groups\n",
      "[LightGBM] [Info] Size of histogram bin entry: 8\n",
      "[LightGBM] [Info] 27 dense feature groups (161.71 MB) transferred to GPU in 0.055093 secs. 1 sparse feature groups\n",
      "[LightGBM] [Info] Size of histogram bin entry: 8\n",
      "[LightGBM] [Info] 27 dense feature groups (161.73 MB) transferred to GPU in 0.047180 secs. 1 sparse feature groups\n",
      "[LightGBM] [Info] Size of histogram bin entry: 8\n",
      "[LightGBM] [Info] 27 dense feature groups (161.77 MB) transferred to GPU in 0.048659 secs. 1 sparse feature groups\n",
      "[LightGBM] [Warning] min_data_in_leaf is set=35, min_child_samples=20 will be ignored. Current value: min_data_in_leaf=35\n",
      "[LightGBM] [Warning] feature_fraction is set=0.6797171753236758, colsample_bytree=1.0 will be ignored. Current value: feature_fraction=0.6797171753236758\n",
      "[LightGBM] [Warning] lambda_l2 is set=3.9481310155827596, reg_lambda=0.0 will be ignored. Current value: lambda_l2=3.9481310155827596\n",
      "[LightGBM] [Warning] lambda_l1 is set=9.982056169105803, reg_alpha=0.0 will be ignored. Current value: lambda_l1=9.982056169105803\n",
      "[LightGBM] [Warning] bagging_fraction is set=0.5768295342211237, subsample=1.0 will be ignored. Current value: bagging_fraction=0.5768295342211237\n",
      "[LightGBM] [Warning] bagging_freq is set=5, subsample_freq=0 will be ignored. Current value: bagging_freq=5\n",
      "auc:0.8207155519884429 , log_loss:0.5180667096386636 , ks:0.47822407317287086\n"
     ]
    },
    {
     "name": "stderr",
     "output_type": "stream",
     "text": [
      "[I 2023-10-03 21:08:23,247] Trial 36 finished with value: 0.8207155519884429 and parameters: {'learning_rate': 0.0637320582027786, 'num_leaves': 162, 'lambda_l1': 9.982056169105803, 'lambda_l2': 3.9481310155827596, 'min_data_in_leaf': 35, 'max_depth': 34, 'feature_fraction': 0.6797171753236758, 'bagging_fraction': 0.5768295342211237, 'bagging_freq': 5}. Best is trial 29 with value: 0.8268745059988453.\n"
     ]
    },
    {
     "name": "stdout",
     "output_type": "stream",
     "text": [
      "Last Fit\n",
      "[LightGBM] [Warning] min_data_in_leaf is set=17, min_child_samples=20 will be ignored. Current value: min_data_in_leaf=17\n",
      "[LightGBM] [Warning] feature_fraction is set=0.7265862458914822, colsample_bytree=1.0 will be ignored. Current value: feature_fraction=0.7265862458914822\n",
      "[LightGBM] [Warning] lambda_l2 is set=1.712267871355936, reg_lambda=0.0 will be ignored. Current value: lambda_l2=1.712267871355936\n",
      "[LightGBM] [Warning] lambda_l1 is set=5.131359320461935, reg_alpha=0.0 will be ignored. Current value: lambda_l1=5.131359320461935\n",
      "[LightGBM] [Warning] bagging_fraction is set=0.6554658706889013, subsample=1.0 will be ignored. Current value: bagging_fraction=0.6554658706889013\n",
      "[LightGBM] [Warning] bagging_freq is set=3, subsample_freq=0 will be ignored. Current value: bagging_freq=3\n",
      "[LightGBM] [Warning] min_data_in_leaf is set=17, min_child_samples=20 will be ignored. Current value: min_data_in_leaf=17\n",
      "[LightGBM] [Warning] feature_fraction is set=0.7265862458914822, colsample_bytree=1.0 will be ignored. Current value: feature_fraction=0.7265862458914822\n",
      "[LightGBM] [Warning] lambda_l2 is set=1.712267871355936, reg_lambda=0.0 will be ignored. Current value: lambda_l2=1.712267871355936\n",
      "[LightGBM] [Warning] lambda_l1 is set=5.131359320461935, reg_alpha=0.0 will be ignored. Current value: lambda_l1=5.131359320461935\n",
      "[LightGBM] [Warning] bagging_fraction is set=0.6554658706889013, subsample=1.0 will be ignored. Current value: bagging_fraction=0.6554658706889013\n",
      "[LightGBM] [Warning] bagging_freq is set=3, subsample_freq=0 will be ignored. Current value: bagging_freq=3\n",
      "[LightGBM] [Info] Number of positive: 5564616, number of negative: 4935384\n",
      "[LightGBM] [Warning] Auto-choosing col-wise multi-threading, the overhead of testing was 0.297663 seconds.\n",
      "You can set `force_col_wise=true` to remove the overhead.\n",
      "[LightGBM] [Info] Total Bins 6132\n",
      "[LightGBM] [Info] Number of data points in the train set: 10500000, number of used features: 28\n",
      "[LightGBM] [Warning] min_data_in_leaf is set=17, min_child_samples=20 will be ignored. Current value: min_data_in_leaf=17\n",
      "[LightGBM] [Warning] feature_fraction is set=0.7265862458914822, colsample_bytree=1.0 will be ignored. Current value: feature_fraction=0.7265862458914822\n",
      "[LightGBM] [Warning] lambda_l2 is set=1.712267871355936, reg_lambda=0.0 will be ignored. Current value: lambda_l2=1.712267871355936\n",
      "[LightGBM] [Warning] lambda_l1 is set=5.131359320461935, reg_alpha=0.0 will be ignored. Current value: lambda_l1=5.131359320461935\n",
      "[LightGBM] [Warning] bagging_fraction is set=0.6554658706889013, subsample=1.0 will be ignored. Current value: bagging_fraction=0.6554658706889013\n",
      "[LightGBM] [Warning] bagging_freq is set=3, subsample_freq=0 will be ignored. Current value: bagging_freq=3\n",
      "[LightGBM] [Info] [binary:BoostFromScore]: pavg=0.529963 -> initscore=0.119997\n",
      "[LightGBM] [Info] Start training from score 0.119997\n",
      "Training until validation scores don't improve for 100 rounds\n",
      "Did not meet early stopping. Best iteration is:\n",
      "[100]\tvalid_0's binary_logloss: 0.508679\n"
     ]
    }
   ],
   "source": [
    "lgbm_model, study_lgbm = train(X_train, y_train, X_test, y_test, balanced='balanced', method='LGBM')"
   ]
  },
  {
   "cell_type": "markdown",
   "id": "7859bae1",
   "metadata": {},
   "source": [
    "AUC in the final models\n",
    "\n",
    "||XGBoost|CatBoost|LightGBM|\n",
    "|---|---|---|---|\n",
    "|Number of Trials|45|15|36|\n",
    "|AUC|0.8437951609576797|0.8363981459518963|0.8268745059988453|"
   ]
  },
  {
   "cell_type": "markdown",
   "id": "34872070",
   "metadata": {},
   "source": [
    "## Final hyperparameters in our models\n",
    "\n",
    "### XGBoost\n",
    "```\n",
    "[I 2023-10-03 20:11:08,770] Trial 23 finished with value: 0.8437951609576797 and parameters: {'learning_rate': 0.09497201157768914, 'max_depth': 16, 'min_child_weight': 123, 'gamma': 0.0044338139693267655, 'alpha': 1.8619255252326368e-07, 'lambda': 0.0003144628784949497, 'colsample_bytree': 0.7377209265117873}. Best is trial 23 with value: 0.8437951609576797.\n",
    "```\n"
   ]
  },
  {
   "cell_type": "code",
   "execution_count": 43,
   "id": "a8723a11",
   "metadata": {},
   "outputs": [
    {
     "data": {
      "text/html": [
       "<style>#sk-container-id-2 {color: black;}#sk-container-id-2 pre{padding: 0;}#sk-container-id-2 div.sk-toggleable {background-color: white;}#sk-container-id-2 label.sk-toggleable__label {cursor: pointer;display: block;width: 100%;margin-bottom: 0;padding: 0.3em;box-sizing: border-box;text-align: center;}#sk-container-id-2 label.sk-toggleable__label-arrow:before {content: \"▸\";float: left;margin-right: 0.25em;color: #696969;}#sk-container-id-2 label.sk-toggleable__label-arrow:hover:before {color: black;}#sk-container-id-2 div.sk-estimator:hover label.sk-toggleable__label-arrow:before {color: black;}#sk-container-id-2 div.sk-toggleable__content {max-height: 0;max-width: 0;overflow: hidden;text-align: left;background-color: #f0f8ff;}#sk-container-id-2 div.sk-toggleable__content pre {margin: 0.2em;color: black;border-radius: 0.25em;background-color: #f0f8ff;}#sk-container-id-2 input.sk-toggleable__control:checked~div.sk-toggleable__content {max-height: 200px;max-width: 100%;overflow: auto;}#sk-container-id-2 input.sk-toggleable__control:checked~label.sk-toggleable__label-arrow:before {content: \"▾\";}#sk-container-id-2 div.sk-estimator input.sk-toggleable__control:checked~label.sk-toggleable__label {background-color: #d4ebff;}#sk-container-id-2 div.sk-label input.sk-toggleable__control:checked~label.sk-toggleable__label {background-color: #d4ebff;}#sk-container-id-2 input.sk-hidden--visually {border: 0;clip: rect(1px 1px 1px 1px);clip: rect(1px, 1px, 1px, 1px);height: 1px;margin: -1px;overflow: hidden;padding: 0;position: absolute;width: 1px;}#sk-container-id-2 div.sk-estimator {font-family: monospace;background-color: #f0f8ff;border: 1px dotted black;border-radius: 0.25em;box-sizing: border-box;margin-bottom: 0.5em;}#sk-container-id-2 div.sk-estimator:hover {background-color: #d4ebff;}#sk-container-id-2 div.sk-parallel-item::after {content: \"\";width: 100%;border-bottom: 1px solid gray;flex-grow: 1;}#sk-container-id-2 div.sk-label:hover label.sk-toggleable__label {background-color: #d4ebff;}#sk-container-id-2 div.sk-serial::before {content: \"\";position: absolute;border-left: 1px solid gray;box-sizing: border-box;top: 0;bottom: 0;left: 50%;z-index: 0;}#sk-container-id-2 div.sk-serial {display: flex;flex-direction: column;align-items: center;background-color: white;padding-right: 0.2em;padding-left: 0.2em;position: relative;}#sk-container-id-2 div.sk-item {position: relative;z-index: 1;}#sk-container-id-2 div.sk-parallel {display: flex;align-items: stretch;justify-content: center;background-color: white;position: relative;}#sk-container-id-2 div.sk-item::before, #sk-container-id-2 div.sk-parallel-item::before {content: \"\";position: absolute;border-left: 1px solid gray;box-sizing: border-box;top: 0;bottom: 0;left: 50%;z-index: -1;}#sk-container-id-2 div.sk-parallel-item {display: flex;flex-direction: column;z-index: 1;position: relative;background-color: white;}#sk-container-id-2 div.sk-parallel-item:first-child::after {align-self: flex-end;width: 50%;}#sk-container-id-2 div.sk-parallel-item:last-child::after {align-self: flex-start;width: 50%;}#sk-container-id-2 div.sk-parallel-item:only-child::after {width: 0;}#sk-container-id-2 div.sk-dashed-wrapped {border: 1px dashed gray;margin: 0 0.4em 0.5em 0.4em;box-sizing: border-box;padding-bottom: 0.4em;background-color: white;}#sk-container-id-2 div.sk-label label {font-family: monospace;font-weight: bold;display: inline-block;line-height: 1.2em;}#sk-container-id-2 div.sk-label-container {text-align: center;}#sk-container-id-2 div.sk-container {/* jupyter's `normalize.less` sets `[hidden] { display: none; }` but bootstrap.min.css set `[hidden] { display: none !important; }` so we also need the `!important` here to be able to override the default hidden behavior on the sphinx rendered scikit-learn.org. See: https://github.com/scikit-learn/scikit-learn/issues/21755 */display: inline-block !important;position: relative;}#sk-container-id-2 div.sk-text-repr-fallback {display: none;}</style><div id=\"sk-container-id-2\" class=\"sk-top-container\"><div class=\"sk-text-repr-fallback\"><pre>XGBClassifier(alpha=1.8619255252326368e-07, base_score=None, booster=None,\n",
       "              callbacks=None, colsample_bylevel=None, colsample_bynode=None,\n",
       "              colsample_bytree=0.7377209265117873, early_stopping_rounds=None,\n",
       "              enable_categorical=False, eval_metric=None, feature_types=None,\n",
       "              gamma=0.0044338139693267655, gpu_id=None, grow_policy=None,\n",
       "              importance_type=None, interaction_constraints=None,\n",
       "              lambda=0.0003144628784949497, learning_rate=0.09497201157768914,\n",
       "              max_bin=None, max_cat_threshold=None, max_cat_to_onehot=None,\n",
       "              max_delta_step=None, max_depth=16, max_leaves=None,\n",
       "              min_child_weight=123, missing=nan, monotone_constraints=None,\n",
       "              n_estimators=100, n_jobs=None, num_parallel_tree=None, ...)</pre><b>In a Jupyter environment, please rerun this cell to show the HTML representation or trust the notebook. <br />On GitHub, the HTML representation is unable to render, please try loading this page with nbviewer.org.</b></div><div class=\"sk-container\" hidden><div class=\"sk-item\"><div class=\"sk-estimator sk-toggleable\"><input class=\"sk-toggleable__control sk-hidden--visually\" id=\"sk-estimator-id-2\" type=\"checkbox\" checked><label for=\"sk-estimator-id-2\" class=\"sk-toggleable__label sk-toggleable__label-arrow\">XGBClassifier</label><div class=\"sk-toggleable__content\"><pre>XGBClassifier(alpha=1.8619255252326368e-07, base_score=None, booster=None,\n",
       "              callbacks=None, colsample_bylevel=None, colsample_bynode=None,\n",
       "              colsample_bytree=0.7377209265117873, early_stopping_rounds=None,\n",
       "              enable_categorical=False, eval_metric=None, feature_types=None,\n",
       "              gamma=0.0044338139693267655, gpu_id=None, grow_policy=None,\n",
       "              importance_type=None, interaction_constraints=None,\n",
       "              lambda=0.0003144628784949497, learning_rate=0.09497201157768914,\n",
       "              max_bin=None, max_cat_threshold=None, max_cat_to_onehot=None,\n",
       "              max_delta_step=None, max_depth=16, max_leaves=None,\n",
       "              min_child_weight=123, missing=nan, monotone_constraints=None,\n",
       "              n_estimators=100, n_jobs=None, num_parallel_tree=None, ...)</pre></div></div></div></div></div>"
      ],
      "text/plain": [
       "XGBClassifier(alpha=1.8619255252326368e-07, base_score=None, booster=None,\n",
       "              callbacks=None, colsample_bylevel=None, colsample_bynode=None,\n",
       "              colsample_bytree=0.7377209265117873, early_stopping_rounds=None,\n",
       "              enable_categorical=False, eval_metric=None, feature_types=None,\n",
       "              gamma=0.0044338139693267655, gpu_id=None, grow_policy=None,\n",
       "              importance_type=None, interaction_constraints=None,\n",
       "              lambda=0.0003144628784949497, learning_rate=0.09497201157768914,\n",
       "              max_bin=None, max_cat_threshold=None, max_cat_to_onehot=None,\n",
       "              max_delta_step=None, max_depth=16, max_leaves=None,\n",
       "              min_child_weight=123, missing=nan, monotone_constraints=None,\n",
       "              n_estimators=100, n_jobs=None, num_parallel_tree=None, ...)"
      ]
     },
     "execution_count": 43,
     "metadata": {},
     "output_type": "execute_result"
    }
   ],
   "source": [
    "xgb_model"
   ]
  },
  {
   "cell_type": "markdown",
   "id": "914afbf9",
   "metadata": {},
   "source": [
    "### CatBoost\n",
    "```\n",
    "[I 2023-10-03 20:38:38,660] Trial 13 finished with value: 0.8363981459518963 and parameters: {'learning_rate': 0.043389728663017664, 'depth': 10, 'max_bin': 318, 'min_data_in_leaf': 39, 'l2_leaf_reg': 0.0018658114257615013, 'random_strength': 4.627506435088902e-07, 'bagging_temperature': 0.46427970539192914, 'od_type': 'IncToDec', 'od_wait': 35}. Best is trial 13 with value: 0.8363981459518963.\n",
    "```"
   ]
  },
  {
   "cell_type": "code",
   "execution_count": 44,
   "id": "ab595745",
   "metadata": {},
   "outputs": [
    {
     "data": {
      "text/plain": [
       "{'learning_rate': 0.043389728663017664,\n",
       " 'depth': 10,\n",
       " 'l2_leaf_reg': 0.0018658114257615013,\n",
       " 'od_wait': 35,\n",
       " 'od_type': 'IncToDec',\n",
       " 'random_strength': 4.627506435088902e-07,\n",
       " 'bagging_temperature': 0.46427970539192914,\n",
       " 'max_bin': 318,\n",
       " 'min_data_in_leaf': 39}"
      ]
     },
     "execution_count": 44,
     "metadata": {},
     "output_type": "execute_result"
    }
   ],
   "source": [
    "cat_model.get_params()"
   ]
  },
  {
   "cell_type": "markdown",
   "id": "56c7d023",
   "metadata": {},
   "source": [
    "### LightGBM\n",
    "```\n",
    "[I 2023-10-03 21:05:22,366] Trial 29 finished with value: 0.8268745059988453 and parameters: {'learning_rate': 0.09805228364360181, 'num_leaves': 165, 'lambda_l1': 5.131359320461935, 'lambda_l2': 1.712267871355936, 'min_data_in_leaf': 17, 'max_depth': 41, 'feature_fraction': 0.7265862458914822, 'bagging_fraction': 0.6554658706889013, 'bagging_freq': 3}. Best is trial 29 with value: 0.8268745059988453\n",
    "```"
   ]
  },
  {
   "cell_type": "code",
   "execution_count": 45,
   "id": "175b8852",
   "metadata": {},
   "outputs": [
    {
     "data": {
      "text/html": [
       "<style>#sk-container-id-3 {color: black;}#sk-container-id-3 pre{padding: 0;}#sk-container-id-3 div.sk-toggleable {background-color: white;}#sk-container-id-3 label.sk-toggleable__label {cursor: pointer;display: block;width: 100%;margin-bottom: 0;padding: 0.3em;box-sizing: border-box;text-align: center;}#sk-container-id-3 label.sk-toggleable__label-arrow:before {content: \"▸\";float: left;margin-right: 0.25em;color: #696969;}#sk-container-id-3 label.sk-toggleable__label-arrow:hover:before {color: black;}#sk-container-id-3 div.sk-estimator:hover label.sk-toggleable__label-arrow:before {color: black;}#sk-container-id-3 div.sk-toggleable__content {max-height: 0;max-width: 0;overflow: hidden;text-align: left;background-color: #f0f8ff;}#sk-container-id-3 div.sk-toggleable__content pre {margin: 0.2em;color: black;border-radius: 0.25em;background-color: #f0f8ff;}#sk-container-id-3 input.sk-toggleable__control:checked~div.sk-toggleable__content {max-height: 200px;max-width: 100%;overflow: auto;}#sk-container-id-3 input.sk-toggleable__control:checked~label.sk-toggleable__label-arrow:before {content: \"▾\";}#sk-container-id-3 div.sk-estimator input.sk-toggleable__control:checked~label.sk-toggleable__label {background-color: #d4ebff;}#sk-container-id-3 div.sk-label input.sk-toggleable__control:checked~label.sk-toggleable__label {background-color: #d4ebff;}#sk-container-id-3 input.sk-hidden--visually {border: 0;clip: rect(1px 1px 1px 1px);clip: rect(1px, 1px, 1px, 1px);height: 1px;margin: -1px;overflow: hidden;padding: 0;position: absolute;width: 1px;}#sk-container-id-3 div.sk-estimator {font-family: monospace;background-color: #f0f8ff;border: 1px dotted black;border-radius: 0.25em;box-sizing: border-box;margin-bottom: 0.5em;}#sk-container-id-3 div.sk-estimator:hover {background-color: #d4ebff;}#sk-container-id-3 div.sk-parallel-item::after {content: \"\";width: 100%;border-bottom: 1px solid gray;flex-grow: 1;}#sk-container-id-3 div.sk-label:hover label.sk-toggleable__label {background-color: #d4ebff;}#sk-container-id-3 div.sk-serial::before {content: \"\";position: absolute;border-left: 1px solid gray;box-sizing: border-box;top: 0;bottom: 0;left: 50%;z-index: 0;}#sk-container-id-3 div.sk-serial {display: flex;flex-direction: column;align-items: center;background-color: white;padding-right: 0.2em;padding-left: 0.2em;position: relative;}#sk-container-id-3 div.sk-item {position: relative;z-index: 1;}#sk-container-id-3 div.sk-parallel {display: flex;align-items: stretch;justify-content: center;background-color: white;position: relative;}#sk-container-id-3 div.sk-item::before, #sk-container-id-3 div.sk-parallel-item::before {content: \"\";position: absolute;border-left: 1px solid gray;box-sizing: border-box;top: 0;bottom: 0;left: 50%;z-index: -1;}#sk-container-id-3 div.sk-parallel-item {display: flex;flex-direction: column;z-index: 1;position: relative;background-color: white;}#sk-container-id-3 div.sk-parallel-item:first-child::after {align-self: flex-end;width: 50%;}#sk-container-id-3 div.sk-parallel-item:last-child::after {align-self: flex-start;width: 50%;}#sk-container-id-3 div.sk-parallel-item:only-child::after {width: 0;}#sk-container-id-3 div.sk-dashed-wrapped {border: 1px dashed gray;margin: 0 0.4em 0.5em 0.4em;box-sizing: border-box;padding-bottom: 0.4em;background-color: white;}#sk-container-id-3 div.sk-label label {font-family: monospace;font-weight: bold;display: inline-block;line-height: 1.2em;}#sk-container-id-3 div.sk-label-container {text-align: center;}#sk-container-id-3 div.sk-container {/* jupyter's `normalize.less` sets `[hidden] { display: none; }` but bootstrap.min.css set `[hidden] { display: none !important; }` so we also need the `!important` here to be able to override the default hidden behavior on the sphinx rendered scikit-learn.org. See: https://github.com/scikit-learn/scikit-learn/issues/21755 */display: inline-block !important;position: relative;}#sk-container-id-3 div.sk-text-repr-fallback {display: none;}</style><div id=\"sk-container-id-3\" class=\"sk-top-container\"><div class=\"sk-text-repr-fallback\"><pre>LGBMClassifier(bagging_fraction=0.6554658706889013, bagging_freq=3,\n",
       "               feature_fraction=0.7265862458914822, lambda_l1=5.131359320461935,\n",
       "               lambda_l2=1.712267871355936, learning_rate=0.09805228364360181,\n",
       "               max_depth=41, min_data_in_leaf=17, num_leaves=165)</pre><b>In a Jupyter environment, please rerun this cell to show the HTML representation or trust the notebook. <br />On GitHub, the HTML representation is unable to render, please try loading this page with nbviewer.org.</b></div><div class=\"sk-container\" hidden><div class=\"sk-item\"><div class=\"sk-estimator sk-toggleable\"><input class=\"sk-toggleable__control sk-hidden--visually\" id=\"sk-estimator-id-3\" type=\"checkbox\" checked><label for=\"sk-estimator-id-3\" class=\"sk-toggleable__label sk-toggleable__label-arrow\">LGBMClassifier</label><div class=\"sk-toggleable__content\"><pre>LGBMClassifier(bagging_fraction=0.6554658706889013, bagging_freq=3,\n",
       "               feature_fraction=0.7265862458914822, lambda_l1=5.131359320461935,\n",
       "               lambda_l2=1.712267871355936, learning_rate=0.09805228364360181,\n",
       "               max_depth=41, min_data_in_leaf=17, num_leaves=165)</pre></div></div></div></div></div>"
      ],
      "text/plain": [
       "LGBMClassifier(bagging_fraction=0.6554658706889013, bagging_freq=3,\n",
       "               feature_fraction=0.7265862458914822, lambda_l1=5.131359320461935,\n",
       "               lambda_l2=1.712267871355936, learning_rate=0.09805228364360181,\n",
       "               max_depth=41, min_data_in_leaf=17, num_leaves=165)"
      ]
     },
     "execution_count": 45,
     "metadata": {},
     "output_type": "execute_result"
    }
   ],
   "source": [
    "lgbm_model"
   ]
  },
  {
   "cell_type": "markdown",
   "id": "6ce08450",
   "metadata": {},
   "source": [
    "# SHAP in XGBoost, CatBoost, LightGBM"
   ]
  },
  {
   "cell_type": "markdown",
   "id": "3e6333f6",
   "metadata": {},
   "source": [
    "## SHAP using CPU \n",
    "\n",
    "I have to use SHAP on the test dataset because the training dataset was too heavy."
   ]
  },
  {
   "cell_type": "code",
   "execution_count": 75,
   "id": "bd323ca3",
   "metadata": {},
   "outputs": [
    {
     "data": {
      "image/png": "[encoded data removed]",
      "text/plain": [
       "<Figure size 800x950 with 2 Axes>"
      ]
     },
     "metadata": {},
     "output_type": "display_data"
    }
   ],
   "source": [
    "import shap\n",
    "time_cpu_shap = ['CPU']\n",
    "start = timeit.default_timer()\n",
    "explainer = shap.TreeExplainer(xgb_model)\n",
    "shap_values = explainer.shap_values(X_test)\n",
    "stop = timeit.default_timer()\n",
    "time_cpu_shap.append(stop-start)\n",
    "shap.summary_plot(shap_values, X_test,show=False)"
   ]
  },
  {
   "cell_type": "code",
   "execution_count": 76,
   "id": "d97b1a49",
   "metadata": {},
   "outputs": [
    {
     "data": {
      "image/png": "[encoded data removed]",
      "text/plain": [
       "<Figure size 800x950 with 2 Axes>"
      ]
     },
     "metadata": {},
     "output_type": "display_data"
    }
   ],
   "source": [
    "import shap\n",
    "start = timeit.default_timer()\n",
    "explainer = shap.TreeExplainer(cat_model)\n",
    "shap_values = explainer.shap_values(X_test)\n",
    "stop = timeit.default_timer()\n",
    "time_cpu_shap.append(stop-start)\n",
    "shap.summary_plot(shap_values, X_test,show=False)"
   ]
  },
  {
   "cell_type": "code",
   "execution_count": 77,
   "id": "9a2a123e",
   "metadata": {},
   "outputs": [
    {
     "name": "stderr",
     "output_type": "stream",
     "text": [
      "LightGBM binary classifier with TreeExplainer shap values output has changed to a list of ndarray\n"
     ]
    },
    {
     "data": {
      "image/png": "[encoded data removed]",
      "text/plain": [
       "<Figure size 800x950 with 2 Axes>"
      ]
     },
     "metadata": {},
     "output_type": "display_data"
    }
   ],
   "source": [
    "import shap\n",
    "start = timeit.default_timer()\n",
    "explainer = shap.TreeExplainer(lgbm_model)\n",
    "shap_values = explainer.shap_values(X_test)\n",
    "stop = timeit.default_timer()\n",
    "time_cpu_shap.append(stop-start)\n",
    "shap.summary_plot(shap_values[1], X_test,show=False)"
   ]
  },
  {
   "cell_type": "code",
   "execution_count": 79,
   "id": "bb3e5d24",
   "metadata": {},
   "outputs": [
    {
     "data": {
      "text/plain": [
       "['CPU', 4620.933531924995, 32.60655866500747, 113.2479361500009]"
      ]
     },
     "execution_count": 79,
     "metadata": {},
     "output_type": "execute_result"
    }
   ],
   "source": [
    "time_cpu_shap"
   ]
  },
  {
   "cell_type": "markdown",
   "id": "eee56c0b",
   "metadata": {},
   "source": [
    "## SHAP using GPU"
   ]
  },
  {
   "cell_type": "markdown",
   "id": "8341fcc1",
   "metadata": {},
   "source": [
    "I have tried to run SHAP on my GPU, but I'm encountering problems with my CUDA version, and currently, I believe it's a common issue with my modern GPU. [BUG: No GPU Support for Modern CUDA](https://github.com/shap/shap/issues/3251).\n",
    "\n",
    "But you can try to run this code, after installing `nvcc`. See [GPUTree](https://shap.readthedocs.io/en/latest/example_notebooks/api_examples/explainers/GPUTree.html)"
   ]
  },
  {
   "cell_type": "code",
   "execution_count": null,
   "id": "bec81e51",
   "metadata": {},
   "outputs": [],
   "source": [
    "import shap\n",
    "time_gpu_shap = ['GPU']\n",
    "start = timeit.default_timer()\n",
    "explainer = shap.explainers.GPUTree(xgb_model)\n",
    "shap_values = explainer.shap_values(X_test)\n",
    "stop = timeit.default_timer()\n",
    "time_gpu_shap.append(stop-start)\n",
    "shap.summary_plot(shap_values, X_test,show=False)"
   ]
  },
  {
   "cell_type": "code",
   "execution_count": null,
   "id": "c7750c39",
   "metadata": {},
   "outputs": [],
   "source": [
    "start = timeit.default_timer()\n",
    "explainer = shap.explainers.GPUTree(cat_model)\n",
    "shap_values = explainer.shap_values(X_test)\n",
    "stop = timeit.default_timer()\n",
    "time_gpu_shap.append(stop-start)\n",
    "shap.summary_plot(shap_values, X_test,show=False)"
   ]
  },
  {
   "cell_type": "code",
   "execution_count": null,
   "id": "c9685b26",
   "metadata": {},
   "outputs": [],
   "source": [
    "start = timeit.default_timer()\n",
    "explainer = shap.explainers.GPUTree(lgbm_model)\n",
    "shap_values = explainer.shap_values(X_test)\n",
    "stop = timeit.default_timer()\n",
    "time_gpu_shap.append(stop-start)\n",
    "shap.summary_plot(shap_values[1], X_test,show=False)"
   ]
  },
  {
   "cell_type": "markdown",
   "id": "642dabe7",
   "metadata": {},
   "source": [
    "# Bibliography\n",
    "You can find all files in [this repository](https://github.com/joaomh/xgboost-catboost-lgbm)\n",
    "\n",
    "References, and, of course, you can access the documentation for each algorithm. \n",
    "\n",
    "\n",
    "[1] - [Schapire, Robert E(1999). A Short Introduction to Boosting](https://cseweb.ucsd.edu/~yfreund/papers/IntroToBoosting.pdf)\n",
    "\n",
    "[2] - [HASTIE, T.; TIBSHIRANI, R.; FRIEDMAN, J. (2009). The Elements of Statistical Learning](https://hastie.su.domains/Papers/ESLII.pdf)\n",
    "\n",
    "[3] - [Jerome H. Friedman (2001). GREEDY FUNCTION APPROXIMATION:A GRADIENT BOOSTING MACHINE](https://jerryfriedman.su.domains/ftp/trebst.pdf)\n",
    "\n",
    "[4] - [Tianqi Chen, Carlos Guestrin (2016).XGBoost: {A} Scalable Tree Boosting System](https://arxiv.org/abs/1603.02754)\n",
    "\n",
    "[5] - [Anna Veronika Dorogush, Andrey Gulin, Gleb Gusev, Nikita Kazeev, Liudmila Ostroumova Prokhorenkova, Aleksandr Vorobev (2017).CatBoost: unbiased boosting with categorical features](https://arxiv.org/abs/1706.09516)\n",
    "\n",
    "[6] - [Ke, Guolin and Meng, Qi and Finley, Thomas and Wang, Taifeng and Chen, Wei and Ma, Weidong and Ye, Qiwei and Liu, Tie-Yan (2017).Lightgbm: A highly efficient gradient boosting decision tree](https://proceedings.neurips.cc/paper_files/paper/2017/file/6449f44a102fde848669bdd9eb6b76fa-Paper.pdf)\n",
    "\n",
    "[7] - [Anna Veronika Dorogush: Mastering gradient boosting with CatBoost](https://www.youtube.com/watch?v=usdEWSDisS0)\n",
    "\n",
    "[8] - [Pedro Tabacof Unlocking the Power of Gradient-Boosted Trees](https://www.youtube.com/watch?v=qGsHlvE8KZM)\n",
    "\n",
    "[9] - [Pinheiro, J., & Becker, M.. (2023). Um estudo sobre algoritmos de Boosting e a otimização de hiperparâmetros utilizando optuna.](https://bdta.abcd.usp.br/item/003122385)\n"
   ]
  }
 ],
 "metadata": {
  "kernelspec": {
   "display_name": "Python 3 (ipykernel)",
   "language": "python",
   "name": "python3"
  },
  "language_info": {
   "codemirror_mode": {
    "name": "ipython",
    "version": 3
   },
   "file_extension": ".py",
   "mimetype": "text/x-python",
   "name": "python",
   "nbconvert_exporter": "python",
   "pygments_lexer": "ipython3",
   "version": "3.11.5"
  }
 },
 "nbformat": 4,
 "nbformat_minor": 5
}
